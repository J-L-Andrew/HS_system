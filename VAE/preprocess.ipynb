{
 "cells": [
  {
   "cell_type": "code",
   "execution_count": 1,
   "metadata": {},
   "outputs": [],
   "source": [
    "import os\n",
    "import numpy as np\n",
    "from collections import defaultdict\n",
    "import matplotlib.pyplot as plt\n",
    "from sklearn.model_selection import train_test_split\n",
    "from icecream import ic"
   ]
  },
  {
   "cell_type": "code",
   "execution_count": null,
   "metadata": {},
   "outputs": [],
   "source": [
    "pds = []\n",
    "for root, dirs, files in os.walk('data'):\n",
    "    for name in dirs:\n",
    "        filename = os.path.join(root, name, 'config.xyz')\n",
    "        with open(filename, 'r') as fr:\n",
    "            next(fr)\n",
    "            L = float(next(fr))\n",
    "            N = int(next(fr))\n",
    "            assert N == 1000\n",
    "            points = np.loadtxt(fr)[:,1:]\n",
    "            pd = N * np.pi * 4/3/ L**3\n",
    "            pds.append(pd)\n",
    "            \n",
    "            with open('data/SP_ALL/sphere_packing_{:.6f}.xyz'.format(pd), 'w') as fw:\n",
    "                fw.write(str(N) + '\\n')\n",
    "                fw.write(f'{L} {L} {L}\\n')\n",
    "\n",
    "                np.savetxt(fw, points)"
   ]
  },
  {
   "cell_type": "code",
   "execution_count": 5,
   "metadata": {},
   "outputs": [],
   "source": [
    "pds = []\n",
    "for root, dirs, files in os.walk('data/relaxation_raw'):\n",
    "    for name in files:\n",
    "        filename = os.path.join(root, name)\n",
    "        with open(filename, 'r') as fr:\n",
    "            next(fr)\n",
    "            L = float(next(fr))\n",
    "            N = int(next(fr))\n",
    "            assert N == 1000\n",
    "            points = np.loadtxt(fr)[:,1:]\n",
    "            pd = N * np.pi * 4/3/ L**3\n",
    "            pds.append(pd)\n",
    "            \n",
    "            with open('data/SP_ALL/sphere_packing_{:.6f}.xyz'.format(pd), 'w') as fw:\n",
    "                fw.write(str(N) + '\\n')\n",
    "                fw.write(f'{L} {L} {L}\\n')\n",
    "\n",
    "                np.savetxt(fw, points)"
   ]
  },
  {
   "cell_type": "code",
   "execution_count": 6,
   "metadata": {},
   "outputs": [
    {
     "data": {
      "text/plain": [
       "array([[16.3927163 ,  5.13173712, 18.22182   ,  1.        ],\n",
       "       [15.53529022, 10.84822937,  0.62952063,  1.        ],\n",
       "       [14.28331822,  7.60817881,  0.8610028 ,  1.        ],\n",
       "       ...,\n",
       "       [11.29845279,  7.28169372, 14.63460551,  1.        ],\n",
       "       [11.16633337,  5.09475805,  9.11763073,  1.        ],\n",
       "       [ 6.82350657, 17.72353246, 16.43983107,  1.        ]])"
      ]
     },
     "execution_count": 6,
     "metadata": {},
     "output_type": "execute_result"
    }
   ],
   "source": [
    "np.insert(points, 3, 1, -1)"
   ]
  },
  {
   "cell_type": "code",
   "execution_count": 7,
   "metadata": {},
   "outputs": [
    {
     "data": {
      "text/plain": [
       "[<matplotlib.lines.Line2D at 0x7f70a7ba9130>]"
      ]
     },
     "execution_count": 7,
     "metadata": {},
     "output_type": "execute_result"
    },
    {
     "data": {
      "image/png": "[encoded data removed]",
      "image/svg+xml": "<?xml version=\"1.0\" encoding=\"utf-8\" standalone=\"no\"?>\n<!DOCTYPE svg PUBLIC \"-//W3C//DTD SVG 1.1//EN\"\n  \"http://www.w3.org/Graphics/SVG/1.1/DTD/svg11.dtd\">\n<svg height=\"256.260625pt\" version=\"1.1\" viewBox=\"0 0 399.256632 256.260625\" width=\"399.256632pt\" xmlns=\"http://www.w3.org/2000/svg\" xmlns:xlink=\"http://www.w3.org/1999/xlink\">\n <metadata>\n  <rdf:RDF xmlns:cc=\"http://creativecommons.org/ns#\" xmlns:dc=\"http://purl.org/dc/elements/1.1/\" xmlns:rdf=\"http://www.w3.org/1999/02/22-rdf-syntax-ns#\">\n   <cc:Work>\n    <dc:type rdf:resource=\"http://purl.org/dc/dcmitype/StillImage\"/>\n    <dc:date>2021-06-03T16:37:35.911056</dc:date>\n    <dc:format>image/svg+xml</dc:format>\n    <dc:creator>\n     <cc:Agent>\n      <dc:title>Matplotlib v3.4.1, https://matplotlib.org/</dc:title>\n     </cc:Agent>\n    </dc:creator>\n   </cc:Work>\n  </rdf:RDF>\n </metadata>\n <defs>\n  <style type=\"text/css\">*{stroke-linecap:butt;stroke-linejoin:round;}</style>\n </defs>\n <g id=\"figure_1\">\n  <g id=\"patch_1\">\n   <path d=\"M 0 256.260625 \nL 399.256632 256.260625 \nL 399.256632 0 \nL 0 0 \nz\n\"/>\n  </g>\n  <g id=\"axes_1\">\n   <g id=\"patch_2\">\n    <path d=\"M 54.278125 224.64 \nL 389.078125 224.64 \nL 389.078125 7.2 \nL 54.278125 7.2 \nz\n\"/>\n   </g>\n   <g id=\"matplotlib.axis_1\">\n    <g id=\"xtick_1\">\n     <g id=\"line2d_1\">\n      <defs>\n       <path d=\"M 0 0 \nL 0 3.5 \n\" id=\"mcab3592c89\" style=\"stroke:#ffffff;stroke-width:0.8;\"/>\n      </defs>\n      <g>\n       <use style=\"fill:#ffffff;stroke:#ffffff;stroke-width:0.8;\" x=\"69.496307\" xlink:href=\"#mcab3592c89\" y=\"224.64\"/>\n      </g>\n     </g>\n     <g id=\"text_1\">\n      <!-- 0 -->\n      <g style=\"fill:#ffffff;\" transform=\"translate(63.770057 245.317188)scale(0.18 -0.18)\">\n       <defs>\n        <path d=\"M 2034 4250 \nQ 1547 4250 1301 3770 \nQ 1056 3291 1056 2328 \nQ 1056 1369 1301 889 \nQ 1547 409 2034 409 \nQ 2525 409 2770 889 \nQ 3016 1369 3016 2328 \nQ 3016 3291 2770 3770 \nQ 2525 4250 2034 4250 \nz\nM 2034 4750 \nQ 2819 4750 3233 4129 \nQ 3647 3509 3647 2328 \nQ 3647 1150 3233 529 \nQ 2819 -91 2034 -91 \nQ 1250 -91 836 529 \nQ 422 1150 422 2328 \nQ 422 3509 836 4129 \nQ 1250 4750 2034 4750 \nz\n\" id=\"DejaVuSans-30\" transform=\"scale(0.015625)\"/>\n       </defs>\n       <use xlink:href=\"#DejaVuSans-30\"/>\n      </g>\n     </g>\n    </g>\n    <g id=\"xtick_2\">\n     <g id=\"line2d_2\">\n      <g>\n       <use style=\"fill:#ffffff;stroke:#ffffff;stroke-width:0.8;\" x=\"171.290165\" xlink:href=\"#mcab3592c89\" y=\"224.64\"/>\n      </g>\n     </g>\n     <g id=\"text_2\">\n      <!-- 100 -->\n      <g style=\"fill:#ffffff;\" transform=\"translate(154.111415 245.317188)scale(0.18 -0.18)\">\n       <defs>\n        <path d=\"M 794 531 \nL 1825 531 \nL 1825 4091 \nL 703 3866 \nL 703 4441 \nL 1819 4666 \nL 2450 4666 \nL 2450 531 \nL 3481 531 \nL 3481 0 \nL 794 0 \nL 794 531 \nz\n\" id=\"DejaVuSans-31\" transform=\"scale(0.015625)\"/>\n       </defs>\n       <use xlink:href=\"#DejaVuSans-31\"/>\n       <use x=\"63.623047\" xlink:href=\"#DejaVuSans-30\"/>\n       <use x=\"127.246094\" xlink:href=\"#DejaVuSans-30\"/>\n      </g>\n     </g>\n    </g>\n    <g id=\"xtick_3\">\n     <g id=\"line2d_3\">\n      <g>\n       <use style=\"fill:#ffffff;stroke:#ffffff;stroke-width:0.8;\" x=\"273.084023\" xlink:href=\"#mcab3592c89\" y=\"224.64\"/>\n      </g>\n     </g>\n     <g id=\"text_3\">\n      <!-- 200 -->\n      <g style=\"fill:#ffffff;\" transform=\"translate(255.905273 245.317188)scale(0.18 -0.18)\">\n       <defs>\n        <path d=\"M 1228 531 \nL 3431 531 \nL 3431 0 \nL 469 0 \nL 469 531 \nQ 828 903 1448 1529 \nQ 2069 2156 2228 2338 \nQ 2531 2678 2651 2914 \nQ 2772 3150 2772 3378 \nQ 2772 3750 2511 3984 \nQ 2250 4219 1831 4219 \nQ 1534 4219 1204 4116 \nQ 875 4013 500 3803 \nL 500 4441 \nQ 881 4594 1212 4672 \nQ 1544 4750 1819 4750 \nQ 2544 4750 2975 4387 \nQ 3406 4025 3406 3419 \nQ 3406 3131 3298 2873 \nQ 3191 2616 2906 2266 \nQ 2828 2175 2409 1742 \nQ 1991 1309 1228 531 \nz\n\" id=\"DejaVuSans-32\" transform=\"scale(0.015625)\"/>\n       </defs>\n       <use xlink:href=\"#DejaVuSans-32\"/>\n       <use x=\"63.623047\" xlink:href=\"#DejaVuSans-30\"/>\n       <use x=\"127.246094\" xlink:href=\"#DejaVuSans-30\"/>\n      </g>\n     </g>\n    </g>\n    <g id=\"xtick_4\">\n     <g id=\"line2d_4\">\n      <g>\n       <use style=\"fill:#ffffff;stroke:#ffffff;stroke-width:0.8;\" x=\"374.877882\" xlink:href=\"#mcab3592c89\" y=\"224.64\"/>\n      </g>\n     </g>\n     <g id=\"text_4\">\n      <!-- 300 -->\n      <g style=\"fill:#ffffff;\" transform=\"translate(357.699132 245.317188)scale(0.18 -0.18)\">\n       <defs>\n        <path d=\"M 2597 2516 \nQ 3050 2419 3304 2112 \nQ 3559 1806 3559 1356 \nQ 3559 666 3084 287 \nQ 2609 -91 1734 -91 \nQ 1441 -91 1130 -33 \nQ 819 25 488 141 \nL 488 750 \nQ 750 597 1062 519 \nQ 1375 441 1716 441 \nQ 2309 441 2620 675 \nQ 2931 909 2931 1356 \nQ 2931 1769 2642 2001 \nQ 2353 2234 1838 2234 \nL 1294 2234 \nL 1294 2753 \nL 1863 2753 \nQ 2328 2753 2575 2939 \nQ 2822 3125 2822 3475 \nQ 2822 3834 2567 4026 \nQ 2313 4219 1838 4219 \nQ 1578 4219 1281 4162 \nQ 984 4106 628 3988 \nL 628 4550 \nQ 988 4650 1302 4700 \nQ 1616 4750 1894 4750 \nQ 2613 4750 3031 4423 \nQ 3450 4097 3450 3541 \nQ 3450 3153 3228 2886 \nQ 3006 2619 2597 2516 \nz\n\" id=\"DejaVuSans-33\" transform=\"scale(0.015625)\"/>\n       </defs>\n       <use xlink:href=\"#DejaVuSans-33\"/>\n       <use x=\"63.623047\" xlink:href=\"#DejaVuSans-30\"/>\n       <use x=\"127.246094\" xlink:href=\"#DejaVuSans-30\"/>\n      </g>\n     </g>\n    </g>\n   </g>\n   <g id=\"matplotlib.axis_2\">\n    <g id=\"ytick_1\">\n     <g id=\"line2d_5\">\n      <defs>\n       <path d=\"M 0 0 \nL -3.5 0 \n\" id=\"m0a915d2407\" style=\"stroke:#ffffff;stroke-width:0.8;\"/>\n      </defs>\n      <g>\n       <use style=\"fill:#ffffff;stroke:#ffffff;stroke-width:0.8;\" x=\"54.278125\" xlink:href=\"#m0a915d2407\" y=\"183.448134\"/>\n      </g>\n     </g>\n     <g id=\"text_5\">\n      <!-- 0.66 -->\n      <g style=\"fill:#ffffff;\" transform=\"translate(7.2 190.286728)scale(0.18 -0.18)\">\n       <defs>\n        <path d=\"M 684 794 \nL 1344 794 \nL 1344 0 \nL 684 0 \nL 684 794 \nz\n\" id=\"DejaVuSans-2e\" transform=\"scale(0.015625)\"/>\n        <path d=\"M 2113 2584 \nQ 1688 2584 1439 2293 \nQ 1191 2003 1191 1497 \nQ 1191 994 1439 701 \nQ 1688 409 2113 409 \nQ 2538 409 2786 701 \nQ 3034 994 3034 1497 \nQ 3034 2003 2786 2293 \nQ 2538 2584 2113 2584 \nz\nM 3366 4563 \nL 3366 3988 \nQ 3128 4100 2886 4159 \nQ 2644 4219 2406 4219 \nQ 1781 4219 1451 3797 \nQ 1122 3375 1075 2522 \nQ 1259 2794 1537 2939 \nQ 1816 3084 2150 3084 \nQ 2853 3084 3261 2657 \nQ 3669 2231 3669 1497 \nQ 3669 778 3244 343 \nQ 2819 -91 2113 -91 \nQ 1303 -91 875 529 \nQ 447 1150 447 2328 \nQ 447 3434 972 4092 \nQ 1497 4750 2381 4750 \nQ 2619 4750 2861 4703 \nQ 3103 4656 3366 4563 \nz\n\" id=\"DejaVuSans-36\" transform=\"scale(0.015625)\"/>\n       </defs>\n       <use xlink:href=\"#DejaVuSans-30\"/>\n       <use x=\"63.623047\" xlink:href=\"#DejaVuSans-2e\"/>\n       <use x=\"95.410156\" xlink:href=\"#DejaVuSans-36\"/>\n       <use x=\"159.033203\" xlink:href=\"#DejaVuSans-36\"/>\n      </g>\n     </g>\n    </g>\n    <g id=\"ytick_2\">\n     <g id=\"line2d_6\">\n      <g>\n       <use style=\"fill:#ffffff;stroke:#ffffff;stroke-width:0.8;\" x=\"54.278125\" xlink:href=\"#m0a915d2407\" y=\"119.975037\"/>\n      </g>\n     </g>\n     <g id=\"text_6\">\n      <!-- 0.68 -->\n      <g style=\"fill:#ffffff;\" transform=\"translate(7.2 126.813631)scale(0.18 -0.18)\">\n       <defs>\n        <path d=\"M 2034 2216 \nQ 1584 2216 1326 1975 \nQ 1069 1734 1069 1313 \nQ 1069 891 1326 650 \nQ 1584 409 2034 409 \nQ 2484 409 2743 651 \nQ 3003 894 3003 1313 \nQ 3003 1734 2745 1975 \nQ 2488 2216 2034 2216 \nz\nM 1403 2484 \nQ 997 2584 770 2862 \nQ 544 3141 544 3541 \nQ 544 4100 942 4425 \nQ 1341 4750 2034 4750 \nQ 2731 4750 3128 4425 \nQ 3525 4100 3525 3541 \nQ 3525 3141 3298 2862 \nQ 3072 2584 2669 2484 \nQ 3125 2378 3379 2068 \nQ 3634 1759 3634 1313 \nQ 3634 634 3220 271 \nQ 2806 -91 2034 -91 \nQ 1263 -91 848 271 \nQ 434 634 434 1313 \nQ 434 1759 690 2068 \nQ 947 2378 1403 2484 \nz\nM 1172 3481 \nQ 1172 3119 1398 2916 \nQ 1625 2713 2034 2713 \nQ 2441 2713 2670 2916 \nQ 2900 3119 2900 3481 \nQ 2900 3844 2670 4047 \nQ 2441 4250 2034 4250 \nQ 1625 4250 1398 4047 \nQ 1172 3844 1172 3481 \nz\n\" id=\"DejaVuSans-38\" transform=\"scale(0.015625)\"/>\n       </defs>\n       <use xlink:href=\"#DejaVuSans-30\"/>\n       <use x=\"63.623047\" xlink:href=\"#DejaVuSans-2e\"/>\n       <use x=\"95.410156\" xlink:href=\"#DejaVuSans-36\"/>\n       <use x=\"159.033203\" xlink:href=\"#DejaVuSans-38\"/>\n      </g>\n     </g>\n    </g>\n    <g id=\"ytick_3\">\n     <g id=\"line2d_7\">\n      <g>\n       <use style=\"fill:#ffffff;stroke:#ffffff;stroke-width:0.8;\" x=\"54.278125\" xlink:href=\"#m0a915d2407\" y=\"56.50194\"/>\n      </g>\n     </g>\n     <g id=\"text_7\">\n      <!-- 0.70 -->\n      <g style=\"fill:#ffffff;\" transform=\"translate(7.2 63.340533)scale(0.18 -0.18)\">\n       <defs>\n        <path d=\"M 525 4666 \nL 3525 4666 \nL 3525 4397 \nL 1831 0 \nL 1172 0 \nL 2766 4134 \nL 525 4134 \nL 525 4666 \nz\n\" id=\"DejaVuSans-37\" transform=\"scale(0.015625)\"/>\n       </defs>\n       <use xlink:href=\"#DejaVuSans-30\"/>\n       <use x=\"63.623047\" xlink:href=\"#DejaVuSans-2e\"/>\n       <use x=\"95.410156\" xlink:href=\"#DejaVuSans-37\"/>\n       <use x=\"159.033203\" xlink:href=\"#DejaVuSans-30\"/>\n      </g>\n     </g>\n    </g>\n   </g>\n   <g id=\"line2d_8\">\n    <path clip-path=\"url(#pbd0ea94c26)\" d=\"M 69.496307 214.756364 \nL 70.514245 213.691513 \nL 71.532184 212.259465 \nL 72.550123 211.859588 \nL 74.586 210.125592 \nL 75.603938 209.858651 \nL 76.621877 209.858651 \nL 77.639815 209.391394 \nL 78.657754 208.757034 \nL 79.675693 208.623452 \nL 80.693631 207.754886 \nL 82.729508 207.454115 \nL 84.765386 207.420692 \nL 85.783324 206.283897 \nL 87.819201 206.250449 \nL 88.83714 206.150101 \nL 89.855078 205.614805 \nL 90.873017 205.246681 \nL 92.908894 204.275756 \nL 94.944771 203.605799 \nL 95.96271 203.069626 \nL 97.998587 201.527098 \nL 99.016526 201.124448 \nL 100.034464 200.855957 \nL 101.052403 200.352411 \nL 102.070341 199.143237 \nL 103.08828 198.739971 \nL 106.142096 198.000378 \nL 107.160034 197.596816 \nL 108.177973 196.62111 \nL 111.231789 196.149861 \nL 113.267666 195.510081 \nL 114.285604 194.53307 \nL 115.303543 194.12861 \nL 116.321482 192.442236 \nL 117.33942 190.990498 \nL 118.357359 190.956721 \nL 119.375297 189.571221 \nL 120.393236 189.064025 \nL 121.411175 187.101318 \nL 122.429113 184.593605 \nL 123.447052 182.795074 \nL 124.46499 182.04791 \nL 125.482929 181.572256 \nL 126.500867 180.450503 \nL 127.518806 180.144432 \nL 128.536745 178.817434 \nL 129.554683 176.671456 \nL 130.572622 175.136824 \nL 131.59056 175.102704 \nL 132.608499 174.044621 \nL 133.626438 162.152327 \nL 135.662315 160.018048 \nL 136.680253 156.155295 \nL 137.698192 154.462387 \nL 138.71613 153.90921 \nL 139.734069 152.317758 \nL 140.752008 148.158652 \nL 141.769946 140.958657 \nL 142.787885 138.656185 \nL 143.805823 136.035722 \nL 144.823762 134.706388 \nL 145.841701 134.636392 \nL 146.859639 133.235843 \nL 147.877578 132.64024 \nL 148.895516 131.623702 \nL 149.913455 131.413304 \nL 150.931393 130.746861 \nL 151.949332 128.324301 \nL 152.967271 128.289165 \nL 153.985209 126.496194 \nL 155.003148 126.214763 \nL 156.021086 126.144398 \nL 157.039025 123.996777 \nL 158.056964 117.112234 \nL 159.074902 116.546046 \nL 161.110779 116.369072 \nL 164.164595 115.554743 \nL 165.182534 115.519328 \nL 167.218411 114.421082 \nL 168.236349 113.853954 \nL 169.254288 113.499399 \nL 170.272227 112.115892 \nL 171.290165 110.979827 \nL 173.326042 110.589121 \nL 176.379858 108.598615 \nL 178.415735 108.278485 \nL 179.433674 107.851547 \nL 180.451612 106.819318 \nL 181.469551 106.819318 \nL 183.505428 106.498837 \nL 184.523367 105.822061 \nL 185.541305 104.752894 \nL 186.559244 104.717243 \nL 187.577182 104.289371 \nL 188.595121 104.182385 \nL 189.61306 103.790044 \nL 193.684814 103.112142 \nL 194.702753 103.112142 \nL 195.720691 102.790932 \nL 196.73863 102.648152 \nL 197.756568 102.32685 \nL 198.774507 100.647915 \nL 199.792445 100.54069 \nL 200.810384 99.539587 \nL 201.828323 98.788356 \nL 203.8642 98.645226 \nL 204.882138 98.394717 \nL 205.900077 98.287344 \nL 206.918016 97.499729 \nL 208.953893 97.428109 \nL 209.971831 95.52903 \nL 210.98977 94.775955 \nL 214.043586 94.5966 \nL 216.079463 93.376467 \nL 217.097401 92.873795 \nL 221.169156 92.658317 \nL 222.187094 92.335047 \nL 223.205033 92.299124 \nL 224.222971 91.903921 \nL 225.24091 91.796122 \nL 226.258849 91.508622 \nL 227.276787 91.508622 \nL 228.294726 91.113229 \nL 229.312664 90.861565 \nL 230.330603 90.322155 \nL 231.348542 90.286188 \nL 232.36648 89.818546 \nL 233.384419 89.782568 \nL 234.402357 89.602666 \nL 235.420296 89.602666 \nL 236.438234 89.278793 \nL 238.474112 89.206813 \nL 239.49205 89.026848 \nL 240.509989 87.874605 \nL 242.545866 87.766541 \nL 243.563805 86.937812 \nL 244.581743 86.937812 \nL 245.599682 86.757598 \nL 246.61762 85.92836 \nL 247.635559 85.675901 \nL 249.671436 85.531621 \nL 250.689375 84.990457 \nL 253.74319 83.799271 \nL 255.779068 83.618713 \nL 257.814945 83.618713 \nL 258.832883 83.329779 \nL 259.850822 82.571086 \nL 262.904638 81.9928 \nL 263.922576 81.124989 \nL 264.940515 80.907965 \nL 265.958453 80.184344 \nL 266.976392 80.00339 \nL 267.994331 79.532814 \nL 269.012269 79.424201 \nL 270.030208 79.098318 \nL 271.048146 79.062105 \nL 272.066085 78.555037 \nL 273.084023 77.902863 \nL 274.101962 77.540432 \nL 275.119901 77.504185 \nL 276.137839 77.105411 \nL 277.155778 76.887857 \nL 279.191655 76.634008 \nL 281.227532 75.110094 \nL 282.245471 75.037492 \nL 284.281348 74.638122 \nL 285.299286 74.638122 \nL 288.353102 74.093371 \nL 289.371041 73.65744 \nL 290.388979 73.403094 \nL 291.406918 73.403094 \nL 292.424857 73.221395 \nL 293.442795 72.676176 \nL 294.460734 72.348959 \nL 295.478672 71.5852 \nL 296.496611 71.548822 \nL 298.532488 71.148608 \nL 299.550427 71.11222 \nL 300.568365 69.838141 \nL 301.586304 69.838141 \nL 302.604242 68.96392 \nL 303.622181 68.781732 \nL 304.64012 64.987686 \nL 305.658058 64.549352 \nL 307.693935 64.512819 \nL 308.711874 63.635786 \nL 310.747751 63.453012 \nL 311.76569 63.270218 \nL 314.819505 63.050839 \nL 317.873321 62.173033 \nL 318.89126 62.063275 \nL 319.909198 61.770551 \nL 321.945075 61.587572 \nL 322.963014 61.441174 \nL 323.980953 61.14834 \nL 324.998891 60.086384 \nL 326.01683 59.939854 \nL 327.034768 59.02375 \nL 328.052707 58.327173 \nL 329.070646 57.88708 \nL 332.124461 57.263415 \nL 333.1424 56.345837 \nL 334.160338 55.648139 \nL 336.196216 55.537949 \nL 338.232093 55.244075 \nL 339.250031 55.023635 \nL 342.303847 53.479741 \nL 343.321786 52.670464 \nL 345.357663 52.52328 \nL 346.375601 51.566271 \nL 347.39354 51.529452 \nL 348.411479 51.308521 \nL 349.429417 50.608713 \nL 352.483233 50.092877 \nL 353.501172 49.687466 \nL 354.51911 48.138628 \nL 355.537049 47.954147 \nL 356.554987 47.917248 \nL 357.572926 47.695839 \nL 358.590864 47.289846 \nL 360.626742 44.519086 \nL 362.662619 43.335498 \nL 363.680557 43.261496 \nL 364.698496 40.595246 \nL 366.734373 40.446997 \nL 367.752312 39.22344 \nL 368.77025 36.365003 \nL 369.788189 35.026922 \nL 370.806127 35.026922 \nL 371.824066 34.469074 \nL 372.842005 27.723098 \nL 373.859943 17.083636 \nL 373.859943 17.083636 \n\" style=\"fill:none;stroke:#8dd3c7;stroke-linecap:square;stroke-width:1.5;\"/>\n   </g>\n   <g id=\"patch_3\">\n    <path d=\"M 54.278125 224.64 \nL 54.278125 7.2 \n\" style=\"fill:none;stroke:#ffffff;stroke-linecap:square;stroke-linejoin:miter;stroke-width:0.8;\"/>\n   </g>\n   <g id=\"patch_4\">\n    <path d=\"M 389.078125 224.64 \nL 389.078125 7.2 \n\" style=\"fill:none;stroke:#ffffff;stroke-linecap:square;stroke-linejoin:miter;stroke-width:0.8;\"/>\n   </g>\n   <g id=\"patch_5\">\n    <path d=\"M 54.278125 224.64 \nL 389.078125 224.64 \n\" style=\"fill:none;stroke:#ffffff;stroke-linecap:square;stroke-linejoin:miter;stroke-width:0.8;\"/>\n   </g>\n   <g id=\"patch_6\">\n    <path d=\"M 54.278125 7.2 \nL 389.078125 7.2 \n\" style=\"fill:none;stroke:#ffffff;stroke-linecap:square;stroke-linejoin:miter;stroke-width:0.8;\"/>\n   </g>\n  </g>\n </g>\n <defs>\n  <clipPath id=\"pbd0ea94c26\">\n   <rect height=\"217.44\" width=\"334.8\" x=\"54.278125\" y=\"7.2\"/>\n  </clipPath>\n </defs>\n</svg>\n",
      "text/plain": [
       "<Figure size 432x288 with 1 Axes>"
      ]
     },
     "metadata": {},
     "output_type": "display_data"
    }
   ],
   "source": [
    "plt.plot(sorted(pds))"
   ]
  },
  {
   "cell_type": "code",
   "execution_count": 3,
   "metadata": {},
   "outputs": [],
   "source": [
    "pd6 = []\n",
    "for root, dirs, files in os.walk('data/SP_ALL'):\n",
    "    for name in files:\n",
    "        # filename = os.path.join(root, name)\n",
    "        pd6.append(float(name[:-4].split('_')[-1]))"
   ]
  },
  {
   "cell_type": "code",
   "execution_count": 4,
   "metadata": {},
   "outputs": [
    {
     "data": {
      "text/plain": [
       "[<matplotlib.lines.Line2D at 0x7f88bddf0f10>]"
      ]
     },
     "execution_count": 4,
     "metadata": {},
     "output_type": "execute_result"
    },
    {
     "data": {
      "image/png": "[encoded data removed]",
      "image/svg+xml": "<?xml version=\"1.0\" encoding=\"utf-8\" standalone=\"no\"?>\n<!DOCTYPE svg PUBLIC \"-//W3C//DTD SVG 1.1//EN\"\n  \"http://www.w3.org/Graphics/SVG/1.1/DTD/svg11.dtd\">\n<svg height=\"248.518125pt\" version=\"1.1\" viewBox=\"0 0 378.465625 248.518125\" width=\"378.465625pt\" xmlns=\"http://www.w3.org/2000/svg\" xmlns:xlink=\"http://www.w3.org/1999/xlink\">\n <metadata>\n  <rdf:RDF xmlns:cc=\"http://creativecommons.org/ns#\" xmlns:dc=\"http://purl.org/dc/elements/1.1/\" xmlns:rdf=\"http://www.w3.org/1999/02/22-rdf-syntax-ns#\">\n   <cc:Work>\n    <dc:type rdf:resource=\"http://purl.org/dc/dcmitype/StillImage\"/>\n    <dc:date>2021-07-15T16:24:37.903126</dc:date>\n    <dc:format>image/svg+xml</dc:format>\n    <dc:creator>\n     <cc:Agent>\n      <dc:title>Matplotlib v3.4.1, https://matplotlib.org/</dc:title>\n     </cc:Agent>\n    </dc:creator>\n   </cc:Work>\n  </rdf:RDF>\n </metadata>\n <defs>\n  <style type=\"text/css\">*{stroke-linecap:butt;stroke-linejoin:round;}</style>\n </defs>\n <g id=\"figure_1\">\n  <g id=\"patch_1\">\n   <path d=\"M 0 248.518125 \nL 378.465625 248.518125 \nL 378.465625 0 \nL 0 0 \nz\n\" style=\"fill:none;\"/>\n  </g>\n  <g id=\"axes_1\">\n   <g id=\"patch_2\">\n    <path d=\"M 36.465625 224.64 \nL 371.265625 224.64 \nL 371.265625 7.2 \nL 36.465625 7.2 \nz\n\" style=\"fill:#ffffff;\"/>\n   </g>\n   <g id=\"matplotlib.axis_1\">\n    <g id=\"xtick_1\">\n     <g id=\"line2d_1\">\n      <defs>\n       <path d=\"M 0 0 \nL 0 3.5 \n\" id=\"mf89a5f321f\" style=\"stroke:#000000;stroke-width:0.8;\"/>\n      </defs>\n      <g>\n       <use style=\"stroke:#000000;stroke-width:0.8;\" x=\"51.683807\" xlink:href=\"#mf89a5f321f\" y=\"224.64\"/>\n      </g>\n     </g>\n     <g id=\"text_1\">\n      <!-- 0 -->\n      <g transform=\"translate(48.502557 239.238438)scale(0.1 -0.1)\">\n       <defs>\n        <path d=\"M 2034 4250 \nQ 1547 4250 1301 3770 \nQ 1056 3291 1056 2328 \nQ 1056 1369 1301 889 \nQ 1547 409 2034 409 \nQ 2525 409 2770 889 \nQ 3016 1369 3016 2328 \nQ 3016 3291 2770 3770 \nQ 2525 4250 2034 4250 \nz\nM 2034 4750 \nQ 2819 4750 3233 4129 \nQ 3647 3509 3647 2328 \nQ 3647 1150 3233 529 \nQ 2819 -91 2034 -91 \nQ 1250 -91 836 529 \nQ 422 1150 422 2328 \nQ 422 3509 836 4129 \nQ 1250 4750 2034 4750 \nz\n\" id=\"DejaVuSans-30\" transform=\"scale(0.015625)\"/>\n       </defs>\n       <use xlink:href=\"#DejaVuSans-30\"/>\n      </g>\n     </g>\n    </g>\n    <g id=\"xtick_2\">\n     <g id=\"line2d_2\">\n      <g>\n       <use style=\"stroke:#000000;stroke-width:0.8;\" x=\"106.229261\" xlink:href=\"#mf89a5f321f\" y=\"224.64\"/>\n      </g>\n     </g>\n     <g id=\"text_2\">\n      <!-- 50 -->\n      <g transform=\"translate(99.866761 239.238438)scale(0.1 -0.1)\">\n       <defs>\n        <path d=\"M 691 4666 \nL 3169 4666 \nL 3169 4134 \nL 1269 4134 \nL 1269 2991 \nQ 1406 3038 1543 3061 \nQ 1681 3084 1819 3084 \nQ 2600 3084 3056 2656 \nQ 3513 2228 3513 1497 \nQ 3513 744 3044 326 \nQ 2575 -91 1722 -91 \nQ 1428 -91 1123 -41 \nQ 819 9 494 109 \nL 494 744 \nQ 775 591 1075 516 \nQ 1375 441 1709 441 \nQ 2250 441 2565 725 \nQ 2881 1009 2881 1497 \nQ 2881 1984 2565 2268 \nQ 2250 2553 1709 2553 \nQ 1456 2553 1204 2497 \nQ 953 2441 691 2322 \nL 691 4666 \nz\n\" id=\"DejaVuSans-35\" transform=\"scale(0.015625)\"/>\n       </defs>\n       <use xlink:href=\"#DejaVuSans-35\"/>\n       <use x=\"63.623047\" xlink:href=\"#DejaVuSans-30\"/>\n      </g>\n     </g>\n    </g>\n    <g id=\"xtick_3\">\n     <g id=\"line2d_3\">\n      <g>\n       <use style=\"stroke:#000000;stroke-width:0.8;\" x=\"160.774716\" xlink:href=\"#mf89a5f321f\" y=\"224.64\"/>\n      </g>\n     </g>\n     <g id=\"text_3\">\n      <!-- 100 -->\n      <g transform=\"translate(151.230966 239.238438)scale(0.1 -0.1)\">\n       <defs>\n        <path d=\"M 794 531 \nL 1825 531 \nL 1825 4091 \nL 703 3866 \nL 703 4441 \nL 1819 4666 \nL 2450 4666 \nL 2450 531 \nL 3481 531 \nL 3481 0 \nL 794 0 \nL 794 531 \nz\n\" id=\"DejaVuSans-31\" transform=\"scale(0.015625)\"/>\n       </defs>\n       <use xlink:href=\"#DejaVuSans-31\"/>\n       <use x=\"63.623047\" xlink:href=\"#DejaVuSans-30\"/>\n       <use x=\"127.246094\" xlink:href=\"#DejaVuSans-30\"/>\n      </g>\n     </g>\n    </g>\n    <g id=\"xtick_4\">\n     <g id=\"line2d_4\">\n      <g>\n       <use style=\"stroke:#000000;stroke-width:0.8;\" x=\"215.32017\" xlink:href=\"#mf89a5f321f\" y=\"224.64\"/>\n      </g>\n     </g>\n     <g id=\"text_4\">\n      <!-- 150 -->\n      <g transform=\"translate(205.77642 239.238438)scale(0.1 -0.1)\">\n       <use xlink:href=\"#DejaVuSans-31\"/>\n       <use x=\"63.623047\" xlink:href=\"#DejaVuSans-35\"/>\n       <use x=\"127.246094\" xlink:href=\"#DejaVuSans-30\"/>\n      </g>\n     </g>\n    </g>\n    <g id=\"xtick_5\">\n     <g id=\"line2d_5\">\n      <g>\n       <use style=\"stroke:#000000;stroke-width:0.8;\" x=\"269.865625\" xlink:href=\"#mf89a5f321f\" y=\"224.64\"/>\n      </g>\n     </g>\n     <g id=\"text_5\">\n      <!-- 200 -->\n      <g transform=\"translate(260.321875 239.238438)scale(0.1 -0.1)\">\n       <defs>\n        <path d=\"M 1228 531 \nL 3431 531 \nL 3431 0 \nL 469 0 \nL 469 531 \nQ 828 903 1448 1529 \nQ 2069 2156 2228 2338 \nQ 2531 2678 2651 2914 \nQ 2772 3150 2772 3378 \nQ 2772 3750 2511 3984 \nQ 2250 4219 1831 4219 \nQ 1534 4219 1204 4116 \nQ 875 4013 500 3803 \nL 500 4441 \nQ 881 4594 1212 4672 \nQ 1544 4750 1819 4750 \nQ 2544 4750 2975 4387 \nQ 3406 4025 3406 3419 \nQ 3406 3131 3298 2873 \nQ 3191 2616 2906 2266 \nQ 2828 2175 2409 1742 \nQ 1991 1309 1228 531 \nz\n\" id=\"DejaVuSans-32\" transform=\"scale(0.015625)\"/>\n       </defs>\n       <use xlink:href=\"#DejaVuSans-32\"/>\n       <use x=\"63.623047\" xlink:href=\"#DejaVuSans-30\"/>\n       <use x=\"127.246094\" xlink:href=\"#DejaVuSans-30\"/>\n      </g>\n     </g>\n    </g>\n    <g id=\"xtick_6\">\n     <g id=\"line2d_6\">\n      <g>\n       <use style=\"stroke:#000000;stroke-width:0.8;\" x=\"324.41108\" xlink:href=\"#mf89a5f321f\" y=\"224.64\"/>\n      </g>\n     </g>\n     <g id=\"text_6\">\n      <!-- 250 -->\n      <g transform=\"translate(314.86733 239.238438)scale(0.1 -0.1)\">\n       <use xlink:href=\"#DejaVuSans-32\"/>\n       <use x=\"63.623047\" xlink:href=\"#DejaVuSans-35\"/>\n       <use x=\"127.246094\" xlink:href=\"#DejaVuSans-30\"/>\n      </g>\n     </g>\n    </g>\n   </g>\n   <g id=\"matplotlib.axis_2\">\n    <g id=\"ytick_1\">\n     <g id=\"line2d_7\">\n      <defs>\n       <path d=\"M 0 0 \nL -3.5 0 \n\" id=\"m9d45b5169f\" style=\"stroke:#000000;stroke-width:0.8;\"/>\n      </defs>\n      <g>\n       <use style=\"stroke:#000000;stroke-width:0.8;\" x=\"36.465625\" xlink:href=\"#m9d45b5169f\" y=\"215.184811\"/>\n      </g>\n     </g>\n     <g id=\"text_7\">\n      <!-- 0.65 -->\n      <g transform=\"translate(7.2 218.984029)scale(0.1 -0.1)\">\n       <defs>\n        <path d=\"M 684 794 \nL 1344 794 \nL 1344 0 \nL 684 0 \nL 684 794 \nz\n\" id=\"DejaVuSans-2e\" transform=\"scale(0.015625)\"/>\n        <path d=\"M 2113 2584 \nQ 1688 2584 1439 2293 \nQ 1191 2003 1191 1497 \nQ 1191 994 1439 701 \nQ 1688 409 2113 409 \nQ 2538 409 2786 701 \nQ 3034 994 3034 1497 \nQ 3034 2003 2786 2293 \nQ 2538 2584 2113 2584 \nz\nM 3366 4563 \nL 3366 3988 \nQ 3128 4100 2886 4159 \nQ 2644 4219 2406 4219 \nQ 1781 4219 1451 3797 \nQ 1122 3375 1075 2522 \nQ 1259 2794 1537 2939 \nQ 1816 3084 2150 3084 \nQ 2853 3084 3261 2657 \nQ 3669 2231 3669 1497 \nQ 3669 778 3244 343 \nQ 2819 -91 2113 -91 \nQ 1303 -91 875 529 \nQ 447 1150 447 2328 \nQ 447 3434 972 4092 \nQ 1497 4750 2381 4750 \nQ 2619 4750 2861 4703 \nQ 3103 4656 3366 4563 \nz\n\" id=\"DejaVuSans-36\" transform=\"scale(0.015625)\"/>\n       </defs>\n       <use xlink:href=\"#DejaVuSans-30\"/>\n       <use x=\"63.623047\" xlink:href=\"#DejaVuSans-2e\"/>\n       <use x=\"95.410156\" xlink:href=\"#DejaVuSans-36\"/>\n       <use x=\"159.033203\" xlink:href=\"#DejaVuSans-35\"/>\n      </g>\n     </g>\n    </g>\n    <g id=\"ytick_2\">\n     <g id=\"line2d_8\">\n      <g>\n       <use style=\"stroke:#000000;stroke-width:0.8;\" x=\"36.465625\" xlink:href=\"#m9d45b5169f\" y=\"183.448\"/>\n      </g>\n     </g>\n     <g id=\"text_8\">\n      <!-- 0.66 -->\n      <g transform=\"translate(7.2 187.247218)scale(0.1 -0.1)\">\n       <use xlink:href=\"#DejaVuSans-30\"/>\n       <use x=\"63.623047\" xlink:href=\"#DejaVuSans-2e\"/>\n       <use x=\"95.410156\" xlink:href=\"#DejaVuSans-36\"/>\n       <use x=\"159.033203\" xlink:href=\"#DejaVuSans-36\"/>\n      </g>\n     </g>\n    </g>\n    <g id=\"ytick_3\">\n     <g id=\"line2d_9\">\n      <g>\n       <use style=\"stroke:#000000;stroke-width:0.8;\" x=\"36.465625\" xlink:href=\"#m9d45b5169f\" y=\"151.711189\"/>\n      </g>\n     </g>\n     <g id=\"text_9\">\n      <!-- 0.67 -->\n      <g transform=\"translate(7.2 155.510407)scale(0.1 -0.1)\">\n       <defs>\n        <path d=\"M 525 4666 \nL 3525 4666 \nL 3525 4397 \nL 1831 0 \nL 1172 0 \nL 2766 4134 \nL 525 4134 \nL 525 4666 \nz\n\" id=\"DejaVuSans-37\" transform=\"scale(0.015625)\"/>\n       </defs>\n       <use xlink:href=\"#DejaVuSans-30\"/>\n       <use x=\"63.623047\" xlink:href=\"#DejaVuSans-2e\"/>\n       <use x=\"95.410156\" xlink:href=\"#DejaVuSans-36\"/>\n       <use x=\"159.033203\" xlink:href=\"#DejaVuSans-37\"/>\n      </g>\n     </g>\n    </g>\n    <g id=\"ytick_4\">\n     <g id=\"line2d_10\">\n      <g>\n       <use style=\"stroke:#000000;stroke-width:0.8;\" x=\"36.465625\" xlink:href=\"#m9d45b5169f\" y=\"119.974378\"/>\n      </g>\n     </g>\n     <g id=\"text_10\">\n      <!-- 0.68 -->\n      <g transform=\"translate(7.2 123.773596)scale(0.1 -0.1)\">\n       <defs>\n        <path d=\"M 2034 2216 \nQ 1584 2216 1326 1975 \nQ 1069 1734 1069 1313 \nQ 1069 891 1326 650 \nQ 1584 409 2034 409 \nQ 2484 409 2743 651 \nQ 3003 894 3003 1313 \nQ 3003 1734 2745 1975 \nQ 2488 2216 2034 2216 \nz\nM 1403 2484 \nQ 997 2584 770 2862 \nQ 544 3141 544 3541 \nQ 544 4100 942 4425 \nQ 1341 4750 2034 4750 \nQ 2731 4750 3128 4425 \nQ 3525 4100 3525 3541 \nQ 3525 3141 3298 2862 \nQ 3072 2584 2669 2484 \nQ 3125 2378 3379 2068 \nQ 3634 1759 3634 1313 \nQ 3634 634 3220 271 \nQ 2806 -91 2034 -91 \nQ 1263 -91 848 271 \nQ 434 634 434 1313 \nQ 434 1759 690 2068 \nQ 947 2378 1403 2484 \nz\nM 1172 3481 \nQ 1172 3119 1398 2916 \nQ 1625 2713 2034 2713 \nQ 2441 2713 2670 2916 \nQ 2900 3119 2900 3481 \nQ 2900 3844 2670 4047 \nQ 2441 4250 2034 4250 \nQ 1625 4250 1398 4047 \nQ 1172 3844 1172 3481 \nz\n\" id=\"DejaVuSans-38\" transform=\"scale(0.015625)\"/>\n       </defs>\n       <use xlink:href=\"#DejaVuSans-30\"/>\n       <use x=\"63.623047\" xlink:href=\"#DejaVuSans-2e\"/>\n       <use x=\"95.410156\" xlink:href=\"#DejaVuSans-36\"/>\n       <use x=\"159.033203\" xlink:href=\"#DejaVuSans-38\"/>\n      </g>\n     </g>\n    </g>\n    <g id=\"ytick_5\">\n     <g id=\"line2d_11\">\n      <g>\n       <use style=\"stroke:#000000;stroke-width:0.8;\" x=\"36.465625\" xlink:href=\"#m9d45b5169f\" y=\"88.237567\"/>\n      </g>\n     </g>\n     <g id=\"text_11\">\n      <!-- 0.69 -->\n      <g transform=\"translate(7.2 92.036785)scale(0.1 -0.1)\">\n       <defs>\n        <path d=\"M 703 97 \nL 703 672 \nQ 941 559 1184 500 \nQ 1428 441 1663 441 \nQ 2288 441 2617 861 \nQ 2947 1281 2994 2138 \nQ 2813 1869 2534 1725 \nQ 2256 1581 1919 1581 \nQ 1219 1581 811 2004 \nQ 403 2428 403 3163 \nQ 403 3881 828 4315 \nQ 1253 4750 1959 4750 \nQ 2769 4750 3195 4129 \nQ 3622 3509 3622 2328 \nQ 3622 1225 3098 567 \nQ 2575 -91 1691 -91 \nQ 1453 -91 1209 -44 \nQ 966 3 703 97 \nz\nM 1959 2075 \nQ 2384 2075 2632 2365 \nQ 2881 2656 2881 3163 \nQ 2881 3666 2632 3958 \nQ 2384 4250 1959 4250 \nQ 1534 4250 1286 3958 \nQ 1038 3666 1038 3163 \nQ 1038 2656 1286 2365 \nQ 1534 2075 1959 2075 \nz\n\" id=\"DejaVuSans-39\" transform=\"scale(0.015625)\"/>\n       </defs>\n       <use xlink:href=\"#DejaVuSans-30\"/>\n       <use x=\"63.623047\" xlink:href=\"#DejaVuSans-2e\"/>\n       <use x=\"95.410156\" xlink:href=\"#DejaVuSans-36\"/>\n       <use x=\"159.033203\" xlink:href=\"#DejaVuSans-39\"/>\n      </g>\n     </g>\n    </g>\n    <g id=\"ytick_6\">\n     <g id=\"line2d_12\">\n      <g>\n       <use style=\"stroke:#000000;stroke-width:0.8;\" x=\"36.465625\" xlink:href=\"#m9d45b5169f\" y=\"56.500756\"/>\n      </g>\n     </g>\n     <g id=\"text_12\">\n      <!-- 0.70 -->\n      <g transform=\"translate(7.2 60.299974)scale(0.1 -0.1)\">\n       <use xlink:href=\"#DejaVuSans-30\"/>\n       <use x=\"63.623047\" xlink:href=\"#DejaVuSans-2e\"/>\n       <use x=\"95.410156\" xlink:href=\"#DejaVuSans-37\"/>\n       <use x=\"159.033203\" xlink:href=\"#DejaVuSans-30\"/>\n      </g>\n     </g>\n    </g>\n    <g id=\"ytick_7\">\n     <g id=\"line2d_13\">\n      <g>\n       <use style=\"stroke:#000000;stroke-width:0.8;\" x=\"36.465625\" xlink:href=\"#m9d45b5169f\" y=\"24.763945\"/>\n      </g>\n     </g>\n     <g id=\"text_13\">\n      <!-- 0.71 -->\n      <g transform=\"translate(7.2 28.563163)scale(0.1 -0.1)\">\n       <use xlink:href=\"#DejaVuSans-30\"/>\n       <use x=\"63.623047\" xlink:href=\"#DejaVuSans-2e\"/>\n       <use x=\"95.410156\" xlink:href=\"#DejaVuSans-37\"/>\n       <use x=\"159.033203\" xlink:href=\"#DejaVuSans-31\"/>\n      </g>\n     </g>\n    </g>\n   </g>\n   <g id=\"line2d_14\">\n    <path clip-path=\"url(#pddafc700ab)\" d=\"M 51.683807 214.756364 \nL 52.774716 213.69318 \nL 53.865625 212.258677 \nL 54.956534 211.858793 \nL 57.138352 210.125963 \nL 58.229261 209.859374 \nL 59.32017 209.392843 \nL 60.41108 208.758106 \nL 61.501989 208.624812 \nL 62.592898 207.755223 \nL 64.774716 207.453723 \nL 65.865625 207.421987 \nL 66.956534 206.282635 \nL 69.138352 206.14934 \nL 70.229261 205.616162 \nL 71.32017 205.248015 \nL 73.501989 204.276869 \nL 75.683807 203.607222 \nL 76.774716 203.07087 \nL 78.956534 201.528461 \nL 80.047443 201.125403 \nL 81.138352 200.85564 \nL 82.229261 200.351025 \nL 83.32017 199.141853 \nL 84.41108 198.738795 \nL 87.683807 197.999327 \nL 88.774716 197.59627 \nL 89.865625 196.62195 \nL 93.138352 196.149071 \nL 95.32017 195.511161 \nL 96.41108 194.533668 \nL 97.501989 194.127436 \nL 98.592898 192.442212 \nL 99.683807 190.99184 \nL 100.774716 190.956929 \nL 101.865625 189.57003 \nL 102.956534 189.065415 \nL 104.047443 187.100907 \nL 105.138352 184.593698 \nL 106.229261 182.794221 \nL 107.32017 182.048406 \nL 108.41108 181.572354 \nL 109.501989 180.448871 \nL 110.592898 180.144198 \nL 111.683807 178.817599 \nL 112.774716 176.67219 \nL 113.865625 175.136129 \nL 114.956534 175.101218 \nL 116.047443 174.044382 \nL 117.138352 162.152599 \nL 119.32017 160.016712 \nL 120.41108 156.154342 \nL 121.501989 154.46277 \nL 122.592898 153.907376 \nL 123.683807 152.317362 \nL 124.774716 148.156666 \nL 125.865625 140.958757 \nL 126.956534 138.654665 \nL 128.047443 136.036378 \nL 129.138352 134.706605 \nL 130.229261 134.636784 \nL 131.32017 133.234017 \nL 132.41108 132.640539 \nL 133.501989 131.621787 \nL 134.592898 131.412324 \nL 135.683807 130.745851 \nL 136.774716 128.324333 \nL 137.865625 128.289422 \nL 138.956534 126.496292 \nL 140.047443 126.213835 \nL 141.138352 126.144014 \nL 142.229261 123.995432 \nL 143.32017 117.111717 \nL 144.41108 116.546802 \nL 146.592898 116.369076 \nL 149.865625 115.55344 \nL 150.956534 115.518529 \nL 153.138352 114.420436 \nL 154.229261 113.852347 \nL 155.32017 113.500068 \nL 156.41108 112.116343 \nL 157.501989 110.980165 \nL 159.683807 110.589803 \nL 162.956534 108.596731 \nL 165.138352 108.276189 \nL 166.229261 107.850916 \nL 167.32017 106.819469 \nL 169.501989 106.498928 \nL 170.592898 105.81976 \nL 171.683807 104.753403 \nL 172.774716 104.715319 \nL 173.865625 104.290046 \nL 174.956534 104.18214 \nL 176.047443 103.788604 \nL 182.592898 102.646079 \nL 183.683807 102.325537 \nL 184.774716 100.64666 \nL 185.865625 100.538755 \nL 186.956534 99.539045 \nL 188.047443 98.786883 \nL 190.229261 98.644067 \nL 191.32017 98.393346 \nL 192.41108 98.285441 \nL 193.501989 97.498368 \nL 194.592898 97.428547 \nL 195.683807 95.527512 \nL 196.774716 94.77535 \nL 198.956534 94.59445 \nL 201.138352 93.375756 \nL 202.229261 92.874315 \nL 205.501989 92.658504 \nL 206.592898 92.334789 \nL 207.683807 92.296705 \nL 208.774716 91.903168 \nL 209.865625 91.795263 \nL 213.138352 90.862201 \nL 214.229261 90.322675 \nL 215.32017 90.284591 \nL 216.41108 89.81806 \nL 217.501989 89.783149 \nL 218.592898 89.602249 \nL 219.683807 89.278534 \nL 221.865625 89.02464 \nL 222.956534 87.872593 \nL 225.138352 87.764688 \nL 226.229261 86.936357 \nL 227.32017 86.755458 \nL 228.41108 85.927127 \nL 229.501989 85.676406 \nL 231.683807 85.530417 \nL 232.774716 84.990891 \nL 236.047443 83.797587 \nL 239.32017 83.327882 \nL 240.41108 82.569372 \nL 243.683807 81.991762 \nL 244.774716 81.125347 \nL 245.865625 80.906363 \nL 246.956534 80.182764 \nL 248.047443 80.001864 \nL 249.138352 79.532159 \nL 250.229261 79.424254 \nL 251.32017 79.097365 \nL 252.41108 79.062455 \nL 253.501989 78.554666 \nL 254.592898 77.900887 \nL 255.683807 77.539088 \nL 256.774716 77.504177 \nL 257.865625 77.104293 \nL 258.956534 76.885309 \nL 260.047443 76.815488 \nL 261.138352 76.631415 \nL 263.32017 75.108048 \nL 264.41108 75.035053 \nL 266.592898 74.638343 \nL 269.865625 74.09247 \nL 270.956534 73.657676 \nL 273.138352 73.219708 \nL 274.229261 72.673834 \nL 275.32017 72.346945 \nL 276.41108 71.585262 \nL 277.501989 71.547178 \nL 279.683807 71.147294 \nL 280.774716 71.112383 \nL 281.865625 69.836564 \nL 282.956534 68.963801 \nL 284.047443 68.779728 \nL 285.138352 64.987179 \nL 286.229261 64.549211 \nL 287.32017 64.511127 \nL 288.41108 63.635191 \nL 290.592898 63.451117 \nL 291.683807 63.270217 \nL 294.956534 63.051233 \nL 298.229261 62.172124 \nL 299.32017 62.061045 \nL 300.41108 61.769066 \nL 301.501989 61.734156 \nL 303.683807 61.439003 \nL 304.774716 61.147025 \nL 305.865625 60.083842 \nL 306.956534 59.937852 \nL 308.047443 59.023832 \nL 309.138352 58.325622 \nL 310.229261 57.884481 \nL 311.32017 57.703581 \nL 312.41108 57.408428 \nL 313.501989 57.262439 \nL 314.592898 56.345245 \nL 315.683807 55.647035 \nL 318.956534 55.243978 \nL 320.047443 55.02182 \nL 323.32017 53.479411 \nL 324.41108 52.670123 \nL 326.592898 52.52096 \nL 327.683807 51.565682 \nL 328.774716 51.527597 \nL 329.865625 51.308613 \nL 330.956534 50.60723 \nL 334.229261 50.093093 \nL 335.32017 49.686862 \nL 336.41108 48.138106 \nL 337.501989 47.954032 \nL 338.592898 47.915948 \nL 339.683807 47.693791 \nL 340.774716 47.287559 \nL 342.956534 44.516936 \nL 345.138352 43.333153 \nL 346.229261 43.260158 \nL 347.32017 40.594266 \nL 349.501989 40.445103 \nL 350.592898 39.223236 \nL 351.683807 36.363749 \nL 352.774716 35.024456 \nL 353.865625 34.469061 \nL 354.956534 27.721815 \nL 356.047443 17.083636 \nL 356.047443 17.083636 \n\" style=\"fill:none;stroke:#1f77b4;stroke-linecap:square;stroke-width:1.5;\"/>\n   </g>\n   <g id=\"patch_3\">\n    <path d=\"M 36.465625 224.64 \nL 36.465625 7.2 \n\" style=\"fill:none;stroke:#000000;stroke-linecap:square;stroke-linejoin:miter;stroke-width:0.8;\"/>\n   </g>\n   <g id=\"patch_4\">\n    <path d=\"M 371.265625 224.64 \nL 371.265625 7.2 \n\" style=\"fill:none;stroke:#000000;stroke-linecap:square;stroke-linejoin:miter;stroke-width:0.8;\"/>\n   </g>\n   <g id=\"patch_5\">\n    <path d=\"M 36.465625 224.64 \nL 371.265625 224.64 \n\" style=\"fill:none;stroke:#000000;stroke-linecap:square;stroke-linejoin:miter;stroke-width:0.8;\"/>\n   </g>\n   <g id=\"patch_6\">\n    <path d=\"M 36.465625 7.2 \nL 371.265625 7.2 \n\" style=\"fill:none;stroke:#000000;stroke-linecap:square;stroke-linejoin:miter;stroke-width:0.8;\"/>\n   </g>\n  </g>\n </g>\n <defs>\n  <clipPath id=\"pddafc700ab\">\n   <rect height=\"217.44\" width=\"334.8\" x=\"36.465625\" y=\"7.2\"/>\n  </clipPath>\n </defs>\n</svg>\n",
      "text/plain": [
       "<Figure size 432x288 with 1 Axes>"
      ]
     },
     "metadata": {
      "needs_background": "light"
     },
     "output_type": "display_data"
    }
   ],
   "source": [
    "plt.plot(sorted(pd6))"
   ]
  },
  {
   "cell_type": "code",
   "execution_count": 5,
   "metadata": {},
   "outputs": [],
   "source": [
    "min_pd = min(pd6)\n",
    "max_pd = max(pd6)\n",
    "pd_100 = []\n",
    "for i in range(100):\n",
    "    cur_pd = min_pd + i * (max_pd - min_pd) / 100\n",
    "    idx = np.argmin([abs(cur_pd - pd) for pd in pd6])\n",
    "    pd_100.append(pd6.pop(idx))"
   ]
  },
  {
   "cell_type": "code",
   "execution_count": 6,
   "metadata": {},
   "outputs": [
    {
     "data": {
      "text/plain": [
       "[<matplotlib.lines.Line2D at 0x7f88bdd13c40>]"
      ]
     },
     "execution_count": 6,
     "metadata": {},
     "output_type": "execute_result"
    },
    {
     "data": {
      "image/png": "[encoded data removed]",
      "image/svg+xml": "<?xml version=\"1.0\" encoding=\"utf-8\" standalone=\"no\"?>\n<!DOCTYPE svg PUBLIC \"-//W3C//DTD SVG 1.1//EN\"\n  \"http://www.w3.org/Graphics/SVG/1.1/DTD/svg11.dtd\">\n<svg height=\"248.518125pt\" version=\"1.1\" viewBox=\"0 0 378.465625 248.518125\" width=\"378.465625pt\" xmlns=\"http://www.w3.org/2000/svg\" xmlns:xlink=\"http://www.w3.org/1999/xlink\">\n <metadata>\n  <rdf:RDF xmlns:cc=\"http://creativecommons.org/ns#\" xmlns:dc=\"http://purl.org/dc/elements/1.1/\" xmlns:rdf=\"http://www.w3.org/1999/02/22-rdf-syntax-ns#\">\n   <cc:Work>\n    <dc:type rdf:resource=\"http://purl.org/dc/dcmitype/StillImage\"/>\n    <dc:date>2021-07-15T16:24:47.750723</dc:date>\n    <dc:format>image/svg+xml</dc:format>\n    <dc:creator>\n     <cc:Agent>\n      <dc:title>Matplotlib v3.4.1, https://matplotlib.org/</dc:title>\n     </cc:Agent>\n    </dc:creator>\n   </cc:Work>\n  </rdf:RDF>\n </metadata>\n <defs>\n  <style type=\"text/css\">*{stroke-linecap:butt;stroke-linejoin:round;}</style>\n </defs>\n <g id=\"figure_1\">\n  <g id=\"patch_1\">\n   <path d=\"M 0 248.518125 \nL 378.465625 248.518125 \nL 378.465625 0 \nL 0 0 \nz\n\" style=\"fill:none;\"/>\n  </g>\n  <g id=\"axes_1\">\n   <g id=\"patch_2\">\n    <path d=\"M 36.465625 224.64 \nL 371.265625 224.64 \nL 371.265625 7.2 \nL 36.465625 7.2 \nz\n\" style=\"fill:#ffffff;\"/>\n   </g>\n   <g id=\"matplotlib.axis_1\">\n    <g id=\"xtick_1\">\n     <g id=\"line2d_1\">\n      <defs>\n       <path d=\"M 0 0 \nL 0 3.5 \n\" id=\"m37db5c4020\" style=\"stroke:#000000;stroke-width:0.8;\"/>\n      </defs>\n      <g>\n       <use style=\"stroke:#000000;stroke-width:0.8;\" x=\"51.683807\" xlink:href=\"#m37db5c4020\" y=\"224.64\"/>\n      </g>\n     </g>\n     <g id=\"text_1\">\n      <!-- 0 -->\n      <g transform=\"translate(48.502557 239.238438)scale(0.1 -0.1)\">\n       <defs>\n        <path d=\"M 2034 4250 \nQ 1547 4250 1301 3770 \nQ 1056 3291 1056 2328 \nQ 1056 1369 1301 889 \nQ 1547 409 2034 409 \nQ 2525 409 2770 889 \nQ 3016 1369 3016 2328 \nQ 3016 3291 2770 3770 \nQ 2525 4250 2034 4250 \nz\nM 2034 4750 \nQ 2819 4750 3233 4129 \nQ 3647 3509 3647 2328 \nQ 3647 1150 3233 529 \nQ 2819 -91 2034 -91 \nQ 1250 -91 836 529 \nQ 422 1150 422 2328 \nQ 422 3509 836 4129 \nQ 1250 4750 2034 4750 \nz\n\" id=\"DejaVuSans-30\" transform=\"scale(0.015625)\"/>\n       </defs>\n       <use xlink:href=\"#DejaVuSans-30\"/>\n      </g>\n     </g>\n    </g>\n    <g id=\"xtick_2\">\n     <g id=\"line2d_2\">\n      <g>\n       <use style=\"stroke:#000000;stroke-width:0.8;\" x=\"113.17141\" xlink:href=\"#m37db5c4020\" y=\"224.64\"/>\n      </g>\n     </g>\n     <g id=\"text_2\">\n      <!-- 20 -->\n      <g transform=\"translate(106.80891 239.238438)scale(0.1 -0.1)\">\n       <defs>\n        <path d=\"M 1228 531 \nL 3431 531 \nL 3431 0 \nL 469 0 \nL 469 531 \nQ 828 903 1448 1529 \nQ 2069 2156 2228 2338 \nQ 2531 2678 2651 2914 \nQ 2772 3150 2772 3378 \nQ 2772 3750 2511 3984 \nQ 2250 4219 1831 4219 \nQ 1534 4219 1204 4116 \nQ 875 4013 500 3803 \nL 500 4441 \nQ 881 4594 1212 4672 \nQ 1544 4750 1819 4750 \nQ 2544 4750 2975 4387 \nQ 3406 4025 3406 3419 \nQ 3406 3131 3298 2873 \nQ 3191 2616 2906 2266 \nQ 2828 2175 2409 1742 \nQ 1991 1309 1228 531 \nz\n\" id=\"DejaVuSans-32\" transform=\"scale(0.015625)\"/>\n       </defs>\n       <use xlink:href=\"#DejaVuSans-32\"/>\n       <use x=\"63.623047\" xlink:href=\"#DejaVuSans-30\"/>\n      </g>\n     </g>\n    </g>\n    <g id=\"xtick_3\">\n     <g id=\"line2d_3\">\n      <g>\n       <use style=\"stroke:#000000;stroke-width:0.8;\" x=\"174.659013\" xlink:href=\"#m37db5c4020\" y=\"224.64\"/>\n      </g>\n     </g>\n     <g id=\"text_3\">\n      <!-- 40 -->\n      <g transform=\"translate(168.296513 239.238438)scale(0.1 -0.1)\">\n       <defs>\n        <path d=\"M 2419 4116 \nL 825 1625 \nL 2419 1625 \nL 2419 4116 \nz\nM 2253 4666 \nL 3047 4666 \nL 3047 1625 \nL 3713 1625 \nL 3713 1100 \nL 3047 1100 \nL 3047 0 \nL 2419 0 \nL 2419 1100 \nL 313 1100 \nL 313 1709 \nL 2253 4666 \nz\n\" id=\"DejaVuSans-34\" transform=\"scale(0.015625)\"/>\n       </defs>\n       <use xlink:href=\"#DejaVuSans-34\"/>\n       <use x=\"63.623047\" xlink:href=\"#DejaVuSans-30\"/>\n      </g>\n     </g>\n    </g>\n    <g id=\"xtick_4\">\n     <g id=\"line2d_4\">\n      <g>\n       <use style=\"stroke:#000000;stroke-width:0.8;\" x=\"236.146617\" xlink:href=\"#m37db5c4020\" y=\"224.64\"/>\n      </g>\n     </g>\n     <g id=\"text_4\">\n      <!-- 60 -->\n      <g transform=\"translate(229.784117 239.238438)scale(0.1 -0.1)\">\n       <defs>\n        <path d=\"M 2113 2584 \nQ 1688 2584 1439 2293 \nQ 1191 2003 1191 1497 \nQ 1191 994 1439 701 \nQ 1688 409 2113 409 \nQ 2538 409 2786 701 \nQ 3034 994 3034 1497 \nQ 3034 2003 2786 2293 \nQ 2538 2584 2113 2584 \nz\nM 3366 4563 \nL 3366 3988 \nQ 3128 4100 2886 4159 \nQ 2644 4219 2406 4219 \nQ 1781 4219 1451 3797 \nQ 1122 3375 1075 2522 \nQ 1259 2794 1537 2939 \nQ 1816 3084 2150 3084 \nQ 2853 3084 3261 2657 \nQ 3669 2231 3669 1497 \nQ 3669 778 3244 343 \nQ 2819 -91 2113 -91 \nQ 1303 -91 875 529 \nQ 447 1150 447 2328 \nQ 447 3434 972 4092 \nQ 1497 4750 2381 4750 \nQ 2619 4750 2861 4703 \nQ 3103 4656 3366 4563 \nz\n\" id=\"DejaVuSans-36\" transform=\"scale(0.015625)\"/>\n       </defs>\n       <use xlink:href=\"#DejaVuSans-36\"/>\n       <use x=\"63.623047\" xlink:href=\"#DejaVuSans-30\"/>\n      </g>\n     </g>\n    </g>\n    <g id=\"xtick_5\">\n     <g id=\"line2d_5\">\n      <g>\n       <use style=\"stroke:#000000;stroke-width:0.8;\" x=\"297.63422\" xlink:href=\"#m37db5c4020\" y=\"224.64\"/>\n      </g>\n     </g>\n     <g id=\"text_5\">\n      <!-- 80 -->\n      <g transform=\"translate(291.27172 239.238438)scale(0.1 -0.1)\">\n       <defs>\n        <path d=\"M 2034 2216 \nQ 1584 2216 1326 1975 \nQ 1069 1734 1069 1313 \nQ 1069 891 1326 650 \nQ 1584 409 2034 409 \nQ 2484 409 2743 651 \nQ 3003 894 3003 1313 \nQ 3003 1734 2745 1975 \nQ 2488 2216 2034 2216 \nz\nM 1403 2484 \nQ 997 2584 770 2862 \nQ 544 3141 544 3541 \nQ 544 4100 942 4425 \nQ 1341 4750 2034 4750 \nQ 2731 4750 3128 4425 \nQ 3525 4100 3525 3541 \nQ 3525 3141 3298 2862 \nQ 3072 2584 2669 2484 \nQ 3125 2378 3379 2068 \nQ 3634 1759 3634 1313 \nQ 3634 634 3220 271 \nQ 2806 -91 2034 -91 \nQ 1263 -91 848 271 \nQ 434 634 434 1313 \nQ 434 1759 690 2068 \nQ 947 2378 1403 2484 \nz\nM 1172 3481 \nQ 1172 3119 1398 2916 \nQ 1625 2713 2034 2713 \nQ 2441 2713 2670 2916 \nQ 2900 3119 2900 3481 \nQ 2900 3844 2670 4047 \nQ 2441 4250 2034 4250 \nQ 1625 4250 1398 4047 \nQ 1172 3844 1172 3481 \nz\n\" id=\"DejaVuSans-38\" transform=\"scale(0.015625)\"/>\n       </defs>\n       <use xlink:href=\"#DejaVuSans-38\"/>\n       <use x=\"63.623047\" xlink:href=\"#DejaVuSans-30\"/>\n      </g>\n     </g>\n    </g>\n    <g id=\"xtick_6\">\n     <g id=\"line2d_6\">\n      <g>\n       <use style=\"stroke:#000000;stroke-width:0.8;\" x=\"359.121823\" xlink:href=\"#m37db5c4020\" y=\"224.64\"/>\n      </g>\n     </g>\n     <g id=\"text_6\">\n      <!-- 100 -->\n      <g transform=\"translate(349.578073 239.238438)scale(0.1 -0.1)\">\n       <defs>\n        <path d=\"M 794 531 \nL 1825 531 \nL 1825 4091 \nL 703 3866 \nL 703 4441 \nL 1819 4666 \nL 2450 4666 \nL 2450 531 \nL 3481 531 \nL 3481 0 \nL 794 0 \nL 794 531 \nz\n\" id=\"DejaVuSans-31\" transform=\"scale(0.015625)\"/>\n       </defs>\n       <use xlink:href=\"#DejaVuSans-31\"/>\n       <use x=\"63.623047\" xlink:href=\"#DejaVuSans-30\"/>\n       <use x=\"127.246094\" xlink:href=\"#DejaVuSans-30\"/>\n      </g>\n     </g>\n    </g>\n   </g>\n   <g id=\"matplotlib.axis_2\">\n    <g id=\"ytick_1\">\n     <g id=\"line2d_7\">\n      <defs>\n       <path d=\"M 0 0 \nL -3.5 0 \n\" id=\"m14516aea38\" style=\"stroke:#000000;stroke-width:0.8;\"/>\n      </defs>\n      <g>\n       <use style=\"stroke:#000000;stroke-width:0.8;\" x=\"36.465625\" xlink:href=\"#m14516aea38\" y=\"215.184811\"/>\n      </g>\n     </g>\n     <g id=\"text_7\">\n      <!-- 0.65 -->\n      <g transform=\"translate(7.2 218.984029)scale(0.1 -0.1)\">\n       <defs>\n        <path d=\"M 684 794 \nL 1344 794 \nL 1344 0 \nL 684 0 \nL 684 794 \nz\n\" id=\"DejaVuSans-2e\" transform=\"scale(0.015625)\"/>\n        <path d=\"M 691 4666 \nL 3169 4666 \nL 3169 4134 \nL 1269 4134 \nL 1269 2991 \nQ 1406 3038 1543 3061 \nQ 1681 3084 1819 3084 \nQ 2600 3084 3056 2656 \nQ 3513 2228 3513 1497 \nQ 3513 744 3044 326 \nQ 2575 -91 1722 -91 \nQ 1428 -91 1123 -41 \nQ 819 9 494 109 \nL 494 744 \nQ 775 591 1075 516 \nQ 1375 441 1709 441 \nQ 2250 441 2565 725 \nQ 2881 1009 2881 1497 \nQ 2881 1984 2565 2268 \nQ 2250 2553 1709 2553 \nQ 1456 2553 1204 2497 \nQ 953 2441 691 2322 \nL 691 4666 \nz\n\" id=\"DejaVuSans-35\" transform=\"scale(0.015625)\"/>\n       </defs>\n       <use xlink:href=\"#DejaVuSans-30\"/>\n       <use x=\"63.623047\" xlink:href=\"#DejaVuSans-2e\"/>\n       <use x=\"95.410156\" xlink:href=\"#DejaVuSans-36\"/>\n       <use x=\"159.033203\" xlink:href=\"#DejaVuSans-35\"/>\n      </g>\n     </g>\n    </g>\n    <g id=\"ytick_2\">\n     <g id=\"line2d_8\">\n      <g>\n       <use style=\"stroke:#000000;stroke-width:0.8;\" x=\"36.465625\" xlink:href=\"#m14516aea38\" y=\"183.448\"/>\n      </g>\n     </g>\n     <g id=\"text_8\">\n      <!-- 0.66 -->\n      <g transform=\"translate(7.2 187.247218)scale(0.1 -0.1)\">\n       <use xlink:href=\"#DejaVuSans-30\"/>\n       <use x=\"63.623047\" xlink:href=\"#DejaVuSans-2e\"/>\n       <use x=\"95.410156\" xlink:href=\"#DejaVuSans-36\"/>\n       <use x=\"159.033203\" xlink:href=\"#DejaVuSans-36\"/>\n      </g>\n     </g>\n    </g>\n    <g id=\"ytick_3\">\n     <g id=\"line2d_9\">\n      <g>\n       <use style=\"stroke:#000000;stroke-width:0.8;\" x=\"36.465625\" xlink:href=\"#m14516aea38\" y=\"151.711189\"/>\n      </g>\n     </g>\n     <g id=\"text_9\">\n      <!-- 0.67 -->\n      <g transform=\"translate(7.2 155.510407)scale(0.1 -0.1)\">\n       <defs>\n        <path d=\"M 525 4666 \nL 3525 4666 \nL 3525 4397 \nL 1831 0 \nL 1172 0 \nL 2766 4134 \nL 525 4134 \nL 525 4666 \nz\n\" id=\"DejaVuSans-37\" transform=\"scale(0.015625)\"/>\n       </defs>\n       <use xlink:href=\"#DejaVuSans-30\"/>\n       <use x=\"63.623047\" xlink:href=\"#DejaVuSans-2e\"/>\n       <use x=\"95.410156\" xlink:href=\"#DejaVuSans-36\"/>\n       <use x=\"159.033203\" xlink:href=\"#DejaVuSans-37\"/>\n      </g>\n     </g>\n    </g>\n    <g id=\"ytick_4\">\n     <g id=\"line2d_10\">\n      <g>\n       <use style=\"stroke:#000000;stroke-width:0.8;\" x=\"36.465625\" xlink:href=\"#m14516aea38\" y=\"119.974378\"/>\n      </g>\n     </g>\n     <g id=\"text_10\">\n      <!-- 0.68 -->\n      <g transform=\"translate(7.2 123.773596)scale(0.1 -0.1)\">\n       <use xlink:href=\"#DejaVuSans-30\"/>\n       <use x=\"63.623047\" xlink:href=\"#DejaVuSans-2e\"/>\n       <use x=\"95.410156\" xlink:href=\"#DejaVuSans-36\"/>\n       <use x=\"159.033203\" xlink:href=\"#DejaVuSans-38\"/>\n      </g>\n     </g>\n    </g>\n    <g id=\"ytick_5\">\n     <g id=\"line2d_11\">\n      <g>\n       <use style=\"stroke:#000000;stroke-width:0.8;\" x=\"36.465625\" xlink:href=\"#m14516aea38\" y=\"88.237567\"/>\n      </g>\n     </g>\n     <g id=\"text_11\">\n      <!-- 0.69 -->\n      <g transform=\"translate(7.2 92.036785)scale(0.1 -0.1)\">\n       <defs>\n        <path d=\"M 703 97 \nL 703 672 \nQ 941 559 1184 500 \nQ 1428 441 1663 441 \nQ 2288 441 2617 861 \nQ 2947 1281 2994 2138 \nQ 2813 1869 2534 1725 \nQ 2256 1581 1919 1581 \nQ 1219 1581 811 2004 \nQ 403 2428 403 3163 \nQ 403 3881 828 4315 \nQ 1253 4750 1959 4750 \nQ 2769 4750 3195 4129 \nQ 3622 3509 3622 2328 \nQ 3622 1225 3098 567 \nQ 2575 -91 1691 -91 \nQ 1453 -91 1209 -44 \nQ 966 3 703 97 \nz\nM 1959 2075 \nQ 2384 2075 2632 2365 \nQ 2881 2656 2881 3163 \nQ 2881 3666 2632 3958 \nQ 2384 4250 1959 4250 \nQ 1534 4250 1286 3958 \nQ 1038 3666 1038 3163 \nQ 1038 2656 1286 2365 \nQ 1534 2075 1959 2075 \nz\n\" id=\"DejaVuSans-39\" transform=\"scale(0.015625)\"/>\n       </defs>\n       <use xlink:href=\"#DejaVuSans-30\"/>\n       <use x=\"63.623047\" xlink:href=\"#DejaVuSans-2e\"/>\n       <use x=\"95.410156\" xlink:href=\"#DejaVuSans-36\"/>\n       <use x=\"159.033203\" xlink:href=\"#DejaVuSans-39\"/>\n      </g>\n     </g>\n    </g>\n    <g id=\"ytick_6\">\n     <g id=\"line2d_12\">\n      <g>\n       <use style=\"stroke:#000000;stroke-width:0.8;\" x=\"36.465625\" xlink:href=\"#m14516aea38\" y=\"56.500756\"/>\n      </g>\n     </g>\n     <g id=\"text_12\">\n      <!-- 0.70 -->\n      <g transform=\"translate(7.2 60.299974)scale(0.1 -0.1)\">\n       <use xlink:href=\"#DejaVuSans-30\"/>\n       <use x=\"63.623047\" xlink:href=\"#DejaVuSans-2e\"/>\n       <use x=\"95.410156\" xlink:href=\"#DejaVuSans-37\"/>\n       <use x=\"159.033203\" xlink:href=\"#DejaVuSans-30\"/>\n      </g>\n     </g>\n    </g>\n    <g id=\"ytick_7\">\n     <g id=\"line2d_13\">\n      <g>\n       <use style=\"stroke:#000000;stroke-width:0.8;\" x=\"36.465625\" xlink:href=\"#m14516aea38\" y=\"24.763945\"/>\n      </g>\n     </g>\n     <g id=\"text_13\">\n      <!-- 0.71 -->\n      <g transform=\"translate(7.2 28.563163)scale(0.1 -0.1)\">\n       <use xlink:href=\"#DejaVuSans-30\"/>\n       <use x=\"63.623047\" xlink:href=\"#DejaVuSans-2e\"/>\n       <use x=\"95.410156\" xlink:href=\"#DejaVuSans-37\"/>\n       <use x=\"159.033203\" xlink:href=\"#DejaVuSans-31\"/>\n      </g>\n     </g>\n    </g>\n   </g>\n   <g id=\"line2d_14\">\n    <path clip-path=\"url(#p1e02c612b6)\" d=\"M 51.683807 214.756364 \nL 54.758187 212.258677 \nL 57.832567 211.027288 \nL 60.906947 208.758106 \nL 63.981327 206.282635 \nL 67.055708 204.711663 \nL 70.130088 203.07087 \nL 73.204468 200.85564 \nL 76.278848 199.141853 \nL 79.353228 196.62195 \nL 82.427608 194.533668 \nL 85.501989 192.442212 \nL 88.576369 190.99184 \nL 91.650749 189.065415 \nL 94.725129 187.100907 \nL 97.799509 184.593698 \nL 100.873889 182.794221 \nL 103.94827 181.572354 \nL 107.02265 178.817599 \nL 110.09703 176.67219 \nL 113.17141 175.136129 \nL 116.24579 175.101218 \nL 119.32017 174.044382 \nL 122.394551 162.152599 \nL 125.468931 161.121153 \nL 128.543311 160.016712 \nL 131.617691 156.154342 \nL 134.692071 154.46277 \nL 137.766451 153.907376 \nL 140.840832 152.317362 \nL 143.915212 148.156666 \nL 146.989592 140.958757 \nL 150.063972 138.654665 \nL 153.138352 136.036378 \nL 156.212732 134.706605 \nL 159.287113 134.636784 \nL 162.361493 133.234017 \nL 165.435873 132.640539 \nL 168.510253 131.621787 \nL 171.584633 131.412324 \nL 174.659013 130.745851 \nL 177.733394 128.324333 \nL 180.807774 128.289422 \nL 183.882154 126.496292 \nL 186.956534 126.213835 \nL 190.030914 126.144014 \nL 193.105294 123.995432 \nL 196.179675 117.111717 \nL 199.254055 116.546802 \nL 202.328435 116.473807 \nL 205.402815 115.800987 \nL 208.477195 113.852347 \nL 211.551575 112.116343 \nL 214.625956 109.913809 \nL 217.700336 107.850916 \nL 220.774716 105.81976 \nL 223.849096 104.18214 \nL 226.923476 102.325537 \nL 229.997856 100.538755 \nL 233.072237 98.285441 \nL 236.146617 95.527512 \nL 239.220997 93.950193 \nL 242.295377 92.296705 \nL 245.369757 90.284591 \nL 248.444137 87.872593 \nL 251.518518 85.927127 \nL 254.592898 84.124476 \nL 257.667278 82.388472 \nL 260.741658 80.182764 \nL 263.816038 78.554666 \nL 266.890418 76.631415 \nL 269.964799 74.45427 \nL 273.039179 72.346945 \nL 276.113559 69.836564 \nL 279.187939 68.779728 \nL 282.262319 64.987179 \nL 285.336699 64.511127 \nL 288.41108 62.429192 \nL 291.48546 60.083842 \nL 294.55984 58.325622 \nL 297.63422 56.345245 \nL 300.7086 54.507684 \nL 303.78298 52.670123 \nL 306.857361 50.60723 \nL 309.931741 48.138106 \nL 313.006121 47.287559 \nL 316.080501 45.811798 \nL 319.154881 44.516936 \nL 322.229261 43.926631 \nL 325.303642 43.333153 \nL 328.378022 43.260158 \nL 331.452402 40.594266 \nL 334.526782 40.521271 \nL 337.601162 40.445103 \nL 340.675542 39.223236 \nL 343.749923 36.363749 \nL 346.824303 35.024456 \nL 349.898683 34.469061 \nL 352.973063 27.721815 \nL 356.047443 17.083636 \n\" style=\"fill:none;stroke:#1f77b4;stroke-linecap:square;stroke-width:1.5;\"/>\n   </g>\n   <g id=\"patch_3\">\n    <path d=\"M 36.465625 224.64 \nL 36.465625 7.2 \n\" style=\"fill:none;stroke:#000000;stroke-linecap:square;stroke-linejoin:miter;stroke-width:0.8;\"/>\n   </g>\n   <g id=\"patch_4\">\n    <path d=\"M 371.265625 224.64 \nL 371.265625 7.2 \n\" style=\"fill:none;stroke:#000000;stroke-linecap:square;stroke-linejoin:miter;stroke-width:0.8;\"/>\n   </g>\n   <g id=\"patch_5\">\n    <path d=\"M 36.465625 224.64 \nL 371.265625 224.64 \n\" style=\"fill:none;stroke:#000000;stroke-linecap:square;stroke-linejoin:miter;stroke-width:0.8;\"/>\n   </g>\n   <g id=\"patch_6\">\n    <path d=\"M 36.465625 7.2 \nL 371.265625 7.2 \n\" style=\"fill:none;stroke:#000000;stroke-linecap:square;stroke-linejoin:miter;stroke-width:0.8;\"/>\n   </g>\n  </g>\n </g>\n <defs>\n  <clipPath id=\"p1e02c612b6\">\n   <rect height=\"217.44\" width=\"334.8\" x=\"36.465625\" y=\"7.2\"/>\n  </clipPath>\n </defs>\n</svg>\n",
      "text/plain": [
       "<Figure size 432x288 with 1 Axes>"
      ]
     },
     "metadata": {
      "needs_background": "light"
     },
     "output_type": "display_data"
    }
   ],
   "source": [
    "plt.plot(sorted(pd_100))"
   ]
  },
  {
   "cell_type": "code",
   "execution_count": 6,
   "metadata": {},
   "outputs": [],
   "source": [
    "for pd in pd_100:\n",
    "    with open('data/sphere_packing/sphere_packing_{:.6f}.xyz'.format(pd), 'r') as fr, \\\n",
    "         open('data/sphere_packing_100_0.65_0.71/sphere_packing_{:.6f}.xyz'.format(pd), 'w') as fw:\n",
    "        fw.write(fr.read())"
   ]
  },
  {
   "cell_type": "code",
   "execution_count": 5,
   "metadata": {},
   "outputs": [
    {
     "data": {
      "text/plain": [
       "(array([2., 3., 4., 7., 6., 5., 3., 3., 5., 6., 2., 1., 4., 1., 0., 1., 3.,\n",
       "        2., 1., 1., 3., 0., 0., 0., 0., 0., 1., 2., 0., 1., 2., 1., 0., 1.,\n",
       "        0., 0., 0., 1., 1., 1., 2., 2., 3., 2., 3., 1., 0., 0., 0., 5., 5.,\n",
       "        3., 3., 5., 5., 5., 9., 2., 6., 3., 5., 9., 8., 8., 6., 6., 9., 4.,\n",
       "        7., 7., 7., 7., 6., 4., 0., 3., 9., 8., 3., 5., 7., 4., 5., 5., 5.,\n",
       "        1., 4., 0., 4., 0., 3., 1., 0., 0., 1., 0., 0., 0., 0., 1.]),\n",
       " array([0.65013496, 0.65075782, 0.65138067, 0.65200353, 0.65262638,\n",
       "        0.65324924, 0.65387209, 0.65449495, 0.6551178 , 0.65574066,\n",
       "        0.65636351, 0.65698637, 0.65760922, 0.65823208, 0.65885493,\n",
       "        0.65947779, 0.66010064, 0.6607235 , 0.66134635, 0.66196921,\n",
       "        0.66259206, 0.66321492, 0.66383777, 0.66446063, 0.66508348,\n",
       "        0.66570634, 0.66632919, 0.66695205, 0.6675749 , 0.66819776,\n",
       "        0.66882062, 0.66944347, 0.67006633, 0.67068918, 0.67131204,\n",
       "        0.67193489, 0.67255775, 0.6731806 , 0.67380346, 0.67442631,\n",
       "        0.67504917, 0.67567202, 0.67629488, 0.67691773, 0.67754059,\n",
       "        0.67816344, 0.6787863 , 0.67940915, 0.68003201, 0.68065486,\n",
       "        0.68127772, 0.68190057, 0.68252343, 0.68314628, 0.68376914,\n",
       "        0.68439199, 0.68501485, 0.6856377 , 0.68626056, 0.68688341,\n",
       "        0.68750627, 0.68812912, 0.68875198, 0.68937484, 0.68999769,\n",
       "        0.69062055, 0.6912434 , 0.69186626, 0.69248911, 0.69311197,\n",
       "        0.69373482, 0.69435768, 0.69498053, 0.69560339, 0.69622624,\n",
       "        0.6968491 , 0.69747195, 0.69809481, 0.69871766, 0.69934052,\n",
       "        0.69996337, 0.70058623, 0.70120908, 0.70183194, 0.70245479,\n",
       "        0.70307765, 0.7037005 , 0.70432336, 0.70494621, 0.70556907,\n",
       "        0.70619192, 0.70681478, 0.70743763, 0.70806049, 0.70868334,\n",
       "        0.7093062 , 0.70992906, 0.71055191, 0.71117477, 0.71179762,\n",
       "        0.71242048]),\n",
       " <BarContainer object of 100 artists>)"
      ]
     },
     "execution_count": 5,
     "metadata": {},
     "output_type": "execute_result"
    },
    {
     "data": {
      "image/png": "[encoded data removed]",
      "text/plain": [
       "<Figure size 432x288 with 1 Axes>"
      ]
     },
     "metadata": {
      "needs_background": "light"
     },
     "output_type": "display_data"
    }
   ],
   "source": [
    "plt.hist(pds, bins=100)"
   ]
  },
  {
   "cell_type": "code",
   "execution_count": 7,
   "metadata": {},
   "outputs": [
    {
     "data": {
      "text/plain": [
       "0.6501349607796599"
      ]
     },
     "execution_count": 7,
     "metadata": {},
     "output_type": "execute_result"
    }
   ],
   "source": [
    "min(pds)"
   ]
  },
  {
   "cell_type": "code",
   "execution_count": 8,
   "metadata": {},
   "outputs": [],
   "source": [
    "indexes = []\n",
    "for i in np.arange(0.65, 0.72, 0.01):\n",
    "    index = np.argmin(abs(np.array(pds) - i))\n",
    "    indexes.append(index)"
   ]
  },
  {
   "cell_type": "code",
   "execution_count": 9,
   "metadata": {},
   "outputs": [
    {
     "data": {
      "text/plain": [
       "[0.6501349607796599,\n",
       " 0.6602057752609332,\n",
       " 0.6698089986526056,\n",
       " 0.6809020524615627,\n",
       " 0.6901146575553395,\n",
       " 0.7000491871196222,\n",
       " 0.7090680439715346]"
      ]
     },
     "execution_count": 9,
     "metadata": {},
     "output_type": "execute_result"
    }
   ],
   "source": [
    "[pds[index] for index in indexes]"
   ]
  },
  {
   "cell_type": "code",
   "execution_count": 10,
   "metadata": {},
   "outputs": [
    {
     "data": {
      "text/plain": [
       "300"
      ]
     },
     "execution_count": 10,
     "metadata": {},
     "output_type": "execute_result"
    }
   ],
   "source": [
    "len(pds)"
   ]
  },
  {
   "cell_type": "code",
   "execution_count": 14,
   "metadata": {},
   "outputs": [],
   "source": [
    "pd6 = []\n",
    "for root, dirs, files in os.walk('data/CP_ALL'):\n",
    "    for name in files:\n",
    "        # filename = os.path.join(root, name)\n",
    "        pd6.append(float(name[:-4].split('_')[-1]))"
   ]
  },
  {
   "cell_type": "code",
   "execution_count": 15,
   "metadata": {},
   "outputs": [
    {
     "data": {
      "text/plain": [
       "[<matplotlib.lines.Line2D at 0x7f88bdb18d00>]"
      ]
     },
     "execution_count": 15,
     "metadata": {},
     "output_type": "execute_result"
    },
    {
     "data": {
      "image/png": "[encoded data removed]",
      "image/svg+xml": "<?xml version=\"1.0\" encoding=\"utf-8\" standalone=\"no\"?>\n<!DOCTYPE svg PUBLIC \"-//W3C//DTD SVG 1.1//EN\"\n  \"http://www.w3.org/Graphics/SVG/1.1/DTD/svg11.dtd\">\n<svg height=\"250.130672pt\" version=\"1.1\" viewBox=\"0 0 378.465625 250.130672\" width=\"378.465625pt\" xmlns=\"http://www.w3.org/2000/svg\" xmlns:xlink=\"http://www.w3.org/1999/xlink\">\n <metadata>\n  <rdf:RDF xmlns:cc=\"http://creativecommons.org/ns#\" xmlns:dc=\"http://purl.org/dc/elements/1.1/\" xmlns:rdf=\"http://www.w3.org/1999/02/22-rdf-syntax-ns#\">\n   <cc:Work>\n    <dc:type rdf:resource=\"http://purl.org/dc/dcmitype/StillImage\"/>\n    <dc:date>2021-07-15T17:06:45.423168</dc:date>\n    <dc:format>image/svg+xml</dc:format>\n    <dc:creator>\n     <cc:Agent>\n      <dc:title>Matplotlib v3.4.1, https://matplotlib.org/</dc:title>\n     </cc:Agent>\n    </dc:creator>\n   </cc:Work>\n  </rdf:RDF>\n </metadata>\n <defs>\n  <style type=\"text/css\">*{stroke-linecap:butt;stroke-linejoin:round;}</style>\n </defs>\n <g id=\"figure_1\">\n  <g id=\"patch_1\">\n   <path d=\"M 0 250.130672 \nL 378.465625 250.130672 \nL 378.465625 0 \nL 0 0 \nz\n\" style=\"fill:none;\"/>\n  </g>\n  <g id=\"axes_1\">\n   <g id=\"patch_2\">\n    <path d=\"M 36.465625 226.252547 \nL 371.265625 226.252547 \nL 371.265625 8.812547 \nL 36.465625 8.812547 \nz\n\" style=\"fill:#ffffff;\"/>\n   </g>\n   <g id=\"matplotlib.axis_1\">\n    <g id=\"xtick_1\">\n     <g id=\"line2d_1\">\n      <defs>\n       <path d=\"M 0 0 \nL 0 3.5 \n\" id=\"m065be796ff\" style=\"stroke:#000000;stroke-width:0.8;\"/>\n      </defs>\n      <g>\n       <use style=\"stroke:#000000;stroke-width:0.8;\" x=\"51.683807\" xlink:href=\"#m065be796ff\" y=\"226.252547\"/>\n      </g>\n     </g>\n     <g id=\"text_1\">\n      <!-- 0 -->\n      <g transform=\"translate(48.502557 240.850984)scale(0.1 -0.1)\">\n       <defs>\n        <path d=\"M 2034 4250 \nQ 1547 4250 1301 3770 \nQ 1056 3291 1056 2328 \nQ 1056 1369 1301 889 \nQ 1547 409 2034 409 \nQ 2525 409 2770 889 \nQ 3016 1369 3016 2328 \nQ 3016 3291 2770 3770 \nQ 2525 4250 2034 4250 \nz\nM 2034 4750 \nQ 2819 4750 3233 4129 \nQ 3647 3509 3647 2328 \nQ 3647 1150 3233 529 \nQ 2819 -91 2034 -91 \nQ 1250 -91 836 529 \nQ 422 1150 422 2328 \nQ 422 3509 836 4129 \nQ 1250 4750 2034 4750 \nz\n\" id=\"DejaVuSans-30\" transform=\"scale(0.015625)\"/>\n       </defs>\n       <use xlink:href=\"#DejaVuSans-30\"/>\n      </g>\n     </g>\n    </g>\n    <g id=\"xtick_2\">\n     <g id=\"line2d_2\">\n      <g>\n       <use style=\"stroke:#000000;stroke-width:0.8;\" x=\"89.920445\" xlink:href=\"#m065be796ff\" y=\"226.252547\"/>\n      </g>\n     </g>\n     <g id=\"text_2\">\n      <!-- 25 -->\n      <g transform=\"translate(83.557945 240.850984)scale(0.1 -0.1)\">\n       <defs>\n        <path d=\"M 1228 531 \nL 3431 531 \nL 3431 0 \nL 469 0 \nL 469 531 \nQ 828 903 1448 1529 \nQ 2069 2156 2228 2338 \nQ 2531 2678 2651 2914 \nQ 2772 3150 2772 3378 \nQ 2772 3750 2511 3984 \nQ 2250 4219 1831 4219 \nQ 1534 4219 1204 4116 \nQ 875 4013 500 3803 \nL 500 4441 \nQ 881 4594 1212 4672 \nQ 1544 4750 1819 4750 \nQ 2544 4750 2975 4387 \nQ 3406 4025 3406 3419 \nQ 3406 3131 3298 2873 \nQ 3191 2616 2906 2266 \nQ 2828 2175 2409 1742 \nQ 1991 1309 1228 531 \nz\n\" id=\"DejaVuSans-32\" transform=\"scale(0.015625)\"/>\n        <path d=\"M 691 4666 \nL 3169 4666 \nL 3169 4134 \nL 1269 4134 \nL 1269 2991 \nQ 1406 3038 1543 3061 \nQ 1681 3084 1819 3084 \nQ 2600 3084 3056 2656 \nQ 3513 2228 3513 1497 \nQ 3513 744 3044 326 \nQ 2575 -91 1722 -91 \nQ 1428 -91 1123 -41 \nQ 819 9 494 109 \nL 494 744 \nQ 775 591 1075 516 \nQ 1375 441 1709 441 \nQ 2250 441 2565 725 \nQ 2881 1009 2881 1497 \nQ 2881 1984 2565 2268 \nQ 2250 2553 1709 2553 \nQ 1456 2553 1204 2497 \nQ 953 2441 691 2322 \nL 691 4666 \nz\n\" id=\"DejaVuSans-35\" transform=\"scale(0.015625)\"/>\n       </defs>\n       <use xlink:href=\"#DejaVuSans-32\"/>\n       <use x=\"63.623047\" xlink:href=\"#DejaVuSans-35\"/>\n      </g>\n     </g>\n    </g>\n    <g id=\"xtick_3\">\n     <g id=\"line2d_3\">\n      <g>\n       <use style=\"stroke:#000000;stroke-width:0.8;\" x=\"128.157082\" xlink:href=\"#m065be796ff\" y=\"226.252547\"/>\n      </g>\n     </g>\n     <g id=\"text_3\">\n      <!-- 50 -->\n      <g transform=\"translate(121.794582 240.850984)scale(0.1 -0.1)\">\n       <use xlink:href=\"#DejaVuSans-35\"/>\n       <use x=\"63.623047\" xlink:href=\"#DejaVuSans-30\"/>\n      </g>\n     </g>\n    </g>\n    <g id=\"xtick_4\">\n     <g id=\"line2d_4\">\n      <g>\n       <use style=\"stroke:#000000;stroke-width:0.8;\" x=\"166.39372\" xlink:href=\"#m065be796ff\" y=\"226.252547\"/>\n      </g>\n     </g>\n     <g id=\"text_4\">\n      <!-- 75 -->\n      <g transform=\"translate(160.03122 240.850984)scale(0.1 -0.1)\">\n       <defs>\n        <path d=\"M 525 4666 \nL 3525 4666 \nL 3525 4397 \nL 1831 0 \nL 1172 0 \nL 2766 4134 \nL 525 4134 \nL 525 4666 \nz\n\" id=\"DejaVuSans-37\" transform=\"scale(0.015625)\"/>\n       </defs>\n       <use xlink:href=\"#DejaVuSans-37\"/>\n       <use x=\"63.623047\" xlink:href=\"#DejaVuSans-35\"/>\n      </g>\n     </g>\n    </g>\n    <g id=\"xtick_5\">\n     <g id=\"line2d_5\">\n      <g>\n       <use style=\"stroke:#000000;stroke-width:0.8;\" x=\"204.630358\" xlink:href=\"#m065be796ff\" y=\"226.252547\"/>\n      </g>\n     </g>\n     <g id=\"text_5\">\n      <!-- 100 -->\n      <g transform=\"translate(195.086608 240.850984)scale(0.1 -0.1)\">\n       <defs>\n        <path d=\"M 794 531 \nL 1825 531 \nL 1825 4091 \nL 703 3866 \nL 703 4441 \nL 1819 4666 \nL 2450 4666 \nL 2450 531 \nL 3481 531 \nL 3481 0 \nL 794 0 \nL 794 531 \nz\n\" id=\"DejaVuSans-31\" transform=\"scale(0.015625)\"/>\n       </defs>\n       <use xlink:href=\"#DejaVuSans-31\"/>\n       <use x=\"63.623047\" xlink:href=\"#DejaVuSans-30\"/>\n       <use x=\"127.246094\" xlink:href=\"#DejaVuSans-30\"/>\n      </g>\n     </g>\n    </g>\n    <g id=\"xtick_6\">\n     <g id=\"line2d_6\">\n      <g>\n       <use style=\"stroke:#000000;stroke-width:0.8;\" x=\"242.866995\" xlink:href=\"#m065be796ff\" y=\"226.252547\"/>\n      </g>\n     </g>\n     <g id=\"text_6\">\n      <!-- 125 -->\n      <g transform=\"translate(233.323245 240.850984)scale(0.1 -0.1)\">\n       <use xlink:href=\"#DejaVuSans-31\"/>\n       <use x=\"63.623047\" xlink:href=\"#DejaVuSans-32\"/>\n       <use x=\"127.246094\" xlink:href=\"#DejaVuSans-35\"/>\n      </g>\n     </g>\n    </g>\n    <g id=\"xtick_7\">\n     <g id=\"line2d_7\">\n      <g>\n       <use style=\"stroke:#000000;stroke-width:0.8;\" x=\"281.103633\" xlink:href=\"#m065be796ff\" y=\"226.252547\"/>\n      </g>\n     </g>\n     <g id=\"text_7\">\n      <!-- 150 -->\n      <g transform=\"translate(271.559883 240.850984)scale(0.1 -0.1)\">\n       <use xlink:href=\"#DejaVuSans-31\"/>\n       <use x=\"63.623047\" xlink:href=\"#DejaVuSans-35\"/>\n       <use x=\"127.246094\" xlink:href=\"#DejaVuSans-30\"/>\n      </g>\n     </g>\n    </g>\n    <g id=\"xtick_8\">\n     <g id=\"line2d_8\">\n      <g>\n       <use style=\"stroke:#000000;stroke-width:0.8;\" x=\"319.340271\" xlink:href=\"#m065be796ff\" y=\"226.252547\"/>\n      </g>\n     </g>\n     <g id=\"text_8\">\n      <!-- 175 -->\n      <g transform=\"translate(309.796521 240.850984)scale(0.1 -0.1)\">\n       <use xlink:href=\"#DejaVuSans-31\"/>\n       <use x=\"63.623047\" xlink:href=\"#DejaVuSans-37\"/>\n       <use x=\"127.246094\" xlink:href=\"#DejaVuSans-35\"/>\n      </g>\n     </g>\n    </g>\n    <g id=\"xtick_9\">\n     <g id=\"line2d_9\">\n      <g>\n       <use style=\"stroke:#000000;stroke-width:0.8;\" x=\"357.576909\" xlink:href=\"#m065be796ff\" y=\"226.252547\"/>\n      </g>\n     </g>\n     <g id=\"text_9\">\n      <!-- 200 -->\n      <g transform=\"translate(348.033159 240.850984)scale(0.1 -0.1)\">\n       <use xlink:href=\"#DejaVuSans-32\"/>\n       <use x=\"63.623047\" xlink:href=\"#DejaVuSans-30\"/>\n       <use x=\"127.246094\" xlink:href=\"#DejaVuSans-30\"/>\n      </g>\n     </g>\n    </g>\n   </g>\n   <g id=\"matplotlib.axis_2\">\n    <g id=\"ytick_1\">\n     <g id=\"line2d_10\">\n      <defs>\n       <path d=\"M 0 0 \nL -3.5 0 \n\" id=\"m74aeee690e\" style=\"stroke:#000000;stroke-width:0.8;\"/>\n      </defs>\n      <g>\n       <use style=\"stroke:#000000;stroke-width:0.8;\" x=\"36.465625\" xlink:href=\"#m74aeee690e\" y=\"200.206799\"/>\n      </g>\n     </g>\n     <g id=\"text_10\">\n      <!-- 0.84 -->\n      <g transform=\"translate(7.2 204.006018)scale(0.1 -0.1)\">\n       <defs>\n        <path d=\"M 684 794 \nL 1344 794 \nL 1344 0 \nL 684 0 \nL 684 794 \nz\n\" id=\"DejaVuSans-2e\" transform=\"scale(0.015625)\"/>\n        <path d=\"M 2034 2216 \nQ 1584 2216 1326 1975 \nQ 1069 1734 1069 1313 \nQ 1069 891 1326 650 \nQ 1584 409 2034 409 \nQ 2484 409 2743 651 \nQ 3003 894 3003 1313 \nQ 3003 1734 2745 1975 \nQ 2488 2216 2034 2216 \nz\nM 1403 2484 \nQ 997 2584 770 2862 \nQ 544 3141 544 3541 \nQ 544 4100 942 4425 \nQ 1341 4750 2034 4750 \nQ 2731 4750 3128 4425 \nQ 3525 4100 3525 3541 \nQ 3525 3141 3298 2862 \nQ 3072 2584 2669 2484 \nQ 3125 2378 3379 2068 \nQ 3634 1759 3634 1313 \nQ 3634 634 3220 271 \nQ 2806 -91 2034 -91 \nQ 1263 -91 848 271 \nQ 434 634 434 1313 \nQ 434 1759 690 2068 \nQ 947 2378 1403 2484 \nz\nM 1172 3481 \nQ 1172 3119 1398 2916 \nQ 1625 2713 2034 2713 \nQ 2441 2713 2670 2916 \nQ 2900 3119 2900 3481 \nQ 2900 3844 2670 4047 \nQ 2441 4250 2034 4250 \nQ 1625 4250 1398 4047 \nQ 1172 3844 1172 3481 \nz\n\" id=\"DejaVuSans-38\" transform=\"scale(0.015625)\"/>\n        <path d=\"M 2419 4116 \nL 825 1625 \nL 2419 1625 \nL 2419 4116 \nz\nM 2253 4666 \nL 3047 4666 \nL 3047 1625 \nL 3713 1625 \nL 3713 1100 \nL 3047 1100 \nL 3047 0 \nL 2419 0 \nL 2419 1100 \nL 313 1100 \nL 313 1709 \nL 2253 4666 \nz\n\" id=\"DejaVuSans-34\" transform=\"scale(0.015625)\"/>\n       </defs>\n       <use xlink:href=\"#DejaVuSans-30\"/>\n       <use x=\"63.623047\" xlink:href=\"#DejaVuSans-2e\"/>\n       <use x=\"95.410156\" xlink:href=\"#DejaVuSans-38\"/>\n       <use x=\"159.033203\" xlink:href=\"#DejaVuSans-34\"/>\n      </g>\n     </g>\n    </g>\n    <g id=\"ytick_2\">\n     <g id=\"line2d_11\">\n      <g>\n       <use style=\"stroke:#000000;stroke-width:0.8;\" x=\"36.465625\" xlink:href=\"#m74aeee690e\" y=\"162.365283\"/>\n      </g>\n     </g>\n     <g id=\"text_11\">\n      <!-- 0.85 -->\n      <g transform=\"translate(7.2 166.164502)scale(0.1 -0.1)\">\n       <use xlink:href=\"#DejaVuSans-30\"/>\n       <use x=\"63.623047\" xlink:href=\"#DejaVuSans-2e\"/>\n       <use x=\"95.410156\" xlink:href=\"#DejaVuSans-38\"/>\n       <use x=\"159.033203\" xlink:href=\"#DejaVuSans-35\"/>\n      </g>\n     </g>\n    </g>\n    <g id=\"ytick_3\">\n     <g id=\"line2d_12\">\n      <g>\n       <use style=\"stroke:#000000;stroke-width:0.8;\" x=\"36.465625\" xlink:href=\"#m74aeee690e\" y=\"124.523767\"/>\n      </g>\n     </g>\n     <g id=\"text_12\">\n      <!-- 0.86 -->\n      <g transform=\"translate(7.2 128.322986)scale(0.1 -0.1)\">\n       <defs>\n        <path d=\"M 2113 2584 \nQ 1688 2584 1439 2293 \nQ 1191 2003 1191 1497 \nQ 1191 994 1439 701 \nQ 1688 409 2113 409 \nQ 2538 409 2786 701 \nQ 3034 994 3034 1497 \nQ 3034 2003 2786 2293 \nQ 2538 2584 2113 2584 \nz\nM 3366 4563 \nL 3366 3988 \nQ 3128 4100 2886 4159 \nQ 2644 4219 2406 4219 \nQ 1781 4219 1451 3797 \nQ 1122 3375 1075 2522 \nQ 1259 2794 1537 2939 \nQ 1816 3084 2150 3084 \nQ 2853 3084 3261 2657 \nQ 3669 2231 3669 1497 \nQ 3669 778 3244 343 \nQ 2819 -91 2113 -91 \nQ 1303 -91 875 529 \nQ 447 1150 447 2328 \nQ 447 3434 972 4092 \nQ 1497 4750 2381 4750 \nQ 2619 4750 2861 4703 \nQ 3103 4656 3366 4563 \nz\n\" id=\"DejaVuSans-36\" transform=\"scale(0.015625)\"/>\n       </defs>\n       <use xlink:href=\"#DejaVuSans-30\"/>\n       <use x=\"63.623047\" xlink:href=\"#DejaVuSans-2e\"/>\n       <use x=\"95.410156\" xlink:href=\"#DejaVuSans-38\"/>\n       <use x=\"159.033203\" xlink:href=\"#DejaVuSans-36\"/>\n      </g>\n     </g>\n    </g>\n    <g id=\"ytick_4\">\n     <g id=\"line2d_13\">\n      <g>\n       <use style=\"stroke:#000000;stroke-width:0.8;\" x=\"36.465625\" xlink:href=\"#m74aeee690e\" y=\"86.682251\"/>\n      </g>\n     </g>\n     <g id=\"text_13\">\n      <!-- 0.87 -->\n      <g transform=\"translate(7.2 90.48147)scale(0.1 -0.1)\">\n       <use xlink:href=\"#DejaVuSans-30\"/>\n       <use x=\"63.623047\" xlink:href=\"#DejaVuSans-2e\"/>\n       <use x=\"95.410156\" xlink:href=\"#DejaVuSans-38\"/>\n       <use x=\"159.033203\" xlink:href=\"#DejaVuSans-37\"/>\n      </g>\n     </g>\n    </g>\n    <g id=\"ytick_5\">\n     <g id=\"line2d_14\">\n      <g>\n       <use style=\"stroke:#000000;stroke-width:0.8;\" x=\"36.465625\" xlink:href=\"#m74aeee690e\" y=\"48.840735\"/>\n      </g>\n     </g>\n     <g id=\"text_14\">\n      <!-- 0.88 -->\n      <g transform=\"translate(7.2 52.639954)scale(0.1 -0.1)\">\n       <use xlink:href=\"#DejaVuSans-30\"/>\n       <use x=\"63.623047\" xlink:href=\"#DejaVuSans-2e\"/>\n       <use x=\"95.410156\" xlink:href=\"#DejaVuSans-38\"/>\n       <use x=\"159.033203\" xlink:href=\"#DejaVuSans-38\"/>\n      </g>\n     </g>\n    </g>\n    <g id=\"ytick_6\">\n     <g id=\"line2d_15\">\n      <g>\n       <use style=\"stroke:#000000;stroke-width:0.8;\" x=\"36.465625\" xlink:href=\"#m74aeee690e\" y=\"10.999219\"/>\n      </g>\n     </g>\n     <g id=\"text_15\">\n      <!-- 0.89 -->\n      <g transform=\"translate(7.2 14.798437)scale(0.1 -0.1)\">\n       <defs>\n        <path d=\"M 703 97 \nL 703 672 \nQ 941 559 1184 500 \nQ 1428 441 1663 441 \nQ 2288 441 2617 861 \nQ 2947 1281 2994 2138 \nQ 2813 1869 2534 1725 \nQ 2256 1581 1919 1581 \nQ 1219 1581 811 2004 \nQ 403 2428 403 3163 \nQ 403 3881 828 4315 \nQ 1253 4750 1959 4750 \nQ 2769 4750 3195 4129 \nQ 3622 3509 3622 2328 \nQ 3622 1225 3098 567 \nQ 2575 -91 1691 -91 \nQ 1453 -91 1209 -44 \nQ 966 3 703 97 \nz\nM 1959 2075 \nQ 2384 2075 2632 2365 \nQ 2881 2656 2881 3163 \nQ 2881 3666 2632 3958 \nQ 2384 4250 1959 4250 \nQ 1534 4250 1286 3958 \nQ 1038 3666 1038 3163 \nQ 1038 2656 1286 2365 \nQ 1534 2075 1959 2075 \nz\n\" id=\"DejaVuSans-39\" transform=\"scale(0.015625)\"/>\n       </defs>\n       <use xlink:href=\"#DejaVuSans-30\"/>\n       <use x=\"63.623047\" xlink:href=\"#DejaVuSans-2e\"/>\n       <use x=\"95.410156\" xlink:href=\"#DejaVuSans-38\"/>\n       <use x=\"159.033203\" xlink:href=\"#DejaVuSans-39\"/>\n      </g>\n     </g>\n    </g>\n   </g>\n   <g id=\"line2d_16\">\n    <path clip-path=\"url(#p0fd7415474)\" d=\"M 51.683807 216.36891 \nL 53.213272 184.078745 \nL 54.742738 182.375877 \nL 56.272203 180.082681 \nL 57.801669 179.92753 \nL 59.331134 178.833911 \nL 60.8606 177.078064 \nL 62.390065 173.520962 \nL 63.919531 173.021454 \nL 65.448996 169.574092 \nL 66.978462 169.377316 \nL 68.507927 167.48524 \nL 70.037393 164.760651 \nL 71.566858 163.595132 \nL 74.625789 162.013357 \nL 76.155255 160.416445 \nL 77.68472 160.344546 \nL 79.214186 160.049382 \nL 80.743651 158.516801 \nL 82.273117 156.749602 \nL 83.802583 156.654998 \nL 85.332048 154.66075 \nL 86.861514 154.297472 \nL 88.390979 154.252062 \nL 89.920445 153.249262 \nL 91.44991 151.40638 \nL 92.979376 150.501968 \nL 94.508841 148.965602 \nL 96.038307 146.831341 \nL 97.567772 146.063158 \nL 99.097238 145.067926 \nL 100.626703 144.859798 \nL 102.156169 144.322448 \nL 103.685634 143.009347 \nL 105.2151 142.581738 \nL 106.744565 141.824908 \nL 108.274031 139.448461 \nL 109.803496 139.017067 \nL 111.332962 137.526112 \nL 112.862427 137.397451 \nL 114.391893 136.557369 \nL 115.921358 136.190306 \nL 117.450824 133.821427 \nL 118.980289 133.760881 \nL 120.509755 133.155417 \nL 122.03922 133.110007 \nL 123.568686 132.224515 \nL 125.098151 131.486606 \nL 126.627617 131.138464 \nL 128.157082 130.574625 \nL 129.686548 130.555704 \nL 134.274944 130.120527 \nL 135.80441 129.541552 \nL 137.333875 129.212331 \nL 138.863341 128.739312 \nL 140.392806 127.036443 \nL 141.922272 126.74128 \nL 143.451737 121.768904 \nL 144.981203 120.27038 \nL 146.510668 119.524903 \nL 148.040134 119.494629 \nL 152.62853 118.578865 \nL 154.157996 118.480477 \nL 155.687461 118.102062 \nL 157.216927 116.974384 \nL 158.746392 115.154207 \nL 160.275858 114.510902 \nL 161.805323 112.921558 \nL 163.334789 111.922542 \nL 164.864255 110.719182 \nL 166.39372 110.439155 \nL 167.923186 109.928294 \nL 169.452651 109.243363 \nL 170.982117 106.957735 \nL 172.511582 105.372176 \nL 175.570513 103.381712 \nL 177.099979 102.420537 \nL 178.629444 101.989144 \nL 180.15891 101.921029 \nL 181.688375 99.559719 \nL 183.217841 99.022369 \nL 184.747306 98.299596 \nL 186.276772 97.769815 \nL 187.806237 96.029105 \nL 189.335703 95.083067 \nL 190.865168 94.458682 \nL 193.924099 94.053778 \nL 195.453565 93.293164 \nL 196.98303 91.560022 \nL 198.512496 91.507044 \nL 200.041961 89.770119 \nL 201.571427 89.07005 \nL 203.100892 88.922469 \nL 204.630358 88.472155 \nL 206.159823 88.445665 \nL 207.689289 87.66613 \nL 209.218754 87.2196 \nL 210.74822 87.053098 \nL 212.277685 86.66333 \nL 213.807151 86.515748 \nL 215.336616 84.843153 \nL 218.395547 83.303003 \nL 222.983944 82.841337 \nL 224.513409 81.191447 \nL 226.042875 80.722212 \nL 229.101806 80.408127 \nL 230.631271 79.950245 \nL 232.160737 79.791311 \nL 233.690202 79.07989 \nL 235.219668 78.243593 \nL 236.749133 77.573798 \nL 238.278599 77.036448 \nL 239.808064 76.646681 \nL 241.33753 75.912555 \nL 242.866995 75.606039 \nL 244.396461 75.575766 \nL 245.925927 75.367638 \nL 247.455392 74.357269 \nL 248.984858 74.270234 \nL 250.514323 73.865329 \nL 252.043789 73.717747 \nL 253.573254 73.195534 \nL 255.10272 71.560781 \nL 256.632185 69.702763 \nL 258.161651 68.953501 \nL 259.691116 68.018815 \nL 261.220582 67.916643 \nL 262.750047 67.379293 \nL 264.279513 66.6376 \nL 265.808978 65.665073 \nL 267.338444 65.521275 \nL 270.397375 64.022751 \nL 271.92684 63.928147 \nL 273.456306 62.773981 \nL 274.985771 62.346372 \nL 276.515237 61.112738 \nL 278.044702 60.738107 \nL 279.574168 60.688913 \nL 281.103633 59.296346 \nL 282.633099 59.228231 \nL 284.162564 58.861168 \nL 285.69203 57.566988 \nL 287.221495 56.06468 \nL 288.750961 55.973861 \nL 290.280426 55.519762 \nL 293.339357 55.148915 \nL 294.868823 54.566156 \nL 297.927754 54.513178 \nL 304.045616 53.241703 \nL 305.575081 52.647591 \nL 307.104547 51.784805 \nL 308.634012 51.451799 \nL 310.163478 51.387469 \nL 313.222409 50.880392 \nL 314.751874 49.77542 \nL 316.28134 49.771636 \nL 317.810805 49.415926 \nL 319.340271 48.579628 \nL 322.399202 47.906049 \nL 323.928667 47.406541 \nL 325.458133 46.195613 \nL 326.987599 44.239206 \nL 328.517064 43.811597 \nL 330.04653 43.781324 \nL 333.105461 39.160875 \nL 334.634926 35.316177 \nL 336.164392 34.347434 \nL 337.693857 34.014429 \nL 339.223323 32.75809 \nL 340.752788 32.546178 \nL 342.282254 30.691944 \nL 343.811719 30.109184 \nL 345.341185 29.076111 \nL 346.87065 26.196372 \nL 348.400116 24.009132 \nL 349.929581 23.872903 \nL 351.459047 23.86155 \nL 352.988512 20.535281 \nL 356.047443 18.696183 \nL 356.047443 18.696183 \n\" style=\"fill:none;stroke:#1f77b4;stroke-linecap:square;stroke-width:1.5;\"/>\n   </g>\n   <g id=\"patch_3\">\n    <path d=\"M 36.465625 226.252547 \nL 36.465625 8.812547 \n\" style=\"fill:none;stroke:#000000;stroke-linecap:square;stroke-linejoin:miter;stroke-width:0.8;\"/>\n   </g>\n   <g id=\"patch_4\">\n    <path d=\"M 371.265625 226.252547 \nL 371.265625 8.812547 \n\" style=\"fill:none;stroke:#000000;stroke-linecap:square;stroke-linejoin:miter;stroke-width:0.8;\"/>\n   </g>\n   <g id=\"patch_5\">\n    <path d=\"M 36.465625 226.252547 \nL 371.265625 226.252547 \n\" style=\"fill:none;stroke:#000000;stroke-linecap:square;stroke-linejoin:miter;stroke-width:0.8;\"/>\n   </g>\n   <g id=\"patch_6\">\n    <path d=\"M 36.465625 8.812547 \nL 371.265625 8.812547 \n\" style=\"fill:none;stroke:#000000;stroke-linecap:square;stroke-linejoin:miter;stroke-width:0.8;\"/>\n   </g>\n  </g>\n </g>\n <defs>\n  <clipPath id=\"p0fd7415474\">\n   <rect height=\"217.44\" width=\"334.8\" x=\"36.465625\" y=\"8.812547\"/>\n  </clipPath>\n </defs>\n</svg>\n",
      "text/plain": [
       "<Figure size 432x288 with 1 Axes>"
      ]
     },
     "metadata": {
      "needs_background": "light"
     },
     "output_type": "display_data"
    }
   ],
   "source": [
    "pd6.sort()\n",
    "plt.plot(pd6)"
   ]
  },
  {
   "cell_type": "code",
   "execution_count": 16,
   "metadata": {},
   "outputs": [],
   "source": [
    "min_pd = min(pd6[1:])\n",
    "max_pd = max(pd6)\n",
    "pd_100 = []\n",
    "for i in range(100):\n",
    "    cur_pd = min_pd + i * (max_pd - min_pd) / 100\n",
    "    idx = np.argmin([abs(cur_pd - pd) for pd in pd6])\n",
    "    pd_100.append(pd6.pop(idx))"
   ]
  },
  {
   "cell_type": "code",
   "execution_count": 17,
   "metadata": {},
   "outputs": [
    {
     "data": {
      "text/plain": [
       "[<matplotlib.lines.Line2D at 0x7f88bda96160>]"
      ]
     },
     "execution_count": 17,
     "metadata": {},
     "output_type": "execute_result"
    },
    {
     "data": {
      "image/png": "[encoded data removed]",
      "image/svg+xml": "<?xml version=\"1.0\" encoding=\"utf-8\" standalone=\"no\"?>\n<!DOCTYPE svg PUBLIC \"-//W3C//DTD SVG 1.1//EN\"\n  \"http://www.w3.org/Graphics/SVG/1.1/DTD/svg11.dtd\">\n<svg height=\"248.518125pt\" version=\"1.1\" viewBox=\"0 0 378.465625 248.518125\" width=\"378.465625pt\" xmlns=\"http://www.w3.org/2000/svg\" xmlns:xlink=\"http://www.w3.org/1999/xlink\">\n <metadata>\n  <rdf:RDF xmlns:cc=\"http://creativecommons.org/ns#\" xmlns:dc=\"http://purl.org/dc/elements/1.1/\" xmlns:rdf=\"http://www.w3.org/1999/02/22-rdf-syntax-ns#\">\n   <cc:Work>\n    <dc:type rdf:resource=\"http://purl.org/dc/dcmitype/StillImage\"/>\n    <dc:date>2021-07-15T17:06:47.484277</dc:date>\n    <dc:format>image/svg+xml</dc:format>\n    <dc:creator>\n     <cc:Agent>\n      <dc:title>Matplotlib v3.4.1, https://matplotlib.org/</dc:title>\n     </cc:Agent>\n    </dc:creator>\n   </cc:Work>\n  </rdf:RDF>\n </metadata>\n <defs>\n  <style type=\"text/css\">*{stroke-linecap:butt;stroke-linejoin:round;}</style>\n </defs>\n <g id=\"figure_1\">\n  <g id=\"patch_1\">\n   <path d=\"M 0 248.518125 \nL 378.465625 248.518125 \nL 378.465625 0 \nL 0 0 \nz\n\" style=\"fill:none;\"/>\n  </g>\n  <g id=\"axes_1\">\n   <g id=\"patch_2\">\n    <path d=\"M 36.465625 224.64 \nL 371.265625 224.64 \nL 371.265625 7.2 \nL 36.465625 7.2 \nz\n\" style=\"fill:#ffffff;\"/>\n   </g>\n   <g id=\"matplotlib.axis_1\">\n    <g id=\"xtick_1\">\n     <g id=\"line2d_1\">\n      <defs>\n       <path d=\"M 0 0 \nL 0 3.5 \n\" id=\"m5a19f51070\" style=\"stroke:#000000;stroke-width:0.8;\"/>\n      </defs>\n      <g>\n       <use style=\"stroke:#000000;stroke-width:0.8;\" x=\"51.683807\" xlink:href=\"#m5a19f51070\" y=\"224.64\"/>\n      </g>\n     </g>\n     <g id=\"text_1\">\n      <!-- 0 -->\n      <g transform=\"translate(48.502557 239.238437)scale(0.1 -0.1)\">\n       <defs>\n        <path d=\"M 2034 4250 \nQ 1547 4250 1301 3770 \nQ 1056 3291 1056 2328 \nQ 1056 1369 1301 889 \nQ 1547 409 2034 409 \nQ 2525 409 2770 889 \nQ 3016 1369 3016 2328 \nQ 3016 3291 2770 3770 \nQ 2525 4250 2034 4250 \nz\nM 2034 4750 \nQ 2819 4750 3233 4129 \nQ 3647 3509 3647 2328 \nQ 3647 1150 3233 529 \nQ 2819 -91 2034 -91 \nQ 1250 -91 836 529 \nQ 422 1150 422 2328 \nQ 422 3509 836 4129 \nQ 1250 4750 2034 4750 \nz\n\" id=\"DejaVuSans-30\" transform=\"scale(0.015625)\"/>\n       </defs>\n       <use xlink:href=\"#DejaVuSans-30\"/>\n      </g>\n     </g>\n    </g>\n    <g id=\"xtick_2\">\n     <g id=\"line2d_2\">\n      <g>\n       <use style=\"stroke:#000000;stroke-width:0.8;\" x=\"113.17141\" xlink:href=\"#m5a19f51070\" y=\"224.64\"/>\n      </g>\n     </g>\n     <g id=\"text_2\">\n      <!-- 20 -->\n      <g transform=\"translate(106.80891 239.238437)scale(0.1 -0.1)\">\n       <defs>\n        <path d=\"M 1228 531 \nL 3431 531 \nL 3431 0 \nL 469 0 \nL 469 531 \nQ 828 903 1448 1529 \nQ 2069 2156 2228 2338 \nQ 2531 2678 2651 2914 \nQ 2772 3150 2772 3378 \nQ 2772 3750 2511 3984 \nQ 2250 4219 1831 4219 \nQ 1534 4219 1204 4116 \nQ 875 4013 500 3803 \nL 500 4441 \nQ 881 4594 1212 4672 \nQ 1544 4750 1819 4750 \nQ 2544 4750 2975 4387 \nQ 3406 4025 3406 3419 \nQ 3406 3131 3298 2873 \nQ 3191 2616 2906 2266 \nQ 2828 2175 2409 1742 \nQ 1991 1309 1228 531 \nz\n\" id=\"DejaVuSans-32\" transform=\"scale(0.015625)\"/>\n       </defs>\n       <use xlink:href=\"#DejaVuSans-32\"/>\n       <use x=\"63.623047\" xlink:href=\"#DejaVuSans-30\"/>\n      </g>\n     </g>\n    </g>\n    <g id=\"xtick_3\">\n     <g id=\"line2d_3\">\n      <g>\n       <use style=\"stroke:#000000;stroke-width:0.8;\" x=\"174.659013\" xlink:href=\"#m5a19f51070\" y=\"224.64\"/>\n      </g>\n     </g>\n     <g id=\"text_3\">\n      <!-- 40 -->\n      <g transform=\"translate(168.296513 239.238437)scale(0.1 -0.1)\">\n       <defs>\n        <path d=\"M 2419 4116 \nL 825 1625 \nL 2419 1625 \nL 2419 4116 \nz\nM 2253 4666 \nL 3047 4666 \nL 3047 1625 \nL 3713 1625 \nL 3713 1100 \nL 3047 1100 \nL 3047 0 \nL 2419 0 \nL 2419 1100 \nL 313 1100 \nL 313 1709 \nL 2253 4666 \nz\n\" id=\"DejaVuSans-34\" transform=\"scale(0.015625)\"/>\n       </defs>\n       <use xlink:href=\"#DejaVuSans-34\"/>\n       <use x=\"63.623047\" xlink:href=\"#DejaVuSans-30\"/>\n      </g>\n     </g>\n    </g>\n    <g id=\"xtick_4\">\n     <g id=\"line2d_4\">\n      <g>\n       <use style=\"stroke:#000000;stroke-width:0.8;\" x=\"236.146617\" xlink:href=\"#m5a19f51070\" y=\"224.64\"/>\n      </g>\n     </g>\n     <g id=\"text_4\">\n      <!-- 60 -->\n      <g transform=\"translate(229.784117 239.238437)scale(0.1 -0.1)\">\n       <defs>\n        <path d=\"M 2113 2584 \nQ 1688 2584 1439 2293 \nQ 1191 2003 1191 1497 \nQ 1191 994 1439 701 \nQ 1688 409 2113 409 \nQ 2538 409 2786 701 \nQ 3034 994 3034 1497 \nQ 3034 2003 2786 2293 \nQ 2538 2584 2113 2584 \nz\nM 3366 4563 \nL 3366 3988 \nQ 3128 4100 2886 4159 \nQ 2644 4219 2406 4219 \nQ 1781 4219 1451 3797 \nQ 1122 3375 1075 2522 \nQ 1259 2794 1537 2939 \nQ 1816 3084 2150 3084 \nQ 2853 3084 3261 2657 \nQ 3669 2231 3669 1497 \nQ 3669 778 3244 343 \nQ 2819 -91 2113 -91 \nQ 1303 -91 875 529 \nQ 447 1150 447 2328 \nQ 447 3434 972 4092 \nQ 1497 4750 2381 4750 \nQ 2619 4750 2861 4703 \nQ 3103 4656 3366 4563 \nz\n\" id=\"DejaVuSans-36\" transform=\"scale(0.015625)\"/>\n       </defs>\n       <use xlink:href=\"#DejaVuSans-36\"/>\n       <use x=\"63.623047\" xlink:href=\"#DejaVuSans-30\"/>\n      </g>\n     </g>\n    </g>\n    <g id=\"xtick_5\">\n     <g id=\"line2d_5\">\n      <g>\n       <use style=\"stroke:#000000;stroke-width:0.8;\" x=\"297.63422\" xlink:href=\"#m5a19f51070\" y=\"224.64\"/>\n      </g>\n     </g>\n     <g id=\"text_5\">\n      <!-- 80 -->\n      <g transform=\"translate(291.27172 239.238437)scale(0.1 -0.1)\">\n       <defs>\n        <path d=\"M 2034 2216 \nQ 1584 2216 1326 1975 \nQ 1069 1734 1069 1313 \nQ 1069 891 1326 650 \nQ 1584 409 2034 409 \nQ 2484 409 2743 651 \nQ 3003 894 3003 1313 \nQ 3003 1734 2745 1975 \nQ 2488 2216 2034 2216 \nz\nM 1403 2484 \nQ 997 2584 770 2862 \nQ 544 3141 544 3541 \nQ 544 4100 942 4425 \nQ 1341 4750 2034 4750 \nQ 2731 4750 3128 4425 \nQ 3525 4100 3525 3541 \nQ 3525 3141 3298 2862 \nQ 3072 2584 2669 2484 \nQ 3125 2378 3379 2068 \nQ 3634 1759 3634 1313 \nQ 3634 634 3220 271 \nQ 2806 -91 2034 -91 \nQ 1263 -91 848 271 \nQ 434 634 434 1313 \nQ 434 1759 690 2068 \nQ 947 2378 1403 2484 \nz\nM 1172 3481 \nQ 1172 3119 1398 2916 \nQ 1625 2713 2034 2713 \nQ 2441 2713 2670 2916 \nQ 2900 3119 2900 3481 \nQ 2900 3844 2670 4047 \nQ 2441 4250 2034 4250 \nQ 1625 4250 1398 4047 \nQ 1172 3844 1172 3481 \nz\n\" id=\"DejaVuSans-38\" transform=\"scale(0.015625)\"/>\n       </defs>\n       <use xlink:href=\"#DejaVuSans-38\"/>\n       <use x=\"63.623047\" xlink:href=\"#DejaVuSans-30\"/>\n      </g>\n     </g>\n    </g>\n    <g id=\"xtick_6\">\n     <g id=\"line2d_6\">\n      <g>\n       <use style=\"stroke:#000000;stroke-width:0.8;\" x=\"359.121823\" xlink:href=\"#m5a19f51070\" y=\"224.64\"/>\n      </g>\n     </g>\n     <g id=\"text_6\">\n      <!-- 100 -->\n      <g transform=\"translate(349.578073 239.238437)scale(0.1 -0.1)\">\n       <defs>\n        <path d=\"M 794 531 \nL 1825 531 \nL 1825 4091 \nL 703 3866 \nL 703 4441 \nL 1819 4666 \nL 2450 4666 \nL 2450 531 \nL 3481 531 \nL 3481 0 \nL 794 0 \nL 794 531 \nz\n\" id=\"DejaVuSans-31\" transform=\"scale(0.015625)\"/>\n       </defs>\n       <use xlink:href=\"#DejaVuSans-31\"/>\n       <use x=\"63.623047\" xlink:href=\"#DejaVuSans-30\"/>\n       <use x=\"127.246094\" xlink:href=\"#DejaVuSans-30\"/>\n      </g>\n     </g>\n    </g>\n   </g>\n   <g id=\"matplotlib.axis_2\">\n    <g id=\"ytick_1\">\n     <g id=\"line2d_7\">\n      <defs>\n       <path d=\"M 0 0 \nL -3.5 0 \n\" id=\"mfdf6035253\" style=\"stroke:#000000;stroke-width:0.8;\"/>\n      </defs>\n      <g>\n       <use style=\"stroke:#000000;stroke-width:0.8;\" x=\"36.465625\" xlink:href=\"#mfdf6035253\" y=\"188.660144\"/>\n      </g>\n     </g>\n     <g id=\"text_7\">\n      <!-- 0.85 -->\n      <g transform=\"translate(7.2 192.459362)scale(0.1 -0.1)\">\n       <defs>\n        <path d=\"M 684 794 \nL 1344 794 \nL 1344 0 \nL 684 0 \nL 684 794 \nz\n\" id=\"DejaVuSans-2e\" transform=\"scale(0.015625)\"/>\n        <path d=\"M 691 4666 \nL 3169 4666 \nL 3169 4134 \nL 1269 4134 \nL 1269 2991 \nQ 1406 3038 1543 3061 \nQ 1681 3084 1819 3084 \nQ 2600 3084 3056 2656 \nQ 3513 2228 3513 1497 \nQ 3513 744 3044 326 \nQ 2575 -91 1722 -91 \nQ 1428 -91 1123 -41 \nQ 819 9 494 109 \nL 494 744 \nQ 775 591 1075 516 \nQ 1375 441 1709 441 \nQ 2250 441 2565 725 \nQ 2881 1009 2881 1497 \nQ 2881 1984 2565 2268 \nQ 2250 2553 1709 2553 \nQ 1456 2553 1204 2497 \nQ 953 2441 691 2322 \nL 691 4666 \nz\n\" id=\"DejaVuSans-35\" transform=\"scale(0.015625)\"/>\n       </defs>\n       <use xlink:href=\"#DejaVuSans-30\"/>\n       <use x=\"63.623047\" xlink:href=\"#DejaVuSans-2e\"/>\n       <use x=\"95.410156\" xlink:href=\"#DejaVuSans-38\"/>\n       <use x=\"159.033203\" xlink:href=\"#DejaVuSans-35\"/>\n      </g>\n     </g>\n    </g>\n    <g id=\"ytick_2\">\n     <g id=\"line2d_8\">\n      <g>\n       <use style=\"stroke:#000000;stroke-width:0.8;\" x=\"36.465625\" xlink:href=\"#mfdf6035253\" y=\"143.180499\"/>\n      </g>\n     </g>\n     <g id=\"text_8\">\n      <!-- 0.86 -->\n      <g transform=\"translate(7.2 146.979718)scale(0.1 -0.1)\">\n       <use xlink:href=\"#DejaVuSans-30\"/>\n       <use x=\"63.623047\" xlink:href=\"#DejaVuSans-2e\"/>\n       <use x=\"95.410156\" xlink:href=\"#DejaVuSans-38\"/>\n       <use x=\"159.033203\" xlink:href=\"#DejaVuSans-36\"/>\n      </g>\n     </g>\n    </g>\n    <g id=\"ytick_3\">\n     <g id=\"line2d_9\">\n      <g>\n       <use style=\"stroke:#000000;stroke-width:0.8;\" x=\"36.465625\" xlink:href=\"#mfdf6035253\" y=\"97.700854\"/>\n      </g>\n     </g>\n     <g id=\"text_9\">\n      <!-- 0.87 -->\n      <g transform=\"translate(7.2 101.500073)scale(0.1 -0.1)\">\n       <defs>\n        <path d=\"M 525 4666 \nL 3525 4666 \nL 3525 4397 \nL 1831 0 \nL 1172 0 \nL 2766 4134 \nL 525 4134 \nL 525 4666 \nz\n\" id=\"DejaVuSans-37\" transform=\"scale(0.015625)\"/>\n       </defs>\n       <use xlink:href=\"#DejaVuSans-30\"/>\n       <use x=\"63.623047\" xlink:href=\"#DejaVuSans-2e\"/>\n       <use x=\"95.410156\" xlink:href=\"#DejaVuSans-38\"/>\n       <use x=\"159.033203\" xlink:href=\"#DejaVuSans-37\"/>\n      </g>\n     </g>\n    </g>\n    <g id=\"ytick_4\">\n     <g id=\"line2d_10\">\n      <g>\n       <use style=\"stroke:#000000;stroke-width:0.8;\" x=\"36.465625\" xlink:href=\"#mfdf6035253\" y=\"52.22121\"/>\n      </g>\n     </g>\n     <g id=\"text_10\">\n      <!-- 0.88 -->\n      <g transform=\"translate(7.2 56.020429)scale(0.1 -0.1)\">\n       <use xlink:href=\"#DejaVuSans-30\"/>\n       <use x=\"63.623047\" xlink:href=\"#DejaVuSans-2e\"/>\n       <use x=\"95.410156\" xlink:href=\"#DejaVuSans-38\"/>\n       <use x=\"159.033203\" xlink:href=\"#DejaVuSans-38\"/>\n      </g>\n     </g>\n    </g>\n   </g>\n   <g id=\"line2d_11\">\n    <path clip-path=\"url(#pcb48e65bfc)\" d=\"M 51.683807 214.756364 \nL 54.758187 212.70978 \nL 57.832567 209.953713 \nL 60.906947 208.452885 \nL 63.981327 206.342629 \nL 67.055708 202.067543 \nL 70.130088 201.467211 \nL 73.204468 197.324016 \nL 76.278848 197.087522 \nL 79.353228 194.813539 \nL 82.427608 191.539005 \nL 85.501989 190.138232 \nL 88.576369 189.196803 \nL 91.650749 188.237183 \nL 94.725129 186.317942 \nL 97.799509 184.034864 \nL 100.873889 181.910964 \nL 103.94827 181.797265 \nL 107.02265 178.963883 \nL 110.09703 177.704097 \nL 113.17141 175.489238 \nL 116.24579 172.555801 \nL 119.32017 169.990749 \nL 122.394551 169.067513 \nL 125.468931 166.975449 \nL 128.543311 164.883385 \nL 131.617691 163.973792 \nL 134.692071 161.117671 \nL 137.766451 158.807305 \nL 140.840832 157.201873 \nL 143.915212 154.354848 \nL 146.989592 153.49983 \nL 150.063972 151.130341 \nL 153.138352 149.2111 \nL 156.212732 146.200347 \nL 159.287113 145.845606 \nL 162.361493 139.869581 \nL 165.435873 138.068587 \nL 168.510253 137.172638 \nL 171.584633 137.136254 \nL 174.659013 135.462603 \nL 177.733394 134.10731 \nL 180.807774 131.146585 \nL 183.882154 129.23644 \nL 186.956534 126.589525 \nL 190.030914 125.639 \nL 193.105294 122.068848 \nL 196.179675 120.163251 \nL 199.254055 119.044452 \nL 202.328435 117.771022 \nL 205.402815 116.015507 \nL 208.477195 113.177577 \nL 211.551575 111.663105 \nL 214.625956 108.934327 \nL 217.700336 107.797335 \nL 220.774716 105.646148 \nL 223.849096 103.499509 \nL 226.923476 101.411993 \nL 229.997856 99.820206 \nL 233.072237 97.500744 \nL 236.146617 95.490544 \nL 239.220997 93.457604 \nL 242.295377 91.101758 \nL 245.369757 89.610026 \nL 248.444137 87.558894 \nL 251.518518 85.639653 \nL 254.592898 84.102441 \nL 257.667278 81.491909 \nL 260.741658 79.527188 \nL 263.816038 77.294138 \nL 266.890418 75.270294 \nL 269.964799 73.610287 \nL 273.039179 71.354496 \nL 276.113559 68.966815 \nL 279.187939 66.970259 \nL 282.262319 66.460887 \nL 285.336699 64.26422 \nL 288.41108 60.903274 \nL 291.48546 59.802667 \nL 294.55984 57.919809 \nL 297.63422 55.759526 \nL 300.7086 53.344557 \nL 303.78298 51.9074 \nL 306.857361 50.497531 \nL 309.931741 46.690885 \nL 313.006121 46.140581 \nL 316.080501 43.370871 \nL 319.154881 40.587517 \nL 322.229261 35.966785 \nL 325.303642 34.802506 \nL 328.378022 34.402285 \nL 331.452402 32.892361 \nL 334.526782 32.637675 \nL 337.601162 29.708786 \nL 340.675542 28.467191 \nL 343.749923 25.00619 \nL 346.824303 22.377467 \nL 349.898683 22.200096 \nL 352.973063 18.202436 \nL 356.047443 17.083636 \n\" style=\"fill:none;stroke:#1f77b4;stroke-linecap:square;stroke-width:1.5;\"/>\n   </g>\n   <g id=\"patch_3\">\n    <path d=\"M 36.465625 224.64 \nL 36.465625 7.2 \n\" style=\"fill:none;stroke:#000000;stroke-linecap:square;stroke-linejoin:miter;stroke-width:0.8;\"/>\n   </g>\n   <g id=\"patch_4\">\n    <path d=\"M 371.265625 224.64 \nL 371.265625 7.2 \n\" style=\"fill:none;stroke:#000000;stroke-linecap:square;stroke-linejoin:miter;stroke-width:0.8;\"/>\n   </g>\n   <g id=\"patch_5\">\n    <path d=\"M 36.465625 224.64 \nL 371.265625 224.64 \n\" style=\"fill:none;stroke:#000000;stroke-linecap:square;stroke-linejoin:miter;stroke-width:0.8;\"/>\n   </g>\n   <g id=\"patch_6\">\n    <path d=\"M 36.465625 7.2 \nL 371.265625 7.2 \n\" style=\"fill:none;stroke:#000000;stroke-linecap:square;stroke-linejoin:miter;stroke-width:0.8;\"/>\n   </g>\n  </g>\n </g>\n <defs>\n  <clipPath id=\"pcb48e65bfc\">\n   <rect height=\"217.44\" width=\"334.8\" x=\"36.465625\" y=\"7.2\"/>\n  </clipPath>\n </defs>\n</svg>\n",
      "text/plain": [
       "<Figure size 432x288 with 1 Axes>"
      ]
     },
     "metadata": {
      "needs_background": "light"
     },
     "output_type": "display_data"
    }
   ],
   "source": [
    "plt.plot(pd_100)"
   ]
  },
  {
   "cell_type": "code",
   "execution_count": 18,
   "metadata": {},
   "outputs": [],
   "source": [
    "import shutil\n",
    "for pd in pd_100:\n",
    "    shutil.copy(f'data/CP_ALL/circle_packing_{pd:.6f}.xyz', f'data/CP100/circle_packing_{pd:.6f}.xyz')"
   ]
  },
  {
   "cell_type": "code",
   "execution_count": 22,
   "metadata": {},
   "outputs": [],
   "source": [
    "s = '12 3 123'\n",
    "a,b,c=list(map(float, s.split(' ')))"
   ]
  },
  {
   "cell_type": "code",
   "execution_count": 29,
   "metadata": {},
   "outputs": [],
   "source": [
    "for root, dirs, files in os.walk('data/CP_ALL/'):\n",
    "    for name in files:\n",
    "        filename = os.path.join(root, name)\n",
    "        with open(filename, 'r') as fr:\n",
    "            with open(f'data/CP_/{name[:-4]}', 'w') as fw:\n",
    "                fw.write(fr.read())"
   ]
  },
  {
   "cell_type": "code",
   "execution_count": 65,
   "metadata": {},
   "outputs": [],
   "source": [
    "pds = []\n",
    "count = 0\n",
    "for root, dirs, files in os.walk('data/RSA'):\n",
    "    for name in files:\n",
    "        if name[-3:] != 'pac':\n",
    "            continue\n",
    "        filename = os.path.join(root, name)\n",
    "        with open(filename, 'r') as fr:\n",
    "            N = int(next(fr))\n",
    "            L = float(next(fr))\n",
    "            \n",
    "            points = np.loadtxt(fr)\n",
    "            pd = N * np.pi / L**2\n",
    "            pds.append(pd)\n",
    "            \n",
    "            with open(f'data/CP_RSA/circle_packing_{count}_{pd:.6f}.xyz', 'w') as fw:\n",
    "                fw.write(str(N) + '\\n')\n",
    "                fw.write(f'{L} {L}\\n')\n",
    "                np.savetxt(fw, points)\n",
    "                count += 1"
   ]
  },
  {
   "cell_type": "code",
   "execution_count": 77,
   "metadata": {},
   "outputs": [],
   "source": [
    "with open('data/tmph_a_1483537_sm9545.xyz') as fr:\n",
    "    N = int(next(fr))\n",
    "    Lx, Ly, Lz = list(map(float, next(fr).split(' ')))\n",
    "    points = np.loadtxt(fr)\n",
    "\n",
    "    points[:,-1] /=2\n",
    "\n",
    "    with open('data/Boattini_324.xyz', 'w') as fw:\n",
    "        fw.write(str(N) + '\\n')\n",
    "        fw.write(f'{Lx} {Ly} {Lz}\\n')\n",
    "        np.savetxt(fw, points)\n",
    "            "
   ]
  },
  {
   "cell_type": "code",
   "execution_count": 71,
   "metadata": {},
   "outputs": [
    {
     "data": {
      "text/plain": [
       "324"
      ]
     },
     "execution_count": 71,
     "metadata": {},
     "output_type": "execute_result"
    }
   ],
   "source": [
    "N"
   ]
  },
  {
   "cell_type": "code",
   "execution_count": 72,
   "metadata": {},
   "outputs": [
    {
     "data": {
      "text/plain": [
       "(4.53856, 4.53856, 9.07712)"
      ]
     },
     "execution_count": 72,
     "metadata": {},
     "output_type": "execute_result"
    }
   ],
   "source": [
    "Lx, Ly, Lz "
   ]
  },
  {
   "cell_type": "code",
   "execution_count": 76,
   "metadata": {},
   "outputs": [
    {
     "data": {
      "text/plain": [
       "array([[0.        , 0.0468863 , 4.53113   , 9.03016   , 0.5       ],\n",
       "       [0.        , 0.0608255 , 0.715962  , 0.754715  , 0.5       ],\n",
       "       [0.        , 0.791463  , 0.00927492, 0.760436  , 0.5       ],\n",
       "       ...,\n",
       "       [0.        , 3.03094   , 3.8421    , 8.29856   , 0.5       ],\n",
       "       [0.        , 3.77289   , 3.04807   , 8.3396    , 0.5       ],\n",
       "       [0.        , 3.7606    , 3.83323   , 7.58232   , 0.5       ]])"
      ]
     },
     "execution_count": 76,
     "metadata": {},
     "output_type": "execute_result"
    }
   ],
   "source": [
    "points"
   ]
  },
  {
   "cell_type": "code",
   "execution_count": 75,
   "metadata": {},
   "outputs": [],
   "source": [
    "points[:,-1] /=2"
   ]
  },
  {
   "cell_type": "code",
   "execution_count": 2,
   "metadata": {},
   "outputs": [],
   "source": [
    "data = np.load('data/Baseline_19.npy')\n",
    "labels = np.load('data/lj-r2.0_scaled_shuffled_equal_labels.npy')"
   ]
  },
  {
   "cell_type": "code",
   "execution_count": 14,
   "metadata": {},
   "outputs": [],
   "source": [
    "pds = []\n",
    "for root, dirs, files in os.walk('data/1000sphere'):\n",
    "    for name in files:\n",
    "        if name[-20:] == 'packingstructure.txt' and name[:3] != '100':\n",
    "            filename = os.path.join(root, name)\n",
    "            with open(filename, 'r') as fr:\n",
    "                N = int(next(fr))\n",
    "                L = float(next(fr).strip().split()[1])\n",
    "                assert N == 1000\n",
    "                points = np.loadtxt(fr)\n",
    "                pd = N * np.pi * 4/3/ L**3\n",
    "                pds.append(pd)\n",
    "                \n",
    "                with open('data/SP_JAM/sphere_packing_{:.6f}.xyz'.format(pd), 'w') as fw:\n",
    "                    fw.write(str(N) + '\\n')\n",
    "                    fw.write(f'{L} {L} {L}\\n')\n",
    "\n",
    "                    np.savetxt(fw, points)"
   ]
  },
  {
   "cell_type": "code",
   "execution_count": 15,
   "metadata": {},
   "outputs": [
    {
     "data": {
      "text/plain": [
       "[<matplotlib.lines.Line2D at 0x7fc921e23910>]"
      ]
     },
     "execution_count": 15,
     "metadata": {},
     "output_type": "execute_result"
    },
    {
     "data": {
      "image/png": "[encoded data removed]",
      "text/plain": [
       "<Figure size 432x288 with 1 Axes>"
      ]
     },
     "metadata": {
      "needs_background": "light"
     },
     "output_type": "display_data"
    }
   ],
   "source": [
    "pds.sort()\n",
    "plt.plot(pds)"
   ]
  },
  {
   "cell_type": "code",
   "execution_count": 10,
   "metadata": {},
   "outputs": [
    {
     "data": {
      "text/plain": [
       "'100'"
      ]
     },
     "execution_count": 10,
     "metadata": {},
     "output_type": "execute_result"
    }
   ],
   "source": [
    "s[:3]"
   ]
  },
  {
   "cell_type": "code",
   "execution_count": 8,
   "metadata": {},
   "outputs": [],
   "source": [
    "a=[[0,0,0],[1,1,1]] + [[2,2,2]]"
   ]
  },
  {
   "cell_type": "code",
   "execution_count": 7,
   "metadata": {},
   "outputs": [
    {
     "data": {
      "text/plain": [
       "[[0, 0, 0], [1, 1, 1], 2, 2, 2]"
      ]
     },
     "execution_count": 7,
     "metadata": {},
     "output_type": "execute_result"
    }
   ],
   "source": [
    "a"
   ]
  },
  {
   "cell_type": "markdown",
   "metadata": {},
   "source": [
    "# For CP_MDRP"
   ]
  },
  {
   "cell_type": "code",
   "execution_count": 4,
   "metadata": {},
   "outputs": [],
   "source": [
    "pds = []\n",
    "for root, dirs, files in os.walk('data/CP_MDRP_RES'):\n",
    "    for name in files:\n",
    "        if name[-20:] == 'packingstructure.txt':\n",
    "            filename = os.path.join(root, name)\n",
    "            with open(filename, 'r') as fr:\n",
    "                text = fr.readlines()\n",
    "                N = int(text[9])\n",
    "                L = float(text[3].strip().split()[0])\n",
    "                assert N == 150\n",
    "                points = np.loadtxt(text[10:160])\n",
    "                pd = N * np.pi / L**2\n",
    "                pds.append(pd)\n",
    "                \n",
    "                with open('data/CP_MDRP/circle_packing_{:.6f}.xyz'.format(pd), 'w') as fw:\n",
    "                    fw.write(str(N) + '\\n')\n",
    "                    fw.write(f'{L} {L}\\n')\n",
    "                    np.savetxt(fw, points)"
   ]
  },
  {
   "cell_type": "code",
   "execution_count": 5,
   "metadata": {},
   "outputs": [
    {
     "name": "stdout",
     "output_type": "stream",
     "text": [
      "203\n"
     ]
    },
    {
     "data": {
      "text/plain": [
       "[<matplotlib.lines.Line2D at 0x7fddd4cb1c70>]"
      ]
     },
     "execution_count": 5,
     "metadata": {},
     "output_type": "execute_result"
    },
    {
     "data": {
      "image/png": "[encoded data removed]",
      "image/svg+xml": "<?xml version=\"1.0\" encoding=\"utf-8\" standalone=\"no\"?>\n<!DOCTYPE svg PUBLIC \"-//W3C//DTD SVG 1.1//EN\"\n  \"http://www.w3.org/Graphics/SVG/1.1/DTD/svg11.dtd\">\n<svg height=\"248.518125pt\" version=\"1.1\" viewBox=\"0 0 384.828125 248.518125\" width=\"384.828125pt\" xmlns=\"http://www.w3.org/2000/svg\" xmlns:xlink=\"http://www.w3.org/1999/xlink\">\n <metadata>\n  <rdf:RDF xmlns:cc=\"http://creativecommons.org/ns#\" xmlns:dc=\"http://purl.org/dc/elements/1.1/\" xmlns:rdf=\"http://www.w3.org/1999/02/22-rdf-syntax-ns#\">\n   <cc:Work>\n    <dc:type rdf:resource=\"http://purl.org/dc/dcmitype/StillImage\"/>\n    <dc:date>2021-07-17T20:55:57.354343</dc:date>\n    <dc:format>image/svg+xml</dc:format>\n    <dc:creator>\n     <cc:Agent>\n      <dc:title>Matplotlib v3.4.1, https://matplotlib.org/</dc:title>\n     </cc:Agent>\n    </dc:creator>\n   </cc:Work>\n  </rdf:RDF>\n </metadata>\n <defs>\n  <style type=\"text/css\">*{stroke-linecap:butt;stroke-linejoin:round;}</style>\n </defs>\n <g id=\"figure_1\">\n  <g id=\"patch_1\">\n   <path d=\"M 0 248.518125 \nL 384.828125 248.518125 \nL 384.828125 0 \nL 0 0 \nz\n\" style=\"fill:none;\"/>\n  </g>\n  <g id=\"axes_1\">\n   <g id=\"patch_2\">\n    <path d=\"M 42.828125 224.64 \nL 377.628125 224.64 \nL 377.628125 7.2 \nL 42.828125 7.2 \nz\n\" style=\"fill:#ffffff;\"/>\n   </g>\n   <g id=\"matplotlib.axis_1\">\n    <g id=\"xtick_1\">\n     <g id=\"line2d_1\">\n      <defs>\n       <path d=\"M 0 0 \nL 0 3.5 \n\" id=\"m4feff090ed\" style=\"stroke:#000000;stroke-width:0.8;\"/>\n      </defs>\n      <g>\n       <use style=\"stroke:#000000;stroke-width:0.8;\" x=\"58.046307\" xlink:href=\"#m4feff090ed\" y=\"224.64\"/>\n      </g>\n     </g>\n     <g id=\"text_1\">\n      <!-- 0 -->\n      <g transform=\"translate(54.865057 239.238437)scale(0.1 -0.1)\">\n       <defs>\n        <path d=\"M 2034 4250 \nQ 1547 4250 1301 3770 \nQ 1056 3291 1056 2328 \nQ 1056 1369 1301 889 \nQ 1547 409 2034 409 \nQ 2525 409 2770 889 \nQ 3016 1369 3016 2328 \nQ 3016 3291 2770 3770 \nQ 2525 4250 2034 4250 \nz\nM 2034 4750 \nQ 2819 4750 3233 4129 \nQ 3647 3509 3647 2328 \nQ 3647 1150 3233 529 \nQ 2819 -91 2034 -91 \nQ 1250 -91 836 529 \nQ 422 1150 422 2328 \nQ 422 3509 836 4129 \nQ 1250 4750 2034 4750 \nz\n\" id=\"DejaVuSans-30\" transform=\"scale(0.015625)\"/>\n       </defs>\n       <use xlink:href=\"#DejaVuSans-30\"/>\n      </g>\n     </g>\n    </g>\n    <g id=\"xtick_2\">\n     <g id=\"line2d_2\">\n      <g>\n       <use style=\"stroke:#000000;stroke-width:0.8;\" x=\"95.715074\" xlink:href=\"#m4feff090ed\" y=\"224.64\"/>\n      </g>\n     </g>\n     <g id=\"text_2\">\n      <!-- 25 -->\n      <g transform=\"translate(89.352574 239.238437)scale(0.1 -0.1)\">\n       <defs>\n        <path d=\"M 1228 531 \nL 3431 531 \nL 3431 0 \nL 469 0 \nL 469 531 \nQ 828 903 1448 1529 \nQ 2069 2156 2228 2338 \nQ 2531 2678 2651 2914 \nQ 2772 3150 2772 3378 \nQ 2772 3750 2511 3984 \nQ 2250 4219 1831 4219 \nQ 1534 4219 1204 4116 \nQ 875 4013 500 3803 \nL 500 4441 \nQ 881 4594 1212 4672 \nQ 1544 4750 1819 4750 \nQ 2544 4750 2975 4387 \nQ 3406 4025 3406 3419 \nQ 3406 3131 3298 2873 \nQ 3191 2616 2906 2266 \nQ 2828 2175 2409 1742 \nQ 1991 1309 1228 531 \nz\n\" id=\"DejaVuSans-32\" transform=\"scale(0.015625)\"/>\n        <path d=\"M 691 4666 \nL 3169 4666 \nL 3169 4134 \nL 1269 4134 \nL 1269 2991 \nQ 1406 3038 1543 3061 \nQ 1681 3084 1819 3084 \nQ 2600 3084 3056 2656 \nQ 3513 2228 3513 1497 \nQ 3513 744 3044 326 \nQ 2575 -91 1722 -91 \nQ 1428 -91 1123 -41 \nQ 819 9 494 109 \nL 494 744 \nQ 775 591 1075 516 \nQ 1375 441 1709 441 \nQ 2250 441 2565 725 \nQ 2881 1009 2881 1497 \nQ 2881 1984 2565 2268 \nQ 2250 2553 1709 2553 \nQ 1456 2553 1204 2497 \nQ 953 2441 691 2322 \nL 691 4666 \nz\n\" id=\"DejaVuSans-35\" transform=\"scale(0.015625)\"/>\n       </defs>\n       <use xlink:href=\"#DejaVuSans-32\"/>\n       <use x=\"63.623047\" xlink:href=\"#DejaVuSans-35\"/>\n      </g>\n     </g>\n    </g>\n    <g id=\"xtick_3\">\n     <g id=\"line2d_3\">\n      <g>\n       <use style=\"stroke:#000000;stroke-width:0.8;\" x=\"133.383841\" xlink:href=\"#m4feff090ed\" y=\"224.64\"/>\n      </g>\n     </g>\n     <g id=\"text_3\">\n      <!-- 50 -->\n      <g transform=\"translate(127.021341 239.238437)scale(0.1 -0.1)\">\n       <use xlink:href=\"#DejaVuSans-35\"/>\n       <use x=\"63.623047\" xlink:href=\"#DejaVuSans-30\"/>\n      </g>\n     </g>\n    </g>\n    <g id=\"xtick_4\">\n     <g id=\"line2d_4\">\n      <g>\n       <use style=\"stroke:#000000;stroke-width:0.8;\" x=\"171.052607\" xlink:href=\"#m4feff090ed\" y=\"224.64\"/>\n      </g>\n     </g>\n     <g id=\"text_4\">\n      <!-- 75 -->\n      <g transform=\"translate(164.690107 239.238437)scale(0.1 -0.1)\">\n       <defs>\n        <path d=\"M 525 4666 \nL 3525 4666 \nL 3525 4397 \nL 1831 0 \nL 1172 0 \nL 2766 4134 \nL 525 4134 \nL 525 4666 \nz\n\" id=\"DejaVuSans-37\" transform=\"scale(0.015625)\"/>\n       </defs>\n       <use xlink:href=\"#DejaVuSans-37\"/>\n       <use x=\"63.623047\" xlink:href=\"#DejaVuSans-35\"/>\n      </g>\n     </g>\n    </g>\n    <g id=\"xtick_5\">\n     <g id=\"line2d_5\">\n      <g>\n       <use style=\"stroke:#000000;stroke-width:0.8;\" x=\"208.721374\" xlink:href=\"#m4feff090ed\" y=\"224.64\"/>\n      </g>\n     </g>\n     <g id=\"text_5\">\n      <!-- 100 -->\n      <g transform=\"translate(199.177624 239.238437)scale(0.1 -0.1)\">\n       <defs>\n        <path d=\"M 794 531 \nL 1825 531 \nL 1825 4091 \nL 703 3866 \nL 703 4441 \nL 1819 4666 \nL 2450 4666 \nL 2450 531 \nL 3481 531 \nL 3481 0 \nL 794 0 \nL 794 531 \nz\n\" id=\"DejaVuSans-31\" transform=\"scale(0.015625)\"/>\n       </defs>\n       <use xlink:href=\"#DejaVuSans-31\"/>\n       <use x=\"63.623047\" xlink:href=\"#DejaVuSans-30\"/>\n       <use x=\"127.246094\" xlink:href=\"#DejaVuSans-30\"/>\n      </g>\n     </g>\n    </g>\n    <g id=\"xtick_6\">\n     <g id=\"line2d_6\">\n      <g>\n       <use style=\"stroke:#000000;stroke-width:0.8;\" x=\"246.390141\" xlink:href=\"#m4feff090ed\" y=\"224.64\"/>\n      </g>\n     </g>\n     <g id=\"text_6\">\n      <!-- 125 -->\n      <g transform=\"translate(236.846391 239.238437)scale(0.1 -0.1)\">\n       <use xlink:href=\"#DejaVuSans-31\"/>\n       <use x=\"63.623047\" xlink:href=\"#DejaVuSans-32\"/>\n       <use x=\"127.246094\" xlink:href=\"#DejaVuSans-35\"/>\n      </g>\n     </g>\n    </g>\n    <g id=\"xtick_7\">\n     <g id=\"line2d_7\">\n      <g>\n       <use style=\"stroke:#000000;stroke-width:0.8;\" x=\"284.058908\" xlink:href=\"#m4feff090ed\" y=\"224.64\"/>\n      </g>\n     </g>\n     <g id=\"text_7\">\n      <!-- 150 -->\n      <g transform=\"translate(274.515158 239.238437)scale(0.1 -0.1)\">\n       <use xlink:href=\"#DejaVuSans-31\"/>\n       <use x=\"63.623047\" xlink:href=\"#DejaVuSans-35\"/>\n       <use x=\"127.246094\" xlink:href=\"#DejaVuSans-30\"/>\n      </g>\n     </g>\n    </g>\n    <g id=\"xtick_8\">\n     <g id=\"line2d_8\">\n      <g>\n       <use style=\"stroke:#000000;stroke-width:0.8;\" x=\"321.727675\" xlink:href=\"#m4feff090ed\" y=\"224.64\"/>\n      </g>\n     </g>\n     <g id=\"text_8\">\n      <!-- 175 -->\n      <g transform=\"translate(312.183925 239.238437)scale(0.1 -0.1)\">\n       <use xlink:href=\"#DejaVuSans-31\"/>\n       <use x=\"63.623047\" xlink:href=\"#DejaVuSans-37\"/>\n       <use x=\"127.246094\" xlink:href=\"#DejaVuSans-35\"/>\n      </g>\n     </g>\n    </g>\n    <g id=\"xtick_9\">\n     <g id=\"line2d_9\">\n      <g>\n       <use style=\"stroke:#000000;stroke-width:0.8;\" x=\"359.396442\" xlink:href=\"#m4feff090ed\" y=\"224.64\"/>\n      </g>\n     </g>\n     <g id=\"text_9\">\n      <!-- 200 -->\n      <g transform=\"translate(349.852692 239.238437)scale(0.1 -0.1)\">\n       <use xlink:href=\"#DejaVuSans-32\"/>\n       <use x=\"63.623047\" xlink:href=\"#DejaVuSans-30\"/>\n       <use x=\"127.246094\" xlink:href=\"#DejaVuSans-30\"/>\n      </g>\n     </g>\n    </g>\n   </g>\n   <g id=\"matplotlib.axis_2\">\n    <g id=\"ytick_1\">\n     <g id=\"line2d_10\">\n      <defs>\n       <path d=\"M 0 0 \nL -3.5 0 \n\" id=\"m034756439d\" style=\"stroke:#000000;stroke-width:0.8;\"/>\n      </defs>\n      <g>\n       <use style=\"stroke:#000000;stroke-width:0.8;\" x=\"42.828125\" xlink:href=\"#m034756439d\" y=\"196.881223\"/>\n      </g>\n     </g>\n     <g id=\"text_10\">\n      <!-- 0.815 -->\n      <g transform=\"translate(7.2 200.680442)scale(0.1 -0.1)\">\n       <defs>\n        <path d=\"M 684 794 \nL 1344 794 \nL 1344 0 \nL 684 0 \nL 684 794 \nz\n\" id=\"DejaVuSans-2e\" transform=\"scale(0.015625)\"/>\n        <path d=\"M 2034 2216 \nQ 1584 2216 1326 1975 \nQ 1069 1734 1069 1313 \nQ 1069 891 1326 650 \nQ 1584 409 2034 409 \nQ 2484 409 2743 651 \nQ 3003 894 3003 1313 \nQ 3003 1734 2745 1975 \nQ 2488 2216 2034 2216 \nz\nM 1403 2484 \nQ 997 2584 770 2862 \nQ 544 3141 544 3541 \nQ 544 4100 942 4425 \nQ 1341 4750 2034 4750 \nQ 2731 4750 3128 4425 \nQ 3525 4100 3525 3541 \nQ 3525 3141 3298 2862 \nQ 3072 2584 2669 2484 \nQ 3125 2378 3379 2068 \nQ 3634 1759 3634 1313 \nQ 3634 634 3220 271 \nQ 2806 -91 2034 -91 \nQ 1263 -91 848 271 \nQ 434 634 434 1313 \nQ 434 1759 690 2068 \nQ 947 2378 1403 2484 \nz\nM 1172 3481 \nQ 1172 3119 1398 2916 \nQ 1625 2713 2034 2713 \nQ 2441 2713 2670 2916 \nQ 2900 3119 2900 3481 \nQ 2900 3844 2670 4047 \nQ 2441 4250 2034 4250 \nQ 1625 4250 1398 4047 \nQ 1172 3844 1172 3481 \nz\n\" id=\"DejaVuSans-38\" transform=\"scale(0.015625)\"/>\n       </defs>\n       <use xlink:href=\"#DejaVuSans-30\"/>\n       <use x=\"63.623047\" xlink:href=\"#DejaVuSans-2e\"/>\n       <use x=\"95.410156\" xlink:href=\"#DejaVuSans-38\"/>\n       <use x=\"159.033203\" xlink:href=\"#DejaVuSans-31\"/>\n       <use x=\"222.65625\" xlink:href=\"#DejaVuSans-35\"/>\n      </g>\n     </g>\n    </g>\n    <g id=\"ytick_2\">\n     <g id=\"line2d_11\">\n      <g>\n       <use style=\"stroke:#000000;stroke-width:0.8;\" x=\"42.828125\" xlink:href=\"#m034756439d\" y=\"151.073577\"/>\n      </g>\n     </g>\n     <g id=\"text_11\">\n      <!-- 0.820 -->\n      <g transform=\"translate(7.2 154.872796)scale(0.1 -0.1)\">\n       <use xlink:href=\"#DejaVuSans-30\"/>\n       <use x=\"63.623047\" xlink:href=\"#DejaVuSans-2e\"/>\n       <use x=\"95.410156\" xlink:href=\"#DejaVuSans-38\"/>\n       <use x=\"159.033203\" xlink:href=\"#DejaVuSans-32\"/>\n       <use x=\"222.65625\" xlink:href=\"#DejaVuSans-30\"/>\n      </g>\n     </g>\n    </g>\n    <g id=\"ytick_3\">\n     <g id=\"line2d_12\">\n      <g>\n       <use style=\"stroke:#000000;stroke-width:0.8;\" x=\"42.828125\" xlink:href=\"#m034756439d\" y=\"105.265931\"/>\n      </g>\n     </g>\n     <g id=\"text_12\">\n      <!-- 0.825 -->\n      <g transform=\"translate(7.2 109.065149)scale(0.1 -0.1)\">\n       <use xlink:href=\"#DejaVuSans-30\"/>\n       <use x=\"63.623047\" xlink:href=\"#DejaVuSans-2e\"/>\n       <use x=\"95.410156\" xlink:href=\"#DejaVuSans-38\"/>\n       <use x=\"159.033203\" xlink:href=\"#DejaVuSans-32\"/>\n       <use x=\"222.65625\" xlink:href=\"#DejaVuSans-35\"/>\n      </g>\n     </g>\n    </g>\n    <g id=\"ytick_4\">\n     <g id=\"line2d_13\">\n      <g>\n       <use style=\"stroke:#000000;stroke-width:0.8;\" x=\"42.828125\" xlink:href=\"#m034756439d\" y=\"59.458284\"/>\n      </g>\n     </g>\n     <g id=\"text_13\">\n      <!-- 0.830 -->\n      <g transform=\"translate(7.2 63.257503)scale(0.1 -0.1)\">\n       <defs>\n        <path d=\"M 2597 2516 \nQ 3050 2419 3304 2112 \nQ 3559 1806 3559 1356 \nQ 3559 666 3084 287 \nQ 2609 -91 1734 -91 \nQ 1441 -91 1130 -33 \nQ 819 25 488 141 \nL 488 750 \nQ 750 597 1062 519 \nQ 1375 441 1716 441 \nQ 2309 441 2620 675 \nQ 2931 909 2931 1356 \nQ 2931 1769 2642 2001 \nQ 2353 2234 1838 2234 \nL 1294 2234 \nL 1294 2753 \nL 1863 2753 \nQ 2328 2753 2575 2939 \nQ 2822 3125 2822 3475 \nQ 2822 3834 2567 4026 \nQ 2313 4219 1838 4219 \nQ 1578 4219 1281 4162 \nQ 984 4106 628 3988 \nL 628 4550 \nQ 988 4650 1302 4700 \nQ 1616 4750 1894 4750 \nQ 2613 4750 3031 4423 \nQ 3450 4097 3450 3541 \nQ 3450 3153 3228 2886 \nQ 3006 2619 2597 2516 \nz\n\" id=\"DejaVuSans-33\" transform=\"scale(0.015625)\"/>\n       </defs>\n       <use xlink:href=\"#DejaVuSans-30\"/>\n       <use x=\"63.623047\" xlink:href=\"#DejaVuSans-2e\"/>\n       <use x=\"95.410156\" xlink:href=\"#DejaVuSans-38\"/>\n       <use x=\"159.033203\" xlink:href=\"#DejaVuSans-33\"/>\n       <use x=\"222.65625\" xlink:href=\"#DejaVuSans-30\"/>\n      </g>\n     </g>\n    </g>\n    <g id=\"ytick_5\">\n     <g id=\"line2d_14\">\n      <g>\n       <use style=\"stroke:#000000;stroke-width:0.8;\" x=\"42.828125\" xlink:href=\"#m034756439d\" y=\"13.650638\"/>\n      </g>\n     </g>\n     <g id=\"text_14\">\n      <!-- 0.835 -->\n      <g transform=\"translate(7.2 17.449857)scale(0.1 -0.1)\">\n       <use xlink:href=\"#DejaVuSans-30\"/>\n       <use x=\"63.623047\" xlink:href=\"#DejaVuSans-2e\"/>\n       <use x=\"95.410156\" xlink:href=\"#DejaVuSans-38\"/>\n       <use x=\"159.033203\" xlink:href=\"#DejaVuSans-33\"/>\n       <use x=\"222.65625\" xlink:href=\"#DejaVuSans-35\"/>\n      </g>\n     </g>\n    </g>\n   </g>\n   <g id=\"line2d_15\">\n    <path clip-path=\"url(#pd25e0be3c6)\" d=\"M 58.046307 214.756364 \nL 59.553057 212.214188 \nL 61.059808 204.803734 \nL 62.566559 197.9894 \nL 64.07331 195.216848 \nL 65.58006 193.357125 \nL 67.086811 193.31576 \nL 68.593562 192.852482 \nL 70.100312 189.782438 \nL 71.607063 189.651788 \nL 73.113814 187.168387 \nL 74.620564 186.400714 \nL 76.127315 185.875201 \nL 77.634066 182.580198 \nL 79.140816 182.426185 \nL 80.647567 181.854719 \nL 82.154318 181.017423 \nL 83.661068 179.772623 \nL 85.167819 178.375062 \nL 86.67457 177.224514 \nL 88.18132 174.979921 \nL 89.688071 174.169976 \nL 92.701572 174.146082 \nL 94.208323 172.982432 \nL 95.715074 170.835889 \nL 97.221824 170.527475 \nL 100.235326 169.337769 \nL 101.742076 167.373138 \nL 103.248827 166.481076 \nL 104.755578 165.118202 \nL 106.262328 164.598099 \nL 107.769079 164.439367 \nL 109.27583 163.898172 \nL 110.78258 163.489983 \nL 112.289331 163.313508 \nL 113.796082 161.355196 \nL 115.302832 161.29167 \nL 116.809583 160.047435 \nL 118.316334 160.021816 \nL 119.823084 158.88643 \nL 127.356838 158.434496 \nL 128.863589 158.169657 \nL 130.370339 157.783661 \nL 131.87709 156.336479 \nL 133.383841 156.08894 \nL 134.890591 155.981336 \nL 136.397342 155.383689 \nL 139.410843 154.946417 \nL 140.917594 154.281547 \nL 142.424345 153.905813 \nL 143.931095 153.87632 \nL 146.944597 153.192517 \nL 149.958098 153.068601 \nL 151.464849 152.818701 \nL 152.971599 152.812464 \nL 154.47835 152.499881 \nL 157.491851 152.22982 \nL 158.998602 151.620387 \nL 160.505353 151.580475 \nL 162.012103 151.42548 \nL 163.518854 149.062195 \nL 165.025605 149.026739 \nL 166.532355 148.235765 \nL 168.039106 147.872234 \nL 169.545857 147.344592 \nL 171.052607 147.101511 \nL 172.559358 146.251431 \nL 175.572859 145.481053 \nL 177.07961 145.352024 \nL 178.586361 144.930269 \nL 180.093111 144.925582 \nL 181.599862 144.530289 \nL 183.106613 144.3301 \nL 186.120114 144.105794 \nL 187.626865 143.325303 \nL 190.640366 142.542805 \nL 193.653868 142.467062 \nL 195.160618 142.172394 \nL 196.667369 141.649328 \nL 199.68087 141.202932 \nL 201.187621 140.202628 \nL 202.694372 139.583657 \nL 204.201122 139.471939 \nL 205.707873 139.236471 \nL 207.214624 139.224516 \nL 208.721374 138.403444 \nL 210.228125 137.799554 \nL 211.734876 137.497319 \nL 213.241626 136.293266 \nL 214.748377 135.825005 \nL 216.255128 135.74557 \nL 217.761878 135.352757 \nL 219.268629 135.167028 \nL 220.77538 134.649217 \nL 222.28213 134.538714 \nL 223.788881 133.952171 \nL 226.802382 132.019004 \nL 228.309133 131.829707 \nL 229.815884 130.867446 \nL 231.322634 130.789345 \nL 232.829385 130.272692 \nL 234.336136 129.941684 \nL 235.842886 129.321041 \nL 238.856388 129.17391 \nL 240.363139 127.696678 \nL 241.869889 127.521303 \nL 246.390141 127.274725 \nL 247.896892 125.600284 \nL 249.403643 125.212901 \nL 250.910393 124.950286 \nL 252.417144 124.424829 \nL 253.923895 123.617296 \nL 256.937396 123.388991 \nL 258.444147 123.023655 \nL 259.950897 122.286294 \nL 261.457648 121.032172 \nL 262.964399 121.020492 \nL 264.471149 120.744672 \nL 265.9779 117.854677 \nL 267.484651 117.263116 \nL 268.991401 116.417431 \nL 270.498152 116.17131 \nL 272.004903 115.563172 \nL 273.511653 114.144524 \nL 275.018404 113.093525 \nL 278.031905 112.957421 \nL 279.538656 112.419815 \nL 281.045407 112.055137 \nL 282.552157 109.492176 \nL 284.058908 107.924025 \nL 285.565659 107.781502 \nL 287.072409 104.860583 \nL 288.57916 103.180174 \nL 290.085911 95.2947 \nL 291.592661 94.988017 \nL 293.099412 87.266717 \nL 294.606163 83.6654 \nL 296.112913 77.939733 \nL 297.619664 77.782216 \nL 300.633166 73.772674 \nL 302.139916 73.629762 \nL 303.646667 72.587373 \nL 305.153418 69.876918 \nL 306.660168 69.867393 \nL 308.166919 68.465164 \nL 309.67367 57.326384 \nL 311.18042 57.244332 \nL 312.687171 56.966725 \nL 315.700672 54.60922 \nL 317.207423 54.511304 \nL 318.714174 54.194396 \nL 321.727675 52.711373 \nL 324.741176 52.294963 \nL 326.247927 49.508595 \nL 327.754678 49.093505 \nL 329.261428 48.217531 \nL 330.768179 46.312462 \nL 333.78168 45.243039 \nL 335.288431 44.999077 \nL 336.795182 43.500139 \nL 338.301932 42.585308 \nL 339.808683 42.315092 \nL 341.315434 41.853654 \nL 342.822184 41.022076 \nL 344.328935 39.157051 \nL 345.835686 34.882919 \nL 347.342436 33.270987 \nL 348.849187 33.050868 \nL 350.355938 32.686118 \nL 351.862688 27.612143 \nL 353.369439 27.260471 \nL 354.87619 22.196662 \nL 356.38294 21.813984 \nL 357.889691 18.647357 \nL 359.396442 18.446993 \nL 360.903193 17.495442 \nL 362.409943 17.083636 \nL 362.409943 17.083636 \n\" style=\"fill:none;stroke:#1f77b4;stroke-linecap:square;stroke-width:1.5;\"/>\n   </g>\n   <g id=\"patch_3\">\n    <path d=\"M 42.828125 224.64 \nL 42.828125 7.2 \n\" style=\"fill:none;stroke:#000000;stroke-linecap:square;stroke-linejoin:miter;stroke-width:0.8;\"/>\n   </g>\n   <g id=\"patch_4\">\n    <path d=\"M 377.628125 224.64 \nL 377.628125 7.2 \n\" style=\"fill:none;stroke:#000000;stroke-linecap:square;stroke-linejoin:miter;stroke-width:0.8;\"/>\n   </g>\n   <g id=\"patch_5\">\n    <path d=\"M 42.828125 224.64 \nL 377.628125 224.64 \n\" style=\"fill:none;stroke:#000000;stroke-linecap:square;stroke-linejoin:miter;stroke-width:0.8;\"/>\n   </g>\n   <g id=\"patch_6\">\n    <path d=\"M 42.828125 7.2 \nL 377.628125 7.2 \n\" style=\"fill:none;stroke:#000000;stroke-linecap:square;stroke-linejoin:miter;stroke-width:0.8;\"/>\n   </g>\n  </g>\n </g>\n <defs>\n  <clipPath id=\"pd25e0be3c6\">\n   <rect height=\"217.44\" width=\"334.8\" x=\"42.828125\" y=\"7.2\"/>\n  </clipPath>\n </defs>\n</svg>\n",
      "text/plain": [
       "<Figure size 432x288 with 1 Axes>"
      ]
     },
     "metadata": {
      "needs_background": "light"
     },
     "output_type": "display_data"
    }
   ],
   "source": [
    "pds.sort()\n",
    "print(len(pds))\n",
    "plt.plot(pds)"
   ]
  },
  {
   "cell_type": "markdown",
   "metadata": {},
   "source": [
    "# Binary Circle"
   ]
  },
  {
   "cell_type": "code",
   "execution_count": 10,
   "metadata": {},
   "outputs": [],
   "source": [
    "radius = 2.0\n",
    "pds = []\n",
    "for root, dirs, files in os.walk(f'data/BinaryCircle_{radius:.1f}'):\n",
    "    for name in files:\n",
    "        if name[-20:] == 'packingstructure.txt':\n",
    "            filename = os.path.join(root, name)\n",
    "            with open(filename, 'r') as fr:\n",
    "                text = fr.readlines()\n",
    "                N = int(text[8].split()[0])\n",
    "                L = float(text[3].strip().split()[0])\n",
    "                assert N == 400\n",
    "                points = np.loadtxt(text[11:411])\n",
    "                pd = (133 * np.pi * radius ** 2 + 267 * np.pi) / L**2\n",
    "                pds.append(pd)\n",
    "                \n",
    "                with open(f'data/BinaryCircle2/Circle({radius:.0f})[33.3%]-Circle(1)[66.6%]_400_{pd:.6f}_AthermalQuasistaticCompression_11181012.xyz'.format(pd), 'w') as fw:\n",
    "                    fw.write(str(N) + '\\n')\n",
    "                    fw.write(f'Lattice=\"{L:.6e} 0.0 0.0 0.0 {L:.6e} 0.0 0.0 0.0 1.0\" Origin=\"0.0 0.0 0.0\" Properties=species:S:1:unishape_species:S:1:shape_type:S:1:pos:R:3:orientation:R:4:aspherical_shape:R:3\\n')\n",
    "                    for i in range(133):\n",
    "                        fw.write(f'0\\t0\\tCircle\\t{points[i,0]:.6e}\\t{points[i,1]:.6e}\\t{0:.6e}\\t{0:.6e}\\t{0:.6e}\\t{0:.6e}\\t{1:.6e}\\t{radius:.6e}\\t{radius:.6e}\\t{radius:.6e}\\n')\n",
    "                    for i in range(133, 400):\n",
    "                        fw.write(f'1\\t1\\tCircle\\t{points[i,0]:.6e}\\t{points[i,1]:.6e}\\t{0:.6e}\\t{0:.6e}\\t{0:.6e}\\t{0:.6e}\\t{1:.6e}\\t{1:.6e}\\t{1:.6e}\\t{1:.6e}\\n')\n",
    "                    \n",
    "                    fw.write('\\n')\n",
    "                    fw.write('Periodic: true\\n')\n",
    "                    fw.write('Provider: Huangzhaohui\\n')\n",
    "                    fw.write(f'Density: {pd:.6e}\\n')\n",
    "                    fw.write('Algorithm: AthermalQuasistaticCompression')"
   ]
  },
  {
   "cell_type": "code",
   "execution_count": 79,
   "metadata": {},
   "outputs": [
    {
     "name": "stdout",
     "output_type": "stream",
     "text": [
      "30\n"
     ]
    },
    {
     "data": {
      "text/plain": [
       "[<matplotlib.lines.Line2D at 0x7f53afe2daf0>]"
      ]
     },
     "execution_count": 79,
     "metadata": {},
     "output_type": "execute_result"
    },
    {
     "data": {
      "image/png": "[encoded data removed]",
      "text/plain": [
       "<Figure size 432x288 with 1 Axes>"
      ]
     },
     "metadata": {
      "needs_background": "light"
     },
     "output_type": "display_data"
    }
   ],
   "source": [
    "pds.sort()\n",
    "print(len(pds))\n",
    "plt.plot(pds)"
   ]
  },
  {
   "cell_type": "markdown",
   "metadata": {},
   "source": [
    "# RCP Sphere"
   ]
  },
  {
   "cell_type": "code",
   "execution_count": 38,
   "metadata": {},
   "outputs": [],
   "source": [
    "pds = []\n",
    "for root, dirs, files in os.walk('data/SP100_64'):\n",
    "    for name in files:\n",
    "        filename = os.path.join(root, name)\n",
    "        with open(filename, 'r') as fr:\n",
    "            N = int(next(fr))\n",
    "            L = list(map(float, next(fr).split()))[0]\n",
    "            points = np.loadtxt(fr)\n",
    "            pd = 4 / 3 * N * np.pi / L ** 3\n",
    "            pds.append(pd)\n",
    "            \n",
    "            with open(f'data/sphere_asc_100_64/Sphere(1)[100%]_1000_{pd:.6f}_AdaptiveShrinkingCell_11231700.xyz'.format(pd), 'w') as fw:\n",
    "                fw.write(str(N) + '\\n')\n",
    "                fw.write(f'Lattice=\"{L:.6e} 0.0 0.0 0.0 {L:.6e} 0.0 0.0 0.0 {L:.6e}\" Origin=\"0.0 0.0 0.0\" Properties=species:S:1:unishape_species:S:1:shape_type:S:1:pos:R:3:orientation:R:4:aspherical_shape:R:3\\n')\n",
    "                for i in range(N):\n",
    "                    fw.write(f'0\\t0\\tSphere\\t{points[i,0]:.6e}\\t{points[i,1]:.6e}\\t{points[i,2]:.6e}\\t{0:.6e}\\t{0:.6e}\\t{0:.6e}\\t{1:.6e}\\t{1:.6e}\\t{1:.6e}\\t{1:.6e}\\n')\n",
    "\n",
    "                fw.write('\\n')\n",
    "                fw.write('Periodic: true\\n')\n",
    "                fw.write('Provider: Huangzhaohui\\n')\n",
    "                fw.write(f'Density: {pd:.6e}\\n')\n",
    "                fw.write('Algorithm: AdaptiveShrinkingCell')"
   ]
  },
  {
   "cell_type": "code",
   "execution_count": 13,
   "metadata": {},
   "outputs": [],
   "source": [
    "from ovito.io import export_file, import_file"
   ]
  },
  {
   "cell_type": "code",
   "execution_count": 16,
   "metadata": {},
   "outputs": [],
   "source": [
    "pipeline = import_file('/mnt/Edisk/kiwi/OPSI/data/sphere_relaxation_100_64/Sphere(1)[100%]_1000_0.641_Relaxation_period_123164642.xyz')\n",
    "data = pipeline.source.data\n",
    "data.cell_.pbc = [True, True, True]\n",
    "positions = data.particles[\"Position\"]\n",
    "box_len = data.cell[0][0]"
   ]
  },
  {
   "cell_type": "code",
   "execution_count": 31,
   "metadata": {},
   "outputs": [
    {
     "data": {
      "text/plain": [
       "[Property('Particle Type'), Property('Position'), Property('Orientation'), Property('Aspherical Shape')]"
      ]
     },
     "execution_count": 31,
     "metadata": {},
     "output_type": "execute_result"
    }
   ],
   "source": [
    "data.particles.values()"
   ]
  },
  {
   "cell_type": "code",
   "execution_count": 43,
   "metadata": {},
   "outputs": [],
   "source": [
    "def noncenter_dataset(filename, cloud_size):\n",
    "\tpipeline = import_file(filename)\n",
    "\tdata = pipeline.source.data\n",
    "\tdata.cell_.pbc = [True, True, True]\n",
    "\tpositions = data.particles[\"Position\"]\n",
    "\tbox_len = data.cell[0][0]\n",
    "\n",
    "\n",
    "\tgrids = defaultdict(list)\n",
    "\tresolution = 1\n",
    "\tgrid_num = int(box_len // resolution)\n",
    "\tgrid_len = box_len / grid_num\n",
    "\tic(grid_len, grid_num)\n",
    "\tfor index in range(data.particles.count):\n",
    "\t\tgrid_pos = tuple(map(int, positions[index] // grid_len))\n",
    "\t\tgrids[grid_pos].append(index)\n",
    "\n",
    "\tcenters = []\n",
    "\tneighbors = []\n",
    "\tneighbor_indices = set()\n",
    "\tfor i in range(grid_num):\n",
    "\t\tfor j in range(grid_num):\n",
    "\t\t\tfor k in range(grid_num):\n",
    "\t\t\t\tcorrected = {}\n",
    "\t\t\t\tdistance = {}\n",
    "\t\t\t\tcenter = np.array([i+0.5, j+0.5, k+0.5]) * grid_len\n",
    "\t\t\t\tfor p in range(-2,3):\n",
    "\t\t\t\t\tfor q in range(-2,3):\n",
    "\t\t\t\t\t\tfor r in range(-2,3):\n",
    "\t\t\t\t\t\t\tgrid_pos = [i+p, j+q, k+r]\n",
    "\t\t\t\t\t\t\toffset = np.zeros(3)\n",
    "\t\t\t\t\t\t\tfor t in range(3):\n",
    "\t\t\t\t\t\t\t\tif grid_pos[t] < 0:\n",
    "\t\t\t\t\t\t\t\t\tgrid_pos[t] += grid_num\n",
    "\t\t\t\t\t\t\t\t\toffset[t] = -box_len\n",
    "\t\t\t\t\t\t\t\telif grid_pos[t] >= grid_num:\n",
    "\t\t\t\t\t\t\t\t\tgrid_pos[t] -= grid_num\n",
    "\t\t\t\t\t\t\t\t\toffset[t] = box_len\n",
    "\n",
    "\t\t\t\t\t\t\tfor index in grids[tuple(grid_pos)]:\n",
    "\t\t\t\t\t\t\t\tparticle_pos = positions[index] + offset\n",
    "\t\t\t\t\t\t\t\tdistance[index] = np.linalg.norm(center - particle_pos)\n",
    "\t\t\t\t\t\t\t\tcorrected[index] = particle_pos\n",
    "\n",
    "\t\t\t\tnearest = sorted(distance, key=distance.get)[:cloud_size]\n",
    "\t\t\t\tif tuple(nearest) not in neighbor_indices:\n",
    "\t\t\t\t\tneighbor_indices.add(tuple(nearest))\n",
    "\t\t\t\t\tpoint_cloud = np.array([corrected[index] for index in nearest])\n",
    "\t\t\t\t\tneighbors.append(point_cloud - point_cloud.mean(axis=0))\n",
    "\t\t\t\t\tcenters.append(center + point_cloud.mean(axis=0))\n",
    "\t\n",
    "\treturn centers, neighbors"
   ]
  },
  {
   "cell_type": "code",
   "execution_count": 44,
   "metadata": {},
   "outputs": [],
   "source": [
    "def make_dataset(cloud_size):\n",
    "    neighbor_list = []\n",
    "    for root, dirs, files in os.walk('data/Sphere100_64'):\n",
    "        for name in files:\n",
    "            filename = os.path.join(root, name)\n",
    "            centers, neighbors = noncenter_dataset(filename, cloud_size)\n",
    "            neighbor_list.append(neighbors)\n",
    "\n",
    "    dataset = np.concatenate(neighbor_list, axis=0)\n",
    "    ic(len(dataset))\n",
    "    np.save(f'data/mrj_{cloud_size}_samples.npy', dataset)"
   ]
  },
  {
   "cell_type": "code",
   "execution_count": 45,
   "metadata": {},
   "outputs": [
    {
     "name": "stderr",
     "output_type": "stream",
     "text": [
      "ic| grid_len: 1.0393594444444443, grid_num: 18\n",
      "ic| grid_len: 1.0393294444444445, grid_num: 18\n",
      "ic| grid_len: 1.039288888888889, grid_num: 18\n",
      "ic| grid_len: 1.0392222222222223, grid_num: 18\n",
      "ic| grid_len: 1.0388944444444443, grid_num: 18\n",
      "ic| grid_len: 1.0388883333333334, grid_num: 18\n",
      "ic| grid_len: 1.0387916666666668, grid_num: 18\n",
      "ic| grid_len: 1.0387816666666667, grid_num: 18\n",
      "ic| grid_len: 1.0385594444444444, grid_num: 18\n",
      "ic| grid_len: 1.0384888888888888, grid_num: 18\n",
      "ic| grid_len: 1.0384761111111112, grid_num: 18\n",
      "ic| grid_len: 1.0384644444444444, grid_num: 18\n",
      "ic| grid_len: 1.03846, grid_num: 18\n",
      "ic| grid_len: 1.03843, grid_num: 18\n",
      "ic| grid_len: 1.0384066666666667, grid_num: 18\n",
      "ic| grid_len: 1.038405, grid_num: 18\n",
      "ic| grid_len: 1.038343888888889, grid_num: 18\n",
      "ic| grid_len: 1.038317777777778, grid_num: 18\n",
      "ic| grid_len: 1.038303888888889, grid_num: 18\n",
      "ic| grid_len: 1.0382377777777778, grid_num: 18\n",
      "ic| grid_len: 1.0382116666666665, grid_num: 18\n",
      "ic| grid_len: 1.0381883333333333, grid_num: 18\n",
      "ic| grid_len: 1.0381799999999999, grid_num: 18\n",
      "ic| grid_len: 1.0381705555555554, grid_num: 18\n",
      "ic| grid_len: 1.0381416666666667, grid_num: 18\n",
      "ic| grid_len: 1.038125, grid_num: 18\n",
      "ic| grid_len: 1.0381244444444446, grid_num: 18\n",
      "ic| grid_len: 1.0381177777777777, grid_num: 18\n",
      "ic| grid_len: 1.0380511111111113, grid_num: 18\n",
      "ic| grid_len: 1.0380383333333334, grid_num: 18\n",
      "ic| grid_len: 1.0380072222222223, grid_num: 18\n",
      "ic| grid_len: 1.0379072222222223, grid_num: 18\n",
      "ic| grid_len: 1.037893888888889, grid_num: 18\n",
      "ic| grid_len: 1.0378800000000001, grid_num: 18\n",
      "ic| grid_len: 1.0378472222222221, grid_num: 18\n",
      "ic| grid_len: 1.0378366666666665, grid_num: 18\n",
      "ic| grid_len: 1.037833888888889, grid_num: 18\n",
      "ic| grid_len: 1.0378183333333333, grid_num: 18\n",
      "ic| grid_len: 1.0378088888888888, grid_num: 18\n",
      "ic| grid_len: 1.0377572222222222, grid_num: 18\n",
      "ic| grid_len: 1.0377505555555555, grid_num: 18\n",
      "ic| grid_len: 1.0376827777777777, grid_num: 18\n",
      "ic| grid_len: 1.03768, grid_num: 18\n",
      "ic| grid_len: 1.0376677777777779, grid_num: 18\n",
      "ic| grid_len: 1.0376333333333332, grid_num: 18\n",
      "ic| grid_len: 1.0376316666666667, grid_num: 18\n",
      "ic| grid_len: 1.037628888888889, grid_num: 18\n",
      "ic| grid_len: 1.038505, grid_num: 18\n",
      "ic| grid_len: 1.0383016666666667, grid_num: 18\n",
      "ic| grid_len: 1.03805, grid_num: 18\n",
      "ic| grid_len: 1.0378138888888888, grid_num: 18\n",
      "ic| grid_len: 1.037581111111111, grid_num: 18\n",
      "ic| grid_len: 1.0371744444444444, grid_num: 18\n",
      "ic| grid_len: 1.0368844444444445, grid_num: 18\n",
      "ic| grid_len: 1.0365222222222221, grid_num: 18\n",
      "ic| grid_len: 1.0375794444444444, grid_num: 18\n",
      "ic| grid_len: 1.0375344444444443, grid_num: 18\n",
      "ic| grid_len: 1.0375277777777778, grid_num: 18\n",
      "ic| grid_len: 1.0374894444444445, grid_num: 18\n",
      "ic| grid_len: 1.0374194444444444, grid_num: 18\n",
      "ic| grid_len: 1.0373577777777778, grid_num: 18\n",
      "ic| grid_len: 1.03723, grid_num: 18\n",
      "ic| grid_len: 1.0371949999999999, grid_num: 18\n",
      "ic| grid_len: 1.0371822222222222, grid_num: 18\n",
      "ic| grid_len: 1.0371694444444444, grid_num: 18\n",
      "ic| grid_len: 1.0370727777777777, grid_num: 18\n",
      "ic| grid_len: 1.0370716666666668, grid_num: 18\n",
      "ic| grid_len: 1.036965, grid_num: 18\n",
      "ic| grid_len: 1.0369549999999998, grid_num: 18\n",
      "ic| grid_len: 1.036953888888889, grid_num: 18\n",
      "ic| grid_len: 1.0369477777777778, grid_num: 18\n",
      "ic| grid_len: 1.0369155555555556, grid_num: 18\n",
      "ic| grid_len: 1.0368927777777777, grid_num: 18\n",
      "ic| grid_len: 1.0368383333333333, grid_num: 18\n",
      "ic| grid_len: 1.036835, grid_num: 18\n",
      "ic| grid_len: 1.0368199999999999, grid_num: 18\n",
      "ic| grid_len: 1.0366816666666667, grid_num: 18\n",
      "ic| grid_len: 1.036652222222222, grid_num: 18\n",
      "ic| grid_len: 1.036615, grid_num: 18\n",
      "ic| grid_len: 1.0366094444444445, grid_num: 18\n",
      "ic| grid_len: 1.0366033333333333, grid_num: 18\n",
      "ic| grid_len: 1.0365777777777778, grid_num: 18\n",
      "ic| grid_len: 1.0364955555555555, grid_num: 18\n",
      "ic| grid_len: 1.0364511111111112, grid_num: 18\n",
      "ic| grid_len: 1.0363283333333333, grid_num: 18\n",
      "ic| grid_len: 1.0361772222222223, grid_num: 18\n",
      "ic| grid_len: 1.0361655555555556, grid_num: 18\n",
      "ic| grid_len: 1.0361444444444445, grid_num: 18\n",
      "ic| grid_len: 1.0361405555555556, grid_num: 18\n",
      "ic| grid_len: 1.0361083333333334, grid_num: 18\n",
      "ic| grid_len: 1.0360427777777776, grid_num: 18\n",
      "ic| grid_len: 1.0359705555555554, grid_num: 18\n",
      "ic| grid_len: 1.0359666666666667, grid_num: 18\n",
      "ic| grid_len: 1.0359416666666668, grid_num: 18\n",
      "ic| grid_len: 1.0359305555555556, grid_num: 18\n",
      "ic| grid_len: 1.035913888888889, grid_num: 18\n",
      "ic| grid_len: 1.035902222222222, grid_num: 18\n",
      "ic| grid_len: 1.0358883333333333, grid_num: 18\n",
      "ic| grid_len: 1.0358705555555554, grid_num: 18\n",
      "ic| grid_len: 1.0358477777777777, grid_num: 18\n",
      "ic| len(dataset): 583200\n",
      "ic| grid_len: 1.0393594444444443, grid_num: 18\n",
      "ic| grid_len: 1.0393294444444445, grid_num: 18\n",
      "ic| grid_len: 1.039288888888889, grid_num: 18\n",
      "ic| grid_len: 1.0392222222222223, grid_num: 18\n",
      "ic| grid_len: 1.0388944444444443, grid_num: 18\n",
      "ic| grid_len: 1.0388883333333334, grid_num: 18\n",
      "ic| grid_len: 1.0387916666666668, grid_num: 18\n",
      "ic| grid_len: 1.0387816666666667, grid_num: 18\n",
      "ic| grid_len: 1.0385594444444444, grid_num: 18\n",
      "ic| grid_len: 1.0384888888888888, grid_num: 18\n",
      "ic| grid_len: 1.0384761111111112, grid_num: 18\n",
      "ic| grid_len: 1.0384644444444444, grid_num: 18\n",
      "ic| grid_len: 1.03846, grid_num: 18\n",
      "ic| grid_len: 1.03843, grid_num: 18\n",
      "ic| grid_len: 1.0384066666666667, grid_num: 18\n",
      "ic| grid_len: 1.038405, grid_num: 18\n",
      "ic| grid_len: 1.038343888888889, grid_num: 18\n",
      "ic| grid_len: 1.038317777777778, grid_num: 18\n",
      "ic| grid_len: 1.038303888888889, grid_num: 18\n",
      "ic| grid_len: 1.0382377777777778, grid_num: 18\n",
      "ic| grid_len: 1.0382116666666665, grid_num: 18\n",
      "ic| grid_len: 1.0381883333333333, grid_num: 18\n",
      "ic| grid_len: 1.0381799999999999, grid_num: 18\n",
      "ic| grid_len: 1.0381705555555554, grid_num: 18\n",
      "ic| grid_len: 1.0381416666666667, grid_num: 18\n",
      "ic| grid_len: 1.038125, grid_num: 18\n",
      "ic| grid_len: 1.0381244444444446, grid_num: 18\n",
      "ic| grid_len: 1.0381177777777777, grid_num: 18\n",
      "ic| grid_len: 1.0380511111111113, grid_num: 18\n",
      "ic| grid_len: 1.0380383333333334, grid_num: 18\n",
      "ic| grid_len: 1.0380072222222223, grid_num: 18\n",
      "ic| grid_len: 1.0379072222222223, grid_num: 18\n",
      "ic| grid_len: 1.037893888888889, grid_num: 18\n",
      "ic| grid_len: 1.0378800000000001, grid_num: 18\n",
      "ic| grid_len: 1.0378472222222221, grid_num: 18\n",
      "ic| grid_len: 1.0378366666666665, grid_num: 18\n",
      "ic| grid_len: 1.037833888888889, grid_num: 18\n",
      "ic| grid_len: 1.0378183333333333, grid_num: 18\n",
      "ic| grid_len: 1.0378088888888888, grid_num: 18\n",
      "ic| grid_len: 1.0377572222222222, grid_num: 18\n",
      "ic| grid_len: 1.0377505555555555, grid_num: 18\n",
      "ic| grid_len: 1.0376827777777777, grid_num: 18\n",
      "ic| grid_len: 1.03768, grid_num: 18\n",
      "ic| grid_len: 1.0376677777777779, grid_num: 18\n",
      "ic| grid_len: 1.0376333333333332, grid_num: 18\n",
      "ic| grid_len: 1.0376316666666667, grid_num: 18\n",
      "ic| grid_len: 1.037628888888889, grid_num: 18\n",
      "ic| grid_len: 1.038505, grid_num: 18\n",
      "ic| grid_len: 1.0383016666666667, grid_num: 18\n",
      "ic| grid_len: 1.03805, grid_num: 18\n",
      "ic| grid_len: 1.0378138888888888, grid_num: 18\n",
      "ic| grid_len: 1.037581111111111, grid_num: 18\n",
      "ic| grid_len: 1.0371744444444444, grid_num: 18\n",
      "ic| grid_len: 1.0368844444444445, grid_num: 18\n",
      "ic| grid_len: 1.0365222222222221, grid_num: 18\n",
      "ic| grid_len: 1.0375794444444444, grid_num: 18\n",
      "ic| grid_len: 1.0375344444444443, grid_num: 18\n",
      "ic| grid_len: 1.0375277777777778, grid_num: 18\n",
      "ic| grid_len: 1.0374894444444445, grid_num: 18\n",
      "ic| grid_len: 1.0374194444444444, grid_num: 18\n",
      "ic| grid_len: 1.0373577777777778, grid_num: 18\n",
      "ic| grid_len: 1.03723, grid_num: 18\n",
      "ic| grid_len: 1.0371949999999999, grid_num: 18\n",
      "ic| grid_len: 1.0371822222222222, grid_num: 18\n",
      "ic| grid_len: 1.0371694444444444, grid_num: 18\n",
      "ic| grid_len: 1.0370727777777777, grid_num: 18\n",
      "ic| grid_len: 1.0370716666666668, grid_num: 18\n",
      "ic| grid_len: 1.036965, grid_num: 18\n",
      "ic| grid_len: 1.0369549999999998, grid_num: 18\n",
      "ic| grid_len: 1.036953888888889, grid_num: 18\n",
      "ic| grid_len: 1.0369477777777778, grid_num: 18\n",
      "ic| grid_len: 1.0369155555555556, grid_num: 18\n",
      "ic| grid_len: 1.0368927777777777, grid_num: 18\n",
      "ic| grid_len: 1.0368383333333333, grid_num: 18\n",
      "ic| grid_len: 1.036835, grid_num: 18\n",
      "ic| grid_len: 1.0368199999999999, grid_num: 18\n",
      "ic| grid_len: 1.0366816666666667, grid_num: 18\n",
      "ic| grid_len: 1.036652222222222, grid_num: 18\n",
      "ic| grid_len: 1.036615, grid_num: 18\n",
      "ic| grid_len: 1.0366094444444445, grid_num: 18\n",
      "ic| grid_len: 1.0366033333333333, grid_num: 18\n",
      "ic| grid_len: 1.0365777777777778, grid_num: 18\n",
      "ic| grid_len: 1.0364955555555555, grid_num: 18\n",
      "ic| grid_len: 1.0364511111111112, grid_num: 18\n",
      "ic| grid_len: 1.0363283333333333, grid_num: 18\n",
      "ic| grid_len: 1.0361772222222223, grid_num: 18\n",
      "ic| grid_len: 1.0361655555555556, grid_num: 18\n",
      "ic| grid_len: 1.0361444444444445, grid_num: 18\n",
      "ic| grid_len: 1.0361405555555556, grid_num: 18\n",
      "ic| grid_len: 1.0361083333333334, grid_num: 18\n",
      "ic| grid_len: 1.0360427777777776, grid_num: 18\n",
      "ic| grid_len: 1.0359705555555554, grid_num: 18\n",
      "ic| grid_len: 1.0359666666666667, grid_num: 18\n",
      "ic| grid_len: 1.0359416666666668, grid_num: 18\n",
      "ic| grid_len: 1.0359305555555556, grid_num: 18\n",
      "ic| grid_len: 1.035913888888889, grid_num: 18\n",
      "ic| grid_len: 1.035902222222222, grid_num: 18\n",
      "ic| grid_len: 1.0358883333333333, grid_num: 18\n",
      "ic| grid_len: 1.0358705555555554, grid_num: 18\n",
      "ic| grid_len: 1.0358477777777777, grid_num: 18\n",
      "ic| len(dataset): 583200\n",
      "ic| grid_len: 1.0393594444444443, grid_num: 18\n",
      "ic| grid_len: 1.0393294444444445, grid_num: 18\n",
      "ic| grid_len: 1.039288888888889, grid_num: 18\n",
      "ic| grid_len: 1.0392222222222223, grid_num: 18\n",
      "ic| grid_len: 1.0388944444444443, grid_num: 18\n",
      "ic| grid_len: 1.0388883333333334, grid_num: 18\n",
      "ic| grid_len: 1.0387916666666668, grid_num: 18\n",
      "ic| grid_len: 1.0387816666666667, grid_num: 18\n",
      "ic| grid_len: 1.0385594444444444, grid_num: 18\n",
      "ic| grid_len: 1.0384888888888888, grid_num: 18\n",
      "ic| grid_len: 1.0384761111111112, grid_num: 18\n",
      "ic| grid_len: 1.0384644444444444, grid_num: 18\n",
      "ic| grid_len: 1.03846, grid_num: 18\n",
      "ic| grid_len: 1.03843, grid_num: 18\n",
      "ic| grid_len: 1.0384066666666667, grid_num: 18\n",
      "ic| grid_len: 1.038405, grid_num: 18\n",
      "ic| grid_len: 1.038343888888889, grid_num: 18\n",
      "ic| grid_len: 1.038317777777778, grid_num: 18\n",
      "ic| grid_len: 1.038303888888889, grid_num: 18\n",
      "ic| grid_len: 1.0382377777777778, grid_num: 18\n",
      "ic| grid_len: 1.0382116666666665, grid_num: 18\n",
      "ic| grid_len: 1.0381883333333333, grid_num: 18\n",
      "ic| grid_len: 1.0381799999999999, grid_num: 18\n",
      "ic| grid_len: 1.0381705555555554, grid_num: 18\n",
      "ic| grid_len: 1.0381416666666667, grid_num: 18\n",
      "ic| grid_len: 1.038125, grid_num: 18\n",
      "ic| grid_len: 1.0381244444444446, grid_num: 18\n",
      "ic| grid_len: 1.0381177777777777, grid_num: 18\n",
      "ic| grid_len: 1.0380511111111113, grid_num: 18\n",
      "ic| grid_len: 1.0380383333333334, grid_num: 18\n",
      "ic| grid_len: 1.0380072222222223, grid_num: 18\n",
      "ic| grid_len: 1.0379072222222223, grid_num: 18\n",
      "ic| grid_len: 1.037893888888889, grid_num: 18\n",
      "ic| grid_len: 1.0378800000000001, grid_num: 18\n",
      "ic| grid_len: 1.0378472222222221, grid_num: 18\n",
      "ic| grid_len: 1.0378366666666665, grid_num: 18\n",
      "ic| grid_len: 1.037833888888889, grid_num: 18\n",
      "ic| grid_len: 1.0378183333333333, grid_num: 18\n",
      "ic| grid_len: 1.0378088888888888, grid_num: 18\n",
      "ic| grid_len: 1.0377572222222222, grid_num: 18\n",
      "ic| grid_len: 1.0377505555555555, grid_num: 18\n",
      "ic| grid_len: 1.0376827777777777, grid_num: 18\n",
      "ic| grid_len: 1.03768, grid_num: 18\n",
      "ic| grid_len: 1.0376677777777779, grid_num: 18\n",
      "ic| grid_len: 1.0376333333333332, grid_num: 18\n",
      "ic| grid_len: 1.0376316666666667, grid_num: 18\n",
      "ic| grid_len: 1.037628888888889, grid_num: 18\n",
      "ic| grid_len: 1.038505, grid_num: 18\n",
      "ic| grid_len: 1.0383016666666667, grid_num: 18\n",
      "ic| grid_len: 1.03805, grid_num: 18\n",
      "ic| grid_len: 1.0378138888888888, grid_num: 18\n",
      "ic| grid_len: 1.037581111111111, grid_num: 18\n",
      "ic| grid_len: 1.0371744444444444, grid_num: 18\n",
      "ic| grid_len: 1.0368844444444445, grid_num: 18\n",
      "ic| grid_len: 1.0365222222222221, grid_num: 18\n",
      "ic| grid_len: 1.0375794444444444, grid_num: 18\n",
      "ic| grid_len: 1.0375344444444443, grid_num: 18\n",
      "ic| grid_len: 1.0375277777777778, grid_num: 18\n",
      "ic| grid_len: 1.0374894444444445, grid_num: 18\n",
      "ic| grid_len: 1.0374194444444444, grid_num: 18\n",
      "ic| grid_len: 1.0373577777777778, grid_num: 18\n",
      "ic| grid_len: 1.03723, grid_num: 18\n",
      "ic| grid_len: 1.0371949999999999, grid_num: 18\n",
      "ic| grid_len: 1.0371822222222222, grid_num: 18\n",
      "ic| grid_len: 1.0371694444444444, grid_num: 18\n",
      "ic| grid_len: 1.0370727777777777, grid_num: 18\n",
      "ic| grid_len: 1.0370716666666668, grid_num: 18\n",
      "ic| grid_len: 1.036965, grid_num: 18\n",
      "ic| grid_len: 1.0369549999999998, grid_num: 18\n",
      "ic| grid_len: 1.036953888888889, grid_num: 18\n",
      "ic| grid_len: 1.0369477777777778, grid_num: 18\n",
      "ic| grid_len: 1.0369155555555556, grid_num: 18\n",
      "ic| grid_len: 1.0368927777777777, grid_num: 18\n",
      "ic| grid_len: 1.0368383333333333, grid_num: 18\n",
      "ic| grid_len: 1.036835, grid_num: 18\n",
      "ic| grid_len: 1.0368199999999999, grid_num: 18\n",
      "ic| grid_len: 1.0366816666666667, grid_num: 18\n",
      "ic| grid_len: 1.036652222222222, grid_num: 18\n",
      "ic| grid_len: 1.036615, grid_num: 18\n",
      "ic| grid_len: 1.0366094444444445, grid_num: 18\n",
      "ic| grid_len: 1.0366033333333333, grid_num: 18\n",
      "ic| grid_len: 1.0365777777777778, grid_num: 18\n",
      "ic| grid_len: 1.0364955555555555, grid_num: 18\n",
      "ic| grid_len: 1.0364511111111112, grid_num: 18\n",
      "ic| grid_len: 1.0363283333333333, grid_num: 18\n",
      "ic| grid_len: 1.0361772222222223, grid_num: 18\n",
      "ic| grid_len: 1.0361655555555556, grid_num: 18\n",
      "ic| grid_len: 1.0361444444444445, grid_num: 18\n",
      "ic| grid_len: 1.0361405555555556, grid_num: 18\n",
      "ic| grid_len: 1.0361083333333334, grid_num: 18\n",
      "ic| grid_len: 1.0360427777777776, grid_num: 18\n",
      "ic| grid_len: 1.0359705555555554, grid_num: 18\n",
      "ic| grid_len: 1.0359666666666667, grid_num: 18\n",
      "ic| grid_len: 1.0359416666666668, grid_num: 18\n",
      "ic| grid_len: 1.0359305555555556, grid_num: 18\n",
      "ic| grid_len: 1.035913888888889, grid_num: 18\n",
      "ic| grid_len: 1.035902222222222, grid_num: 18\n",
      "ic| grid_len: 1.0358883333333333, grid_num: 18\n",
      "ic| grid_len: 1.0358705555555554, grid_num: 18\n",
      "ic| grid_len: 1.0358477777777777, grid_num: 18\n",
      "ic| len(dataset): 583200\n",
      "ic| grid_len: 1.0393594444444443, grid_num: 18\n",
      "ic| grid_len: 1.0393294444444445, grid_num: 18\n",
      "ic| grid_len: 1.039288888888889, grid_num: 18\n",
      "ic| grid_len: 1.0392222222222223, grid_num: 18\n",
      "ic| grid_len: 1.0388944444444443, grid_num: 18\n",
      "ic| grid_len: 1.0388883333333334, grid_num: 18\n",
      "ic| grid_len: 1.0387916666666668, grid_num: 18\n",
      "ic| grid_len: 1.0387816666666667, grid_num: 18\n",
      "ic| grid_len: 1.0385594444444444, grid_num: 18\n",
      "ic| grid_len: 1.0384888888888888, grid_num: 18\n",
      "ic| grid_len: 1.0384761111111112, grid_num: 18\n",
      "ic| grid_len: 1.0384644444444444, grid_num: 18\n",
      "ic| grid_len: 1.03846, grid_num: 18\n",
      "ic| grid_len: 1.03843, grid_num: 18\n",
      "ic| grid_len: 1.0384066666666667, grid_num: 18\n",
      "ic| grid_len: 1.038405, grid_num: 18\n",
      "ic| grid_len: 1.038343888888889, grid_num: 18\n",
      "ic| grid_len: 1.038317777777778, grid_num: 18\n",
      "ic| grid_len: 1.038303888888889, grid_num: 18\n",
      "ic| grid_len: 1.0382377777777778, grid_num: 18\n",
      "ic| grid_len: 1.0382116666666665, grid_num: 18\n",
      "ic| grid_len: 1.0381883333333333, grid_num: 18\n",
      "ic| grid_len: 1.0381799999999999, grid_num: 18\n",
      "ic| grid_len: 1.0381705555555554, grid_num: 18\n",
      "ic| grid_len: 1.0381416666666667, grid_num: 18\n",
      "ic| grid_len: 1.038125, grid_num: 18\n",
      "ic| grid_len: 1.0381244444444446, grid_num: 18\n",
      "ic| grid_len: 1.0381177777777777, grid_num: 18\n",
      "ic| grid_len: 1.0380511111111113, grid_num: 18\n",
      "ic| grid_len: 1.0380383333333334, grid_num: 18\n",
      "ic| grid_len: 1.0380072222222223, grid_num: 18\n",
      "ic| grid_len: 1.0379072222222223, grid_num: 18\n",
      "ic| grid_len: 1.037893888888889, grid_num: 18\n",
      "ic| grid_len: 1.0378800000000001, grid_num: 18\n",
      "ic| grid_len: 1.0378472222222221, grid_num: 18\n",
      "ic| grid_len: 1.0378366666666665, grid_num: 18\n",
      "ic| grid_len: 1.037833888888889, grid_num: 18\n",
      "ic| grid_len: 1.0378183333333333, grid_num: 18\n",
      "ic| grid_len: 1.0378088888888888, grid_num: 18\n",
      "ic| grid_len: 1.0377572222222222, grid_num: 18\n",
      "ic| grid_len: 1.0377505555555555, grid_num: 18\n",
      "ic| grid_len: 1.0376827777777777, grid_num: 18\n",
      "ic| grid_len: 1.03768, grid_num: 18\n",
      "ic| grid_len: 1.0376677777777779, grid_num: 18\n",
      "ic| grid_len: 1.0376333333333332, grid_num: 18\n",
      "ic| grid_len: 1.0376316666666667, grid_num: 18\n",
      "ic| grid_len: 1.037628888888889, grid_num: 18\n",
      "ic| grid_len: 1.038505, grid_num: 18\n",
      "ic| grid_len: 1.0383016666666667, grid_num: 18\n",
      "ic| grid_len: 1.03805, grid_num: 18\n",
      "ic| grid_len: 1.0378138888888888, grid_num: 18\n",
      "ic| grid_len: 1.037581111111111, grid_num: 18\n",
      "ic| grid_len: 1.0371744444444444, grid_num: 18\n",
      "ic| grid_len: 1.0368844444444445, grid_num: 18\n",
      "ic| grid_len: 1.0365222222222221, grid_num: 18\n",
      "ic| grid_len: 1.0375794444444444, grid_num: 18\n",
      "ic| grid_len: 1.0375344444444443, grid_num: 18\n",
      "ic| grid_len: 1.0375277777777778, grid_num: 18\n",
      "ic| grid_len: 1.0374894444444445, grid_num: 18\n",
      "ic| grid_len: 1.0374194444444444, grid_num: 18\n",
      "ic| grid_len: 1.0373577777777778, grid_num: 18\n",
      "ic| grid_len: 1.03723, grid_num: 18\n",
      "ic| grid_len: 1.0371949999999999, grid_num: 18\n",
      "ic| grid_len: 1.0371822222222222, grid_num: 18\n",
      "ic| grid_len: 1.0371694444444444, grid_num: 18\n",
      "ic| grid_len: 1.0370727777777777, grid_num: 18\n",
      "ic| grid_len: 1.0370716666666668, grid_num: 18\n",
      "ic| grid_len: 1.036965, grid_num: 18\n",
      "ic| grid_len: 1.0369549999999998, grid_num: 18\n",
      "ic| grid_len: 1.036953888888889, grid_num: 18\n",
      "ic| grid_len: 1.0369477777777778, grid_num: 18\n",
      "ic| grid_len: 1.0369155555555556, grid_num: 18\n",
      "ic| grid_len: 1.0368927777777777, grid_num: 18\n",
      "ic| grid_len: 1.0368383333333333, grid_num: 18\n",
      "ic| grid_len: 1.036835, grid_num: 18\n",
      "ic| grid_len: 1.0368199999999999, grid_num: 18\n",
      "ic| grid_len: 1.0366816666666667, grid_num: 18\n",
      "ic| grid_len: 1.036652222222222, grid_num: 18\n",
      "ic| grid_len: 1.036615, grid_num: 18\n",
      "ic| grid_len: 1.0366094444444445, grid_num: 18\n",
      "ic| grid_len: 1.0366033333333333, grid_num: 18\n",
      "ic| grid_len: 1.0365777777777778, grid_num: 18\n",
      "ic| grid_len: 1.0364955555555555, grid_num: 18\n",
      "ic| grid_len: 1.0364511111111112, grid_num: 18\n",
      "ic| grid_len: 1.0363283333333333, grid_num: 18\n",
      "ic| grid_len: 1.0361772222222223, grid_num: 18\n",
      "ic| grid_len: 1.0361655555555556, grid_num: 18\n",
      "ic| grid_len: 1.0361444444444445, grid_num: 18\n",
      "ic| grid_len: 1.0361405555555556, grid_num: 18\n",
      "ic| grid_len: 1.0361083333333334, grid_num: 18\n",
      "ic| grid_len: 1.0360427777777776, grid_num: 18\n",
      "ic| grid_len: 1.0359705555555554, grid_num: 18\n",
      "ic| grid_len: 1.0359666666666667, grid_num: 18\n",
      "ic| grid_len: 1.0359416666666668, grid_num: 18\n",
      "ic| grid_len: 1.0359305555555556, grid_num: 18\n",
      "ic| grid_len: 1.035913888888889, grid_num: 18\n",
      "ic| grid_len: 1.035902222222222, grid_num: 18\n",
      "ic| grid_len: 1.0358883333333333, grid_num: 18\n",
      "ic| grid_len: 1.0358705555555554, grid_num: 18\n",
      "ic| grid_len: 1.0358477777777777, grid_num: 18\n",
      "ic| len(dataset): 583200\n",
      "ic| grid_len: 1.0393594444444443, grid_num: 18\n",
      "ic| grid_len: 1.0393294444444445, grid_num: 18\n",
      "ic| grid_len: 1.039288888888889, grid_num: 18\n",
      "ic| grid_len: 1.0392222222222223, grid_num: 18\n",
      "ic| grid_len: 1.0388944444444443, grid_num: 18\n",
      "ic| grid_len: 1.0388883333333334, grid_num: 18\n",
      "ic| grid_len: 1.0387916666666668, grid_num: 18\n",
      "ic| grid_len: 1.0387816666666667, grid_num: 18\n",
      "ic| grid_len: 1.0385594444444444, grid_num: 18\n",
      "ic| grid_len: 1.0384888888888888, grid_num: 18\n",
      "ic| grid_len: 1.0384761111111112, grid_num: 18\n",
      "ic| grid_len: 1.0384644444444444, grid_num: 18\n",
      "ic| grid_len: 1.03846, grid_num: 18\n",
      "ic| grid_len: 1.03843, grid_num: 18\n",
      "ic| grid_len: 1.0384066666666667, grid_num: 18\n",
      "ic| grid_len: 1.038405, grid_num: 18\n",
      "ic| grid_len: 1.038343888888889, grid_num: 18\n",
      "ic| grid_len: 1.038317777777778, grid_num: 18\n",
      "ic| grid_len: 1.038303888888889, grid_num: 18\n",
      "ic| grid_len: 1.0382377777777778, grid_num: 18\n",
      "ic| grid_len: 1.0382116666666665, grid_num: 18\n",
      "ic| grid_len: 1.0381883333333333, grid_num: 18\n",
      "ic| grid_len: 1.0381799999999999, grid_num: 18\n",
      "ic| grid_len: 1.0381705555555554, grid_num: 18\n",
      "ic| grid_len: 1.0381416666666667, grid_num: 18\n",
      "ic| grid_len: 1.038125, grid_num: 18\n",
      "ic| grid_len: 1.0381244444444446, grid_num: 18\n",
      "ic| grid_len: 1.0381177777777777, grid_num: 18\n",
      "ic| grid_len: 1.0380511111111113, grid_num: 18\n",
      "ic| grid_len: 1.0380383333333334, grid_num: 18\n",
      "ic| grid_len: 1.0380072222222223, grid_num: 18\n",
      "ic| grid_len: 1.0379072222222223, grid_num: 18\n",
      "ic| grid_len: 1.037893888888889, grid_num: 18\n",
      "ic| grid_len: 1.0378800000000001, grid_num: 18\n",
      "ic| grid_len: 1.0378472222222221, grid_num: 18\n",
      "ic| grid_len: 1.0378366666666665, grid_num: 18\n",
      "ic| grid_len: 1.037833888888889, grid_num: 18\n",
      "ic| grid_len: 1.0378183333333333, grid_num: 18\n",
      "ic| grid_len: 1.0378088888888888, grid_num: 18\n",
      "ic| grid_len: 1.0377572222222222, grid_num: 18\n",
      "ic| grid_len: 1.0377505555555555, grid_num: 18\n",
      "ic| grid_len: 1.0376827777777777, grid_num: 18\n",
      "ic| grid_len: 1.03768, grid_num: 18\n",
      "ic| grid_len: 1.0376677777777779, grid_num: 18\n",
      "ic| grid_len: 1.0376333333333332, grid_num: 18\n",
      "ic| grid_len: 1.0376316666666667, grid_num: 18\n",
      "ic| grid_len: 1.037628888888889, grid_num: 18\n",
      "ic| grid_len: 1.038505, grid_num: 18\n",
      "ic| grid_len: 1.0383016666666667, grid_num: 18\n",
      "ic| grid_len: 1.03805, grid_num: 18\n",
      "ic| grid_len: 1.0378138888888888, grid_num: 18\n",
      "ic| grid_len: 1.037581111111111, grid_num: 18\n",
      "ic| grid_len: 1.0371744444444444, grid_num: 18\n",
      "ic| grid_len: 1.0368844444444445, grid_num: 18\n",
      "ic| grid_len: 1.0365222222222221, grid_num: 18\n",
      "ic| grid_len: 1.0375794444444444, grid_num: 18\n",
      "ic| grid_len: 1.0375344444444443, grid_num: 18\n",
      "ic| grid_len: 1.0375277777777778, grid_num: 18\n",
      "ic| grid_len: 1.0374894444444445, grid_num: 18\n",
      "ic| grid_len: 1.0374194444444444, grid_num: 18\n",
      "ic| grid_len: 1.0373577777777778, grid_num: 18\n",
      "ic| grid_len: 1.03723, grid_num: 18\n",
      "ic| grid_len: 1.0371949999999999, grid_num: 18\n",
      "ic| grid_len: 1.0371822222222222, grid_num: 18\n",
      "ic| grid_len: 1.0371694444444444, grid_num: 18\n",
      "ic| grid_len: 1.0370727777777777, grid_num: 18\n",
      "ic| grid_len: 1.0370716666666668, grid_num: 18\n",
      "ic| grid_len: 1.036965, grid_num: 18\n",
      "ic| grid_len: 1.0369549999999998, grid_num: 18\n",
      "ic| grid_len: 1.036953888888889, grid_num: 18\n",
      "ic| grid_len: 1.0369477777777778, grid_num: 18\n",
      "ic| grid_len: 1.0369155555555556, grid_num: 18\n",
      "ic| grid_len: 1.0368927777777777, grid_num: 18\n",
      "ic| grid_len: 1.0368383333333333, grid_num: 18\n",
      "ic| grid_len: 1.036835, grid_num: 18\n",
      "ic| grid_len: 1.0368199999999999, grid_num: 18\n",
      "ic| grid_len: 1.0366816666666667, grid_num: 18\n",
      "ic| grid_len: 1.036652222222222, grid_num: 18\n",
      "ic| grid_len: 1.036615, grid_num: 18\n",
      "ic| grid_len: 1.0366094444444445, grid_num: 18\n",
      "ic| grid_len: 1.0366033333333333, grid_num: 18\n",
      "ic| grid_len: 1.0365777777777778, grid_num: 18\n",
      "ic| grid_len: 1.0364955555555555, grid_num: 18\n",
      "ic| grid_len: 1.0364511111111112, grid_num: 18\n",
      "ic| grid_len: 1.0363283333333333, grid_num: 18\n",
      "ic| grid_len: 1.0361772222222223, grid_num: 18\n",
      "ic| grid_len: 1.0361655555555556, grid_num: 18\n",
      "ic| grid_len: 1.0361444444444445, grid_num: 18\n",
      "ic| grid_len: 1.0361405555555556, grid_num: 18\n",
      "ic| grid_len: 1.0361083333333334, grid_num: 18\n",
      "ic| grid_len: 1.0360427777777776, grid_num: 18\n",
      "ic| grid_len: 1.0359705555555554, grid_num: 18\n",
      "ic| grid_len: 1.0359666666666667, grid_num: 18\n",
      "ic| grid_len: 1.0359416666666668, grid_num: 18\n",
      "ic| grid_len: 1.0359305555555556, grid_num: 18\n",
      "ic| grid_len: 1.035913888888889, grid_num: 18\n",
      "ic| grid_len: 1.035902222222222, grid_num: 18\n",
      "ic| grid_len: 1.0358883333333333, grid_num: 18\n",
      "ic| grid_len: 1.0358705555555554, grid_num: 18\n",
      "ic| grid_len: 1.0358477777777777, grid_num: 18\n",
      "ic| len(dataset): 583200\n",
      "ic| grid_len: 1.0393594444444443, grid_num: 18\n",
      "ic| grid_len: 1.0393294444444445, grid_num: 18\n",
      "ic| grid_len: 1.039288888888889, grid_num: 18\n",
      "ic| grid_len: 1.0392222222222223, grid_num: 18\n",
      "ic| grid_len: 1.0388944444444443, grid_num: 18\n",
      "ic| grid_len: 1.0388883333333334, grid_num: 18\n",
      "ic| grid_len: 1.0387916666666668, grid_num: 18\n",
      "ic| grid_len: 1.0387816666666667, grid_num: 18\n",
      "ic| grid_len: 1.0385594444444444, grid_num: 18\n",
      "ic| grid_len: 1.0384888888888888, grid_num: 18\n",
      "ic| grid_len: 1.0384761111111112, grid_num: 18\n",
      "ic| grid_len: 1.0384644444444444, grid_num: 18\n",
      "ic| grid_len: 1.03846, grid_num: 18\n",
      "ic| grid_len: 1.03843, grid_num: 18\n",
      "ic| grid_len: 1.0384066666666667, grid_num: 18\n",
      "ic| grid_len: 1.038405, grid_num: 18\n",
      "ic| grid_len: 1.038343888888889, grid_num: 18\n",
      "ic| grid_len: 1.038317777777778, grid_num: 18\n",
      "ic| grid_len: 1.038303888888889, grid_num: 18\n",
      "ic| grid_len: 1.0382377777777778, grid_num: 18\n",
      "ic| grid_len: 1.0382116666666665, grid_num: 18\n",
      "ic| grid_len: 1.0381883333333333, grid_num: 18\n",
      "ic| grid_len: 1.0381799999999999, grid_num: 18\n",
      "ic| grid_len: 1.0381705555555554, grid_num: 18\n",
      "ic| grid_len: 1.0381416666666667, grid_num: 18\n",
      "ic| grid_len: 1.038125, grid_num: 18\n",
      "ic| grid_len: 1.0381244444444446, grid_num: 18\n",
      "ic| grid_len: 1.0381177777777777, grid_num: 18\n",
      "ic| grid_len: 1.0380511111111113, grid_num: 18\n",
      "ic| grid_len: 1.0380383333333334, grid_num: 18\n",
      "ic| grid_len: 1.0380072222222223, grid_num: 18\n",
      "ic| grid_len: 1.0379072222222223, grid_num: 18\n",
      "ic| grid_len: 1.037893888888889, grid_num: 18\n",
      "ic| grid_len: 1.0378800000000001, grid_num: 18\n",
      "ic| grid_len: 1.0378472222222221, grid_num: 18\n",
      "ic| grid_len: 1.0378366666666665, grid_num: 18\n",
      "ic| grid_len: 1.037833888888889, grid_num: 18\n",
      "ic| grid_len: 1.0378183333333333, grid_num: 18\n",
      "ic| grid_len: 1.0378088888888888, grid_num: 18\n",
      "ic| grid_len: 1.0377572222222222, grid_num: 18\n",
      "ic| grid_len: 1.0377505555555555, grid_num: 18\n",
      "ic| grid_len: 1.0376827777777777, grid_num: 18\n",
      "ic| grid_len: 1.03768, grid_num: 18\n",
      "ic| grid_len: 1.0376677777777779, grid_num: 18\n",
      "ic| grid_len: 1.0376333333333332, grid_num: 18\n",
      "ic| grid_len: 1.0376316666666667, grid_num: 18\n",
      "ic| grid_len: 1.037628888888889, grid_num: 18\n",
      "ic| grid_len: 1.038505, grid_num: 18\n",
      "ic| grid_len: 1.0383016666666667, grid_num: 18\n",
      "ic| grid_len: 1.03805, grid_num: 18\n",
      "ic| grid_len: 1.0378138888888888, grid_num: 18\n",
      "ic| grid_len: 1.037581111111111, grid_num: 18\n",
      "ic| grid_len: 1.0371744444444444, grid_num: 18\n",
      "ic| grid_len: 1.0368844444444445, grid_num: 18\n",
      "ic| grid_len: 1.0365222222222221, grid_num: 18\n",
      "ic| grid_len: 1.0375794444444444, grid_num: 18\n",
      "ic| grid_len: 1.0375344444444443, grid_num: 18\n",
      "ic| grid_len: 1.0375277777777778, grid_num: 18\n",
      "ic| grid_len: 1.0374894444444445, grid_num: 18\n",
      "ic| grid_len: 1.0374194444444444, grid_num: 18\n",
      "ic| grid_len: 1.0373577777777778, grid_num: 18\n",
      "ic| grid_len: 1.03723, grid_num: 18\n",
      "ic| grid_len: 1.0371949999999999, grid_num: 18\n",
      "ic| grid_len: 1.0371822222222222, grid_num: 18\n",
      "ic| grid_len: 1.0371694444444444, grid_num: 18\n",
      "ic| grid_len: 1.0370727777777777, grid_num: 18\n",
      "ic| grid_len: 1.0370716666666668, grid_num: 18\n",
      "ic| grid_len: 1.036965, grid_num: 18\n",
      "ic| grid_len: 1.0369549999999998, grid_num: 18\n",
      "ic| grid_len: 1.036953888888889, grid_num: 18\n",
      "ic| grid_len: 1.0369477777777778, grid_num: 18\n",
      "ic| grid_len: 1.0369155555555556, grid_num: 18\n",
      "ic| grid_len: 1.0368927777777777, grid_num: 18\n",
      "ic| grid_len: 1.0368383333333333, grid_num: 18\n",
      "ic| grid_len: 1.036835, grid_num: 18\n",
      "ic| grid_len: 1.0368199999999999, grid_num: 18\n",
      "ic| grid_len: 1.0366816666666667, grid_num: 18\n",
      "ic| grid_len: 1.036652222222222, grid_num: 18\n",
      "ic| grid_len: 1.036615, grid_num: 18\n",
      "ic| grid_len: 1.0366094444444445, grid_num: 18\n",
      "ic| grid_len: 1.0366033333333333, grid_num: 18\n",
      "ic| grid_len: 1.0365777777777778, grid_num: 18\n",
      "ic| grid_len: 1.0364955555555555, grid_num: 18\n",
      "ic| grid_len: 1.0364511111111112, grid_num: 18\n",
      "ic| grid_len: 1.0363283333333333, grid_num: 18\n",
      "ic| grid_len: 1.0361772222222223, grid_num: 18\n",
      "ic| grid_len: 1.0361655555555556, grid_num: 18\n",
      "ic| grid_len: 1.0361444444444445, grid_num: 18\n",
      "ic| grid_len: 1.0361405555555556, grid_num: 18\n",
      "ic| grid_len: 1.0361083333333334, grid_num: 18\n",
      "ic| grid_len: 1.0360427777777776, grid_num: 18\n",
      "ic| grid_len: 1.0359705555555554, grid_num: 18\n",
      "ic| grid_len: 1.0359666666666667, grid_num: 18\n",
      "ic| grid_len: 1.0359416666666668, grid_num: 18\n",
      "ic| grid_len: 1.0359305555555556, grid_num: 18\n",
      "ic| grid_len: 1.035913888888889, grid_num: 18\n",
      "ic| grid_len: 1.035902222222222, grid_num: 18\n",
      "ic| grid_len: 1.0358883333333333, grid_num: 18\n",
      "ic| grid_len: 1.0358705555555554, grid_num: 18\n",
      "ic| grid_len: 1.0358477777777777, grid_num: 18\n",
      "ic| len(dataset): 583200\n"
     ]
    }
   ],
   "source": [
    "for i in range(7, 13):\n",
    "\tmake_dataset(i)"
   ]
  },
  {
   "cell_type": "markdown",
   "metadata": {},
   "source": [
    "### 格式转换"
   ]
  },
  {
   "cell_type": "code",
   "execution_count": 42,
   "metadata": {},
   "outputs": [],
   "source": [
    "def FormatTrans(dataname, number, algorithm, provider, circle=True):\n",
    "\tpds = []\n",
    "\tif circle:\n",
    "\t\tprefix = f'Circle_{number}_{algorithm}'\n",
    "\telse:\n",
    "\t\tprefix = f'Sphere_{number}_{algorithm}'\n",
    "\n",
    "\tif not os.path.exists(f'data/{prefix}'):\n",
    "\t\tos.mkdir(f'data/{prefix}')\n",
    "\n",
    "\tfor root, dirs, files in os.walk(f'data/{dataname}'):\n",
    "\t\tfor name in files:\n",
    "\t\t\tfilename = os.path.join(root, name)\n",
    "\t\t\twith open(filename, 'r') as fr:\n",
    "\t\t\t\tN = int(next(fr))\n",
    "\t\t\t\tassert N == number\n",
    "\t\t\t\tL = list(map(float, next(fr).split()))[0]\n",
    "\t\t\t\tpoints = np.loadtxt(fr)\n",
    "\t\t\t\tif circle:\n",
    "\t\t\t\t\tpd = N * np.pi / L ** 2\n",
    "\t\t\t\telse:\n",
    "\t\t\t\t\tpd = 4 / 3 * N * np.pi / L ** 3\n",
    "\t\t\t\tpds.append(pd)\n",
    "\t\t\t\t\n",
    "\t\t\t\twith open(f'data/{prefix}/{prefix}_{pd:.6f}.xyz', 'w') as fw:\n",
    "\t\t\t\t\tfw.write(str(N) + '\\n')\n",
    "\t\t\t\t\tfw.write(f'Lattice=\"{L:.6e} 0.0 0.0 0.0 {L:.6e} 0.0 0.0 0.0 {L:.6e}\" Origin=\"0.0 0.0 0.0\" Properties=species:S:1:unishape_species:S:1:shape_type:S:1:pos:R:3:orientation:R:4:aspherical_shape:R:3\\n')\n",
    "\t\t\t\t\tfor i in range(N):\n",
    "\t\t\t\t\t\tif circle:\n",
    "\t\t\t\t\t\t\tfw.write(f'0\\t0\\tCircle\\t{points[i,0]:.6e}\\t{points[i,1]:.6e}\\t{0:.6e}\\t{0:.6e}\\t{0:.6e}\\t{0:.6e}\\t{1:.6e}\\t{1:.6e}\\t{1:.6e}\\t{1:.6e}\\n')\n",
    "\t\t\t\t\t\telse:\n",
    "\t\t\t\t\t\t\tfw.write(f'0\\t0\\tSphere\\t{points[i,0]:.6e}\\t{points[i,1]:.6e}\\t{points[i,2]:.6e}\\t{0:.6e}\\t{0:.6e}\\t{0:.6e}\\t{1:.6e}\\t{1:.6e}\\t{1:.6e}\\t{1:.6e}\\n')\n",
    "\n",
    "\t\t\t\t\tfw.write('\\n')\n",
    "\t\t\t\t\tfw.write('Periodic: True\\n')\n",
    "\t\t\t\t\tfw.write(f'Algorithm: {algorithm}\\n')\n",
    "\t\t\t\t\tfw.write(f'Density: {pd:.6f}\\n')\n",
    "\t\t\t\t\tfw.write(f'Provider: {provider}\\n')\n",
    "\t\n",
    "\tpds.sort()\n",
    "\tprint(len(pds))\n",
    "\tplt.plot(pds)"
   ]
  },
  {
   "cell_type": "code",
   "execution_count": 43,
   "metadata": {},
   "outputs": [
    {
     "name": "stdout",
     "output_type": "stream",
     "text": [
      "100\n"
     ]
    },
    {
     "data": {
      "image/png": "[encoded data removed]",
      "text/plain": [
       "<Figure size 432x288 with 1 Axes>"
      ]
     },
     "metadata": {
      "needs_background": "light"
     },
     "output_type": "display_data"
    }
   ],
   "source": [
    "FormatTrans('CP100', 400, 'AthermalQuasistaticCompression', 'Huang Zhaohui')"
   ]
  },
  {
   "cell_type": "code",
   "execution_count": 44,
   "metadata": {},
   "outputs": [
    {
     "name": "stdout",
     "output_type": "stream",
     "text": [
      "200\n"
     ]
    },
    {
     "data": {
      "image/png": "[encoded data removed]",
      "text/plain": [
       "<Figure size 432x288 with 1 Axes>"
      ]
     },
     "metadata": {
      "needs_background": "light"
     },
     "output_type": "display_data"
    }
   ],
   "source": [
    "FormatTrans('CP200_MDRP', 150, 'InverseMonteCarlo', 'Huang Zhaohui')"
   ]
  },
  {
   "cell_type": "code",
   "execution_count": 45,
   "metadata": {},
   "outputs": [
    {
     "name": "stdout",
     "output_type": "stream",
     "text": [
      "100\n"
     ]
    },
    {
     "data": {
      "image/png": "[encoded data removed]",
      "text/plain": [
       "<Figure size 432x288 with 1 Axes>"
      ]
     },
     "metadata": {
      "needs_background": "light"
     },
     "output_type": "display_data"
    }
   ],
   "source": [
    "FormatTrans('SP100_70', 1000, 'ImprovedRelaxation', 'Deng Wei', False)"
   ]
  },
  {
   "cell_type": "code",
   "execution_count": 46,
   "metadata": {},
   "outputs": [
    {
     "name": "stdout",
     "output_type": "stream",
     "text": [
      "100\n"
     ]
    },
    {
     "data": {
      "image/png": "[encoded data removed]",
      "text/plain": [
       "<Figure size 432x288 with 1 Axes>"
      ]
     },
     "metadata": {
      "needs_background": "light"
     },
     "output_type": "display_data"
    }
   ],
   "source": [
    "FormatTrans('SP100_64', 1000, 'AdaptiveShrinkingCell', 'Huang Zhaohui', False)"
   ]
  },
  {
   "cell_type": "code",
   "execution_count": null,
   "metadata": {},
   "outputs": [],
   "source": []
  },
  {
   "cell_type": "code",
   "execution_count": null,
   "metadata": {},
   "outputs": [],
   "source": []
  }
 ],
 "metadata": {
  "interpreter": {
   "hash": "bd0c6cc5fa32a65706ff21ff535e973ea3e790069a531f21f6547d6c6484b3fc"
  },
  "kernelspec": {
   "display_name": "Python 3.8.12 ('opsi')",
   "language": "python",
   "name": "python3"
  },
  "language_info": {
   "codemirror_mode": {
    "name": "ipython",
    "version": 3
   },
   "file_extension": ".py",
   "mimetype": "text/x-python",
   "name": "python",
   "nbconvert_exporter": "python",
   "pygments_lexer": "ipython3",
   "version": "3.7.12"
  },
  "metadata": {
   "interpreter": {
    "hash": "1fdb55b6b93984486b1480cba4b7cc0c694536c435d819752fcefc47b688b7f1"
   }
  },
  "orig_nbformat": 2
 },
 "nbformat": 4,
 "nbformat_minor": 2
}
