{
 "cells": [
  {
   "cell_type": "code",
   "execution_count": 1,
   "source": [
    "from ovito import scene\n",
    "from ovito.io import *\n",
    "from ovito.vis import *\n",
    "from ovito.data import *\n",
    "from ovito.modifiers import *\n",
    "from PySide2.QtGui import QPainter\n",
    "import matplotlib.pyplot as plt\n",
    "import numpy as np\n",
    "import scipy\n",
    "from sklearn import metrics\n",
    "import sklearn\n",
    "import seaborn as sns\n",
    "import pandas as pd\n",
    "import utils\n",
    "from PIL import Image\n",
    "import imageio\n",
    "import freud\n",
    "import cv2\n",
    "import os\n",
    "os.environ['CUDA_VISIBLE_DEVICES'] = '-1'\n",
    "import tensorflow as tf\n",
    "import models\n",
    "from tensorflow_graphics.nn import loss\n",
    "from tensorflow_graphics.geometry import transformation\n",
    "import colorsys"
   ],
   "outputs": [],
   "metadata": {}
  },
  {
   "cell_type": "code",
   "execution_count": 2,
   "source": [
    "palette = sns.color_palette()\n",
    "palette.insert(0, palette.pop(7))"
   ],
   "outputs": [],
   "metadata": {}
  },
  {
   "cell_type": "code",
   "execution_count": 3,
   "source": [
    "def _preprocess(frame, data):\n",
    "    if 'Comment' in data.attributes:\n",
    "        L = float(data.attributes['Comment'])\n",
    "        data.cell_.matrix = np.insert(np.eye(3) * L, 3, 0, axis=-1)\n",
    "    data.cell_.pbc = (True, True, True)\n",
    "    data.particles.vis.radius = 1.0"
   ],
   "outputs": [],
   "metadata": {}
  },
  {
   "cell_type": "code",
   "execution_count": 10,
   "source": [
    "def baseline_compare(prefix, filename, labels):\n",
    "    modifier_dict = {'AJA': AcklandJonesModifier(),\n",
    "                     'CNA': CommonNeighborAnalysisModifier(),\n",
    "                     'PTM': PolyhedralTemplateMatchingModifier()}\n",
    "\n",
    "    \n",
    "\n",
    "    def structure_id(modifier):\n",
    "        pipeline = import_file(filename, columns=['Position.X', 'Position.Y', 'Position.Z'])\n",
    "        pipeline.modifiers.append(_preprocess)\n",
    "        pipeline.modifiers.append(modifier_dict[modifier])\n",
    "        data = pipeline.compute()\n",
    "        stru_type = data.particle_properties.structure_types[:]\n",
    "        for i in range(len(np.bincount(stru_type))):\n",
    "            modifier_dict[modifier].structures[i].color = palette[i]\n",
    "\n",
    "        pipeline.add_to_scene()\n",
    "        vp = Viewport(type = Viewport.Type.Ortho, camera_dir = (-1, -1, -1))\n",
    "        vp.zoom_all(size=(1000,1000))\n",
    "        vp.render_image(filename=prefix + modifier + '.png', size=(1000,1000), renderer=TachyonRenderer())\n",
    "        pipeline.remove_from_scene()\n",
    "        \n",
    "        # plt.figure(figsize=(10, 10))\n",
    "        # image = plt.imread(prefix + modifier + '.png')\n",
    "        # plt.imshow(image)\n",
    "        # plt.axis('off')\n",
    "\n",
    "        # num = len(labels)\n",
    "        # pd = 4/3*np.pi*num / data.cell.volume\n",
    "        # ide = modifier_dict[modifier].object_title\n",
    "        ars = metrics.adjusted_rand_score(stru_type, labels)\n",
    "        \n",
    "        # plt.title(\n",
    "        # '''Particle Number: {}\n",
    "        # Packing Density: {}\n",
    "        # Identification : {}\n",
    "        # Cluster Metrics: {}'''.format(num,pd,ide,ars),\n",
    "        # fontdict={'fontsize':16})\n",
    "\n",
    "        # plt.tight_layout()\n",
    "        # plt.savefig(prefix + modifier + '.png')\n",
    "        # plt.close()\n",
    "        \n",
    "\n",
    "        return ars\n",
    "\n",
    "    cluster_metrics = {}\n",
    "    for modifier in modifier_dict.keys():\n",
    "        cm = structure_id(modifier)\n",
    "        cluster_metrics[modifier] = cm\n",
    "    return cluster_metrics"
   ],
   "outputs": [],
   "metadata": {}
  },
  {
   "cell_type": "code",
   "execution_count": 11,
   "source": [
    "baseline_compare('/mnt/Edisk/kiwi/OPSI/test/', '/mnt/Edisk/kiwi/OPSI/data/sphere_packing.xyz', [1]*1728)"
   ],
   "outputs": [
    {
     "output_type": "execute_result",
     "data": {
      "text/plain": [
       "{'AJA': 0.0, 'CNA': 0.0, 'PTM': 0.0}"
      ]
     },
     "metadata": {},
     "execution_count": 11
    }
   ],
   "metadata": {}
  },
  {
   "cell_type": "code",
   "execution_count": 29,
   "source": [
    "box, points = utils.read_xyz('/mnt/Edisk/kiwi/OPSI/data/sphere_packing.xyz')\n",
    "centers, neighbors = utils.get_neighbors(box, points, 12)"
   ],
   "outputs": [],
   "metadata": {}
  },
  {
   "cell_type": "code",
   "execution_count": 26,
   "source": [
    "def draw_xyz(savepath, filename, labels, probabilities):\n",
    "    pipeline = import_file(filename, columns=['Particle Type', 'Position.X', 'Position.Y', 'Position.Z'])\n",
    "    pipeline.modifiers.append(_preprocess)\n",
    "    data = pipeline.compute()\n",
    "    part_type = data.particles.particle_types[:]\n",
    "    data.particles_.create_property('Color')\n",
    "    for i in range(len(labels)):\n",
    "        data.particles_.colors[i] = sns.desaturate(palette[labels[i]], probabilities[i])\n",
    "\n",
    "    pipeline.add_to_scene()\n",
    "    vp = Viewport(type = Viewport.Type.Ortho, camera_dir = (-1, -1, -1))\n",
    "    vp.zoom_all(size=(1000,1000))\n",
    "    vp.render_image(filename=savepath, size=(1000,1000), renderer=TachyonRenderer())\n",
    "    pipeline.remove_from_scene()\n",
    "    "
   ],
   "outputs": [],
   "metadata": {}
  },
  {
   "cell_type": "code",
   "execution_count": 26,
   "source": [
    "metric = {'1':2, '4':4, '3':5}\n",
    "df = pd.DataFrame(metric, index=[1])"
   ],
   "outputs": [],
   "metadata": {}
  },
  {
   "cell_type": "code",
   "execution_count": 27,
   "source": [
    "df"
   ],
   "outputs": [
    {
     "output_type": "execute_result",
     "data": {
      "text/plain": [
       "   1  4  3\n",
       "1  2  4  5"
      ],
      "text/html": [
       "<div>\n",
       "<style scoped>\n",
       "    .dataframe tbody tr th:only-of-type {\n",
       "        vertical-align: middle;\n",
       "    }\n",
       "\n",
       "    .dataframe tbody tr th {\n",
       "        vertical-align: top;\n",
       "    }\n",
       "\n",
       "    .dataframe thead th {\n",
       "        text-align: right;\n",
       "    }\n",
       "</style>\n",
       "<table border=\"1\" class=\"dataframe\">\n",
       "  <thead>\n",
       "    <tr style=\"text-align: right;\">\n",
       "      <th></th>\n",
       "      <th>1</th>\n",
       "      <th>4</th>\n",
       "      <th>3</th>\n",
       "    </tr>\n",
       "  </thead>\n",
       "  <tbody>\n",
       "    <tr>\n",
       "      <th>1</th>\n",
       "      <td>2</td>\n",
       "      <td>4</td>\n",
       "      <td>5</td>\n",
       "    </tr>\n",
       "  </tbody>\n",
       "</table>\n",
       "</div>"
      ]
     },
     "metadata": {},
     "execution_count": 27
    }
   ],
   "metadata": {}
  },
  {
   "cell_type": "code",
   "execution_count": 22,
   "source": [
    "add = {'3':5}\n",
    "df.append(add, ignore_index=True)"
   ],
   "outputs": [
    {
     "output_type": "execute_result",
     "data": {
      "text/plain": [
       "     1    2    3\n",
       "0  2.0  4.0  NaN\n",
       "1  NaN  NaN  5.0"
      ],
      "text/html": [
       "<div>\n",
       "<style scoped>\n",
       "    .dataframe tbody tr th:only-of-type {\n",
       "        vertical-align: middle;\n",
       "    }\n",
       "\n",
       "    .dataframe tbody tr th {\n",
       "        vertical-align: top;\n",
       "    }\n",
       "\n",
       "    .dataframe thead th {\n",
       "        text-align: right;\n",
       "    }\n",
       "</style>\n",
       "<table border=\"1\" class=\"dataframe\">\n",
       "  <thead>\n",
       "    <tr style=\"text-align: right;\">\n",
       "      <th></th>\n",
       "      <th>1</th>\n",
       "      <th>2</th>\n",
       "      <th>3</th>\n",
       "    </tr>\n",
       "  </thead>\n",
       "  <tbody>\n",
       "    <tr>\n",
       "      <th>0</th>\n",
       "      <td>2.0</td>\n",
       "      <td>4.0</td>\n",
       "      <td>NaN</td>\n",
       "    </tr>\n",
       "    <tr>\n",
       "      <th>1</th>\n",
       "      <td>NaN</td>\n",
       "      <td>NaN</td>\n",
       "      <td>5.0</td>\n",
       "    </tr>\n",
       "  </tbody>\n",
       "</table>\n",
       "</div>"
      ]
     },
     "metadata": {},
     "execution_count": 22
    }
   ],
   "metadata": {}
  },
  {
   "cell_type": "code",
   "execution_count": 66,
   "source": [
    "prefix = 'model/' + '210416214933_AutoEncoderV2_2_12' + '/baseline/'\n",
    "images = [plt.imread(prefix + modifier + '.png') for modifier in ['AJA', 'CNA', 'PTM']]\n",
    "frame1 = np.concatenate(np.array(images, dtype=np.uint8), axis=-2)\n",
    "images = [plt.imread('model/' + '210416214933_AutoEncoderV2_2_12' + '/packing.png')] * 3\n",
    "frame2 = np.concatenate(np.array(images, dtype=np.uint8), axis=-2)"
   ],
   "outputs": [],
   "metadata": {}
  },
  {
   "cell_type": "code",
   "execution_count": 68,
   "source": [
    "frame1[0]"
   ],
   "outputs": [
    {
     "output_type": "execute_result",
     "data": {
      "text/plain": [
       "array([[1, 1, 1, 1],\n",
       "       [1, 1, 1, 1],\n",
       "       [1, 1, 1, 1],\n",
       "       ...,\n",
       "       [1, 1, 1, 1],\n",
       "       [1, 1, 1, 1],\n",
       "       [1, 1, 1, 1]], dtype=uint8)"
      ]
     },
     "metadata": {},
     "execution_count": 68
    }
   ],
   "metadata": {}
  },
  {
   "cell_type": "code",
   "execution_count": 64,
   "source": [
    "help(imageio.mimsave)"
   ],
   "outputs": [
    {
     "output_type": "stream",
     "name": "stdout",
     "text": [
      "Help on function mimwrite in module imageio.core.functions:\n",
      "\n",
      "mimwrite(uri, ims, format=None, **kwargs)\n",
      "    mimwrite(uri, ims, format=None, **kwargs)\n",
      "    \n",
      "    Write multiple images to the specified file.\n",
      "    \n",
      "    Parameters\n",
      "    ----------\n",
      "    uri : {str, pathlib.Path, file}\n",
      "        The resource to write the images to, e.g. a filename, pathlib.Path\n",
      "        or file object, see the docs for more info.\n",
      "    ims : sequence of numpy arrays\n",
      "        The image data. Each array must be NxM, NxMx3 or NxMx4.\n",
      "    format : str\n",
      "        The format to use to read the file. By default imageio selects\n",
      "        the appropriate for you based on the filename and its contents.\n",
      "    kwargs : ...\n",
      "        Further keyword arguments are passed to the writer. See :func:`.help`\n",
      "        to see what arguments are available for a particular format.\n",
      "\n"
     ]
    }
   ],
   "metadata": {}
  },
  {
   "cell_type": "code",
   "execution_count": 10,
   "source": [
    "np.insert(points, 2, 0, 1)"
   ],
   "outputs": [
    {
     "output_type": "execute_result",
     "data": {
      "text/plain": [
       "array([[25.57412035, 13.84623588,  0.        ],\n",
       "       [33.26012852, 33.9303698 ,  0.        ],\n",
       "       [31.7500146 , 22.94128489,  0.        ],\n",
       "       ...,\n",
       "       [20.97901659, 25.73192557,  0.        ],\n",
       "       [ 3.89853495, 23.92404991,  0.        ],\n",
       "       [16.88289562,  1.08842304,  0.        ]])"
      ]
     },
     "metadata": {},
     "execution_count": 10
    }
   ],
   "metadata": {}
  },
  {
   "cell_type": "code",
   "execution_count": 6,
   "source": [
    "box, points = utils.read_xyz('data/circle_packing/circle_packing_0.869740.xyz')\n",
    "points_0 = np.insert(points, 2, 0, 1)\n",
    "# Compute the hexatic (6-fold) order for the 2D system\n",
    "hex_order = freud.order.Hexatic(k=6)\n",
    "hex_order.compute(system=(box, points_0))\n",
    "probabilities = [prob if prob > 0.9 else 0 for prob in np.abs(hex_order.particle_order)]"
   ],
   "outputs": [],
   "metadata": {}
  },
  {
   "cell_type": "code",
   "execution_count": 13,
   "source": [
    "pipeline = import_file('/mnt/Edisk/kiwi/OPSI/model/210425214847_AutoEncoderV2_2_6/packing/circle_packing_0.835729.xyz', columns=['Position.X', 'Position.Y', 'Particle Type'])\n",
    "pipeline.modifiers.append(utils.circle_preprocess)\n",
    "pipeline.modifiers.append(_hexatic_order)"
   ],
   "outputs": [],
   "metadata": {}
  },
  {
   "cell_type": "code",
   "execution_count": 12,
   "source": [
    "def _hexatic_order(frame, data):\n",
    "    box = freud.Box.from_matrix(data.cell.matrix[:3,:3])\n",
    "    points = data.particles.position[:]\n",
    "    hex_order = freud.order.Hexatic(k=6)\n",
    "    hex_order.compute(system=(box, points))\n",
    "    label = [1 if prob > 0.9 else 0 for prob in np.abs(hex_order.particle_order)]\n",
    "    data.particles_.particle_types_[:] = label"
   ],
   "outputs": [],
   "metadata": {}
  },
  {
   "cell_type": "code",
   "execution_count": 135,
   "source": [
    "data = pipeline.compute()\n",
    "data.particles.particle_type[:]"
   ],
   "outputs": [
    {
     "output_type": "execute_result",
     "data": {
      "text/plain": [
       "PropertyView([0, 1, 1, 1, 1, 0, 1, 0, 0, 0, 1, 0, 0, 1, 0, 1, 0, 1, 0, 0,\n",
       "              0, 0, 0, 0, 1, 0, 0, 0, 1, 0, 0, 1, 0, 0, 0, 1, 1, 0, 0, 1,\n",
       "              0, 1, 1, 0, 1, 0, 1, 0, 0, 0, 1, 0, 1, 0, 1, 0, 0, 0, 1, 0,\n",
       "              0, 0, 1, 0, 1, 0, 0, 0, 1, 0, 1, 1, 0, 1, 0, 1, 1, 0, 1, 0,\n",
       "              0, 1, 0, 0, 1, 0, 0, 1, 0, 1, 0, 1, 0, 0, 1, 0, 0, 0, 0, 0,\n",
       "              1, 1, 0, 0, 0, 1, 1, 0, 0, 1, 1, 1, 1, 1, 0, 1, 0, 0, 0, 0,\n",
       "              1, 0, 0, 0, 0, 1, 1, 1, 1, 0, 0, 1, 0, 0, 0, 1, 0, 0, 0, 0,\n",
       "              0, 1, 0, 0, 1, 0, 0, 1, 0, 0, 0, 1, 1, 0, 1, 0, 0, 1, 1, 0,\n",
       "              0, 0, 1, 1, 0, 0, 0, 0, 1, 0, 1, 0, 0, 0, 1, 0, 1, 0, 0, 0,\n",
       "              0, 0, 1, 1, 1, 0, 1, 0, 0, 1, 0, 0, 1, 0, 0, 0, 0, 0, 0, 1,\n",
       "              0, 1, 0, 0, 1, 0, 1, 1, 1, 1, 0, 1, 0, 1, 1, 1, 0, 0, 1, 1,\n",
       "              0, 0, 1, 0, 1, 0, 0, 0, 0, 1, 0, 1, 1, 1, 1, 0, 0, 1, 0, 0,\n",
       "              0, 1, 0, 0, 1, 0, 1, 1, 1, 0, 1, 1, 1, 0, 1, 1, 0, 1, 1, 1,\n",
       "              0, 1, 1, 0, 1, 0, 0, 1, 0, 0, 0, 0, 0, 0, 0, 1, 1, 1, 0, 0,\n",
       "              0, 1, 0, 1, 1, 1, 1, 0, 0, 1, 1, 1, 1, 0, 1, 0, 0, 1, 0, 1,\n",
       "              1, 1, 0, 0, 1, 1, 0, 1, 1, 0, 0, 1, 0, 0, 1, 0, 1, 0, 0, 1,\n",
       "              1, 0, 1, 0, 0, 1, 1, 0, 0, 1, 0, 1, 0, 1, 0, 1, 0, 1, 0, 0,\n",
       "              0, 1, 0, 0, 1, 0, 0, 1, 0, 0, 0, 1, 0, 1, 1, 0, 1, 1, 1, 1,\n",
       "              0, 0, 0, 0, 0, 0, 1, 0, 1, 0, 1, 1, 0, 1, 1, 1, 0, 0, 1, 1,\n",
       "              0, 1, 1, 0, 0, 1, 1, 0, 0, 1, 0, 0, 1, 0, 0, 1, 0, 0, 1, 0],\n",
       "             dtype=int32)"
      ]
     },
     "metadata": {},
     "execution_count": 135
    }
   ],
   "metadata": {}
  },
  {
   "cell_type": "code",
   "execution_count": 91,
   "source": [
    "pipeline.add_to_scene()\n",
    "vp = Viewport(type = Viewport.Type.Ortho, camera_dir = (0, 0, -1))\n",
    "vp.zoom_all(size=(1000,1000))\n",
    "qimage = vp.render_image(size=(1000,1000), renderer=TachyonRenderer())\n",
    "pipeline.remove_from_scene()"
   ],
   "outputs": [],
   "metadata": {}
  },
  {
   "cell_type": "code",
   "execution_count": 16,
   "source": [
    "Image.fromqimage(qimage)"
   ],
   "outputs": [
    {
     "output_type": "execute_result",
     "data": {
      "text/plain": [
       "<PIL.PngImagePlugin.PngImageFile image mode=RGBA size=1000x1000 at 0x7F21C631ED00>"
      ],
      "image/png": ""
     },
     "metadata": {},
     "execution_count": 16
    }
   ],
   "metadata": {}
  },
  {
   "cell_type": "code",
   "execution_count": 175,
   "source": [
    "palette = sns.color_palette()\n",
    "palette.insert(0, [1,1,1])"
   ],
   "outputs": [],
   "metadata": {}
  },
  {
   "cell_type": "code",
   "execution_count": 176,
   "source": [
    "palette"
   ],
   "outputs": [
    {
     "output_type": "execute_result",
     "data": {
      "text/plain": [
       "[[1, 1, 1],\n",
       " (0.12156862745098039, 0.4666666666666667, 0.7058823529411765),\n",
       " (1.0, 0.4980392156862745, 0.054901960784313725),\n",
       " (0.17254901960784313, 0.6274509803921569, 0.17254901960784313),\n",
       " (0.8392156862745098, 0.15294117647058825, 0.1568627450980392),\n",
       " (0.5803921568627451, 0.403921568627451, 0.7411764705882353),\n",
       " (0.5490196078431373, 0.33725490196078434, 0.29411764705882354),\n",
       " (0.8901960784313725, 0.4666666666666667, 0.7607843137254902),\n",
       " (0.4980392156862745, 0.4980392156862745, 0.4980392156862745),\n",
       " (0.7372549019607844, 0.7411764705882353, 0.13333333333333333),\n",
       " (0.09019607843137255, 0.7450980392156863, 0.8117647058823529)]"
      ],
      "text/html": [
       "<svg  width=\"605\" height=\"55\"><rect x=\"0\" y=\"0\" width=\"55\" height=\"55\" style=\"fill:#ffffff;stroke-width:2;stroke:rgb(255,255,255)\"/><rect x=\"55\" y=\"0\" width=\"55\" height=\"55\" style=\"fill:#1f77b4;stroke-width:2;stroke:rgb(255,255,255)\"/><rect x=\"110\" y=\"0\" width=\"55\" height=\"55\" style=\"fill:#ff7f0e;stroke-width:2;stroke:rgb(255,255,255)\"/><rect x=\"165\" y=\"0\" width=\"55\" height=\"55\" style=\"fill:#2ca02c;stroke-width:2;stroke:rgb(255,255,255)\"/><rect x=\"220\" y=\"0\" width=\"55\" height=\"55\" style=\"fill:#d62728;stroke-width:2;stroke:rgb(255,255,255)\"/><rect x=\"275\" y=\"0\" width=\"55\" height=\"55\" style=\"fill:#9467bd;stroke-width:2;stroke:rgb(255,255,255)\"/><rect x=\"330\" y=\"0\" width=\"55\" height=\"55\" style=\"fill:#8c564b;stroke-width:2;stroke:rgb(255,255,255)\"/><rect x=\"385\" y=\"0\" width=\"55\" height=\"55\" style=\"fill:#e377c2;stroke-width:2;stroke:rgb(255,255,255)\"/><rect x=\"440\" y=\"0\" width=\"55\" height=\"55\" style=\"fill:#7f7f7f;stroke-width:2;stroke:rgb(255,255,255)\"/><rect x=\"495\" y=\"0\" width=\"55\" height=\"55\" style=\"fill:#bcbd22;stroke-width:2;stroke:rgb(255,255,255)\"/><rect x=\"550\" y=\"0\" width=\"55\" height=\"55\" style=\"fill:#17becf;stroke-width:2;stroke:rgb(255,255,255)\"/></svg>"
      ]
     },
     "metadata": {},
     "execution_count": 176
    }
   ],
   "metadata": {}
  },
  {
   "cell_type": "code",
   "execution_count": 5,
   "source": [
    "image = Image.open('/mnt/Edisk/kiwi/OPSI/model/210425214847_AutoEncoderV2_2_6/packing/circle_packing_0.835729.png').resize((1010, 1010)).crop((5,5,1005,1005))"
   ],
   "outputs": [],
   "metadata": {}
  },
  {
   "cell_type": "code",
   "execution_count": 9,
   "source": [
    "np.array(image).shape"
   ],
   "outputs": [
    {
     "output_type": "execute_result",
     "data": {
      "text/plain": [
       "(1000, 1000, 4)"
      ]
     },
     "metadata": {},
     "execution_count": 9
    }
   ],
   "metadata": {}
  },
  {
   "cell_type": "code",
   "execution_count": 37,
   "source": [
    "palette[1]"
   ],
   "outputs": [
    {
     "output_type": "execute_result",
     "data": {
      "text/plain": [
       "(0.12156862745098039, 0.4666666666666667, 0.7058823529411765)"
      ]
     },
     "metadata": {},
     "execution_count": 37
    }
   ],
   "metadata": {}
  },
  {
   "cell_type": "code",
   "execution_count": 39,
   "source": [
    "sns.palplot([1-0.12156862745098039 * 0.5, 1-0.4666666666666667 * 0.5, 1-0.7058823529411765 * 0.5])"
   ],
   "outputs": [
    {
     "output_type": "display_data",
     "data": {
      "text/plain": [
       "<Figure size 216x72 with 1 Axes>"
      ],
      "image/png": ""
     },
     "metadata": {
      "needs_background": "light"
     }
    }
   ],
   "metadata": {}
  },
  {
   "cell_type": "code",
   "execution_count": 40,
   "source": [
    "import colorsys"
   ],
   "outputs": [],
   "metadata": {}
  },
  {
   "cell_type": "code",
   "execution_count": 148,
   "source": [
    "hsv = colorsys.rgb_to_hls(*palette[5])\n",
    "hsv"
   ],
   "outputs": [
    {
     "output_type": "execute_result",
     "data": {
      "text/plain": [
       "(0.7540983606557377, 0.5274509803921569, 0.7593360995850621)"
      ]
     },
     "metadata": {},
     "execution_count": 148
    }
   ],
   "metadata": {}
  },
  {
   "cell_type": "code",
   "execution_count": 153,
   "source": [
    "rgb = colorsys.hls_to_rgb(hsv[0],0.5,hsv[2])\n",
    "rgb"
   ],
   "outputs": [
    {
     "output_type": "execute_result",
     "data": {
      "text/plain": [
       "(0.518672199170124, 0.1203319502074689, 0.8796680497925311)"
      ]
     },
     "metadata": {},
     "execution_count": 153
    }
   ],
   "metadata": {}
  },
  {
   "cell_type": "code",
   "execution_count": 230,
   "source": [
    "palette = []\n",
    "for c in sns.color_palette():\n",
    "    nc = colorsys.rgb_to_hls(*c)\n",
    "    palette.append(colorsys.hls_to_rgb(nc[0],0.5,nc[2]))"
   ],
   "outputs": [],
   "metadata": {}
  },
  {
   "cell_type": "code",
   "execution_count": 231,
   "source": [
    "for i in range(8):\n",
    "    sns.palplot(palette[i])"
   ],
   "outputs": [
    {
     "output_type": "display_data",
     "data": {
      "text/plain": [
       "<Figure size 216x72 with 1 Axes>"
      ],
      "image/png": ""
     },
     "metadata": {
      "needs_background": "light"
     }
    },
    {
     "output_type": "display_data",
     "data": {
      "text/plain": [
       "<Figure size 216x72 with 1 Axes>"
      ],
      "image/png": ""
     },
     "metadata": {
      "needs_background": "light"
     }
    },
    {
     "output_type": "display_data",
     "data": {
      "text/plain": [
       "<Figure size 216x72 with 1 Axes>"
      ],
      "image/png": ""
     },
     "metadata": {
      "needs_background": "light"
     }
    },
    {
     "output_type": "display_data",
     "data": {
      "text/plain": [
       "<Figure size 216x72 with 1 Axes>"
      ],
      "image/png": ""
     },
     "metadata": {
      "needs_background": "light"
     }
    },
    {
     "output_type": "display_data",
     "data": {
      "text/plain": [
       "<Figure size 216x72 with 1 Axes>"
      ],
      "image/png": ""
     },
     "metadata": {
      "needs_background": "light"
     }
    },
    {
     "output_type": "display_data",
     "data": {
      "text/plain": [
       "<Figure size 216x72 with 1 Axes>"
      ],
      "image/png": ""
     },
     "metadata": {
      "needs_background": "light"
     }
    },
    {
     "output_type": "display_data",
     "data": {
      "text/plain": [
       "<Figure size 216x72 with 1 Axes>"
      ],
      "image/png": ""
     },
     "metadata": {
      "needs_background": "light"
     }
    },
    {
     "output_type": "display_data",
     "data": {
      "text/plain": [
       "<Figure size 216x72 with 1 Axes>"
      ],
      "image/png": ""
     },
     "metadata": {
      "needs_background": "light"
     }
    }
   ],
   "metadata": {}
  },
  {
   "cell_type": "code",
   "execution_count": 237,
   "source": [
    "palette = []\n",
    "for c in sns.color_palette():\n",
    "    nc = colorsys.rgb_to_hls(*c)\n",
    "    palette.append(colorsys.hls_to_rgb(nc[0],0.5,nc[2]))"
   ],
   "outputs": [],
   "metadata": {}
  },
  {
   "cell_type": "code",
   "execution_count": 238,
   "source": [
    "for i in range(8):\n",
    "    sns.palplot(palette[i])"
   ],
   "outputs": [
    {
     "output_type": "display_data",
     "data": {
      "text/plain": [
       "<Figure size 216x72 with 1 Axes>"
      ],
      "image/png": ""
     },
     "metadata": {
      "needs_background": "light"
     }
    },
    {
     "output_type": "display_data",
     "data": {
      "text/plain": [
       "<Figure size 216x72 with 1 Axes>"
      ],
      "image/png": ""
     },
     "metadata": {
      "needs_background": "light"
     }
    },
    {
     "output_type": "display_data",
     "data": {
      "text/plain": [
       "<Figure size 216x72 with 1 Axes>"
      ],
      "image/png": ""
     },
     "metadata": {
      "needs_background": "light"
     }
    },
    {
     "output_type": "display_data",
     "data": {
      "text/plain": [
       "<Figure size 216x72 with 1 Axes>"
      ],
      "image/png": ""
     },
     "metadata": {
      "needs_background": "light"
     }
    },
    {
     "output_type": "display_data",
     "data": {
      "text/plain": [
       "<Figure size 216x72 with 1 Axes>"
      ],
      "image/png": ""
     },
     "metadata": {
      "needs_background": "light"
     }
    },
    {
     "output_type": "display_data",
     "data": {
      "text/plain": [
       "<Figure size 216x72 with 1 Axes>"
      ],
      "image/png": ""
     },
     "metadata": {
      "needs_background": "light"
     }
    },
    {
     "output_type": "display_data",
     "data": {
      "text/plain": [
       "<Figure size 216x72 with 1 Axes>"
      ],
      "image/png": ""
     },
     "metadata": {
      "needs_background": "light"
     }
    },
    {
     "output_type": "display_data",
     "data": {
      "text/plain": [
       "<Figure size 216x72 with 1 Axes>"
      ],
      "image/png": ""
     },
     "metadata": {
      "needs_background": "light"
     }
    }
   ],
   "metadata": {}
  },
  {
   "cell_type": "code",
   "execution_count": 240,
   "source": [
    "x = np.ones((32,28,28))"
   ],
   "outputs": [],
   "metadata": {}
  },
  {
   "cell_type": "code",
   "execution_count": 249,
   "source": [
    "tf.reshape(x, [-1, 28, 28, 1]).shape\n"
   ],
   "outputs": [
    {
     "output_type": "execute_result",
     "data": {
      "text/plain": [
       "TensorShape([32, 28, 28, 1])"
      ]
     },
     "metadata": {},
     "execution_count": 249
    }
   ],
   "metadata": {}
  },
  {
   "cell_type": "code",
   "execution_count": 245,
   "source": [
    "[0]*(13//2) + [1]*(13//2)"
   ],
   "outputs": [
    {
     "output_type": "execute_result",
     "data": {
      "text/plain": [
       "[0, 0, 0, 0, 0, 0, 1, 1, 1, 1, 1, 1]"
      ]
     },
     "metadata": {},
     "execution_count": 245
    }
   ],
   "metadata": {}
  },
  {
   "cell_type": "code",
   "execution_count": 1,
   "source": [
    "from tensorflow_graphics.datasets.modelnet40 import ModelNet40\n",
    "modelnet40 = ModelNet40()"
   ],
   "outputs": [],
   "metadata": {}
  },
  {
   "cell_type": "code",
   "execution_count": 4,
   "source": [
    "modelnet40.download_and_prepare()"
   ],
   "outputs": [
    {
     "output_type": "stream",
     "name": "stdout",
     "text": [
      "\u001b[1mDownloading and preparing dataset Unknown size (download: Unknown size, generated: Unknown size, total: Unknown size) to /home/kiwi/tensorflow_datasets/model_net40/1.0.0...\u001b[0m\n"
     ]
    },
    {
     "output_type": "error",
     "ename": "",
     "evalue": "",
     "traceback": []
    }
   ],
   "metadata": {}
  },
  {
   "cell_type": "code",
   "execution_count": 2,
   "source": [
    "modelnet40.as_dataset()"
   ],
   "outputs": [
    {
     "output_type": "error",
     "ename": "",
     "evalue": "",
     "traceback": []
    }
   ],
   "metadata": {}
  },
  {
   "cell_type": "code",
   "execution_count": 7,
   "source": [
    "[tf.keras.initializers.Orthogonal()((3, 3)) for _ in range(10)]"
   ],
   "outputs": [
    {
     "output_type": "execute_result",
     "data": {
      "text/plain": [
       "[<tf.Tensor: shape=(3, 3), dtype=float32, numpy=\n",
       " array([[-0.62798893, -0.18631314, -0.75559074],\n",
       "        [-0.73527074, -0.17604843,  0.65451044],\n",
       "        [ 0.25496447, -0.96658903,  0.02643414]], dtype=float32)>,\n",
       " <tf.Tensor: shape=(3, 3), dtype=float32, numpy=\n",
       " array([[ 0.48542404, -0.7990138 ,  0.3548803 ],\n",
       "        [-0.8634913 , -0.501729  ,  0.05148478],\n",
       "        [ 0.1369167 , -0.331428  , -0.9334931 ]], dtype=float32)>,\n",
       " <tf.Tensor: shape=(3, 3), dtype=float32, numpy=\n",
       " array([[ 0.3615433 , -0.36734053, -0.85694087],\n",
       "        [-0.29712558, -0.9165874 ,  0.26755172],\n",
       "        [ 0.88374376, -0.15788753,  0.44053215]], dtype=float32)>,\n",
       " <tf.Tensor: shape=(3, 3), dtype=float32, numpy=\n",
       " array([[ 0.48343801, -0.57911897, -0.6564367 ],\n",
       "        [-0.87370926, -0.27292585, -0.40267062],\n",
       "        [-0.05403564, -0.76820105,  0.6379242 ]], dtype=float32)>,\n",
       " <tf.Tensor: shape=(3, 3), dtype=float32, numpy=\n",
       " array([[-0.67715526, -0.59016234,  0.43951008],\n",
       "        [-0.45023337,  0.804735  ,  0.38689983],\n",
       "        [ 0.5820228 , -0.06410921,  0.81064135]], dtype=float32)>,\n",
       " <tf.Tensor: shape=(3, 3), dtype=float32, numpy=\n",
       " array([[-0.9560244 , -0.2217368 ,  0.19196369],\n",
       "        [-0.15732303,  0.9401057 ,  0.30240813],\n",
       "        [ 0.24752116, -0.25890926,  0.9336484 ]], dtype=float32)>,\n",
       " <tf.Tensor: shape=(3, 3), dtype=float32, numpy=\n",
       " array([[-0.14492548, -0.9773804 ,  0.15402602],\n",
       "        [ 0.08189914, -0.166985  , -0.98255205],\n",
       "        [-0.9860472 ,  0.12978226, -0.10424702]], dtype=float32)>,\n",
       " <tf.Tensor: shape=(3, 3), dtype=float32, numpy=\n",
       " array([[-0.6879866 ,  0.08220576, -0.7210525 ],\n",
       "        [-0.35650054,  0.82713866,  0.4344526 ],\n",
       "        [ 0.6321249 ,  0.55595315, -0.5397539 ]], dtype=float32)>,\n",
       " <tf.Tensor: shape=(3, 3), dtype=float32, numpy=\n",
       " array([[ 0.80116117,  0.32896617, -0.499922  ],\n",
       "        [-0.2322247 ,  0.94079834,  0.24692133],\n",
       "        [ 0.55155456, -0.08172955,  0.83012515]], dtype=float32)>,\n",
       " <tf.Tensor: shape=(3, 3), dtype=float32, numpy=\n",
       " array([[ 0.90090084, -0.03273406, -0.43278858],\n",
       "        [ 0.33883584,  0.67619115,  0.6541833 ],\n",
       "        [ 0.2712337 , -0.7359987 ,  0.62027276]], dtype=float32)>]"
      ]
     },
     "metadata": {},
     "execution_count": 7
    }
   ],
   "metadata": {}
  },
  {
   "cell_type": "code",
   "execution_count": 22,
   "source": [
    "tf.broadcast_to(tf.expand_dims([1,2,3,4,5], -1), [5,5])"
   ],
   "outputs": [
    {
     "output_type": "execute_result",
     "data": {
      "text/plain": [
       "<tf.Tensor: shape=(5, 5), dtype=int32, numpy=\n",
       "array([[1, 1, 1, 1, 1],\n",
       "       [2, 2, 2, 2, 2],\n",
       "       [3, 3, 3, 3, 3],\n",
       "       [4, 4, 4, 4, 4],\n",
       "       [5, 5, 5, 5, 5]], dtype=int32)>"
      ]
     },
     "metadata": {},
     "execution_count": 22
    }
   ],
   "metadata": {}
  },
  {
   "cell_type": "code",
   "execution_count": 23,
   "source": [
    "tf.broadcast_to(tf.expand_dims([1,2,3,4,5], -2), [5,5])"
   ],
   "outputs": [
    {
     "output_type": "execute_result",
     "data": {
      "text/plain": [
       "<tf.Tensor: shape=(5, 5), dtype=int32, numpy=\n",
       "array([[1, 2, 3, 4, 5],\n",
       "       [1, 2, 3, 4, 5],\n",
       "       [1, 2, 3, 4, 5],\n",
       "       [1, 2, 3, 4, 5],\n",
       "       [1, 2, 3, 4, 5]], dtype=int32)>"
      ]
     },
     "metadata": {},
     "execution_count": 23
    }
   ],
   "metadata": {}
  },
  {
   "cell_type": "code",
   "execution_count": 32,
   "source": [
    "X_pred = np.random.rand(4,3,2)"
   ],
   "outputs": [],
   "metadata": {}
  },
  {
   "cell_type": "code",
   "execution_count": 33,
   "source": [
    "X_pred"
   ],
   "outputs": [
    {
     "output_type": "execute_result",
     "data": {
      "text/plain": [
       "array([[[0.8419911 , 0.28862509],\n",
       "        [0.54724972, 0.74305226],\n",
       "        [0.03108861, 0.14226849]],\n",
       "\n",
       "       [[0.32834696, 0.17471297],\n",
       "        [0.96207601, 0.27667738],\n",
       "        [0.80903025, 0.08244657]],\n",
       "\n",
       "       [[0.17970238, 0.26354129],\n",
       "        [0.98371662, 0.77372455],\n",
       "        [0.46155721, 0.11007493]],\n",
       "\n",
       "       [[0.90768913, 0.2224115 ],\n",
       "        [0.81025968, 0.63846769],\n",
       "        [0.00912549, 0.5843183 ]]])"
      ]
     },
     "metadata": {},
     "execution_count": 33
    }
   ],
   "metadata": {}
  },
  {
   "cell_type": "code",
   "execution_count": 178,
   "source": [
    "broadcast_2 = tf.broadcast_to(tf.expand_dims(X_pred, 0), [4, 4, 3, 2]) \n",
    "broadcast_3 = tf.broadcast_to(tf.expand_dims(X_pred, 1), [4, 4, 3, 2])\n",
    "distance = tf.reduce_mean(tf.square(tf.norm(broadcast_2 - broadcast_3, ord=2, axis=-1)))"
   ],
   "outputs": [],
   "metadata": {}
  },
  {
   "cell_type": "code",
   "execution_count": 179,
   "source": [
    "distance"
   ],
   "outputs": [
    {
     "output_type": "execute_result",
     "data": {
      "text/plain": [
       "<tf.Tensor: shape=(), dtype=float64, numpy=0.2153805339039028>"
      ]
     },
     "metadata": {},
     "execution_count": 179
    }
   ],
   "metadata": {}
  },
  {
   "cell_type": "code",
   "execution_count": 70,
   "source": [
    "ae = models.AutoEncoderV4(32,2,12,3)"
   ],
   "outputs": [],
   "metadata": {}
  },
  {
   "cell_type": "code",
   "execution_count": 83,
   "source": [
    "ae(np.random.rand(32,12,3), training=True)"
   ],
   "outputs": [
    {
     "output_type": "execute_result",
     "data": {
      "text/plain": [
       "<tf.Tensor: shape=(10, 3, 3), dtype=float32, numpy=\n",
       "array([[[ 0.4156562 ,  0.9041906 , -0.09833149],\n",
       "        [-0.63262904,  0.3650959 ,  0.6829973 ],\n",
       "        [ 0.6534602 , -0.22168478,  0.72377175]],\n",
       "\n",
       "       [[-0.84832275,  0.29049015, -0.44267818],\n",
       "        [ 0.21259867,  0.9525836 ,  0.21768379],\n",
       "        [-0.48492295, -0.09055334,  0.86985624]],\n",
       "\n",
       "       [[-0.04525089,  0.7215804 ,  0.69085   ],\n",
       "        [ 0.9988658 ,  0.02242941,  0.04199922],\n",
       "        [ 0.01481047,  0.6919671 , -0.7217771 ]],\n",
       "\n",
       "       [[-0.48861372, -0.77502316, -0.4007439 ],\n",
       "        [-0.3204709 ,  0.58661884, -0.74375856],\n",
       "        [-0.811514  ,  0.23498392,  0.53500235]],\n",
       "\n",
       "       [[-0.5677469 ,  0.15816297,  0.8078664 ],\n",
       "        [ 0.74369323, -0.32223517,  0.5857345 ],\n",
       "        [-0.35296446, -0.9333536 , -0.06532325]],\n",
       "\n",
       "       [[ 0.3474754 ,  0.9119017 , -0.21839386],\n",
       "        [-0.90408784,  0.3876006 ,  0.17997484],\n",
       "        [ 0.24876897,  0.13491039,  0.95912105]],\n",
       "\n",
       "       [[ 0.2328341 , -0.07723062,  0.969445  ],\n",
       "        [ 0.9542232 ,  0.21057788, -0.2124027 ],\n",
       "        [-0.18773969,  0.9745216 ,  0.12272498]],\n",
       "\n",
       "       [[-0.28210282,  0.77045125, -0.5716845 ],\n",
       "        [ 0.19710083,  0.6297189 ,  0.7514023 ],\n",
       "        [-0.9389193 , -0.09929311,  0.32950193]],\n",
       "\n",
       "       [[ 0.619944  ,  0.19472574,  0.76009953],\n",
       "        [-0.69226384, -0.32029313,  0.6466707 ],\n",
       "        [ 0.3693781 , -0.9270891 , -0.06376226]],\n",
       "\n",
       "       [[-0.609946  ,  0.37726676,  0.6968757 ],\n",
       "        [ 0.4760972 , -0.52853376,  0.7028395 ],\n",
       "        [ 0.6334804 ,  0.7604746 ,  0.14276147]]], dtype=float32)>"
      ]
     },
     "metadata": {},
     "execution_count": 83
    }
   ],
   "metadata": {}
  },
  {
   "cell_type": "code",
   "execution_count": 129,
   "source": [
    "# 实际的线\n",
    "TRUE_W = 3.0\n",
    "TRUE_B = 2.0\n",
    "\n",
    "NUM_EXAMPLES = 1000\n",
    "\n",
    "# 随机向量x\n",
    "x = tf.random.normal(shape=[NUM_EXAMPLES])\n",
    "\n",
    "# 生成噪声\n",
    "noise = tf.random.normal(shape=[NUM_EXAMPLES])\n",
    "\n",
    "# 计算y\n",
    "y = x * TRUE_W + TRUE_B + noise"
   ],
   "outputs": [],
   "metadata": {}
  },
  {
   "cell_type": "code",
   "execution_count": 130,
   "source": [
    "# 绘制所有的数据\n",
    "import matplotlib.pyplot as plt\n",
    "\n",
    "plt.scatter(x, y, c=\"b\")\n",
    "plt.show()"
   ],
   "outputs": [
    {
     "output_type": "display_data",
     "data": {
      "text/plain": [
       "<Figure size 432x288 with 1 Axes>"
      ],
      "image/png": ""
     },
     "metadata": {
      "needs_background": "light"
     }
    }
   ],
   "metadata": {}
  },
  {
   "cell_type": "code",
   "execution_count": 146,
   "source": [
    "class MyModelKeras(tf.keras.Model):\n",
    "  def __init__(self, **kwargs):\n",
    "    super().__init__(**kwargs)\n",
    "    # 初始化权重为`5.0`，偏差为`0.0`\n",
    "    # 实际中应该随机初始化该值\n",
    "    self.w = tf.Variable(5.0)\n",
    "    self.b = tf.Variable(0.0)\n",
    "\n",
    "  def call(self, x, **kwargs):\n",
    "    print(tf.keras.initializers.Orthogonal()((3,3)))\n",
    "    return self.w * x + self.b\n",
    "\n",
    "keras_model = MyModelKeras()"
   ],
   "outputs": [],
   "metadata": {}
  },
  {
   "cell_type": "code",
   "execution_count": 147,
   "source": [
    "keras_model.compile(\n",
    "    # 默认情况下，fit()调用tf.function()。\n",
    "    # Debug时你可以关闭这一功能，但是现在是打开的。\n",
    "    run_eagerly=True,\n",
    "\n",
    "    # 使用内置的优化器，配置为对象\n",
    "    optimizer=tf.keras.optimizers.SGD(learning_rate=0.1),\n",
    "\n",
    "    # Keras内置MSE\n",
    "    # 您也可以使用损失函数像上面一样进行定义\n",
    "    loss=tf.keras.losses.mean_squared_error,\n",
    ")"
   ],
   "outputs": [],
   "metadata": {}
  },
  {
   "cell_type": "code",
   "execution_count": 148,
   "source": [
    "keras_model.fit(x, y, epochs=10, batch_size=1000)"
   ],
   "outputs": [
    {
     "output_type": "stream",
     "name": "stdout",
     "text": [
      "Epoch 1/10\n",
      "tf.Tensor(\n",
      "[[ 0.01906681 -0.9135916  -0.40618575]\n",
      " [ 0.9918239   0.06855494 -0.10763636]\n",
      " [ 0.1261817  -0.40081242  0.9074291 ]], shape=(3, 3), dtype=float32)\n",
      "1/1 [==============================] - 0s 6ms/step - loss: 8.6940\n",
      "Epoch 2/10\n",
      "tf.Tensor(\n",
      "[[ 0.80194175 -0.4912585  -0.33993295]\n",
      " [-0.52536374 -0.850821   -0.00981976]\n",
      " [-0.28439808  0.18646333 -0.9403984 ]], shape=(3, 3), dtype=float32)\n",
      "1/1 [==============================] - 0s 4ms/step - loss: 6.0270\n",
      "Epoch 3/10\n",
      "tf.Tensor(\n",
      "[[ 0.04316306 -0.8662442   0.49775317]\n",
      " [-0.6681312   0.34538847  0.6590202 ]\n",
      " [-0.7427905  -0.36100966 -0.5638567 ]], shape=(3, 3), dtype=float32)\n",
      "1/1 [==============================] - 0s 4ms/step - loss: 4.2914\n",
      "Epoch 4/10\n",
      "tf.Tensor(\n",
      "[[-0.33416831 -0.12261733 -0.9345033 ]\n",
      " [-0.9401862   0.11299899  0.32137382]\n",
      " [-0.06619192 -0.9860001   0.15304378]], shape=(3, 3), dtype=float32)\n",
      "1/1 [==============================] - 0s 4ms/step - loss: 3.1617\n",
      "Epoch 5/10\n",
      "tf.Tensor(\n",
      "[[ 0.7579582  -0.15756154  0.63298786]\n",
      " [ 0.04213446 -0.95653677 -0.28855145]\n",
      " [ 0.65094084  0.24538055 -0.7183762 ]], shape=(3, 3), dtype=float32)\n",
      "1/1 [==============================] - 0s 4ms/step - loss: 2.4264\n",
      "Epoch 6/10\n",
      "tf.Tensor(\n",
      "[[ 0.24441302  0.6529874   0.7168471 ]\n",
      " [ 0.77100736 -0.5791979   0.2647214 ]\n",
      " [ 0.5880561   0.48799306 -0.64502156]], shape=(3, 3), dtype=float32)\n",
      "1/1 [==============================] - 0s 4ms/step - loss: 1.9477\n",
      "Epoch 7/10\n",
      "tf.Tensor(\n",
      "[[ 0.59398067  0.7935824   0.13196155]\n",
      " [ 0.05354631 -0.20266984  0.97778213]\n",
      " [ 0.8026952  -0.5737177  -0.16287532]], shape=(3, 3), dtype=float32)\n",
      "1/1 [==============================] - 0s 4ms/step - loss: 1.6361\n",
      "Epoch 8/10\n",
      "tf.Tensor(\n",
      "[[ 0.873301    0.4271178  -0.2343414 ]\n",
      " [ 0.2019209   0.12042369  0.97197014]\n",
      " [-0.44336605  0.8961408  -0.01892222]], shape=(3, 3), dtype=float32)\n",
      "1/1 [==============================] - 0s 4ms/step - loss: 1.4332\n",
      "Epoch 9/10\n",
      "tf.Tensor(\n",
      "[[-0.47869205 -0.1361435   0.86736304]\n",
      " [-0.71362835 -0.51515764 -0.4747074 ]\n",
      " [ 0.5114571  -0.8462136   0.1494461 ]], shape=(3, 3), dtype=float32)\n",
      "1/1 [==============================] - 0s 4ms/step - loss: 1.3011\n",
      "Epoch 10/10\n",
      "tf.Tensor(\n",
      "[[ 0.4144808   0.48688287  0.76886326]\n",
      " [-0.69070286 -0.381809    0.61412656]\n",
      " [-0.5925666   0.7855997  -0.17803887]], shape=(3, 3), dtype=float32)\n",
      "1/1 [==============================] - 0s 4ms/step - loss: 1.2151\n"
     ]
    },
    {
     "output_type": "execute_result",
     "data": {
      "text/plain": [
       "<tensorflow.python.keras.callbacks.History at 0x7f1a34172d00>"
      ]
     },
     "metadata": {},
     "execution_count": 148
    }
   ],
   "metadata": {}
  },
  {
   "cell_type": "code",
   "execution_count": 95,
   "source": [
    "geodesic_distance = tf.function(lambda R1, R2: 1/np.pi * tf.math.acos((tf.linalg.trace(tf.linalg.matmul(R1, R2, transpose_b=True)) - 1)/2))"
   ],
   "outputs": [],
   "metadata": {}
  },
  {
   "cell_type": "code",
   "execution_count": 96,
   "source": [
    "R1 = [tf.keras.initializers.Orthogonal()((3,3)) for _ in range(10)]\n",
    "R2 = [tf.keras.initializers.Orthogonal()((3,3)) for _ in range(10)]"
   ],
   "outputs": [],
   "metadata": {}
  },
  {
   "cell_type": "code",
   "execution_count": 158,
   "source": [
    "tf.linalg.trace(R1[3])"
   ],
   "outputs": [
    {
     "output_type": "execute_result",
     "data": {
      "text/plain": [
       "<tf.Tensor: shape=(), dtype=float32, numpy=-0.1864337>"
      ]
     },
     "metadata": {},
     "execution_count": 158
    }
   ],
   "metadata": {}
  },
  {
   "cell_type": "code",
   "execution_count": 161,
   "source": [
    "R1[3]"
   ],
   "outputs": [
    {
     "output_type": "execute_result",
     "data": {
      "text/plain": [
       "<tf.Tensor: shape=(3, 3), dtype=float32, numpy=\n",
       "array([[ 0.63271666, -0.68827546,  0.35488942],\n",
       "       [-0.65230674, -0.22672865,  0.7232497 ],\n",
       "       [-0.4173314 , -0.68910885, -0.5924217 ]], dtype=float32)>"
      ]
     },
     "metadata": {},
     "execution_count": 161
    }
   ],
   "metadata": {}
  },
  {
   "cell_type": "code",
   "execution_count": 167,
   "source": [
    "tf.eigvals(R1[3])"
   ],
   "outputs": [
    {
     "output_type": "execute_result",
     "data": {
      "text/plain": [
       "<tf.Tensor: shape=(3,), dtype=complex64, numpy=\n",
       "array([-0.5932166+8.0504268e-01j, -0.5932167-8.0504256e-01j,\n",
       "        0.9999999+9.9064490e-09j], dtype=complex64)>"
      ]
     },
     "metadata": {},
     "execution_count": 167
    }
   ],
   "metadata": {}
  },
  {
   "cell_type": "code",
   "execution_count": 97,
   "source": [
    "geodesic_distance(R1, R2)"
   ],
   "outputs": [
    {
     "output_type": "execute_result",
     "data": {
      "text/plain": [
       "<tf.Tensor: shape=(10,), dtype=float32, numpy=\n",
       "array([0.5105808 , 0.6294418 , 0.91530216, 0.6550823 , 0.69519174,\n",
       "       0.35526636, 0.61196303, 0.78788984, 0.84483874, 0.5536349 ],\n",
       "      dtype=float32)>"
      ]
     },
     "metadata": {},
     "execution_count": 97
    }
   ],
   "metadata": {}
  },
  {
   "cell_type": "code",
   "execution_count": 98,
   "source": [
    "tf.linalg.matmul(R1[-1], R2[-1], transpose_b=True)"
   ],
   "outputs": [
    {
     "output_type": "execute_result",
     "data": {
      "text/plain": [
       "<tf.Tensor: shape=(3, 3), dtype=float32, numpy=\n",
       "array([[ 0.22907534,  0.89437497, -0.38421068],\n",
       "       [ 0.81404096, -0.3924361 , -0.428172  ],\n",
       "       [ 0.53372467,  0.21467952,  0.8179552 ]], dtype=float32)>"
      ]
     },
     "metadata": {},
     "execution_count": 98
    }
   ],
   "metadata": {}
  },
  {
   "cell_type": "code",
   "execution_count": 99,
   "source": [
    "tf.linalg.trace(tf.linalg.matmul(R1[-1], R2[-1], transpose_b=True))"
   ],
   "outputs": [
    {
     "output_type": "execute_result",
     "data": {
      "text/plain": [
       "<tf.Tensor: shape=(), dtype=float32, numpy=0.6545944>"
      ]
     },
     "metadata": {},
     "execution_count": 99
    }
   ],
   "metadata": {}
  },
  {
   "cell_type": "code",
   "execution_count": 100,
   "source": [
    "tf.linalg.det(tf.linalg.matmul(R1[1], R2[1], transpose_b=True))"
   ],
   "outputs": [
    {
     "output_type": "execute_result",
     "data": {
      "text/plain": [
       "<tf.Tensor: shape=(), dtype=float32, numpy=-1.0>"
      ]
     },
     "metadata": {},
     "execution_count": 100
    }
   ],
   "metadata": {}
  },
  {
   "cell_type": "code",
   "execution_count": 110,
   "source": [
    "a = tf.constant(np.arange(1, 13, dtype=np.int32), shape=[2, 2, 3])\n",
    "b = tf.constant(np.arange(13, 25, dtype=np.int32), shape=[2, 3, 2])\n",
    "b = tf.broadcast_to(tf.expand_dims(b, axis=1), [2,4,3,2])\n",
    "c = tf.matmul(a, b)\n",
    "c  # `a` * `b`"
   ],
   "outputs": [
    {
     "output_type": "error",
     "ename": "",
     "evalue": "",
     "traceback": []
    }
   ],
   "metadata": {}
  },
  {
   "cell_type": "code",
   "execution_count": 129,
   "source": [
    "dataset = tf.data.Dataset.from_tensor_slices([1.,2.,3.])\n",
    "# dataset = dataset.shuffle(3)\n",
    "dataset = dataset.map(lambda x: ((x, [tf.keras.initializers.Orthogonal()((3, 3)) for _ in range(10)]), x))"
   ],
   "outputs": [],
   "metadata": {}
  },
  {
   "cell_type": "code",
   "execution_count": 136,
   "source": [
    "list(dataset.as_numpy_iterator())"
   ],
   "outputs": [
    {
     "output_type": "execute_result",
     "data": {
      "text/plain": [
       "[((1.0,\n",
       "   array([[[-0.5945418 , -0.37904075, -0.7091177 ],\n",
       "           [ 0.7921862 , -0.12509906, -0.59731996],\n",
       "           [-0.13769865,  0.9168851 , -0.3746475 ]],\n",
       "   \n",
       "          [[ 0.0792408 ,  0.46109754,  0.8838043 ],\n",
       "           [ 0.5025467 , -0.7841625 ,  0.3640549 ],\n",
       "           [-0.860911  , -0.4153049 ,  0.29386067]],\n",
       "   \n",
       "          [[-0.35722947,  0.5982628 , -0.71726465],\n",
       "           [-0.46045086, -0.7809367 , -0.42204607],\n",
       "           [-0.8126328 ,  0.17949785,  0.5544443 ]],\n",
       "   \n",
       "          [[ 0.6281873 , -0.53044933,  0.56921375],\n",
       "           [-0.681418  , -0.02194574,  0.7315654 ],\n",
       "           [ 0.37556657,  0.84743255,  0.37524372]],\n",
       "   \n",
       "          [[-0.39237678,  0.5768401 , -0.7164466 ],\n",
       "           [-0.65222853,  0.37473217,  0.65891856],\n",
       "           [-0.64856625, -0.7258314 , -0.22919527]],\n",
       "   \n",
       "          [[ 0.7841791 ,  0.6104859 , -0.11122178],\n",
       "           [ 0.5683744 , -0.7785606 , -0.26607144],\n",
       "           [-0.24902575,  0.14543203, -0.95751536]],\n",
       "   \n",
       "          [[-0.73815334, -0.46465975, -0.48910218],\n",
       "           [ 0.42767602,  0.23839441, -0.87192976],\n",
       "           [ 0.52174985, -0.8527951 ,  0.02275231]],\n",
       "   \n",
       "          [[ 0.35663867,  0.52737886,  0.7711555 ],\n",
       "           [ 0.9090423 , -0.38631538, -0.15621346],\n",
       "           [ 0.21552551,  0.7567246 , -0.6171845 ]],\n",
       "   \n",
       "          [[ 0.30049598, -0.8946995 ,  0.33047676],\n",
       "           [ 0.18450794, -0.28541583, -0.9404757 ],\n",
       "           [ 0.9357666 ,  0.34358472,  0.07931286]],\n",
       "   \n",
       "          [[ 0.44066298,  0.59195656,  0.674836  ],\n",
       "           [ 0.7685674 ,  0.13962576, -0.62434673],\n",
       "           [-0.46381056,  0.7937834 , -0.39343053]]], dtype=float32)),\n",
       "  1.0),\n",
       " ((2.0,\n",
       "   array([[[-0.2706399 ,  0.09904476, -0.95757204],\n",
       "           [-0.9582549 ,  0.06755446,  0.27782017],\n",
       "           [-0.0922049 , -0.99278724, -0.07662724]],\n",
       "   \n",
       "          [[-0.41884696, -0.87137324, -0.25549152],\n",
       "           [-0.90269786,  0.43007702,  0.01305115],\n",
       "           [-0.09850861, -0.23609807,  0.9667232 ]],\n",
       "   \n",
       "          [[-0.11508822,  0.37853593,  0.9184036 ],\n",
       "           [ 0.43926504, -0.80984646,  0.38883805],\n",
       "           [-0.89095503, -0.44817334,  0.0730738 ]],\n",
       "   \n",
       "          [[-0.29295743,  0.20839387, -0.9331387 ],\n",
       "           [ 0.95303756, -0.01472856, -0.30249387],\n",
       "           [ 0.07678165,  0.97793406,  0.1942924 ]],\n",
       "   \n",
       "          [[-0.0910331 , -0.9729338 , -0.21239784],\n",
       "           [ 0.5433201 ,  0.13021976, -0.8293649 ],\n",
       "           [ 0.8345755 , -0.19089967,  0.5167602 ]],\n",
       "   \n",
       "          [[-0.5739877 , -0.01315692,  0.81875825],\n",
       "           [ 0.81269884,  0.11330933,  0.57156074],\n",
       "           [ 0.10029292, -0.99347275,  0.05434537]],\n",
       "   \n",
       "          [[ 0.8272424 , -0.4954873 ,  0.26488188],\n",
       "           [ 0.2796818 ,  0.77204543,  0.5707224 ],\n",
       "           [-0.4872865 , -0.3980431 ,  0.7772474 ]],\n",
       "   \n",
       "          [[-0.17242968, -0.25400078, -0.9517099 ],\n",
       "           [ 0.88674796,  0.38065907, -0.26225352],\n",
       "           [ 0.42888954, -0.88914704,  0.15959784]],\n",
       "   \n",
       "          [[-0.66568184, -0.5799859 , -0.46955743],\n",
       "           [ 0.70567805, -0.28464112, -0.6488435 ],\n",
       "           [-0.24266474,  0.76327974, -0.59876364]],\n",
       "   \n",
       "          [[ 0.02338052,  0.9171495 ,  0.3978572 ],\n",
       "           [-0.67299914, -0.27984697,  0.68465894],\n",
       "           [ 0.7392737 , -0.28376508,  0.6106978 ]]], dtype=float32)),\n",
       "  2.0),\n",
       " ((3.0,\n",
       "   array([[[ 0.7022923 ,  0.29441363,  0.6481561 ],\n",
       "           [-0.47480342,  0.8721016 ,  0.1183235 ],\n",
       "           [ 0.5304219 ,  0.39084437, -0.7522588 ]],\n",
       "   \n",
       "          [[-0.47937858, -0.36663726, -0.7973538 ],\n",
       "           [-0.83553725,  0.4686003 ,  0.28686428],\n",
       "           [ 0.26846513,  0.80373544, -0.5309762 ]],\n",
       "   \n",
       "          [[-0.2753327 ,  0.4049949 , -0.87187797],\n",
       "           [ 0.19237281,  0.9117988 ,  0.36278862],\n",
       "           [-0.9419049 ,  0.06783807,  0.32895786]],\n",
       "   \n",
       "          [[-0.197317  ,  0.9726859 ,  0.12226363],\n",
       "           [-0.9789927 , -0.18897206, -0.07656886],\n",
       "           [-0.05137303, -0.13480353,  0.9895397 ]],\n",
       "   \n",
       "          [[-0.232193  ,  0.9535013 , -0.1921506 ],\n",
       "           [ 0.6766363 ,  0.3002578 ,  0.67231584],\n",
       "           [-0.69874865, -0.02609098,  0.7148913 ]],\n",
       "   \n",
       "          [[ 0.78373146,  0.312403  ,  0.5368142 ],\n",
       "           [-0.61153066,  0.5392628 ,  0.57898694],\n",
       "           [-0.10860669, -0.7820486 ,  0.61368114]],\n",
       "   \n",
       "          [[-0.9624506 ,  0.2610998 , -0.07426896],\n",
       "           [-0.16278742, -0.77408147, -0.61179906],\n",
       "           [ 0.21723083,  0.5767363 , -0.7875189 ]],\n",
       "   \n",
       "          [[-0.38080096, -0.33195662,  0.8630154 ],\n",
       "           [ 0.45671088,  0.7440155 ,  0.4877048 ],\n",
       "           [-0.80399376,  0.5798669 , -0.13171363]],\n",
       "   \n",
       "          [[ 0.23279333,  0.5586338 , -0.79607505],\n",
       "           [-0.90378946,  0.4265416 ,  0.0350275 ],\n",
       "           [ 0.35912666,  0.71133   ,  0.60418344]],\n",
       "   \n",
       "          [[-0.5621754 ,  0.5657649 ,  0.6032155 ],\n",
       "           [-0.09309049, -0.76804036,  0.63359946],\n",
       "           [-0.82176214, -0.3000404 , -0.48444065]]], dtype=float32)),\n",
       "  3.0)]"
      ]
     },
     "metadata": {},
     "execution_count": 136
    }
   ],
   "metadata": {}
  },
  {
   "cell_type": "code",
   "execution_count": 3,
   "source": [
    "@tf.function\n",
    "def geodesic_distance(R1, R2):\n",
    "    matmuled = tf.matmul(R1, R2, transpose_b=True)\n",
    "    traced = tf.linalg.trace(matmuled)\n",
    "    cosval = tf.clip_by_value((traced - 1) / 2, -1, 1)\n",
    "    return tf.math.acos(cosval) / np.pi"
   ],
   "outputs": [],
   "metadata": {}
  },
  {
   "cell_type": "code",
   "execution_count": 52,
   "source": [
    "a = [tf.keras.initializers.Orthogonal()((3, 3)) for _ in range(100)]\n",
    "b = [tf.keras.initializers.Orthogonal()((3, 3)) for _ in range(100)]\n",
    "mul = tf.matmul(a, b, transpose_a=True)\n",
    "geodesic_distance(mul, mul)"
   ],
   "outputs": [
    {
     "output_type": "execute_result",
     "data": {
      "text/plain": [
       "<tf.Tensor: shape=(100,), dtype=float32, numpy=\n",
       "array([0.01006109, 0.01005869, 0.01006109, 0.0100623 , 0.0100635 ,\n",
       "       0.01005869, 0.0100635 , 0.0100659 , 0.01006109, 0.0100659 ,\n",
       "       0.0100659 , 0.0100635 , 0.0100635 , 0.0100635 , 0.0100635 ,\n",
       "       0.0100623 , 0.0100635 , 0.01006109, 0.01006109, 0.0100623 ,\n",
       "       0.0100635 , 0.0100635 , 0.0100635 , 0.0100635 , 0.0100635 ,\n",
       "       0.0100647 , 0.0100623 , 0.0100635 , 0.0100647 , 0.01006109,\n",
       "       0.01006109, 0.0100659 , 0.01006109, 0.01006109, 0.0100635 ,\n",
       "       0.0100647 , 0.01006109, 0.01006109, 0.0100635 , 0.01005989,\n",
       "       0.0100635 , 0.0100647 , 0.0100635 , 0.0100659 , 0.0100635 ,\n",
       "       0.0100647 , 0.0100635 , 0.0100635 , 0.0100635 , 0.0100635 ,\n",
       "       0.0100647 , 0.0100635 , 0.0100623 , 0.0100635 , 0.0100647 ,\n",
       "       0.01006109, 0.0100635 , 0.0100659 , 0.0100647 , 0.0100635 ,\n",
       "       0.0100635 , 0.0100635 , 0.0100635 , 0.0100635 , 0.0100635 ,\n",
       "       0.0100635 , 0.0100647 , 0.0100635 , 0.0100647 , 0.0100623 ,\n",
       "       0.0100647 , 0.0100623 , 0.0100635 , 0.0100623 , 0.0100647 ,\n",
       "       0.0100659 , 0.01006109, 0.0100635 , 0.0100659 , 0.0100623 ,\n",
       "       0.0100659 , 0.0100623 , 0.0100647 , 0.0100659 , 0.0100635 ,\n",
       "       0.0100659 , 0.0100671 , 0.0100635 , 0.0100635 , 0.0100635 ,\n",
       "       0.0100623 , 0.0100659 , 0.0100659 , 0.0100635 , 0.0100635 ,\n",
       "       0.0100647 , 0.0100635 , 0.0100647 , 0.0100635 , 0.0100671 ],\n",
       "      dtype=float32)>"
      ]
     },
     "metadata": {},
     "execution_count": 52
    }
   ],
   "metadata": {}
  },
  {
   "cell_type": "code",
   "execution_count": 11,
   "source": [
    "tf.matmul(a[0], [[1],[1],[1]])"
   ],
   "outputs": [
    {
     "output_type": "execute_result",
     "data": {
      "text/plain": [
       "<tf.Tensor: shape=(3, 1), dtype=float32, numpy=\n",
       "array([[-0.4768517 ],\n",
       "       [-1.6002616 ],\n",
       "       [ 0.46019095]], dtype=float32)>"
      ]
     },
     "metadata": {},
     "execution_count": 11
    }
   ],
   "metadata": {}
  },
  {
   "cell_type": "code",
   "execution_count": 12,
   "source": [
    "tf.clip_by_value([2,3,2,1,3,1.111,-1.0001],-1,1)"
   ],
   "outputs": [
    {
     "output_type": "execute_result",
     "data": {
      "text/plain": [
       "<tf.Tensor: shape=(7,), dtype=float32, numpy=array([ 1.,  1.,  1.,  1.,  1.,  1., -1.], dtype=float32)>"
      ]
     },
     "metadata": {},
     "execution_count": 12
    }
   ],
   "metadata": {}
  },
  {
   "cell_type": "code",
   "execution_count": 23,
   "source": [
    "a = np.array([[1.,2.,3.],[4.,5.,6.]])\n",
    "b = tf.keras.initializers.Orthogonal()((3, 3))"
   ],
   "outputs": [],
   "metadata": {}
  },
  {
   "cell_type": "code",
   "execution_count": 24,
   "source": [
    "a @ b"
   ],
   "outputs": [
    {
     "output_type": "execute_result",
     "data": {
      "text/plain": [
       "<tf.Tensor: shape=(2, 3), dtype=float32, numpy=\n",
       "array([[-2.902581  , -2.1823962 , -0.90120465],\n",
       "       [-5.4029875 , -6.4718943 , -2.43358   ]], dtype=float32)>"
      ]
     },
     "metadata": {},
     "execution_count": 24
    }
   ],
   "metadata": {}
  },
  {
   "cell_type": "code",
   "execution_count": 25,
   "source": [
    "a[:1] @ b"
   ],
   "outputs": [
    {
     "output_type": "execute_result",
     "data": {
      "text/plain": [
       "<tf.Tensor: shape=(1, 3), dtype=float32, numpy=array([[-2.902581  , -2.1823962 , -0.90120465]], dtype=float32)>"
      ]
     },
     "metadata": {},
     "execution_count": 25
    }
   ],
   "metadata": {}
  },
  {
   "cell_type": "code",
   "execution_count": 26,
   "source": [
    "tf.norm(a[0])"
   ],
   "outputs": [
    {
     "output_type": "execute_result",
     "data": {
      "text/plain": [
       "<tf.Tensor: shape=(), dtype=float64, numpy=3.7416573867739413>"
      ]
     },
     "metadata": {},
     "execution_count": 26
    }
   ],
   "metadata": {}
  },
  {
   "cell_type": "code",
   "execution_count": 27,
   "source": [
    "tf.norm(a[:1] @ b)"
   ],
   "outputs": [
    {
     "output_type": "execute_result",
     "data": {
      "text/plain": [
       "<tf.Tensor: shape=(), dtype=float32, numpy=3.7416575>"
      ]
     },
     "metadata": {},
     "execution_count": 27
    }
   ],
   "metadata": {}
  },
  {
   "cell_type": "code",
   "execution_count": 8,
   "source": [
    "a = np.random.rand(5,3)\n",
    "a"
   ],
   "outputs": [
    {
     "output_type": "execute_result",
     "data": {
      "text/plain": [
       "array([[0.75446103, 0.73939338, 0.2019619 ],\n",
       "       [0.70538133, 0.71836418, 0.08928114],\n",
       "       [0.56308745, 0.96189537, 0.12720687],\n",
       "       [0.48979381, 0.99353033, 0.27837151],\n",
       "       [0.51721861, 0.96338903, 0.92329821]])"
      ]
     },
     "metadata": {},
     "execution_count": 8
    }
   ],
   "metadata": {}
  },
  {
   "cell_type": "code",
   "execution_count": 9,
   "source": [
    "tf.square(tf.norm(a, ord=2, axis=-1))"
   ],
   "outputs": [
    {
     "output_type": "execute_result",
     "data": {
      "text/plain": [
       "<tf.Tensor: shape=(5,), dtype=float64, numpy=array([1.15670263, 1.02158104, 1.25849176, 1.3044912 , 2.04811309])>"
      ]
     },
     "metadata": {},
     "execution_count": 9
    }
   ],
   "metadata": {}
  },
  {
   "cell_type": "code",
   "execution_count": 22,
   "source": [
    "tf.math.acos(0.)"
   ],
   "outputs": [
    {
     "output_type": "execute_result",
     "data": {
      "text/plain": [
       "<tf.Tensor: shape=(), dtype=float32, numpy=1.5707964>"
      ]
     },
     "metadata": {},
     "execution_count": 22
    }
   ],
   "metadata": {}
  },
  {
   "cell_type": "code",
   "execution_count": 38,
   "source": [
    "@tf.function\n",
    "def geodesic_distance(R1, R2):\n",
    "    matmuled = tf.matmul(R1, R2, transpose_b=True)\n",
    "    traced = tf.linalg.trace(matmuled)\n",
    "    cosval = (traced - 1) / 2\n",
    "    return 1 - cosval\n",
    "    return tf.math.acos(cosval) / np.pi"
   ],
   "outputs": [],
   "metadata": {}
  },
  {
   "cell_type": "code",
   "execution_count": 73,
   "source": [
    "a = [tf.keras.initializers.Orthogonal()((3, 3)) for _ in range(100)]\n",
    "b = [tf.keras.initializers.Orthogonal()((3, 3)) for _ in range(100)]\n",
    "mul = tf.matmul(a, b, transpose_a=True)\n",
    "tf.reduce_mean(geodesic_distance(mul[0], mul[1]))"
   ],
   "outputs": [
    {
     "output_type": "execute_result",
     "data": {
      "text/plain": [
       "<tf.Tensor: shape=(), dtype=float32, numpy=1.9294143>"
      ]
     },
     "metadata": {},
     "execution_count": 73
    }
   ],
   "metadata": {}
  },
  {
   "cell_type": "code",
   "execution_count": 4,
   "source": [
    "y = transformation.quaternion.rotate(decoded, normed)\n",
    "y"
   ],
   "outputs": [
    {
     "output_type": "execute_result",
     "data": {
      "text/plain": [
       "<tf.Tensor: shape=(12, 3), dtype=float32, numpy=\n",
       "array([[1.5999999, 6.2      , 6.       ],\n",
       "       [1.5999999, 6.2      , 6.       ],\n",
       "       [1.5999999, 6.2      , 6.       ],\n",
       "       [1.5999999, 6.2      , 6.       ],\n",
       "       [1.5999999, 6.2      , 6.       ],\n",
       "       [1.5999999, 6.2      , 6.       ],\n",
       "       [1.5999999, 6.2      , 6.       ],\n",
       "       [1.5999999, 6.2      , 6.       ],\n",
       "       [1.5999999, 6.2      , 6.       ],\n",
       "       [1.5999999, 6.2      , 6.       ],\n",
       "       [1.5999999, 6.2      , 6.       ],\n",
       "       [1.5999999, 6.2      , 6.       ]], dtype=float32)>"
      ]
     },
     "metadata": {},
     "execution_count": 4
    }
   ],
   "metadata": {}
  },
  {
   "cell_type": "code",
   "execution_count": 5,
   "source": [
    "transformation.rotation_matrix_3d.rotate(decoded, transformation.rotation_matrix_3d.from_quaternion(normed))"
   ],
   "outputs": [
    {
     "output_type": "execute_result",
     "data": {
      "text/plain": [
       "<tf.Tensor: shape=(12, 3), dtype=float32, numpy=\n",
       "array([[1.5999994, 6.2      , 6.       ],\n",
       "       [1.5999994, 6.2      , 6.       ],\n",
       "       [1.5999994, 6.2      , 6.       ],\n",
       "       [1.5999994, 6.2      , 6.       ],\n",
       "       [1.5999994, 6.2      , 6.       ],\n",
       "       [1.5999994, 6.2      , 6.       ],\n",
       "       [1.5999994, 6.2      , 6.       ],\n",
       "       [1.5999994, 6.2      , 6.       ],\n",
       "       [1.5999994, 6.2      , 6.       ],\n",
       "       [1.5999994, 6.2      , 6.       ],\n",
       "       [1.5999994, 6.2      , 6.       ],\n",
       "       [1.5999994, 6.2      , 6.       ]], dtype=float32)>"
      ]
     },
     "metadata": {},
     "execution_count": 5
    }
   ],
   "metadata": {}
  },
  {
   "cell_type": "code",
   "execution_count": 11,
   "source": [
    "mat = transformation.rotation_matrix_3d.from_quaternion(normed)\n",
    "mat"
   ],
   "outputs": [
    {
     "output_type": "execute_result",
     "data": {
      "text/plain": [
       "<tf.Tensor: shape=(3, 3), dtype=float32, numpy=\n",
       "array([[ 0.13333333, -0.6666667 ,  0.7333333 ],\n",
       "       [ 0.93333334,  0.3333333 ,  0.13333336],\n",
       "       [-0.3333333 ,  0.6666666 ,  0.6666667 ]], dtype=float32)>"
      ]
     },
     "metadata": {},
     "execution_count": 11
    }
   ],
   "metadata": {}
  },
  {
   "cell_type": "code",
   "execution_count": 3,
   "source": [
    "history = pd.read_csv('model/' + '210513211608_3958299_AutoEncoderV4_sphere_packing_0.701597.xyz' + '/training/logging.csv')\n",
    "plt.plot(history)\n",
    "# plt.plot(history['val_loss'])\n",
    "# plt.legend(['loss', 'val_loss'])\n",
    "plt.title(\"Train History\")\n",
    "plt.ylabel(\"Loss\")\n",
    "plt.xlabel(\"Epoch\")"
   ],
   "outputs": [
    {
     "output_type": "execute_result",
     "data": {
      "text/plain": [
       "Text(0.5, 0, 'Epoch')"
      ]
     },
     "metadata": {},
     "execution_count": 3
    },
    {
     "output_type": "display_data",
     "data": {
      "text/plain": [
       "<Figure size 432x288 with 1 Axes>"
      ],
      "image/png": ""
     },
     "metadata": {
      "needs_background": "light"
     }
    }
   ],
   "metadata": {}
  },
  {
   "cell_type": "code",
   "execution_count": 9,
   "source": [
    "history.drop(columns=['epoch'])"
   ],
   "outputs": [
    {
     "output_type": "execute_result",
     "data": {
      "text/plain": [
       "     chamfer_loss  cross_rotational_consistency_loss  hausdorff_loss  \\\n",
       "0        2.123274                           2.010127        1.551993   \n",
       "1        1.501992                           1.292783        1.366839   \n",
       "2        1.173320                           1.097338        1.213957   \n",
       "3        0.899157                           0.949048        1.049896   \n",
       "4        0.789582                           0.821897        0.990932   \n",
       "..            ...                                ...             ...   \n",
       "990      0.266787                           0.093964        0.532587   \n",
       "991      0.274555                           0.114908        0.539342   \n",
       "992      0.271714                           0.103616        0.536774   \n",
       "993      0.274271                           0.112476        0.535437   \n",
       "994      0.272248                           0.113700        0.538923   \n",
       "\n",
       "          loss  rotation_loss  \n",
       "0    39.674221       1.487936  \n",
       "1    32.040276       1.436072  \n",
       "2    27.734823       1.369032  \n",
       "3    24.224577       1.323406  \n",
       "4    22.584595       1.287595  \n",
       "..         ...            ...  \n",
       "990  10.738895       0.744447  \n",
       "991  10.993043       0.759324  \n",
       "992  11.011660       0.765413  \n",
       "993  11.025263       0.763464  \n",
       "994  11.040897       0.766579  \n",
       "\n",
       "[995 rows x 5 columns]"
      ],
      "text/html": [
       "<div>\n",
       "<style scoped>\n",
       "    .dataframe tbody tr th:only-of-type {\n",
       "        vertical-align: middle;\n",
       "    }\n",
       "\n",
       "    .dataframe tbody tr th {\n",
       "        vertical-align: top;\n",
       "    }\n",
       "\n",
       "    .dataframe thead th {\n",
       "        text-align: right;\n",
       "    }\n",
       "</style>\n",
       "<table border=\"1\" class=\"dataframe\">\n",
       "  <thead>\n",
       "    <tr style=\"text-align: right;\">\n",
       "      <th></th>\n",
       "      <th>chamfer_loss</th>\n",
       "      <th>cross_rotational_consistency_loss</th>\n",
       "      <th>hausdorff_loss</th>\n",
       "      <th>loss</th>\n",
       "      <th>rotation_loss</th>\n",
       "    </tr>\n",
       "  </thead>\n",
       "  <tbody>\n",
       "    <tr>\n",
       "      <th>0</th>\n",
       "      <td>2.123274</td>\n",
       "      <td>2.010127</td>\n",
       "      <td>1.551993</td>\n",
       "      <td>39.674221</td>\n",
       "      <td>1.487936</td>\n",
       "    </tr>\n",
       "    <tr>\n",
       "      <th>1</th>\n",
       "      <td>1.501992</td>\n",
       "      <td>1.292783</td>\n",
       "      <td>1.366839</td>\n",
       "      <td>32.040276</td>\n",
       "      <td>1.436072</td>\n",
       "    </tr>\n",
       "    <tr>\n",
       "      <th>2</th>\n",
       "      <td>1.173320</td>\n",
       "      <td>1.097338</td>\n",
       "      <td>1.213957</td>\n",
       "      <td>27.734823</td>\n",
       "      <td>1.369032</td>\n",
       "    </tr>\n",
       "    <tr>\n",
       "      <th>3</th>\n",
       "      <td>0.899157</td>\n",
       "      <td>0.949048</td>\n",
       "      <td>1.049896</td>\n",
       "      <td>24.224577</td>\n",
       "      <td>1.323406</td>\n",
       "    </tr>\n",
       "    <tr>\n",
       "      <th>4</th>\n",
       "      <td>0.789582</td>\n",
       "      <td>0.821897</td>\n",
       "      <td>0.990932</td>\n",
       "      <td>22.584595</td>\n",
       "      <td>1.287595</td>\n",
       "    </tr>\n",
       "    <tr>\n",
       "      <th>...</th>\n",
       "      <td>...</td>\n",
       "      <td>...</td>\n",
       "      <td>...</td>\n",
       "      <td>...</td>\n",
       "      <td>...</td>\n",
       "    </tr>\n",
       "    <tr>\n",
       "      <th>990</th>\n",
       "      <td>0.266787</td>\n",
       "      <td>0.093964</td>\n",
       "      <td>0.532587</td>\n",
       "      <td>10.738895</td>\n",
       "      <td>0.744447</td>\n",
       "    </tr>\n",
       "    <tr>\n",
       "      <th>991</th>\n",
       "      <td>0.274555</td>\n",
       "      <td>0.114908</td>\n",
       "      <td>0.539342</td>\n",
       "      <td>10.993043</td>\n",
       "      <td>0.759324</td>\n",
       "    </tr>\n",
       "    <tr>\n",
       "      <th>992</th>\n",
       "      <td>0.271714</td>\n",
       "      <td>0.103616</td>\n",
       "      <td>0.536774</td>\n",
       "      <td>11.011660</td>\n",
       "      <td>0.765413</td>\n",
       "    </tr>\n",
       "    <tr>\n",
       "      <th>993</th>\n",
       "      <td>0.274271</td>\n",
       "      <td>0.112476</td>\n",
       "      <td>0.535437</td>\n",
       "      <td>11.025263</td>\n",
       "      <td>0.763464</td>\n",
       "    </tr>\n",
       "    <tr>\n",
       "      <th>994</th>\n",
       "      <td>0.272248</td>\n",
       "      <td>0.113700</td>\n",
       "      <td>0.538923</td>\n",
       "      <td>11.040897</td>\n",
       "      <td>0.766579</td>\n",
       "    </tr>\n",
       "  </tbody>\n",
       "</table>\n",
       "<p>995 rows × 5 columns</p>\n",
       "</div>"
      ]
     },
     "metadata": {},
     "execution_count": 9
    }
   ],
   "metadata": {}
  },
  {
   "cell_type": "code",
   "execution_count": 12,
   "source": [
    "history.drop(columns=['epoch', 'loss']).plot()"
   ],
   "outputs": [
    {
     "output_type": "execute_result",
     "data": {
      "text/plain": [
       "<AxesSubplot:>"
      ]
     },
     "metadata": {},
     "execution_count": 12
    },
    {
     "output_type": "display_data",
     "data": {
      "text/plain": [
       "<Figure size 432x288 with 1 Axes>"
      ],
      "image/png": ""
     },
     "metadata": {
      "needs_background": "light"
     }
    }
   ],
   "metadata": {}
  },
  {
   "cell_type": "code",
   "execution_count": 5,
   "source": [
    "centers, neighbors, pack_list = utils.read_packing('data/sphere_packing_0.701597.xyz', 12)\n",
    "DIMEN_SIZE = centers.shape[1]"
   ],
   "outputs": [],
   "metadata": {}
  },
  {
   "cell_type": "code",
   "execution_count": 3,
   "source": [
    "import json\n",
    "with open('model/210513235802_4004444_AutoEncoderV4_sphere_packing_0.701597.xyz/training/arguments.json') as f:\n",
    "    args_dict = json.load(f)\n",
    "\n",
    "MODEL_NAME = args_dict['model_name']\n",
    "DATASET = args_dict['dataset']\n",
    "LATENT_DIM = args_dict['latent_dim']\n",
    "CLOUD_SIZE = args_dict['cloud_size']\n",
    "BATCH_SIZE = args_dict['batch_size']\n",
    "REPEAT_SIZE = args_dict['repeat_size']\n",
    "LEARNING_RATE = args_dict['learning_rate']"
   ],
   "outputs": [],
   "metadata": {}
  },
  {
   "cell_type": "code",
   "execution_count": 8,
   "source": [
    "model = eval('models.{}({}, {}, {}, {}, {})'.format(MODEL_NAME, REPEAT_SIZE, BATCH_SIZE, LATENT_DIM, CLOUD_SIZE, DIMEN_SIZE))\n",
    "model.compile(optimizer=tf.keras.optimizers.Adam(learning_rate=LEARNING_RATE), loss=models.loss_fun)"
   ],
   "outputs": [],
   "metadata": {}
  },
  {
   "cell_type": "code",
   "execution_count": 10,
   "source": [
    "checkpoint = tf.train.Checkpoint(model)\n",
    "save_path = tf.train.latest_checkpoint('model/210513235802_4004444_AutoEncoderV4_sphere_packing_0.701597.xyz/training/checkpoint')\n",
    "checkpoint.restore(save_path).expect_partial()"
   ],
   "outputs": [
    {
     "output_type": "execute_result",
     "data": {
      "text/plain": [
       "<tensorflow.python.training.tracking.util.CheckpointLoadStatus at 0x7f44a8210130>"
      ]
     },
     "metadata": {},
     "execution_count": 10
    }
   ],
   "metadata": {}
  },
  {
   "cell_type": "code",
   "execution_count": 43,
   "source": [
    "point_cloud = neighbors[:10]\n",
    "encoded = model.encoder.predict(point_cloud)\n",
    "encoded"
   ],
   "outputs": [
    {
     "output_type": "execute_result",
     "data": {
      "text/plain": [
       "array([[-0.15620907,  0.08966328],\n",
       "       [ 0.4333004 ,  0.09956403],\n",
       "       [-0.15470836,  0.11073762],\n",
       "       [ 0.37685382,  0.13313279],\n",
       "       [ 0.44268468,  0.09337458],\n",
       "       [-0.05318618,  0.12872481],\n",
       "       [ 0.34470525,  0.15234834],\n",
       "       [ 0.34839717,  0.14829916],\n",
       "       [-0.13832991,  0.10913594],\n",
       "       [-0.15370293,  0.09868849]], dtype=float32)"
      ]
     },
     "metadata": {},
     "execution_count": 43
    }
   ],
   "metadata": {}
  },
  {
   "cell_type": "code",
   "execution_count": 128,
   "source": [
    "rotmat = [tf.keras.initializers.Orthogonal()((DIMEN_SIZE, DIMEN_SIZE)) for _ in range(10)]\n",
    "point_cloud_rotated = [transformation.rotation_matrix_3d.rotate(np.float32(point_cloud[0]), rm) for rm in rotmat]"
   ],
   "outputs": [],
   "metadata": {}
  },
  {
   "cell_type": "code",
   "execution_count": 129,
   "source": [
    "point_cloud_rotated = tf.stack(point_cloud_rotated)"
   ],
   "outputs": [],
   "metadata": {}
  },
  {
   "cell_type": "code",
   "execution_count": 130,
   "source": [
    "encoded_rot = model.encoder.predict(point_cloud_rotated)\n",
    "encoded_rot"
   ],
   "outputs": [
    {
     "output_type": "execute_result",
     "data": {
      "text/plain": [
       "array([[-0.15405285,  0.12618053],\n",
       "       [-0.1543093 ,  0.0946373 ],\n",
       "       [-0.14439982,  0.10624734],\n",
       "       [-0.164526  ,  0.09960613],\n",
       "       [-0.1412723 ,  0.11123575],\n",
       "       [-0.15556334,  0.12931159],\n",
       "       [-0.15006419,  0.0991607 ],\n",
       "       [-0.1579988 ,  0.12476647],\n",
       "       [-0.15684652,  0.11789452],\n",
       "       [-0.14845689,  0.13429898]], dtype=float32)"
      ]
     },
     "metadata": {},
     "execution_count": 130
    }
   ],
   "metadata": {}
  },
  {
   "cell_type": "code",
   "execution_count": 131,
   "source": [
    "transfm = model.transformer.predict(point_cloud_rotated)\n",
    "transfm = transformation.quaternion.normalize(transfm)\n",
    "transfm"
   ],
   "outputs": [
    {
     "output_type": "execute_result",
     "data": {
      "text/plain": [
       "<tf.Tensor: shape=(10, 4), dtype=float32, numpy=\n",
       "array([[-0.2111473 , -0.26953465,  0.8015323 , -0.4902181 ],\n",
       "       [-0.15023337, -0.23630536,  0.8711809 , -0.40327838],\n",
       "       [-0.22484007, -0.2933637 ,  0.8447297 , -0.3870609 ],\n",
       "       [ 0.31902575, -0.15097909,  0.7410871 , -0.5711547 ],\n",
       "       [ 0.39998657, -0.13990998,  0.707411  , -0.5656904 ],\n",
       "       [ 0.3300813 , -0.16761732,  0.7195699 , -0.5875116 ],\n",
       "       [ 0.3556442 , -0.18303967,  0.6606416 , -0.63526875],\n",
       "       [ 0.127839  , -0.24421719,  0.77676666, -0.56625855],\n",
       "       [ 0.1230089 , -0.21331051,  0.77567554, -0.5811153 ],\n",
       "       [-0.25957686, -0.21564552,  0.8469613 , -0.41082022]],\n",
       "      dtype=float32)>"
      ]
     },
     "metadata": {},
     "execution_count": 131
    }
   ],
   "metadata": {}
  },
  {
   "cell_type": "code",
   "execution_count": 166,
   "source": [
    "tf.math.l2_normalize(transfm, axis=-1)"
   ],
   "outputs": [
    {
     "output_type": "execute_result",
     "data": {
      "text/plain": [
       "<tf.Tensor: shape=(10, 4), dtype=float32, numpy=\n",
       "array([[-0.2111473 , -0.26953465,  0.8015323 , -0.4902181 ],\n",
       "       [-0.15023337, -0.23630536,  0.8711809 , -0.40327838],\n",
       "       [-0.2248401 , -0.29336372,  0.84472984, -0.38706097],\n",
       "       [ 0.31902575, -0.15097909,  0.7410871 , -0.5711547 ],\n",
       "       [ 0.39998657, -0.13990998,  0.707411  , -0.5656904 ],\n",
       "       [ 0.3300813 , -0.16761732,  0.7195699 , -0.5875116 ],\n",
       "       [ 0.3556442 , -0.18303967,  0.6606416 , -0.63526875],\n",
       "       [ 0.127839  , -0.24421719,  0.77676666, -0.56625855],\n",
       "       [ 0.1230089 , -0.21331051,  0.77567554, -0.5811153 ],\n",
       "       [-0.2595769 , -0.21564555,  0.84696144, -0.41082028]],\n",
       "      dtype=float32)>"
      ]
     },
     "metadata": {},
     "execution_count": 166
    }
   ],
   "metadata": {}
  },
  {
   "cell_type": "code",
   "execution_count": 132,
   "source": [
    "pred_rotate_matrix = transformation.rotation_matrix_3d.from_quaternion(transfm)\n",
    "pred_rotate_matrix"
   ],
   "outputs": [
    {
     "output_type": "execute_result",
     "data": {
      "text/plain": [
       "<tf.Tensor: shape=(10, 3, 3), dtype=float32, numpy=\n",
       "array([[[-0.43020606,  0.8996743 , -0.07422125],\n",
       "        [-0.6720283 , -0.37407458, -0.6390979 ],\n",
       "        [-0.6027443 , -0.22506501,  0.7655358 ]],\n",
       "\n",
       "       [[-0.62959266,  0.77365875, -0.0711672 ],\n",
       "        [-0.631655  , -0.5630524 , -0.53290117],\n",
       "        [-0.45235458, -0.29055768,  0.84317946]],\n",
       "\n",
       "       [[-0.59926116,  0.7858435 , -0.15275896],\n",
       "        [-0.5220039 , -0.5282428 , -0.66967964],\n",
       "        [-0.60695744, -0.32157245,  0.7267694 ]],\n",
       "\n",
       "       [[-0.14400947,  0.75021833,  0.64531654],\n",
       "        [-0.9428832 , -0.301975  ,  0.14064884],\n",
       "        [ 0.3003869 , -0.58820343,  0.75085574]],\n",
       "\n",
       "       [[-0.04001021,  0.688427  ,  0.72420126],\n",
       "        [-0.91227543, -0.32083905,  0.25458938],\n",
       "        [ 0.40761834, -0.65048486,  0.6408719 ]],\n",
       "\n",
       "       [[-0.09175289,  0.73485667,  0.6719874 ],\n",
       "        [-0.9561661 , -0.2534691 ,  0.14662844],\n",
       "        [ 0.2780789 , -0.629078  ,  0.7259015 ]],\n",
       "\n",
       "       [[ 0.06009829,  0.70917594,  0.7024655 ],\n",
       "        [-0.96956396, -0.12586033,  0.21001206],\n",
       "        [ 0.23734796, -0.6937065 ,  0.68002737]],\n",
       "\n",
       "       [[-0.3260169 ,  0.8172605 ,  0.4751823 ],\n",
       "        [-0.9421425 , -0.2394185 , -0.23461969],\n",
       "        [-0.07797801, -0.5241794 ,  0.8480303 ]],\n",
       "\n",
       "       [[-0.29434776,  0.8490357 ,  0.43874598],\n",
       "        [-0.95399207, -0.23360741, -0.18795477],\n",
       "        [-0.05708601, -0.47388417,  0.8787349 ]],\n",
       "\n",
       "       [[-0.5276929 ,  0.80785084, -0.26252002],\n",
       "        [-0.58394444, -0.56944716, -0.57856566],\n",
       "        [-0.6168862 , -0.15200798,  0.7722337 ]]], dtype=float32)>"
      ]
     },
     "metadata": {},
     "execution_count": 132
    }
   ],
   "metadata": {}
  },
  {
   "cell_type": "code",
   "execution_count": 133,
   "source": [
    "true_rotate_matrix = tf.stack(rotmat)\n",
    "true_rotate_matrix"
   ],
   "outputs": [
    {
     "output_type": "execute_result",
     "data": {
      "text/plain": [
       "<tf.Tensor: shape=(10, 3, 3), dtype=float32, numpy=\n",
       "array([[[-0.19775152,  0.614686  , -0.7635808 ],\n",
       "        [ 0.9476262 , -0.0794208 , -0.30934942],\n",
       "        [-0.25079697, -0.78476334, -0.5667869 ]],\n",
       "\n",
       "       [[-0.4495622 , -0.34094808, -0.8256198 ],\n",
       "        [ 0.8661701 , -0.3922512 , -0.30965835],\n",
       "        [ 0.21827294,  0.85433793, -0.47166038]],\n",
       "\n",
       "       [[ 0.62462497,  0.18506786,  0.75867885],\n",
       "        [-0.77441174,  0.02157979,  0.63231385],\n",
       "        [ 0.10064886, -0.9824888 ,  0.15679795]],\n",
       "\n",
       "       [[ 0.08770466,  0.70954585, -0.69918   ],\n",
       "        [-0.7776047 , -0.38992262, -0.4932457 ],\n",
       "        [ 0.62260646, -0.58694565, -0.5175481 ]],\n",
       "\n",
       "       [[-0.38692248,  0.21449153, -0.896819  ],\n",
       "        [-0.9155162 , -0.2054779 ,  0.34584516],\n",
       "        [ 0.11009561, -0.9548676 , -0.27587456]],\n",
       "\n",
       "       [[ 0.33319223,  0.5202243 , -0.78635204],\n",
       "        [-0.82658875, -0.24004567, -0.50904727],\n",
       "        [-0.45357922,  0.8196003 ,  0.35003027]],\n",
       "\n",
       "       [[ 0.96873915,  0.15270802,  0.19551189],\n",
       "        [ 0.07547037,  0.5693336 , -0.8186351 ],\n",
       "        [ 0.23632365, -0.80779916, -0.5400108 ]],\n",
       "\n",
       "       [[ 0.31005907,  0.84275836, -0.4400248 ],\n",
       "        [ 0.43058774, -0.53712523, -0.725321  ],\n",
       "        [ 0.8476189 , -0.03542298,  0.5294219 ]],\n",
       "\n",
       "       [[ 0.9436779 , -0.15122657, -0.2942831 ],\n",
       "        [-0.12282355,  0.66576546, -0.73598284],\n",
       "        [-0.30722368, -0.73067564, -0.60969394]],\n",
       "\n",
       "       [[-0.19832265,  0.14476201,  0.96938753],\n",
       "        [-0.14092632,  0.9745446 , -0.1743636 ],\n",
       "        [ 0.9699526 ,  0.17119244,  0.17287338]]], dtype=float32)>"
      ]
     },
     "metadata": {},
     "execution_count": 133
    }
   ],
   "metadata": {}
  },
  {
   "cell_type": "code",
   "execution_count": 155,
   "source": [
    "matmuled = tf.matmul(true_rotate_matrix, pred_rotate_matrix, transpose_a=True)\n",
    "matmuled"
   ],
   "outputs": [
    {
     "output_type": "execute_result",
     "data": {
      "text/plain": [
       "<tf.Tensor: shape=(10, 3, 3), dtype=float32, numpy=\n",
       "array([[[-0.40059125, -0.4759492 , -0.78294265],\n",
       "        [ 0.26194298,  0.7593492 , -0.5956295 ],\n",
       "        [ 0.87801623, -0.44369036, -0.17951715]],\n",
       "\n",
       "       [[-0.36281633, -0.8989278 , -0.24554572],\n",
       "        [ 0.07596216, -0.29115394,  0.95365566],\n",
       "        [ 0.92875916, -0.32734954, -0.17392   ]],\n",
       "\n",
       "       [[-0.0311571 ,  0.86756897,  0.49633926],\n",
       "        [ 0.4741602 ,  0.44997633, -0.7567651 ],\n",
       "        [-0.87988675,  0.2117657 , -0.42538676]],\n",
       "\n",
       "       [[ 0.90758294, -0.06560442,  0.4147157 ],\n",
       "        [ 0.08915938,  0.99530464, -0.03767201],\n",
       "        [ 0.41029698, -0.07116622, -0.90917087]],\n",
       "\n",
       "       [[ 0.8955608 , -0.04425005, -0.4427333 ],\n",
       "        [-0.21035096,  0.834714  , -0.5089252 ],\n",
       "        [-0.39207563, -0.5489028 , -0.73822916]],\n",
       "\n",
       "       [[ 0.633654  ,  0.73969996, -0.22655424],\n",
       "        [ 0.409705  , -0.07245803,  0.90933573],\n",
       "        [ 0.65621984, -0.66902465, -0.34897196]],\n",
       "\n",
       "       [[ 0.04113716,  0.5135685 ,  0.8570621 ],\n",
       "        [-0.73455733,  0.59701586, -0.3224865 ],\n",
       "        [ 0.67729855,  0.61629504, -0.40180504]],\n",
       "\n",
       "       [[-0.5728552 , -0.29399598,  0.7651167 ],\n",
       "        [ 0.23405723,  0.83591884,  0.49644426],\n",
       "        [ 0.785528  , -0.46347168,  0.41004843]],\n",
       "\n",
       "       [[-0.14305861,  0.9754971 ,  0.16715199],\n",
       "        [-0.54891044,  0.06233111, -0.833554  ],\n",
       "        [ 0.8235484 ,  0.2109985 , -0.5265434 ]],\n",
       "\n",
       "       [[-0.41140375, -0.22740558,  0.8826289 ],\n",
       "        [-0.75107604, -0.46402818, -0.46964034],\n",
       "        [-0.5163635 ,  0.8561332 , -0.0201042 ]]], dtype=float32)>"
      ]
     },
     "metadata": {},
     "execution_count": 155
    }
   ],
   "metadata": {}
  },
  {
   "cell_type": "code",
   "execution_count": 156,
   "source": [
    "def geodesic_distance(R1, R2):\n",
    "    matmuled = tf.matmul(R1, R2, transpose_b=True)\n",
    "    traced = tf.linalg.trace(matmuled)\n",
    "    cosval = (traced - 1) / 4\n",
    "    return tf.math.acos(cosval) / np.pi - 1/3\n",
    "\n",
    "rot_loss_list = []\n",
    "for i in range(10):\n",
    "    for j in range(i+1, 10):\n",
    "        rot_loss_list.append(geodesic_distance(matmuled[i], matmuled[j]))\n",
    "\n",
    "tf.reduce_mean(rot_loss_list)"
   ],
   "outputs": [
    {
     "output_type": "execute_result",
     "data": {
      "text/plain": [
       "<tf.Tensor: shape=(), dtype=float32, numpy=0.23855862>"
      ]
     },
     "metadata": {},
     "execution_count": 156
    }
   ],
   "metadata": {}
  },
  {
   "cell_type": "code",
   "execution_count": 161,
   "source": [
    "transformation.rotation_matrix_3d.rotate(np.float32(point_cloud[0][0]), rotmat[0])"
   ],
   "outputs": [
    {
     "output_type": "execute_result",
     "data": {
      "text/plain": [
       "<tf.Tensor: shape=(3,), dtype=float32, numpy=array([-1.8903043 ,  0.26530886, -0.59901744], dtype=float32)>"
      ]
     },
     "metadata": {},
     "execution_count": 161
    }
   ],
   "metadata": {}
  },
  {
   "cell_type": "code",
   "execution_count": 162,
   "source": [
    "rotmat[0] @ np.expand_dims(np.float32(point_cloud[0][0]), axis=-1)"
   ],
   "outputs": [
    {
     "output_type": "execute_result",
     "data": {
      "text/plain": [
       "<tf.Tensor: shape=(3, 1), dtype=float32, numpy=\n",
       "array([[-1.8903043 ],\n",
       "       [ 0.26530886],\n",
       "       [-0.59901744]], dtype=float32)>"
      ]
     },
     "metadata": {},
     "execution_count": 162
    }
   ],
   "metadata": {}
  },
  {
   "cell_type": "code",
   "execution_count": 175,
   "source": [
    "tf.transpose(rotmat[0]) @ rotmat[1]"
   ],
   "outputs": [
    {
     "output_type": "execute_result",
     "data": {
      "text/plain": [
       "<tf.Tensor: shape=(3, 3), dtype=float32, numpy=\n",
       "array([[ 0.85496485, -0.51854986, -0.01188176],\n",
       "       [-0.5164241 , -0.8488762 , -0.11276186],\n",
       "       [-0.04838639, -0.10254344,  0.993551  ]], dtype=float32)>"
      ]
     },
     "metadata": {},
     "execution_count": 175
    }
   ],
   "metadata": {}
  },
  {
   "cell_type": "code",
   "execution_count": 171,
   "source": [
    "tf.matmul(rotmat[0], rotmat[1], transpose_a=True)"
   ],
   "outputs": [
    {
     "output_type": "execute_result",
     "data": {
      "text/plain": [
       "<tf.Tensor: shape=(3, 3), dtype=float32, numpy=\n",
       "array([[ 0.85496485, -0.51854986, -0.01188176],\n",
       "       [-0.5164241 , -0.8488762 , -0.11276186],\n",
       "       [-0.04838639, -0.10254344,  0.993551  ]], dtype=float32)>"
      ]
     },
     "metadata": {},
     "execution_count": 171
    }
   ],
   "metadata": {}
  },
  {
   "cell_type": "code",
   "execution_count": 14,
   "source": [
    "data = np.random.rand(1000,2)"
   ],
   "outputs": [],
   "metadata": {}
  },
  {
   "cell_type": "code",
   "execution_count": 15,
   "source": [
    "from sklearn.manifold import TSNE\n",
    "\n",
    "data_rd = TSNE().fit_transform(data)"
   ],
   "outputs": [],
   "metadata": {}
  },
  {
   "cell_type": "code",
   "execution_count": 16,
   "source": [
    "plt.scatter(data[:,0], data[:,1])"
   ],
   "outputs": [
    {
     "output_type": "execute_result",
     "data": {
      "text/plain": [
       "<matplotlib.collections.PathCollection at 0x7f2cadeccfd0>"
      ]
     },
     "metadata": {},
     "execution_count": 16
    },
    {
     "output_type": "display_data",
     "data": {
      "text/plain": [
       "<Figure size 432x288 with 1 Axes>"
      ],
      "image/png": ""
     },
     "metadata": {
      "needs_background": "light"
     }
    }
   ],
   "metadata": {}
  },
  {
   "cell_type": "code",
   "execution_count": 17,
   "source": [
    "plt.scatter(data_rd[:,0], data_rd[:,1])"
   ],
   "outputs": [
    {
     "output_type": "execute_result",
     "data": {
      "text/plain": [
       "<matplotlib.collections.PathCollection at 0x7f2caddff2b0>"
      ]
     },
     "metadata": {},
     "execution_count": 17
    },
    {
     "output_type": "display_data",
     "data": {
      "text/plain": [
       "<Figure size 432x288 with 1 Axes>"
      ],
      "image/png": ""
     },
     "metadata": {
      "needs_background": "light"
     }
    }
   ],
   "metadata": {}
  },
  {
   "cell_type": "code",
   "execution_count": 5,
   "source": [
    "q = [1.,2.,3.,4.]"
   ],
   "outputs": [],
   "metadata": {}
  },
  {
   "cell_type": "code",
   "execution_count": 7,
   "source": [
    "normed = transformation.quaternion.normalize(q)"
   ],
   "outputs": [],
   "metadata": {}
  },
  {
   "cell_type": "code",
   "execution_count": 9,
   "source": [
    "inversed = transformation.quaternion.inverse(normed)\n",
    "inversed"
   ],
   "outputs": [
    {
     "output_type": "execute_result",
     "data": {
      "text/plain": [
       "<tf.Tensor: shape=(4,), dtype=float32, numpy=array([-0.18257418, -0.36514837, -0.5477226 ,  0.73029673], dtype=float32)>"
      ]
     },
     "metadata": {},
     "execution_count": 9
    }
   ],
   "metadata": {}
  },
  {
   "cell_type": "code",
   "execution_count": 14,
   "source": [
    "1 - tf.norm(transformation.quaternion.multiply(normed, inversed))"
   ],
   "outputs": [
    {
     "output_type": "execute_result",
     "data": {
      "text/plain": [
       "<tf.Tensor: shape=(), dtype=float32, numpy=0.0>"
      ]
     },
     "metadata": {},
     "execution_count": 14
    }
   ],
   "metadata": {}
  },
  {
   "cell_type": "code",
   "execution_count": 6,
   "source": [
    "sklearn.utils.class_weight.compute_sample_weight('balanced', [1,2,3,4,5,5,1,1,1,1])"
   ],
   "outputs": [
    {
     "output_type": "execute_result",
     "data": {
      "text/plain": [
       "array([0.4, 2. , 2. , 2. , 1. , 1. , 0.4, 0.4, 0.4, 0.4])"
      ]
     },
     "metadata": {},
     "execution_count": 6
    }
   ],
   "metadata": {}
  },
  {
   "cell_type": "code",
   "execution_count": 2,
   "source": [
    "tf.reduce_mean(np.random.rand(4,5,6), axis=0)"
   ],
   "outputs": [
    {
     "output_type": "execute_result",
     "data": {
      "text/plain": [
       "<tf.Tensor: shape=(5, 6), dtype=float64, numpy=\n",
       "array([[0.61607574, 0.43225841, 0.53284655, 0.58754514, 0.48731951,\n",
       "        0.33805758],\n",
       "       [0.57688982, 0.50812212, 0.29556987, 0.75563943, 0.47052876,\n",
       "        0.37304218],\n",
       "       [0.45973993, 0.63844101, 0.66406324, 0.36961323, 0.6317879 ,\n",
       "        0.49982191],\n",
       "       [0.4637106 , 0.50504777, 0.58403679, 0.54973829, 0.74858644,\n",
       "        0.52147988],\n",
       "       [0.358134  , 0.56931062, 0.74635764, 0.44291717, 0.66613455,\n",
       "        0.50805222]])>"
      ]
     },
     "metadata": {},
     "execution_count": 2
    }
   ],
   "metadata": {}
  },
  {
   "cell_type": "code",
   "execution_count": 2,
   "source": [
    "data = np.load('data/lj-r2.0_scaled_shuffled_equal_samples.npy')"
   ],
   "outputs": [],
   "metadata": {}
  },
  {
   "cell_type": "code",
   "execution_count": 6,
   "source": [
    "pc_size = []\n",
    "for d in data:\n",
    "    for i in range(len(d)):\n",
    "        if np.linalg.norm(d[i]) == 0:\n",
    "            pc_size.append(i)\n",
    "            break"
   ],
   "outputs": [],
   "metadata": {}
  },
  {
   "cell_type": "code",
   "execution_count": 14,
   "source": [
    "min(pc_size)"
   ],
   "outputs": [
    {
     "output_type": "execute_result",
     "data": {
      "text/plain": [
       "19"
      ]
     },
     "metadata": {},
     "execution_count": 14
    }
   ],
   "metadata": {}
  },
  {
   "cell_type": "code",
   "execution_count": 13,
   "source": [
    "len(pc_size)"
   ],
   "outputs": [
    {
     "output_type": "execute_result",
     "data": {
      "text/plain": [
       "536246"
      ]
     },
     "metadata": {},
     "execution_count": 13
    }
   ],
   "metadata": {}
  },
  {
   "cell_type": "code",
   "execution_count": 11,
   "source": [
    "len(data)"
   ],
   "outputs": [
    {
     "output_type": "execute_result",
     "data": {
      "text/plain": [
       "540000"
      ]
     },
     "metadata": {},
     "execution_count": 11
    }
   ],
   "metadata": {}
  },
  {
   "cell_type": "code",
   "execution_count": 12,
   "source": [
    "540000 - 536246"
   ],
   "outputs": [
    {
     "output_type": "execute_result",
     "data": {
      "text/plain": [
       "3754"
      ]
     },
     "metadata": {},
     "execution_count": 12
    }
   ],
   "metadata": {}
  },
  {
   "cell_type": "code",
   "execution_count": null,
   "source": [
    "pc_size = []\n",
    "for d in data:\n",
    "    for i in range(len(d)):\n",
    "        if np.linalg.norm(d[i]) == 0:\n",
    "            pc_size.append(i)\n",
    "            break"
   ],
   "outputs": [],
   "metadata": {}
  },
  {
   "cell_type": "code",
   "execution_count": 39,
   "source": [
    "np.linalg.norm(data[9], axis=-1)"
   ],
   "outputs": [
    {
     "output_type": "execute_result",
     "data": {
      "text/plain": [
       "array([1.        , 1.06326501, 1.06722859, 1.10277126, 1.12455838,\n",
       "       1.13645729, 1.15660067, 1.16760593, 1.18453075, 1.20806885,\n",
       "       1.22623909, 1.35337244, 1.39498484, 1.40529387, 1.42315147,\n",
       "       1.44295809, 1.59190581, 1.62933195, 1.73082845, 1.73303478,\n",
       "       1.7620674 , 1.76465152, 1.8013583 , 1.80426783, 1.81256905,\n",
       "       1.84781106, 1.85082757, 1.86329439, 1.8864135 , 1.91601398,\n",
       "       0.        , 0.        , 0.        , 0.        , 0.        ,\n",
       "       0.        , 0.        , 0.        , 0.        , 0.        ,\n",
       "       0.        , 0.        , 0.        ])"
      ]
     },
     "metadata": {},
     "execution_count": 39
    }
   ],
   "metadata": {}
  },
  {
   "cell_type": "code",
   "execution_count": 13,
   "source": [
    "new_data = []\n",
    "for pc in data:\n",
    "    new_data.append(pc[:12])"
   ],
   "outputs": [],
   "metadata": {}
  },
  {
   "cell_type": "code",
   "execution_count": 14,
   "source": [
    "np.save('data/DeFever_540k_cs12.npy', np.array(new_data))"
   ],
   "outputs": [],
   "metadata": {}
  },
  {
   "cell_type": "code",
   "execution_count": 12,
   "source": [
    "np.array(new_data)"
   ],
   "outputs": [
    {
     "output_type": "execute_result",
     "data": {
      "text/plain": [
       "array([[[ 0.4320384 , -0.16950789, -0.88578208],\n",
       "        [ 0.07131734, -0.06925017,  1.06252506],\n",
       "        [ 0.68113231, -0.82273341, -0.02377245],\n",
       "        ...,\n",
       "        [ 0.37312407,  1.65373551, -0.55916932],\n",
       "        [-1.41890507, -1.07596166, -0.1550377 ],\n",
       "        [-1.56153975,  0.82790134, -0.38966143]],\n",
       "\n",
       "       [[-0.31656553, -0.81755661, -0.4810275 ],\n",
       "        [ 1.00103153,  0.19298139, -0.01521036],\n",
       "        [ 0.66260112, -0.45440937, -0.6863673 ],\n",
       "        ...,\n",
       "        [ 0.47817555, -1.43547731, -0.58654934],\n",
       "        [ 0.06939725, -1.010538  , -1.36322812],\n",
       "        [-0.38881471, -1.01434059,  1.30713993]],\n",
       "\n",
       "       [[-0.30695724, -0.93472742, -0.17905839],\n",
       "        [-0.19717739,  1.04557309, -0.01598736],\n",
       "        [-0.92406918,  0.38795984, -0.40927632],\n",
       "        ...,\n",
       "        [ 0.6373626 ,  1.43886205,  0.71197026],\n",
       "        [-1.07861362,  1.3066999 ,  0.58940053],\n",
       "        [-0.53504352, -0.14921532,  1.77246488]],\n",
       "\n",
       "       ...,\n",
       "\n",
       "       [[-0.49035765,  0.51406933,  0.70376281],\n",
       "        [-0.63262776,  0.64780324, -0.44577968],\n",
       "        [-0.56338964, -0.58425592,  0.63547316],\n",
       "        ...,\n",
       "        [-0.00189693, -1.14195475, -1.19222353],\n",
       "        [-0.04552644,  1.25102851, -1.11919154],\n",
       "        [ 0.14606398,  1.25008004,  1.17704805]],\n",
       "\n",
       "       [[ 0.70835076, -0.50894109, -0.48909934],\n",
       "        [-0.55854549, -0.2867134 , -0.79664659],\n",
       "        [ 0.58930021,  0.61906285,  0.57640307],\n",
       "        ...,\n",
       "        [-0.09524044, -1.10915427, -1.21927603],\n",
       "        [ 0.07242242,  1.19348175, -1.22026812],\n",
       "        [ 0.51390153, -1.52880746,  0.56945846]],\n",
       "\n",
       "       [[-0.57008562,  0.34346148,  0.74634884],\n",
       "        [-0.65872084,  0.48648649, -0.60332383],\n",
       "        [-0.40389458, -0.76145712,  0.63958369],\n",
       "        ...,\n",
       "        [ 0.04834648,  0.9900957 ,  1.30837672],\n",
       "        [-1.13916402, -0.32734598, -1.15930839],\n",
       "        [ 1.26708076, -0.17727044, -1.14822899]]])"
      ]
     },
     "metadata": {},
     "execution_count": 12
    }
   ],
   "metadata": {}
  },
  {
   "cell_type": "code",
   "execution_count": 42,
   "source": [
    "len(new_data)"
   ],
   "outputs": [
    {
     "output_type": "execute_result",
     "data": {
      "text/plain": [
       "540000"
      ]
     },
     "metadata": {},
     "execution_count": 42
    }
   ],
   "metadata": {}
  },
  {
   "cell_type": "code",
   "execution_count": 15,
   "source": [
    "a = tf.constant([1,2,3])"
   ],
   "outputs": [],
   "metadata": {}
  },
  {
   "cell_type": "code",
   "execution_count": 16,
   "source": [
    "a/a"
   ],
   "outputs": [
    {
     "output_type": "execute_result",
     "data": {
      "text/plain": [
       "<tf.Tensor: shape=(3,), dtype=float64, numpy=array([1., 1., 1.])>"
      ]
     },
     "metadata": {},
     "execution_count": 16
    }
   ],
   "metadata": {}
  },
  {
   "cell_type": "code",
   "execution_count": 11,
   "source": [
    "d = data[0:10, :12]"
   ],
   "outputs": [],
   "metadata": {}
  },
  {
   "cell_type": "code",
   "execution_count": 13,
   "source": [
    "d.shape"
   ],
   "outputs": [
    {
     "output_type": "execute_result",
     "data": {
      "text/plain": [
       "(10, 12, 3)"
      ]
     },
     "metadata": {},
     "execution_count": 13
    }
   ],
   "metadata": {}
  },
  {
   "cell_type": "code",
   "execution_count": 14,
   "source": [
    "dr = np.array([d for _ in range(8)])"
   ],
   "outputs": [],
   "metadata": {}
  },
  {
   "cell_type": "code",
   "execution_count": 15,
   "source": [
    "dr.shape"
   ],
   "outputs": [
    {
     "output_type": "execute_result",
     "data": {
      "text/plain": [
       "(8, 10, 12, 3)"
      ]
     },
     "metadata": {},
     "execution_count": 15
    }
   ],
   "metadata": {}
  },
  {
   "cell_type": "code",
   "execution_count": 16,
   "source": [
    "y_true_bt = tf.broadcast_to(tf.expand_dims(dr, -2), [8, 10, 12, 12, 3])"
   ],
   "outputs": [],
   "metadata": {}
  },
  {
   "cell_type": "code",
   "execution_count": 7,
   "source": [
    "data = np.load('data/DeFever_540k_cs19.npy')"
   ],
   "outputs": [],
   "metadata": {}
  },
  {
   "cell_type": "code",
   "execution_count": 8,
   "source": [
    "utils.get_raduis(data[0])"
   ],
   "outputs": [
    {
     "output_type": "execute_result",
     "data": {
      "text/plain": [
       "0.5007067133791859"
      ]
     },
     "metadata": {},
     "execution_count": 8
    }
   ],
   "metadata": {}
  },
  {
   "cell_type": "code",
   "execution_count": 2,
   "source": [
    "data = np.load('data/DeFever_540k_cs12.npy')"
   ],
   "outputs": [],
   "metadata": {}
  },
  {
   "cell_type": "code",
   "execution_count": 3,
   "source": [
    "y_true = data[0:10]\n",
    "y_pred = data[10:20]"
   ],
   "outputs": [],
   "metadata": {}
  },
  {
   "cell_type": "code",
   "execution_count": 4,
   "source": [
    "models.symmetric_chamfer_loss(y_true, y_pred)"
   ],
   "outputs": [
    {
     "output_type": "execute_result",
     "data": {
      "text/plain": [
       "<tf.Tensor: shape=(10,), dtype=float64, numpy=\n",
       "array([0.49092513, 0.43785654, 0.57914636, 0.79736328, 0.45567325,\n",
       "       0.54880844, 0.66349996, 0.5421077 , 0.56937469, 0.55112675])>"
      ]
     },
     "metadata": {},
     "execution_count": 4
    }
   ],
   "metadata": {}
  },
  {
   "cell_type": "code",
   "execution_count": 5,
   "source": [
    "models.weighted_chamfer_loss()(y_true, y_pred) + models.weighted_chamfer_loss()(y_pred, y_true)"
   ],
   "outputs": [
    {
     "output_type": "execute_result",
     "data": {
      "text/plain": [
       "<tf.Tensor: shape=(10,), dtype=float64, numpy=\n",
       "array([0.49092513, 0.43785654, 0.57914636, 0.79736328, 0.45567325,\n",
       "       0.54880844, 0.66349996, 0.5421077 , 0.56937469, 0.55112675])>"
      ]
     },
     "metadata": {},
     "execution_count": 5
    }
   ],
   "metadata": {}
  },
  {
   "cell_type": "code",
   "execution_count": 6,
   "source": [
    "models.symmetric_hausdorff_loss(y_true, y_pred)"
   ],
   "outputs": [
    {
     "output_type": "execute_result",
     "data": {
      "text/plain": [
       "<tf.Tensor: shape=(10,), dtype=float64, numpy=\n",
       "array([1.35647473, 1.29745485, 1.61419813, 1.81960243, 1.42331416,\n",
       "       1.61342042, 1.74915599, 1.82578823, 1.6321405 , 1.4844112 ])>"
      ]
     },
     "metadata": {},
     "execution_count": 6
    }
   ],
   "metadata": {}
  },
  {
   "cell_type": "code",
   "execution_count": 7,
   "source": [
    "models.weighted_hausdorff_loss()(y_true, y_pred) + models.weighted_hausdorff_loss()(y_pred, y_true)"
   ],
   "outputs": [
    {
     "output_type": "execute_result",
     "data": {
      "text/plain": [
       "<tf.Tensor: shape=(10,), dtype=float64, numpy=\n",
       "array([0.92004948, 0.84169455, 1.3028178 , 1.65550804, 1.01313128,\n",
       "       1.30156272, 1.53513216, 1.66675134, 1.33269519, 1.10924973])>"
      ]
     },
     "metadata": {},
     "execution_count": 7
    }
   ],
   "metadata": {}
  },
  {
   "cell_type": "code",
   "execution_count": 12,
   "source": [
    "from itertools import permutations\n",
    "list(permutations(range(1,2)))"
   ],
   "outputs": [
    {
     "output_type": "execute_result",
     "data": {
      "text/plain": [
       "[(1,)]"
      ]
     },
     "metadata": {},
     "execution_count": 12
    }
   ],
   "metadata": {}
  },
  {
   "cell_type": "code",
   "execution_count": 5,
   "source": [
    "a = np.random.rand(2,3)\n",
    "a"
   ],
   "outputs": [
    {
     "output_type": "execute_result",
     "data": {
      "text/plain": [
       "array([[0.20399507, 0.07356054, 0.74004309],\n",
       "       [0.37227025, 0.20000972, 0.07683829]])"
      ]
     },
     "metadata": {},
     "execution_count": 5
    }
   ],
   "metadata": {}
  },
  {
   "cell_type": "code",
   "execution_count": 9,
   "source": [
    "np.delete(a, 2, -1)"
   ],
   "outputs": [
    {
     "output_type": "execute_result",
     "data": {
      "text/plain": [
       "array([[0.20399507, 0.07356054],\n",
       "       [0.37227025, 0.20000972]])"
      ]
     },
     "metadata": {},
     "execution_count": 9
    }
   ],
   "metadata": {}
  },
  {
   "cell_type": "code",
   "execution_count": 13,
   "source": [
    "-np.sum(a*np.log(a))"
   ],
   "outputs": [
    {
     "output_type": "execute_result",
     "data": {
      "text/plain": [
       "1.6259552742191024"
      ]
     },
     "metadata": {},
     "execution_count": 13
    }
   ],
   "metadata": {}
  },
  {
   "cell_type": "code",
   "execution_count": 5,
   "source": [
    "import itertools\n",
    "list(itertools.combinations(range(1), 2))"
   ],
   "outputs": [
    {
     "output_type": "execute_result",
     "data": {
      "text/plain": [
       "[]"
      ]
     },
     "metadata": {},
     "execution_count": 5
    }
   ],
   "metadata": {}
  },
  {
   "cell_type": "code",
   "execution_count": 9,
   "source": [
    "a = np.random.rand(4,3)\n",
    "a"
   ],
   "outputs": [
    {
     "output_type": "execute_result",
     "data": {
      "text/plain": [
       "array([[0.3517719 , 0.35576785, 0.83047158],\n",
       "       [0.6495205 , 0.27537732, 0.25813887],\n",
       "       [0.05639415, 0.12850243, 0.13772801],\n",
       "       [0.66461114, 0.06000244, 0.26408243]])"
      ]
     },
     "metadata": {},
     "execution_count": 9
    }
   ],
   "metadata": {}
  },
  {
   "cell_type": "code",
   "execution_count": 12,
   "source": [
    "tf.reduce_sum(tf.square(a), axis=-1)"
   ],
   "outputs": [
    {
     "output_type": "execute_result",
     "data": {
      "text/plain": [
       "<tf.Tensor: shape=(4,), dtype=float64, numpy=array([0.93999728, 0.56434523, 0.03866218, 0.51504779])>"
      ]
     },
     "metadata": {},
     "execution_count": 12
    }
   ],
   "metadata": {}
  },
  {
   "cell_type": "code",
   "execution_count": 11,
   "source": [
    "tf.square(tf.norm(a, axis=-1))"
   ],
   "outputs": [
    {
     "output_type": "execute_result",
     "data": {
      "text/plain": [
       "<tf.Tensor: shape=(4,), dtype=float64, numpy=array([0.93999728, 0.56434523, 0.03866218, 0.51504779])>"
      ]
     },
     "metadata": {},
     "execution_count": 11
    }
   ],
   "metadata": {}
  },
  {
   "cell_type": "code",
   "execution_count": 14,
   "source": [
    "a = np.random.rand(10)\n",
    "a"
   ],
   "outputs": [
    {
     "output_type": "execute_result",
     "data": {
      "text/plain": [
       "array([0.69260859, 0.52048991, 0.4250962 , 0.36663241, 0.2775772 ,\n",
       "       0.24118996, 0.64159466, 0.07080538, 0.22191083, 0.85050562])"
      ]
     },
     "metadata": {},
     "execution_count": 14
    }
   ],
   "metadata": {}
  },
  {
   "cell_type": "code",
   "execution_count": 15,
   "source": [
    "0.5 - tf.minimum(a, 0.5) # mindis < 2*radius"
   ],
   "outputs": [
    {
     "output_type": "execute_result",
     "data": {
      "text/plain": [
       "<tf.Tensor: shape=(10,), dtype=float64, numpy=\n",
       "array([0.        , 0.        , 0.0749038 , 0.13336759, 0.2224228 ,\n",
       "       0.25881004, 0.        , 0.42919462, 0.27808917, 0.        ])>"
      ]
     },
     "metadata": {},
     "execution_count": 15
    }
   ],
   "metadata": {}
  },
  {
   "cell_type": "code",
   "execution_count": 17,
   "source": [
    "tf.nn.relu(0.5 - a)"
   ],
   "outputs": [
    {
     "output_type": "execute_result",
     "data": {
      "text/plain": [
       "<tf.Tensor: shape=(10,), dtype=float64, numpy=\n",
       "array([0.        , 0.        , 0.0749038 , 0.13336759, 0.2224228 ,\n",
       "       0.25881004, 0.        , 0.42919462, 0.27808917, 0.        ])>"
      ]
     },
     "metadata": {},
     "execution_count": 17
    }
   ],
   "metadata": {}
  },
  {
   "cell_type": "code",
   "execution_count": 1,
   "source": [
    "import seaborn as sns\n",
    "import colorsys"
   ],
   "outputs": [],
   "metadata": {}
  },
  {
   "cell_type": "code",
   "execution_count": 27,
   "source": [
    "palette = []\n",
    "for c in sns.color_palette('Set1', n_colors=6):\n",
    "    nc = colorsys.rgb_to_hls(*c)\n",
    "    palette.append(colorsys.hls_to_rgb(nc[0],0.75,1))\n",
    "\n",
    "palette.insert(0, colorsys.hls_to_rgb(0,0.75,0))"
   ],
   "outputs": [],
   "metadata": {}
  },
  {
   "cell_type": "code",
   "execution_count": 28,
   "source": [
    "sns.palplot(palette)"
   ],
   "outputs": [
    {
     "output_type": "display_data",
     "data": {
      "text/plain": [
       "<Figure size 504x72 with 1 Axes>"
      ],
      "image/png": "[encoded data removed]"
     },
     "metadata": {
      "needs_background": "light"
     }
    }
   ],
   "metadata": {}
  },
  {
   "cell_type": "code",
   "execution_count": null,
   "source": [],
   "outputs": [],
   "metadata": {}
  },
  {
   "cell_type": "code",
   "execution_count": 3,
   "source": [
    "sns.color_palette('Set1', n_colors=6)"
   ],
   "outputs": [
    {
     "output_type": "execute_result",
     "data": {
      "text/plain": [
       "[(0.8941176470588236, 0.10196078431372549, 0.10980392156862745),\n",
       " (0.21568627450980393, 0.49411764705882355, 0.7215686274509804),\n",
       " (0.30196078431372547, 0.6862745098039216, 0.2901960784313726),\n",
       " (0.596078431372549, 0.3058823529411765, 0.6392156862745098),\n",
       " (1.0, 0.4980392156862745, 0.0),\n",
       " (1.0, 1.0, 0.2)]"
      ],
      "text/html": [
       "<svg  width=\"330\" height=\"55\"><rect x=\"0\" y=\"0\" width=\"55\" height=\"55\" style=\"fill:#e41a1c;stroke-width:2;stroke:rgb(255,255,255)\"/><rect x=\"55\" y=\"0\" width=\"55\" height=\"55\" style=\"fill:#377eb8;stroke-width:2;stroke:rgb(255,255,255)\"/><rect x=\"110\" y=\"0\" width=\"55\" height=\"55\" style=\"fill:#4daf4a;stroke-width:2;stroke:rgb(255,255,255)\"/><rect x=\"165\" y=\"0\" width=\"55\" height=\"55\" style=\"fill:#984ea3;stroke-width:2;stroke:rgb(255,255,255)\"/><rect x=\"220\" y=\"0\" width=\"55\" height=\"55\" style=\"fill:#ff7f00;stroke-width:2;stroke:rgb(255,255,255)\"/><rect x=\"275\" y=\"0\" width=\"55\" height=\"55\" style=\"fill:#ffff33;stroke-width:2;stroke:rgb(255,255,255)\"/></svg>"
      ]
     },
     "metadata": {},
     "execution_count": 3
    }
   ],
   "metadata": {}
  },
  {
   "cell_type": "code",
   "execution_count": 76,
   "source": [
    "sns.color_palette()"
   ],
   "outputs": [
    {
     "output_type": "execute_result",
     "data": {
      "text/plain": [
       "[(0.12156862745098039, 0.4666666666666667, 0.7058823529411765),\n",
       " (1.0, 0.4980392156862745, 0.054901960784313725),\n",
       " (0.17254901960784313, 0.6274509803921569, 0.17254901960784313),\n",
       " (0.8392156862745098, 0.15294117647058825, 0.1568627450980392),\n",
       " (0.5803921568627451, 0.403921568627451, 0.7411764705882353),\n",
       " (0.5490196078431373, 0.33725490196078434, 0.29411764705882354),\n",
       " (0.8901960784313725, 0.4666666666666667, 0.7607843137254902),\n",
       " (0.4980392156862745, 0.4980392156862745, 0.4980392156862745),\n",
       " (0.7372549019607844, 0.7411764705882353, 0.13333333333333333),\n",
       " (0.09019607843137255, 0.7450980392156863, 0.8117647058823529)]"
      ],
      "text/html": [
       "<svg  width=\"550\" height=\"55\"><rect x=\"0\" y=\"0\" width=\"55\" height=\"55\" style=\"fill:#1f77b4;stroke-width:2;stroke:rgb(255,255,255)\"/><rect x=\"55\" y=\"0\" width=\"55\" height=\"55\" style=\"fill:#ff7f0e;stroke-width:2;stroke:rgb(255,255,255)\"/><rect x=\"110\" y=\"0\" width=\"55\" height=\"55\" style=\"fill:#2ca02c;stroke-width:2;stroke:rgb(255,255,255)\"/><rect x=\"165\" y=\"0\" width=\"55\" height=\"55\" style=\"fill:#d62728;stroke-width:2;stroke:rgb(255,255,255)\"/><rect x=\"220\" y=\"0\" width=\"55\" height=\"55\" style=\"fill:#9467bd;stroke-width:2;stroke:rgb(255,255,255)\"/><rect x=\"275\" y=\"0\" width=\"55\" height=\"55\" style=\"fill:#8c564b;stroke-width:2;stroke:rgb(255,255,255)\"/><rect x=\"330\" y=\"0\" width=\"55\" height=\"55\" style=\"fill:#e377c2;stroke-width:2;stroke:rgb(255,255,255)\"/><rect x=\"385\" y=\"0\" width=\"55\" height=\"55\" style=\"fill:#7f7f7f;stroke-width:2;stroke:rgb(255,255,255)\"/><rect x=\"440\" y=\"0\" width=\"55\" height=\"55\" style=\"fill:#bcbd22;stroke-width:2;stroke:rgb(255,255,255)\"/><rect x=\"495\" y=\"0\" width=\"55\" height=\"55\" style=\"fill:#17becf;stroke-width:2;stroke:rgb(255,255,255)\"/></svg>"
      ]
     },
     "metadata": {},
     "execution_count": 76
    }
   ],
   "metadata": {}
  },
  {
   "cell_type": "code",
   "execution_count": 116,
   "source": [
    "import matplotlib.pyplot as plt\n",
    "import numpy as np\n",
    "plt.figure(figsize=(8,6))\n",
    "plt.scatter(np.random.rand(10),np.random.rand(10))\n",
    "plt.savefig('test.svg')"
   ],
   "outputs": [
    {
     "output_type": "display_data",
     "data": {
      "text/plain": [
       "<Figure size 576x432 with 1 Axes>"
      ],
      "image/png": "[encoded data removed]"
     },
     "metadata": {
      "needs_background": "light"
     }
    }
   ],
   "metadata": {}
  },
  {
   "cell_type": "code",
   "execution_count": 46,
   "source": [
    "palette = []\n",
    "losses = [2,3,1]\n",
    "for c in sns.color_palette('Set1', n_colors=6):\n",
    "    nc = colorsys.rgb_to_hls(*c)\n",
    "    palette.append(colorsys.hls_to_rgb(nc[0],0.5,1))\n",
    "# palette.insert(0, palette.pop(7))\n",
    "rule = {c: l for c, l in zip(palette, losses)}\n",
    "# palette[:] = sorted(palette[:len(losses)], reverse=True, key=lambda x: rule[x])"
   ],
   "outputs": [],
   "metadata": {}
  },
  {
   "cell_type": "code",
   "execution_count": 47,
   "source": [
    "sns.palplot(palette)"
   ],
   "outputs": [
    {
     "output_type": "display_data",
     "data": {
      "text/plain": [
       "<Figure size 432x72 with 1 Axes>"
      ],
      "image/png": "[encoded data removed]"
     },
     "metadata": {
      "needs_background": "light"
     }
    }
   ],
   "metadata": {}
  },
  {
   "cell_type": "code",
   "execution_count": 48,
   "source": [
    "palette"
   ],
   "outputs": [
    {
     "output_type": "execute_result",
     "data": {
      "text/plain": [
       "[(1.0, 0.0, 0.009900990099009688),\n",
       " (0.0, 0.5503875968992249, 1.0),\n",
       " (0.02970297029702973, 1.0, 0.0),\n",
       " (0.8705882352941186, 0.0, 1.0),\n",
       " (1.0, 0.4980392156862745, 0.0),\n",
       " (0.9999999999999998, 1.0, 0.0)]"
      ]
     },
     "metadata": {},
     "execution_count": 48
    }
   ],
   "metadata": {}
  },
  {
   "cell_type": "code",
   "execution_count": 5,
   "source": [
    "float('212121\\n')"
   ],
   "outputs": [
    {
     "output_type": "execute_result",
     "data": {
      "text/plain": [
       "212121.0"
      ]
     },
     "metadata": {},
     "execution_count": 5
    }
   ],
   "metadata": {}
  },
  {
   "cell_type": "code",
   "execution_count": 23,
   "source": [
    "import math\n",
    "def scheduler(epoch, lr):\n",
    "    if epoch < 200:\n",
    "        lr = lr + 0.001 / 200\n",
    "    else:\n",
    "        lr = lr * 0.999\n",
    "\n",
    "    # print('Adjust learning rate: ', lr)\n",
    "    return lr"
   ],
   "outputs": [],
   "metadata": {}
  },
  {
   "cell_type": "code",
   "execution_count": 24,
   "source": [
    "lr = 0\n",
    "lrs = [0]\n",
    "for epoch in range(2000):\n",
    "    lrs.append(scheduler(epoch, lrs[-1]))"
   ],
   "outputs": [],
   "metadata": {}
  },
  {
   "cell_type": "code",
   "execution_count": 25,
   "source": [
    "0.996**1300 * 0.001"
   ],
   "outputs": [
    {
     "output_type": "execute_result",
     "data": {
      "text/plain": [
       "5.459337591624722e-06"
      ]
     },
     "metadata": {},
     "execution_count": 25
    }
   ],
   "metadata": {}
  },
  {
   "cell_type": "code",
   "execution_count": 26,
   "source": [
    "import matplotlib.pyplot as plt\n",
    "plt.plot(lrs)"
   ],
   "outputs": [
    {
     "output_type": "execute_result",
     "data": {
      "text/plain": [
       "[<matplotlib.lines.Line2D at 0x7f92fa1ea250>]"
      ]
     },
     "metadata": {},
     "execution_count": 26
    },
    {
     "output_type": "display_data",
     "data": {
      "text/plain": [
       "<Figure size 432x288 with 1 Axes>"
      ],
      "image/png": "[encoded data removed]"
     },
     "metadata": {
      "needs_background": "light"
     }
    }
   ],
   "metadata": {}
  },
  {
   "cell_type": "code",
   "execution_count": 19,
   "source": [
    "import freud\n",
    "L = [1,2,0]"
   ],
   "outputs": [],
   "metadata": {}
  },
  {
   "cell_type": "code",
   "execution_count": 20,
   "source": [
    "box = freud.Box(*L)"
   ],
   "outputs": [],
   "metadata": {}
  },
  {
   "cell_type": "code",
   "execution_count": 21,
   "source": [
    "box"
   ],
   "outputs": [
    {
     "output_type": "execute_result",
     "data": {
      "text/plain": [
       "freud.box.Box(Lx=1.0, Ly=2.0, Lz=0.0, xy=0.0, xz=0.0, yz=0.0, is2D=True)"
      ]
     },
     "metadata": {},
     "execution_count": 21
    }
   ],
   "metadata": {}
  },
  {
   "cell_type": "code",
   "execution_count": 1,
   "source": [
    "s='1  2 3'"
   ],
   "outputs": [],
   "metadata": {}
  },
  {
   "cell_type": "code",
   "execution_count": 2,
   "source": [
    "s.split()"
   ],
   "outputs": [
    {
     "output_type": "execute_result",
     "data": {
      "text/plain": [
       "['1', '2', '3']"
      ]
     },
     "metadata": {},
     "execution_count": 2
    }
   ],
   "metadata": {}
  },
  {
   "cell_type": "code",
   "execution_count": 18,
   "source": [
    "a = list(np.random.rand(10,5,5))\n",
    "a"
   ],
   "outputs": [
    {
     "output_type": "execute_result",
     "data": {
      "text/plain": [
       "[array([[0.27030601, 0.25614955, 0.45823538, 0.71290475, 0.01112109],\n",
       "        [0.03878575, 0.37695228, 0.79500222, 0.05919794, 0.27968329],\n",
       "        [0.08854198, 0.31276745, 0.33115797, 0.08901661, 0.80780843],\n",
       "        [0.97198586, 0.12505192, 0.30036256, 0.35085921, 0.43934229],\n",
       "        [0.52831762, 0.49957075, 0.76191877, 0.17091516, 0.34436864]]),\n",
       " array([[0.67225258, 0.99000776, 0.70591259, 0.30225717, 0.18745524],\n",
       "        [0.24689697, 0.30149277, 0.69977563, 0.12619215, 0.24912253],\n",
       "        [0.54133736, 0.49249778, 0.86936846, 0.13151856, 0.00137224],\n",
       "        [0.02106452, 0.0010923 , 0.58938474, 0.67522329, 0.33346724],\n",
       "        [0.0096067 , 0.6610111 , 0.17532417, 0.82000841, 0.63927108]]),\n",
       " array([[0.86021904, 0.74921314, 0.06589313, 0.93627592, 0.46196412],\n",
       "        [0.13252095, 0.26388487, 0.88424823, 0.94696518, 0.3132544 ],\n",
       "        [0.50036983, 0.48316603, 0.66291352, 0.95411742, 0.30899184],\n",
       "        [0.83286223, 0.91501227, 0.01122555, 0.07025352, 0.51546425],\n",
       "        [0.95093483, 0.47239384, 0.12797695, 0.44777263, 0.30672674]]),\n",
       " array([[0.944232  , 0.74447374, 0.39046151, 0.87139962, 0.31771757],\n",
       "        [0.88184459, 0.75233537, 0.73977517, 0.92624257, 0.77334811],\n",
       "        [0.51609377, 0.41781688, 0.29306506, 0.74870008, 0.96957258],\n",
       "        [0.50251558, 0.71320432, 0.74269437, 0.7979094 , 0.62603614],\n",
       "        [0.8851181 , 0.39832569, 0.8407545 , 0.93247637, 0.02409721]]),\n",
       " array([[0.75755172, 0.34127791, 0.66001866, 0.88550837, 0.0599897 ],\n",
       "        [0.50004115, 0.83994398, 0.89485546, 0.39929897, 0.58764714],\n",
       "        [0.6653552 , 0.75860961, 0.12511057, 0.37373869, 0.53279466],\n",
       "        [0.48819111, 0.14838574, 0.20135069, 0.1091138 , 0.63813043],\n",
       "        [0.16591039, 0.9244312 , 0.26181841, 0.87698412, 0.25847849]]),\n",
       " array([[0.23768141, 0.84683081, 0.23213802, 0.34689696, 0.14203584],\n",
       "        [0.41278422, 0.13148469, 0.60027632, 0.57203348, 0.44060478],\n",
       "        [0.67629982, 0.5571206 , 0.78146206, 0.17940672, 0.13267501],\n",
       "        [0.04691943, 0.83937004, 0.72256912, 0.1644672 , 0.07830498],\n",
       "        [0.29687414, 0.26710517, 0.57711167, 0.92053121, 0.22720933]]),\n",
       " array([[0.78766863, 0.44188476, 0.49641308, 0.56116693, 0.68913191],\n",
       "        [0.30258771, 0.77758027, 0.26117358, 0.60804114, 0.52433497],\n",
       "        [0.65494393, 0.53959819, 0.10853851, 0.80278019, 0.59631475],\n",
       "        [0.22695064, 0.74358417, 0.71835072, 0.47144352, 0.14969106],\n",
       "        [0.6376416 , 0.74073869, 0.71386778, 0.1646954 , 0.47305182]]),\n",
       " array([[0.93516077, 0.52995481, 0.23065385, 0.05230253, 0.75599802],\n",
       "        [0.06256955, 0.71261159, 0.91600856, 0.70775961, 0.00907397],\n",
       "        [0.00139566, 0.66576927, 0.93080135, 0.03061024, 0.4696632 ],\n",
       "        [0.17559522, 0.28800641, 0.50510827, 0.50195976, 0.89614264],\n",
       "        [0.75425981, 0.2717991 , 0.31272804, 0.41619663, 0.9068848 ]]),\n",
       " array([[0.6005856 , 0.49101549, 0.86585358, 0.00374814, 0.73665976],\n",
       "        [0.33437163, 0.34391   , 0.33381062, 0.55572239, 0.29818099],\n",
       "        [0.32249471, 0.5955282 , 0.79512165, 0.24851247, 0.59750167],\n",
       "        [0.55333669, 0.66730871, 0.2427704 , 0.46422606, 0.68205041],\n",
       "        [0.19180473, 0.04491307, 0.5632335 , 0.20492948, 0.76095806]]),\n",
       " array([[0.88644534, 0.93160119, 0.7658506 , 0.43035938, 0.28584495],\n",
       "        [0.10654465, 0.09191525, 0.35271595, 0.76485941, 0.05770809],\n",
       "        [0.37008625, 0.75412347, 0.17828014, 0.48898051, 0.49317218],\n",
       "        [0.54938672, 0.88488799, 0.72945788, 0.01762367, 0.58355816],\n",
       "        [0.58896802, 0.65990432, 0.01311139, 0.86915486, 0.67737919]])]"
      ]
     },
     "metadata": {},
     "execution_count": 18
    }
   ],
   "metadata": {}
  },
  {
   "cell_type": "code",
   "execution_count": 19,
   "source": [
    "import random\n",
    "random.sample(a,1)"
   ],
   "outputs": [
    {
     "output_type": "execute_result",
     "data": {
      "text/plain": [
       "[array([[0.944232  , 0.74447374, 0.39046151, 0.87139962, 0.31771757],\n",
       "        [0.88184459, 0.75233537, 0.73977517, 0.92624257, 0.77334811],\n",
       "        [0.51609377, 0.41781688, 0.29306506, 0.74870008, 0.96957258],\n",
       "        [0.50251558, 0.71320432, 0.74269437, 0.7979094 , 0.62603614],\n",
       "        [0.8851181 , 0.39832569, 0.8407545 , 0.93247637, 0.02409721]])]"
      ]
     },
     "metadata": {},
     "execution_count": 19
    }
   ],
   "metadata": {}
  },
  {
   "cell_type": "code",
   "execution_count": 30,
   "source": [
    "list(reversed(np.argsort([3,2,1,4])))"
   ],
   "outputs": [
    {
     "output_type": "error",
     "ename": "TypeError",
     "evalue": "list indices must be integers or slices, not tuple",
     "traceback": [
      "\u001b[0;31m---------------------------------------------------------------------------\u001b[0m",
      "\u001b[0;31mTypeError\u001b[0m                                 Traceback (most recent call last)",
      "\u001b[0;32m<ipython-input-30-eff9c163c548>\u001b[0m in \u001b[0;36m<module>\u001b[0;34m\u001b[0m\n\u001b[0;32m----> 1\u001b[0;31m \u001b[0mlist\u001b[0m\u001b[0;34m(\u001b[0m\u001b[0mreversed\u001b[0m\u001b[0;34m(\u001b[0m\u001b[0mnp\u001b[0m\u001b[0;34m.\u001b[0m\u001b[0margsort\u001b[0m\u001b[0;34m(\u001b[0m\u001b[0;34m[\u001b[0m\u001b[0;36m3\u001b[0m\u001b[0;34m,\u001b[0m\u001b[0;36m2\u001b[0m\u001b[0;34m,\u001b[0m\u001b[0;36m1\u001b[0m\u001b[0;34m,\u001b[0m\u001b[0;36m4\u001b[0m\u001b[0;34m]\u001b[0m\u001b[0;34m)\u001b[0m\u001b[0;34m)\u001b[0m\u001b[0;34m)\u001b[0m\u001b[0;34m[\u001b[0m\u001b[0;36m0\u001b[0m\u001b[0;34m,\u001b[0m\u001b[0;36m3\u001b[0m\u001b[0;34m]\u001b[0m\u001b[0;34m\u001b[0m\u001b[0;34m\u001b[0m\u001b[0m\n\u001b[0m",
      "\u001b[0;31mTypeError\u001b[0m: list indices must be integers or slices, not tuple"
     ]
    }
   ],
   "metadata": {}
  },
  {
   "cell_type": "code",
   "execution_count": 1,
   "source": [
    "[1,2,3]==None"
   ],
   "outputs": [
    {
     "output_type": "execute_result",
     "data": {
      "text/plain": [
       "False"
      ]
     },
     "metadata": {},
     "execution_count": 1
    }
   ],
   "metadata": {}
  },
  {
   "cell_type": "code",
   "execution_count": 4,
   "source": [
    "def fun(a,b=1,c):\n",
    "    print(a,b)\n",
    "fun(1,3,2)"
   ],
   "outputs": [
    {
     "output_type": "error",
     "ename": "SyntaxError",
     "evalue": "non-default argument follows default argument (<ipython-input-4-31a9f6d3bfec>, line 1)",
     "traceback": [
      "\u001b[0;36m  File \u001b[0;32m\"<ipython-input-4-31a9f6d3bfec>\"\u001b[0;36m, line \u001b[0;32m1\u001b[0m\n\u001b[0;31m    def fun(a,b=1,c):\u001b[0m\n\u001b[0m            ^\u001b[0m\n\u001b[0;31mSyntaxError\u001b[0m\u001b[0;31m:\u001b[0m non-default argument follows default argument\n"
     ]
    }
   ],
   "metadata": {}
  },
  {
   "cell_type": "code",
   "execution_count": 2,
   "source": [
    "import numpy as np\n",
    "data = np.load('data/lj-r2.0_scaled_shuffled_equal_samples.npy')"
   ],
   "outputs": [],
   "metadata": {}
  },
  {
   "cell_type": "code",
   "execution_count": 3,
   "source": [
    "data.shape"
   ],
   "outputs": [
    {
     "output_type": "execute_result",
     "data": {
      "text/plain": [
       "(540000, 43, 3)"
      ]
     },
     "metadata": {},
     "execution_count": 3
    }
   ],
   "metadata": {}
  },
  {
   "cell_type": "code",
   "execution_count": 4,
   "source": [
    "low = 100\n",
    "for d in data:\n",
    "    for idx, row in enumerate(d):\n",
    "        if np.linalg.norm(row) == 0:\n",
    "            low = min(low, idx)\n",
    "            break"
   ],
   "outputs": [],
   "metadata": {}
  },
  {
   "cell_type": "code",
   "execution_count": 5,
   "source": [
    "low"
   ],
   "outputs": [
    {
     "output_type": "execute_result",
     "data": {
      "text/plain": [
       "19"
      ]
     },
     "metadata": {},
     "execution_count": 5
    }
   ],
   "metadata": {}
  },
  {
   "cell_type": "code",
   "execution_count": 7,
   "source": [
    "data_19 = np.load('data/Baseline_19.npy')"
   ],
   "outputs": [],
   "metadata": {}
  },
  {
   "cell_type": "code",
   "execution_count": 10,
   "source": [
    "np.min(np.linalg.norm(data_19, axis=-1))"
   ],
   "outputs": [
    {
     "output_type": "execute_result",
     "data": {
      "text/plain": [
       "0.9999802695072392"
      ]
     },
     "metadata": {},
     "execution_count": 10
    }
   ],
   "metadata": {}
  },
  {
   "cell_type": "code",
   "execution_count": 13,
   "source": [
    "import utils\n",
    "_, neighbors, pack_list = utils.read_packing('data/SP100_69_71', 12)"
   ],
   "outputs": [],
   "metadata": {}
  },
  {
   "cell_type": "code",
   "execution_count": 14,
   "source": [
    "import sys\n",
    "sys.getsizeof(neighbors)"
   ],
   "outputs": [
    {
     "output_type": "execute_result",
     "data": {
      "text/plain": [
       "28800136"
      ]
     },
     "metadata": {},
     "execution_count": 14
    }
   ],
   "metadata": {}
  },
  {
   "cell_type": "code",
   "execution_count": 28,
   "source": [
    "a = [[[-1,-1,-1],\n",
    "                  [-0.9,-0.9,-0.9],\n",
    "                  [-0.8,-0.8,-0.8],\n",
    "                  [-0.7,-0.7,-0.7],\n",
    "                  [-0.6,-0.6,-0.6],\n",
    "                  [-0.5,-0.5,-0.5],\n",
    "                  [-0.4,-0.4,-0.4],\n",
    "                  [-0.3,-0.3,-0.3],\n",
    "                  [-0.2,-0.2,-0.2],\n",
    "                  [-0.1,-0.1,-0.1],\n",
    "                  [0.1,0.1,0.1],\n",
    "                  [0.2,0.2,0.2],\n",
    "                  [0.3,0.3,0.3],\n",
    "                  [0.4,0.4,0.4],\n",
    "                  [0.5,0.5,0.5],\n",
    "                  [0.6,0.6,0.6],\n",
    "                  [0.7,0.7,0.7],\n",
    "                  [0.8,0.8,0.8],\n",
    "                  [0.9,0.9,0.9],\n",
    "                  [1,1,1]]] * 1000"
   ],
   "outputs": [],
   "metadata": {}
  },
  {
   "cell_type": "code",
   "execution_count": 30,
   "source": [
    "import numpy as np\n",
    "np.array(a).shape"
   ],
   "outputs": [
    {
     "output_type": "execute_result",
     "data": {
      "text/plain": [
       "(1000, 20, 3)"
      ]
     },
     "metadata": {},
     "execution_count": 30
    }
   ],
   "metadata": {}
  },
  {
   "cell_type": "code",
   "execution_count": 3,
   "source": [
    "from scipy.spatial.transform import Rotation as R"
   ],
   "outputs": [],
   "metadata": {}
  },
  {
   "cell_type": "code",
   "execution_count": 19,
   "source": [
    "transfm = [[1.,2.,3.,4.],[5.,6.,7.,8.]]"
   ],
   "outputs": [],
   "metadata": {}
  },
  {
   "cell_type": "code",
   "execution_count": 25,
   "source": [
    "tf.convert_to_tensor(R.from_quat(transfm).as_quat())"
   ],
   "outputs": [
    {
     "output_type": "execute_result",
     "data": {
      "text/plain": [
       "<tf.Tensor: shape=(2, 4), dtype=float64, numpy=\n",
       "array([[0.18257419, 0.36514837, 0.54772256, 0.73029674],\n",
       "       [0.37904902, 0.45485883, 0.53066863, 0.60647843]])>"
      ]
     },
     "metadata": {},
     "execution_count": 25
    }
   ],
   "metadata": {}
  },
  {
   "cell_type": "code",
   "execution_count": 21,
   "source": [
    "transformation.quaternion.normalize(transfm)"
   ],
   "outputs": [
    {
     "output_type": "execute_result",
     "data": {
      "text/plain": [
       "<tf.Tensor: shape=(2, 4), dtype=float32, numpy=\n",
       "array([[0.18257418, 0.36514837, 0.5477226 , 0.73029673],\n",
       "       [0.37904903, 0.45485884, 0.5306686 , 0.60647845]], dtype=float32)>"
      ]
     },
     "metadata": {},
     "execution_count": 21
    }
   ],
   "metadata": {}
  },
  {
   "cell_type": "code",
   "execution_count": 10,
   "source": [
    "losses = [3.,4.,2.,1.]"
   ],
   "outputs": [],
   "metadata": {}
  },
  {
   "cell_type": "code",
   "execution_count": 11,
   "source": [
    "import colorsys\n",
    "pale = []\n",
    "for c in sns.color_palette('Set1', n_colors=6):\n",
    "    nc = colorsys.rgb_to_hls(*c)\n",
    "    pale.append(colorsys.hls_to_rgb(nc[0],0.75,1))\n",
    "pale.insert(0, colorsys.hls_to_rgb(0,0.75,0))\n",
    "rule = dict(zip(pale, losses))\n",
    "palette = sorted(pale[:len(losses)], reverse=True, key=lambda x: rule[x])"
   ],
   "outputs": [],
   "metadata": {}
  },
  {
   "cell_type": "code",
   "execution_count": 12,
   "source": [
    "utils.make_palette(losses)"
   ],
   "outputs": [
    {
     "output_type": "display_data",
     "data": {
      "text/plain": [
       "<Figure size 504x72 with 1 Axes>"
      ],
      "image/png": "[encoded data removed]"
     },
     "metadata": {
      "needs_background": "light"
     }
    },
    {
     "output_type": "display_data",
     "data": {
      "text/plain": [
       "<Figure size 288x72 with 1 Axes>"
      ],
      "image/png": "[encoded data removed]"
     },
     "metadata": {
      "needs_background": "light"
     }
    }
   ],
   "metadata": {}
  },
  {
   "cell_type": "code",
   "execution_count": 7,
   "source": [
    "\n",
    "sns.palplot(utils.palette[0])"
   ],
   "outputs": [
    {
     "output_type": "display_data",
     "data": {
      "text/plain": [
       "<Figure size 216x72 with 1 Axes>"
      ],
      "image/png": "[encoded data removed]"
     },
     "metadata": {
      "needs_background": "light"
     }
    }
   ],
   "metadata": {}
  },
  {
   "cell_type": "code",
   "execution_count": 13,
   "source": [
    "sns.palplot(palette)"
   ],
   "outputs": [
    {
     "output_type": "display_data",
     "data": {
      "text/plain": [
       "<Figure size 288x72 with 1 Axes>"
      ],
      "image/png": "[encoded data removed]"
     },
     "metadata": {
      "needs_background": "light"
     }
    }
   ],
   "metadata": {}
  },
  {
   "cell_type": "code",
   "execution_count": 1,
   "source": [
    "if '':\n",
    "    print(1)"
   ],
   "outputs": [],
   "metadata": {}
  },
  {
   "cell_type": "code",
   "execution_count": 4,
   "source": [
    "import json\n",
    "args = json.load(open('model/B2_0613_2320_438563_Baseline_19/training/arguments.json'))"
   ],
   "outputs": [],
   "metadata": {}
  },
  {
   "cell_type": "code",
   "execution_count": 6,
   "source": [
    "args"
   ],
   "outputs": [
    {
     "output_type": "execute_result",
     "data": {
      "text/plain": [
       "{'model_name': 'PointNetAutoEncoder',\n",
       " 'latent_dim': 3,\n",
       " 'dataset': 'Baseline_19.npy',\n",
       " 'batch_size': 100,\n",
       " 'cloud_size': 12,\n",
       " 'repeat_size': 8,\n",
       " 'epochs': 10000,\n",
       " 'learning_rate': 0.001,\n",
       " 'crc_weight': 0.001,\n",
       " 'l2_weight': 0.0,\n",
       " 'dimen_size': 3,\n",
       " 'radius': 0.5}"
      ]
     },
     "metadata": {},
     "execution_count": 6
    }
   ],
   "metadata": {}
  },
  {
   "cell_type": "code",
   "execution_count": 9,
   "source": [
    "new_dict = {'model_name': '123',\n",
    " 'latent_dim': 3,\n",
    " 'dataset': '0898766.npy'}"
   ],
   "outputs": [],
   "metadata": {}
  },
  {
   "cell_type": "code",
   "execution_count": 10,
   "source": [
    "new_dict"
   ],
   "outputs": [
    {
     "output_type": "execute_result",
     "data": {
      "text/plain": [
       "{'model_name': '123', 'latent_dim': 3, 'dataset': '0898766.npy'}"
      ]
     },
     "metadata": {},
     "execution_count": 10
    }
   ],
   "metadata": {}
  },
  {
   "cell_type": "code",
   "execution_count": 11,
   "source": [
    "args.update(new_dict)"
   ],
   "outputs": [],
   "metadata": {}
  },
  {
   "cell_type": "code",
   "execution_count": 12,
   "source": [
    "args"
   ],
   "outputs": [
    {
     "output_type": "execute_result",
     "data": {
      "text/plain": [
       "{'model_name': '123',\n",
       " 'latent_dim': 3,\n",
       " 'dataset': '0898766.npy',\n",
       " 'batch_size': 100,\n",
       " 'cloud_size': 12,\n",
       " 'repeat_size': 8,\n",
       " 'epochs': 10000,\n",
       " 'learning_rate': 0.001,\n",
       " 'crc_weight': 0.001,\n",
       " 'l2_weight': 0.0,\n",
       " 'dimen_size': 3,\n",
       " 'radius': 0.5}"
      ]
     },
     "metadata": {},
     "execution_count": 12
    }
   ],
   "metadata": {}
  },
  {
   "cell_type": "code",
   "execution_count": 19,
   "source": [
    "args.pop('dataset', 'epochs')"
   ],
   "outputs": [
    {
     "output_type": "execute_result",
     "data": {
      "text/plain": [
       "'0898766.npy'"
      ]
     },
     "metadata": {},
     "execution_count": 19
    }
   ],
   "metadata": {}
  },
  {
   "cell_type": "code",
   "execution_count": 20,
   "source": [
    "args"
   ],
   "outputs": [
    {
     "output_type": "execute_result",
     "data": {
      "text/plain": [
       "{'latent_dim': 3,\n",
       " 'batch_size': 100,\n",
       " 'cloud_size': 12,\n",
       " 'repeat_size': 8,\n",
       " 'epochs': 10000,\n",
       " 'learning_rate': 0.001,\n",
       " 'crc_weight': 0.001,\n",
       " 'l2_weight': 0.0,\n",
       " 'dimen_size': 3,\n",
       " 'radius': 0.5}"
      ]
     },
     "metadata": {},
     "execution_count": 20
    }
   ],
   "metadata": {}
  },
  {
   "cell_type": "code",
   "execution_count": 6,
   "source": [
    "a = np.random.rand(1,6)"
   ],
   "outputs": [],
   "metadata": {}
  },
  {
   "cell_type": "code",
   "execution_count": 7,
   "source": [
    "a"
   ],
   "outputs": [
    {
     "output_type": "execute_result",
     "data": {
      "text/plain": [
       "array([[0.08554012, 0.42091107, 0.88748567, 0.08255534, 0.05577037,\n",
       "        0.81929201]])"
      ]
     },
     "metadata": {},
     "execution_count": 7
    }
   ],
   "metadata": {}
  },
  {
   "cell_type": "code",
   "execution_count": 8,
   "source": [
    "np.concatenate(a, axis=0)"
   ],
   "outputs": [
    {
     "output_type": "execute_result",
     "data": {
      "text/plain": [
       "array([0.08554012, 0.42091107, 0.88748567, 0.08255534, 0.05577037,\n",
       "       0.81929201])"
      ]
     },
     "metadata": {},
     "execution_count": 8
    }
   ],
   "metadata": {}
  },
  {
   "cell_type": "code",
   "execution_count": 8,
   "source": [
    "np.array(['222'])"
   ],
   "outputs": [
    {
     "output_type": "execute_result",
     "data": {
      "text/plain": [
       "array(['222'], dtype='<U3')"
      ]
     },
     "metadata": {},
     "execution_count": 8
    }
   ],
   "metadata": {}
  },
  {
   "cell_type": "code",
   "execution_count": 3,
   "source": [
    "pcd = utils.PointCloudDataset('data/SP100_69_71', 12)"
   ],
   "outputs": [],
   "metadata": {}
  },
  {
   "cell_type": "code",
   "execution_count": 5,
   "source": [
    "pcd.make_dataset().shape"
   ],
   "outputs": [
    {
     "output_type": "execute_result",
     "data": {
      "text/plain": [
       "(100000, 12, 3)"
      ]
     },
     "metadata": {},
     "execution_count": 5
    }
   ],
   "metadata": {}
  },
  {
   "cell_type": "code",
   "execution_count": 27,
   "source": [
    "losss = [1.1,3.3,2.2]\n",
    "label_map = list(reversed(np.argsort(losss)))\n",
    "print(label_map)\n",
    "label_map = {j:i for i,j in enumerate(label_map)}"
   ],
   "outputs": [
    {
     "output_type": "stream",
     "name": "stdout",
     "text": [
      "[1, 2, 0]\n"
     ]
    }
   ],
   "metadata": {}
  },
  {
   "cell_type": "code",
   "execution_count": 26,
   "source": [
    "label_map"
   ],
   "outputs": [
    {
     "output_type": "execute_result",
     "data": {
      "text/plain": [
       "{1: 0, 2: 1, 0: 2}"
      ]
     },
     "metadata": {},
     "execution_count": 26
    }
   ],
   "metadata": {}
  },
  {
   "cell_type": "code",
   "execution_count": null,
   "source": [
    "0 1 2\n",
    "2 0 1"
   ],
   "outputs": [],
   "metadata": {}
  },
  {
   "cell_type": "code",
   "execution_count": 28,
   "source": [
    "[0]* 10 + [1] *3"
   ],
   "outputs": [
    {
     "output_type": "execute_result",
     "data": {
      "text/plain": [
       "[0, 0, 0, 0, 0, 0, 0, 0, 0, 0, 1, 1, 1]"
      ]
     },
     "metadata": {},
     "execution_count": 28
    }
   ],
   "metadata": {}
  },
  {
   "cell_type": "code",
   "execution_count": 29,
   "source": [
    "class a():\n",
    "    def __len__(self):\n",
    "        return 23"
   ],
   "outputs": [],
   "metadata": {}
  },
  {
   "cell_type": "code",
   "execution_count": 30,
   "source": [
    "len(a())"
   ],
   "outputs": [
    {
     "output_type": "execute_result",
     "data": {
      "text/plain": [
       "23"
      ]
     },
     "metadata": {},
     "execution_count": 30
    }
   ],
   "metadata": {}
  },
  {
   "cell_type": "code",
   "execution_count": 32,
   "source": [
    "os.path.splitext('212.121.tr')"
   ],
   "outputs": [
    {
     "output_type": "execute_result",
     "data": {
      "text/plain": [
       "('212.121', '.tr')"
      ]
     },
     "metadata": {},
     "execution_count": 32
    }
   ],
   "metadata": {}
  },
  {
   "cell_type": "code",
   "execution_count": 2,
   "source": [
    "data = np.load('data/lj_samples.npy')"
   ],
   "outputs": [],
   "metadata": {}
  },
  {
   "cell_type": "code",
   "execution_count": null,
   "source": [
    "for points in data:\n",
    "    dis = np.linalg.norm(points, axis=-1)\n",
    "    print(dis)\n"
   ],
   "outputs": [],
   "metadata": {}
  },
  {
   "cell_type": "code",
   "execution_count": 1,
   "source": [
    "if '':\n",
    "    print(3)"
   ],
   "outputs": [],
   "metadata": {}
  },
  {
   "cell_type": "code",
   "execution_count": 3,
   "source": [
    "[1,2]==None"
   ],
   "outputs": [
    {
     "output_type": "execute_result",
     "data": {
      "text/plain": [
       "False"
      ]
     },
     "metadata": {},
     "execution_count": 3
    }
   ],
   "metadata": {}
  },
  {
   "cell_type": "code",
   "execution_count": 3,
   "source": [
    "y_true = np.random.rand(10,12,3)\n",
    "y_pred = np.random.rand(10,12,3)"
   ],
   "outputs": [],
   "metadata": {}
  },
  {
   "cell_type": "code",
   "execution_count": 4,
   "source": [
    "loss.chamfer_distance.evaluate(y_true, y_pred)"
   ],
   "outputs": [
    {
     "output_type": "execute_result",
     "data": {
      "text/plain": [
       "<tf.Tensor: shape=(10,), dtype=float64, numpy=\n",
       "array([0.14030065, 0.15495637, 0.1912635 , 0.17069314, 0.11931654,\n",
       "       0.14788311, 0.18886553, 0.17824148, 0.24058798, 0.21736409])>"
      ]
     },
     "metadata": {},
     "execution_count": 4
    }
   ],
   "metadata": {}
  },
  {
   "cell_type": "code",
   "execution_count": 5,
   "source": [
    "import losses\n",
    "losses.symmetric_chamfer_loss(y_true, y_pred)"
   ],
   "outputs": [
    {
     "output_type": "execute_result",
     "data": {
      "text/plain": [
       "<tf.Tensor: shape=(10,), dtype=float64, numpy=\n",
       "array([0.14030065, 0.15495637, 0.1912635 , 0.17069314, 0.11931654,\n",
       "       0.14788311, 0.18886553, 0.17824148, 0.24058798, 0.21736409])>"
      ]
     },
     "metadata": {},
     "execution_count": 5
    }
   ],
   "metadata": {}
  },
  {
   "cell_type": "code",
   "execution_count": 6,
   "source": [
    "losses.symmetric_hausdorff_loss(y_true, y_pred)"
   ],
   "outputs": [
    {
     "output_type": "execute_result",
     "data": {
      "text/plain": [
       "<tf.Tensor: shape=(10,), dtype=float64, numpy=\n",
       "array([0.28591239, 0.46694976, 0.55465704, 0.45865596, 0.33531704,\n",
       "       0.41328804, 0.30213711, 0.33544743, 0.75031318, 0.5327565 ])>"
      ]
     },
     "metadata": {},
     "execution_count": 6
    }
   ],
   "metadata": {}
  },
  {
   "cell_type": "code",
   "execution_count": 7,
   "source": [
    "loss.hausdorff_distance.evaluate(y_true, y_pred) + loss.hausdorff_distance.evaluate(y_pred, y_true) "
   ],
   "outputs": [
    {
     "output_type": "execute_result",
     "data": {
      "text/plain": [
       "<tf.Tensor: shape=(10,), dtype=float64, numpy=\n",
       "array([0.75618987, 0.96618428, 1.05319547, 0.95539655, 0.8121589 ,\n",
       "       0.90770913, 0.77512826, 0.81354481, 1.22493922, 1.02729869])>"
      ]
     },
     "metadata": {},
     "execution_count": 7
    }
   ],
   "metadata": {}
  },
  {
   "cell_type": "code",
   "execution_count": 6,
   "source": [
    "np.random.normal(-6,3,size=(10,2))"
   ],
   "outputs": [
    {
     "output_type": "execute_result",
     "data": {
      "text/plain": [
       "array([[ -5.64256898,  -6.48953795],\n",
       "       [ -2.3835429 ,  -0.60156317],\n",
       "       [ -5.32948813,  -7.10363295],\n",
       "       [ -3.0262191 ,  -3.97890275],\n",
       "       [ -7.8153888 ,  -1.48666291],\n",
       "       [ -6.05512841,  -6.59135752],\n",
       "       [ -3.48088891,  -1.19732931],\n",
       "       [ -2.75771708,  -5.09719776],\n",
       "       [ -4.37747823, -10.47392777],\n",
       "       [ -8.83496847,  -8.44326701]])"
      ]
     },
     "metadata": {},
     "execution_count": 6
    }
   ],
   "metadata": {}
  },
  {
   "cell_type": "code",
   "execution_count": null,
   "source": [
    "from sklearn.tree import Random"
   ],
   "outputs": [],
   "metadata": {}
  },
  {
   "cell_type": "code",
   "execution_count": 12,
   "source": [
    "a = np.random.rand(10,10)\n",
    "a = {1:'a', 2:'3'}"
   ],
   "outputs": [],
   "metadata": {}
  },
  {
   "cell_type": "code",
   "execution_count": 11,
   "source": [
    "list(a)"
   ],
   "outputs": [
    {
     "output_type": "execute_result",
     "data": {
      "text/plain": [
       "[array([0.95846327, 0.60834231, 0.02414891, 0.87073514, 0.80347294,\n",
       "        0.80952871, 0.43862306, 0.72988835, 0.98144495, 0.48621952]),\n",
       " array([0.28869209, 0.53898399, 0.72367009, 0.54590931, 0.8692133 ,\n",
       "        0.40689658, 0.39412056, 0.61688827, 0.403505  , 0.38759588]),\n",
       " array([0.046574  , 0.46038441, 0.32448171, 0.97495625, 0.9768633 ,\n",
       "        0.63935229, 0.61984925, 0.73140288, 0.42235972, 0.42260562]),\n",
       " array([0.79269298, 0.02932133, 0.55804916, 0.36980648, 0.86837873,\n",
       "        0.65877931, 0.53624827, 0.83291901, 0.94009779, 0.14231361]),\n",
       " array([0.45689333, 0.25762634, 0.66281681, 0.98349225, 0.35209587,\n",
       "        0.19828963, 0.10871062, 0.41198111, 0.68901866, 0.90427624]),\n",
       " array([0.64960682, 0.99696049, 0.68121435, 0.28790984, 0.59813949,\n",
       "        0.29584912, 0.29280573, 0.05810276, 0.82359631, 0.46142209]),\n",
       " array([0.2313639 , 0.19015557, 0.96907403, 0.31859936, 0.87076073,\n",
       "        0.09521842, 0.7910546 , 0.67496446, 0.49343291, 0.00558939]),\n",
       " array([0.81470173, 0.72329435, 0.54667343, 0.33878718, 0.95194577,\n",
       "        0.25088061, 0.8795508 , 0.89241455, 0.35554251, 0.84844064]),\n",
       " array([0.73626656, 0.31771485, 0.52561128, 0.20452307, 0.7213413 ,\n",
       "        0.48486388, 0.79584994, 0.307226  , 0.60414715, 0.15734074]),\n",
       " array([0.96775062, 0.80568227, 0.81709468, 0.06615972, 0.37475947,\n",
       "        0.10216862, 0.05567122, 0.59858661, 0.96116567, 0.78552665])]"
      ]
     },
     "metadata": {},
     "execution_count": 11
    }
   ],
   "metadata": {}
  },
  {
   "cell_type": "code",
   "execution_count": 15,
   "source": [
    "palette = []\n",
    "for c in sns.color_palette('Set2', n_colors=6):\n",
    "    nc = colorsys.rgb_to_hls(*c)\n",
    "    palette.append(colorsys.hls_to_rgb(nc[0],0.75,1))\n",
    "palette.insert(0, colorsys.hls_to_rgb(0,0.75,0))"
   ],
   "outputs": [],
   "metadata": {}
  },
  {
   "cell_type": "code",
   "execution_count": 14,
   "source": [
    "sns.palplot(palette)"
   ],
   "outputs": [
    {
     "output_type": "display_data",
     "data": {
      "text/plain": [
       "<Figure size 504x72 with 1 Axes>"
      ],
      "image/png": "[encoded data removed]",
      "image/svg+xml": "<?xml version=\"1.0\" encoding=\"utf-8\" standalone=\"no\"?>\n<!DOCTYPE svg PUBLIC \"-//W3C//DTD SVG 1.1//EN\"\n  \"http://www.w3.org/Graphics/SVG/1.1/DTD/svg11.dtd\">\n<svg height=\"72.26pt\" version=\"1.1\" viewBox=\"0 0 408.5 72.26\" width=\"408.5pt\" xmlns=\"http://www.w3.org/2000/svg\" xmlns:xlink=\"http://www.w3.org/1999/xlink\">\n <metadata>\n  <rdf:RDF xmlns:cc=\"http://creativecommons.org/ns#\" xmlns:dc=\"http://purl.org/dc/elements/1.1/\" xmlns:rdf=\"http://www.w3.org/1999/02/22-rdf-syntax-ns#\">\n   <cc:Work>\n    <dc:type rdf:resource=\"http://purl.org/dc/dcmitype/StillImage\"/>\n    <dc:date>2021-07-16T23:02:58.760431</dc:date>\n    <dc:format>image/svg+xml</dc:format>\n    <dc:creator>\n     <cc:Agent>\n      <dc:title>Matplotlib v3.4.1, https://matplotlib.org/</dc:title>\n     </cc:Agent>\n    </dc:creator>\n   </cc:Work>\n  </rdf:RDF>\n </metadata>\n <defs>\n  <style type=\"text/css\">*{stroke-linecap:butt;stroke-linejoin:round;}</style>\n </defs>\n <g id=\"figure_1\">\n  <g id=\"patch_1\">\n   <path d=\"M 0 72.26 \nL 408.5 72.26 \nL 408.5 0 \nL 0 0 \nz\n\" style=\"fill:none;\"/>\n  </g>\n  <g id=\"axes_1\">\n   <g id=\"patch_2\">\n    <path d=\"M 10.7 61.56 \nL 401.3 61.56 \nL 401.3 7.2 \nL 10.7 7.2 \nz\n\" style=\"fill:#ffffff;\"/>\n   </g>\n   <g clip-path=\"url(#p593df282db)\">\n    <image height=\"55\" id=\"imaged8c16e5167\" transform=\"scale(1 -1)translate(0 -55)\" width=\"391\" x=\"10.7\" xlink:href=\"data:image/png;base64,\niVBORw0KGgoAAAANSUhEUgAAAYcAAAA3CAYAAADno4a/AAABBElEQVR4nO3VMQ0CQQAAwYcSFzjBCSYIdlBB/fQIoP4SFSBg68sRMqNgu92t6/pZ/tjp8ZqdMNb5PbtgqNtxdsE423KdnTDW8zC7YKjLfXbBWPvZAQD8HnMAIMwBgDAHAMIcAAhzACDMAYAwBwDCHAAIcwAgzAGAMAcAwhwACHMAIMwBgDAHAMIcAAhzACDMAYAwBwDCHAAIcwAgzAGAMAcAwhwACHMAIMwBgDAHAMIcAAhzACDMAYAwBwDCHAAIcwAgzAGAMAcAwhwACHMAIMwBgDAHAMIcAAhzACDMAYAwBwDCHAAIcwAgzAGAMAcAwhwACHMAIMwBgDAHAMIcAAhzACC+ficK3mLE+PEAAAAASUVORK5CYII=\" y=\"-6.56\"/>\n   </g>\n   <g id=\"matplotlib.axis_1\">\n    <g id=\"xtick_1\">\n     <g id=\"line2d_1\">\n      <defs>\n       <path d=\"M 0 0 \nL 0 3.5 \n\" id=\"mbe8e68f2e3\" style=\"stroke:#000000;stroke-width:0.8;\"/>\n      </defs>\n      <g>\n       <use style=\"stroke:#000000;stroke-width:0.8;\" x=\"10.7\" xlink:href=\"#mbe8e68f2e3\" y=\"61.56\"/>\n      </g>\n     </g>\n    </g>\n    <g id=\"xtick_2\">\n     <g id=\"line2d_2\">\n      <g>\n       <use style=\"stroke:#000000;stroke-width:0.8;\" x=\"66.5\" xlink:href=\"#mbe8e68f2e3\" y=\"61.56\"/>\n      </g>\n     </g>\n    </g>\n    <g id=\"xtick_3\">\n     <g id=\"line2d_3\">\n      <g>\n       <use style=\"stroke:#000000;stroke-width:0.8;\" x=\"122.3\" xlink:href=\"#mbe8e68f2e3\" y=\"61.56\"/>\n      </g>\n     </g>\n    </g>\n    <g id=\"xtick_4\">\n     <g id=\"line2d_4\">\n      <g>\n       <use style=\"stroke:#000000;stroke-width:0.8;\" x=\"178.1\" xlink:href=\"#mbe8e68f2e3\" y=\"61.56\"/>\n      </g>\n     </g>\n    </g>\n    <g id=\"xtick_5\">\n     <g id=\"line2d_5\">\n      <g>\n       <use style=\"stroke:#000000;stroke-width:0.8;\" x=\"233.9\" xlink:href=\"#mbe8e68f2e3\" y=\"61.56\"/>\n      </g>\n     </g>\n    </g>\n    <g id=\"xtick_6\">\n     <g id=\"line2d_6\">\n      <g>\n       <use style=\"stroke:#000000;stroke-width:0.8;\" x=\"289.7\" xlink:href=\"#mbe8e68f2e3\" y=\"61.56\"/>\n      </g>\n     </g>\n    </g>\n    <g id=\"xtick_7\">\n     <g id=\"line2d_7\">\n      <g>\n       <use style=\"stroke:#000000;stroke-width:0.8;\" x=\"345.5\" xlink:href=\"#mbe8e68f2e3\" y=\"61.56\"/>\n      </g>\n     </g>\n    </g>\n   </g>\n   <g id=\"matplotlib.axis_2\"/>\n   <g id=\"patch_3\">\n    <path d=\"M 10.7 61.56 \nL 10.7 7.2 \n\" style=\"fill:none;stroke:#000000;stroke-linecap:square;stroke-linejoin:miter;stroke-width:0.8;\"/>\n   </g>\n   <g id=\"patch_4\">\n    <path d=\"M 401.3 61.56 \nL 401.3 7.2 \n\" style=\"fill:none;stroke:#000000;stroke-linecap:square;stroke-linejoin:miter;stroke-width:0.8;\"/>\n   </g>\n   <g id=\"patch_5\">\n    <path d=\"M 10.7 61.56 \nL 401.3 61.56 \n\" style=\"fill:none;stroke:#000000;stroke-linecap:square;stroke-linejoin:miter;stroke-width:0.8;\"/>\n   </g>\n   <g id=\"patch_6\">\n    <path d=\"M 10.7 7.2 \nL 401.3 7.2 \n\" style=\"fill:none;stroke:#000000;stroke-linecap:square;stroke-linejoin:miter;stroke-width:0.8;\"/>\n   </g>\n  </g>\n </g>\n <defs>\n  <clipPath id=\"p593df282db\">\n   <rect height=\"54.36\" width=\"390.6\" x=\"10.7\" y=\"7.2\"/>\n  </clipPath>\n </defs>\n</svg>\n"
     },
     "metadata": {
      "needs_background": "light"
     }
    }
   ],
   "metadata": {}
  },
  {
   "cell_type": "code",
   "execution_count": 21,
   "source": [
    "palette = []\n",
    "for c in sns.color_palette('Set1', n_colors=6):\n",
    "    nc = colorsys.rgb_to_hls(*c)\n",
    "    palette.append(colorsys.hls_to_rgb(nc[0],0.75,1))\n",
    "palette.insert(0, colorsys.hls_to_rgb(0,0.75,0))"
   ],
   "outputs": [],
   "metadata": {}
  },
  {
   "cell_type": "code",
   "execution_count": 22,
   "source": [
    "sns.palplot(palette)"
   ],
   "outputs": [
    {
     "output_type": "display_data",
     "data": {
      "text/plain": [
       "<Figure size 504x72 with 1 Axes>"
      ],
      "image/png": "[encoded data removed]",
      "image/svg+xml": "<?xml version=\"1.0\" encoding=\"utf-8\" standalone=\"no\"?>\n<!DOCTYPE svg PUBLIC \"-//W3C//DTD SVG 1.1//EN\"\n  \"http://www.w3.org/Graphics/SVG/1.1/DTD/svg11.dtd\">\n<svg height=\"72.26pt\" version=\"1.1\" viewBox=\"0 0 408.5 72.26\" width=\"408.5pt\" xmlns=\"http://www.w3.org/2000/svg\" xmlns:xlink=\"http://www.w3.org/1999/xlink\">\n <metadata>\n  <rdf:RDF xmlns:cc=\"http://creativecommons.org/ns#\" xmlns:dc=\"http://purl.org/dc/elements/1.1/\" xmlns:rdf=\"http://www.w3.org/1999/02/22-rdf-syntax-ns#\">\n   <cc:Work>\n    <dc:type rdf:resource=\"http://purl.org/dc/dcmitype/StillImage\"/>\n    <dc:date>2021-07-16T22:56:09.557463</dc:date>\n    <dc:format>image/svg+xml</dc:format>\n    <dc:creator>\n     <cc:Agent>\n      <dc:title>Matplotlib v3.4.1, https://matplotlib.org/</dc:title>\n     </cc:Agent>\n    </dc:creator>\n   </cc:Work>\n  </rdf:RDF>\n </metadata>\n <defs>\n  <style type=\"text/css\">*{stroke-linecap:butt;stroke-linejoin:round;}</style>\n </defs>\n <g id=\"figure_1\">\n  <g id=\"patch_1\">\n   <path d=\"M 0 72.26 \nL 408.5 72.26 \nL 408.5 0 \nL 0 0 \nz\n\" style=\"fill:none;\"/>\n  </g>\n  <g id=\"axes_1\">\n   <g id=\"patch_2\">\n    <path d=\"M 10.7 61.56 \nL 401.3 61.56 \nL 401.3 7.2 \nL 10.7 7.2 \nz\n\" style=\"fill:#ffffff;\"/>\n   </g>\n   <g clip-path=\"url(#paab8ffa029)\">\n    <image height=\"55\" id=\"imageb45923536a\" transform=\"scale(1 -1)translate(0 -55)\" width=\"391\" x=\"10.7\" xlink:href=\"data:image/png;base64,\niVBORw0KGgoAAAANSUhEUgAAAYcAAAA3CAYAAADno4a/AAABAUlEQVR4nO3VMQ0CQQAAQSAYwA7VV5hBBOfsQdkjYOvLETKjYLs97/t+nP7Y9v6sTphqPF6rE6a63sfqhGmeY6xOmOq2jdUJUx3b6oK5LqsDAPg95gBAmAMAYQ4AhDkAEOYAQJgDAGEOAIQ5ABDmAECYAwBhDgCEOQAQ5gBAmAMAYQ4AhDkAEOYAQJgDAGEOAIQ5ABDmAECYAwBhDgCEOQAQ5gBAmAMAYQ4AhDkAEOYAQJgDAGEOAIQ5ABDmAECYAwBhDgCEOQAQ5gBAmAMAYQ4AhDkAEOYAQJgDAGEOAIQ5ABDmAECYAwBhDgCEOQAQ5gBAmAMAYQ4AhDkAEOYAQHwBZ08K6etqz2wAAAAASUVORK5CYII=\" y=\"-6.56\"/>\n   </g>\n   <g id=\"matplotlib.axis_1\">\n    <g id=\"xtick_1\">\n     <g id=\"line2d_1\">\n      <defs>\n       <path d=\"M 0 0 \nL 0 3.5 \n\" id=\"mf69e593951\" style=\"stroke:#000000;stroke-width:0.8;\"/>\n      </defs>\n      <g>\n       <use style=\"stroke:#000000;stroke-width:0.8;\" x=\"10.7\" xlink:href=\"#mf69e593951\" y=\"61.56\"/>\n      </g>\n     </g>\n    </g>\n    <g id=\"xtick_2\">\n     <g id=\"line2d_2\">\n      <g>\n       <use style=\"stroke:#000000;stroke-width:0.8;\" x=\"66.5\" xlink:href=\"#mf69e593951\" y=\"61.56\"/>\n      </g>\n     </g>\n    </g>\n    <g id=\"xtick_3\">\n     <g id=\"line2d_3\">\n      <g>\n       <use style=\"stroke:#000000;stroke-width:0.8;\" x=\"122.3\" xlink:href=\"#mf69e593951\" y=\"61.56\"/>\n      </g>\n     </g>\n    </g>\n    <g id=\"xtick_4\">\n     <g id=\"line2d_4\">\n      <g>\n       <use style=\"stroke:#000000;stroke-width:0.8;\" x=\"178.1\" xlink:href=\"#mf69e593951\" y=\"61.56\"/>\n      </g>\n     </g>\n    </g>\n    <g id=\"xtick_5\">\n     <g id=\"line2d_5\">\n      <g>\n       <use style=\"stroke:#000000;stroke-width:0.8;\" x=\"233.9\" xlink:href=\"#mf69e593951\" y=\"61.56\"/>\n      </g>\n     </g>\n    </g>\n    <g id=\"xtick_6\">\n     <g id=\"line2d_6\">\n      <g>\n       <use style=\"stroke:#000000;stroke-width:0.8;\" x=\"289.7\" xlink:href=\"#mf69e593951\" y=\"61.56\"/>\n      </g>\n     </g>\n    </g>\n    <g id=\"xtick_7\">\n     <g id=\"line2d_7\">\n      <g>\n       <use style=\"stroke:#000000;stroke-width:0.8;\" x=\"345.5\" xlink:href=\"#mf69e593951\" y=\"61.56\"/>\n      </g>\n     </g>\n    </g>\n   </g>\n   <g id=\"matplotlib.axis_2\"/>\n   <g id=\"patch_3\">\n    <path d=\"M 10.7 61.56 \nL 10.7 7.2 \n\" style=\"fill:none;stroke:#000000;stroke-linecap:square;stroke-linejoin:miter;stroke-width:0.8;\"/>\n   </g>\n   <g id=\"patch_4\">\n    <path d=\"M 401.3 61.56 \nL 401.3 7.2 \n\" style=\"fill:none;stroke:#000000;stroke-linecap:square;stroke-linejoin:miter;stroke-width:0.8;\"/>\n   </g>\n   <g id=\"patch_5\">\n    <path d=\"M 10.7 61.56 \nL 401.3 61.56 \n\" style=\"fill:none;stroke:#000000;stroke-linecap:square;stroke-linejoin:miter;stroke-width:0.8;\"/>\n   </g>\n   <g id=\"patch_6\">\n    <path d=\"M 10.7 7.2 \nL 401.3 7.2 \n\" style=\"fill:none;stroke:#000000;stroke-linecap:square;stroke-linejoin:miter;stroke-width:0.8;\"/>\n   </g>\n  </g>\n </g>\n <defs>\n  <clipPath id=\"paab8ffa029\">\n   <rect height=\"54.36\" width=\"390.6\" x=\"10.7\" y=\"7.2\"/>\n  </clipPath>\n </defs>\n</svg>\n"
     },
     "metadata": {
      "needs_background": "light"
     }
    }
   ],
   "metadata": {}
  },
  {
   "cell_type": "code",
   "execution_count": null,
   "source": [],
   "outputs": [],
   "metadata": {}
  }
 ],
 "metadata": {
  "interpreter": {
   "hash": "1fdb55b6b93984486b1480cba4b7cc0c694536c435d819752fcefc47b688b7f1"
  },
  "kernelspec": {
   "name": "python3",
   "display_name": "Python 3.8.5 64-bit ('opsi': conda)"
  },
  "language_info": {
   "codemirror_mode": {
    "name": "ipython",
    "version": 3
   },
   "file_extension": ".py",
   "mimetype": "text/x-python",
   "name": "python",
   "nbconvert_exporter": "python",
   "pygments_lexer": "ipython3",
   "version": "3.8.5"
  },
  "metadata": {
   "interpreter": {
    "hash": "1f7306de8463f768ec1769f533c50b35ede36c3deae82e6c5312d9cf4ab9c644"
   }
  },
  "orig_nbformat": 2
 },
 "nbformat": 4,
 "nbformat_minor": 2
}